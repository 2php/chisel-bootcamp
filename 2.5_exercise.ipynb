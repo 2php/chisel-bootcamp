{
 "cells": [
  {
   "cell_type": "markdown",
   "metadata": {
    "nbpresent": {
     "id": "2e849671-a1e9-48b2-9bba-eb916ac623c6"
    }
   },
   "source": [
    "## Putting it all together: FIR Instance\n",
    "\n",
    "### Intro to FIR\n",
    "\n",
    "Now that you've learned the basics of Chisel, let's build a simple FIR (finite impulse response) filter module. FIR filters are very common in digital signal processing applications.\n",
    "\n",
    "The basic architecture of a FIR filter is as follows:\n",
    "\n",
    "TODO: make image\n",
    "\n",
    "Basically, this does a elementwise multiplication of the element of the filter coefficients with the elements of the input signal and outputs the sum (also called a _convolution_).\n",
    "\n",
    "Or, a signals definition:\n",
    "\n",
    "$y[n] = b_0 x[n] + b_1 x[n-1] + b_2 x[n-2] + ...$\n",
    " - $y[n]$ is the output signal at time $n$\n",
    " - $x[n]$ is the input signal\n",
    " - $b_i$ are the filter coefficients or impulse response\n",
    " - $n-1$, $n-2$, ... are time $n$ delayed by 1, 2, ... cycles\n",
    " \n",
    "### Specification\n",
    "\n",
    "Build a 4-element FIR filter where the four filter coefficients are parameters. A module skeleton and basic tests are provided for you.\n",
    "Note that both the input and output are 8-bit single elements, you will need to save necessary state (like delayed signal values) using constructs like shift registers."
   ]
  },
  {
   "cell_type": "code",
   "execution_count": 10,
   "metadata": {
    "collapsed": false
   },
   "outputs": [
    {
     "data": {
      "text/plain": [
       "\u001b[32mimport \u001b[39m\u001b[36m$ivy.$                                                 \r\n",
       "\u001b[39m\r\n",
       "\u001b[32mimport \u001b[39m\u001b[36m$ivy.$                                                          \r\n",
       "\u001b[39m\r\n",
       "\u001b[32mimport \u001b[39m\u001b[36m$ivy.$                                                \r\n",
       "\u001b[39m\r\n",
       "\u001b[32mimport \u001b[39m\u001b[36mchisel3._\r\n",
       "\u001b[39m\r\n",
       "\u001b[32mimport \u001b[39m\u001b[36mchisel3.util._\r\n",
       "\u001b[39m\r\n",
       "\u001b[32mimport \u001b[39m\u001b[36mchisel3.iotesters.{ChiselFlatSpec, Driver, PeekPokeTester}\u001b[39m"
      ]
     },
     "execution_count": 10,
     "metadata": {},
     "output_type": "execute_result"
    }
   ],
   "source": [
    "// Run this boilerplate for the necessary imports\n",
    "\n",
    "import $ivy.`edu.berkeley.cs::chisel3:3.0-SNAPSHOT_2017-07-19`\n",
    "import $ivy.`edu.berkeley.cs::chisel-iotesters:1.1-SNAPSHOT_2017-07-19`\n",
    "import $ivy.`edu.berkeley.cs::firrtl:1.0-SNAPSHOT_2017-07-19`\n",
    "import chisel3._\n",
    "import chisel3.util._\n",
    "import chisel3.iotesters.{ChiselFlatSpec, Driver, PeekPokeTester}"
   ]
  },
  {
   "cell_type": "code",
   "execution_count": 12,
   "metadata": {
    "collapsed": false,
    "nbpresent": {
     "id": "26e4a686-0397-4306-985c-813909256c95"
    }
   },
   "outputs": [
    {
     "data": {
      "text/plain": [
       "defined \u001b[32mclass\u001b[39m \u001b[36mMy4ElementFir\u001b[39m"
      ]
     },
     "execution_count": 12,
     "metadata": {},
     "output_type": "execute_result"
    }
   ],
   "source": [
    "class My4ElementFir(b0: Int, b1: Int, b2: Int, b3: Int) extends Module {\n",
    "  val io = IO(new Bundle {\n",
    "    val in = Input(UInt(8.W))\n",
    "    val out = Output(UInt(8.W))\n",
    "  })\n",
    "\n",
    "  // YOUR CODE HERE\n",
    "    \n",
    "  // Reference solution\n",
    "  val x_n1 = RegNext(io.in, 0.U)\n",
    "  val x_n2 = RegNext(x_n1, 0.U)\n",
    "  val x_n3 = RegNext(x_n2, 0.U)\n",
    "  io.out := io.in * b0.U(8.W) + x_n1 * b1.U(8.W) +\n",
    "    x_n2 * b2.U(8.W) + x_n3 * b3.U(8.W)\n",
    "}"
   ]
  },
  {
   "cell_type": "code",
   "execution_count": 8,
   "metadata": {
    "collapsed": false,
    "nbpresent": {
     "id": "ddf24b7b-09a2-46f0-b1d8-cb2ca7976b4b"
    }
   },
   "outputs": [
    {
     "name": "stdout",
     "output_type": "stream",
     "text": [
      "[\u001b[35minfo\u001b[0m] [0.000] Elaborating design...\n",
      "[\u001b[35minfo\u001b[0m] [0.044] Done elaborating.\n",
      "Total FIRRTL Compile Time: 46.2 ms\n",
      "Total FIRRTL Compile Time: 24.2 ms\n",
      "End of dependency graph\n",
      "Circuit state created\n",
      "[\u001b[35minfo\u001b[0m] [0.000] SEED 1507312095895\n",
      "test cmd6WrapperHelperMy4ElementFir Success: 4 tests passed in 8 cycles taking 0.011465 seconds\n",
      "[\u001b[35minfo\u001b[0m] [0.008] RAN 3 CYCLES PASSED\n"
     ]
    },
    {
     "data": {
      "text/plain": [
       "\u001b[36mres7\u001b[39m: \u001b[32mBoolean\u001b[39m = \u001b[32mtrue\u001b[39m"
      ]
     },
     "execution_count": 8,
     "metadata": {},
     "output_type": "execute_result"
    }
   ],
   "source": [
    "// Simple sanity check: a element with all zero coefficients should always produce zero\n",
    "Driver(() => new My4ElementFir(0, 0, 0, 0)) {\n",
    "  c => new PeekPokeTester(c) {\n",
    "    poke(c.io.in, 0)\n",
    "    expect(c.io.out, 0)\n",
    "    step(1)\n",
    "    poke(c.io.in, 4)\n",
    "    expect(c.io.out, 0)\n",
    "    step(1)\n",
    "    poke(c.io.in, 5)\n",
    "    expect(c.io.out, 0)\n",
    "    step(1)\n",
    "    poke(c.io.in, 2)\n",
    "    expect(c.io.out, 0)\n",
    "  }\n",
    "}"
   ]
  },
  {
   "cell_type": "code",
   "execution_count": 9,
   "metadata": {
    "collapsed": false
   },
   "outputs": [
    {
     "name": "stdout",
     "output_type": "stream",
     "text": [
      "[\u001b[35minfo\u001b[0m] [0.000] Elaborating design...\n",
      "[\u001b[35minfo\u001b[0m] [0.004] Done elaborating.\n",
      "Total FIRRTL Compile Time: 17.9 ms\n",
      "Total FIRRTL Compile Time: 38.0 ms\n",
      "End of dependency graph\n",
      "Circuit state created\n",
      "[\u001b[35minfo\u001b[0m] [0.000] SEED 1507312157369\n",
      "test cmd6WrapperHelperMy4ElementFir Success: 6 tests passed in 10 cycles taking 0.022314 seconds\n",
      "[\u001b[35minfo\u001b[0m] [0.016] RAN 5 CYCLES PASSED\n"
     ]
    },
    {
     "data": {
      "text/plain": [
       "\u001b[36mres8\u001b[39m: \u001b[32mBoolean\u001b[39m = \u001b[32mtrue\u001b[39m"
      ]
     },
     "execution_count": 9,
     "metadata": {},
     "output_type": "execute_result"
    }
   ],
   "source": [
    "// Simple 4-point moving average\n",
    "Driver(() => new My4ElementFir(1, 1, 1, 1)) {\n",
    "  c => new PeekPokeTester(c) {\n",
    "    poke(c.io.in, 1)\n",
    "    expect(c.io.out, 1)  // 1, 0, 0, 0\n",
    "    step(1)\n",
    "    poke(c.io.in, 4)\n",
    "    expect(c.io.out, 5)  // 4, 1, 0, 0\n",
    "    step(1)\n",
    "    poke(c.io.in, 3)\n",
    "    expect(c.io.out, 8)  // 3, 4, 1, 0\n",
    "    step(1)\n",
    "    poke(c.io.in, 2)\n",
    "    expect(c.io.out, 10)  // 2, 3, 4, 1\n",
    "    step(1)\n",
    "    poke(c.io.in, 7)\n",
    "    expect(c.io.out, 16)  // 7, 2, 3, 4\n",
    "    step(1)\n",
    "    poke(c.io.in, 0)\n",
    "    expect(c.io.out, 12)  // 0, 7, 2, 3\n",
    "  }\n",
    "}"
   ]
  },
  {
   "cell_type": "code",
   "execution_count": 11,
   "metadata": {
    "collapsed": false
   },
   "outputs": [
    {
     "name": "stdout",
     "output_type": "stream",
     "text": [
      "[\u001b[35minfo\u001b[0m] [0.000] Elaborating design...\n",
      "[\u001b[35minfo\u001b[0m] [0.000] Done elaborating.\n",
      "Total FIRRTL Compile Time: 13.8 ms\n",
      "Total FIRRTL Compile Time: 11.2 ms\n",
      "End of dependency graph\n",
      "Circuit state created\n",
      "[\u001b[35minfo\u001b[0m] [0.000] SEED 1507312515248\n",
      "test cmd6WrapperHelperMy4ElementFir Success: 6 tests passed in 10 cycles taking 0.037760 seconds\n",
      "[\u001b[35minfo\u001b[0m] [0.016] RAN 5 CYCLES PASSED\n"
     ]
    },
    {
     "data": {
      "text/plain": [
       "\u001b[36mres10\u001b[39m: \u001b[32mBoolean\u001b[39m = \u001b[32mtrue\u001b[39m"
      ]
     },
     "execution_count": 11,
     "metadata": {},
     "output_type": "execute_result"
    }
   ],
   "source": [
    "// Nonsymmetric filter\n",
    "Driver(() => new My4ElementFir(1, 2, 3, 4)) {\n",
    "  c => new PeekPokeTester(c) {\n",
    "    poke(c.io.in, 1)\n",
    "    expect(c.io.out, 1)  // 1*1, 0*2, 0*3, 0*4\n",
    "    step(1)\n",
    "    poke(c.io.in, 4)\n",
    "    expect(c.io.out, 6)  // 4*1, 1*2, 0*3, 0*4\n",
    "    step(1)\n",
    "    poke(c.io.in, 3)\n",
    "    expect(c.io.out, 14)  // 3*1, 4*2, 1*3, 0*4\n",
    "    step(1)\n",
    "    poke(c.io.in, 2)\n",
    "    expect(c.io.out, 24)  // 2*1, 3*2, 4*3, 1*4\n",
    "    step(1)\n",
    "    poke(c.io.in, 7)\n",
    "    expect(c.io.out, 36)  // 7*1, 2*2, 3*3, 4*4\n",
    "    step(1)\n",
    "    poke(c.io.in, 0)\n",
    "    expect(c.io.out, 32)  // 0*1, 7*2, 2*3, 3*4\n",
    "  }\n",
    "}"
   ]
  },
  {
   "cell_type": "code",
   "execution_count": null,
   "metadata": {
    "collapsed": true
   },
   "outputs": [],
   "source": []
  }
 ],
 "metadata": {
  "kernelspec": {
   "display_name": "Scala",
   "language": "scala",
   "name": "scala"
  },
  "language_info": {
   "codemirror_mode": "text/x-scala",
   "file_extension": ".scala",
   "mimetype": "text/x-scala",
   "name": "scala211",
   "nbconvert_exporter": "script",
   "pygments_lexer": "scala",
   "version": "2.11.11"
  }
 },
 "nbformat": 4,
 "nbformat_minor": 1
}
