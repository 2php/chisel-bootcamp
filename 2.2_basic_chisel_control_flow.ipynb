{
 "cells": [
  {
   "cell_type": "markdown",
   "metadata": {},
   "source": [
    "![Chisel](https://chisel.eecs.berkeley.edu/assets/img/chisel_64.png)"
   ]
  },
  {
   "cell_type": "markdown",
   "metadata": {
    "collapsed": true
   },
   "source": [
    "# Module 2: Basic Chisel : Control Flow"
   ]
  },
  {
   "cell_type": "markdown",
   "metadata": {},
   "source": [
    "#### Written by Chick Markley, Stevo Bailey, Edward Wang, and Richard Lin\n",
    "[chick@berkeley.edu](mailto:chick@berkeley.edu),\n",
    "[stevo@berkeley.edu](mailto:stevo@berkeley.edu),\n",
    "[edwardw@berkeley.edu](mailto:edwardw@berkeley.edu), [richard.lin@berkeley.edu](mailto:edwardw@berkeley.edu)"
   ]
  },
  {
   "cell_type": "markdown",
   "metadata": {},
   "source": [
    "## Introduction"
   ]
  },
  {
   "cell_type": "markdown",
   "metadata": {},
   "source": [
    "Up until now there has been a strong correspondence between software and hardware in Chisel.\n",
    "In control flow there will be a greater divergence between the way we think about the two."
   ]
  },
  {
   "cell_type": "markdown",
   "metadata": {},
   "source": [
    "## Table of Contents\n",
    "\n",
    "1. [Last Connect Semantics](#last-connect)\n",
    "1. [when/elsewhen/other](#when)\n",
    "1. [Wire vs val and var](#wire)\n",
    "1. [Exercise](#exercise)\n",
    "1. [Optional Exercise ](#optional-exercise)\n"
   ]
  },
  {
   "cell_type": "markdown",
   "metadata": {},
   "source": [
    "## Setup"
   ]
  },
  {
   "cell_type": "markdown",
   "metadata": {},
   "source": [
    "First we repeat the necessary imports to run Chisel."
   ]
  },
  {
   "cell_type": "code",
   "execution_count": null,
   "metadata": {
    "collapsed": true
   },
   "outputs": [],
   "source": [
    "import $ivy.`edu.berkeley.cs::chisel3:3.0-SNAPSHOT_2017-07-19`\n",
    "import $ivy.`edu.berkeley.cs::chisel-iotesters:1.1-SNAPSHOT_2017-07-19`\n",
    "import $ivy.`edu.berkeley.cs::firrtl:1.0-SNAPSHOT_2017-07-19`\n",
    "import chisel3._\n",
    "import chisel3.util._\n",
    "import chisel3.iotesters.{ChiselFlatSpec, Driver, PeekPokeTester}\n",
    "\n",
    "// A wrapper function that provides a easy way to get the generated Verilog code for a Chisel module.\n",
    "// Don't worry about the implementation of this.\n",
    "def getVerilog[T <: Module](gen: => T): String = {\n",
    "  chisel3.Driver.execute(Array[String](), {() => gen}) match {\n",
    "    case ChiselExecutionSuccess(_, _, Some(firrtl.FirrtlExecutionSuccess(_, verilog))) => verilog\n",
    "  }\n",
    "}"
   ]
  },
  {
   "cell_type": "markdown",
   "metadata": {},
   "source": [
    "## Last Connect Semantics<a name=\"last-connect\"></a>\n",
    " As seen earlier Chisel allows you to connect components using the ```:=``` operator.\n",
    " For various reasons it is possible to issue multiple connect statements to the same component.\n",
    " When this happens the last statement wins.  "
   ]
  },
  {
   "cell_type": "code",
   "execution_count": null,
   "metadata": {},
   "outputs": [],
   "source": [
    "class LastConnect extends Module {\n",
    "  val io = IO(new Bundle {\n",
    "    val in = Input(UInt(4.W))\n",
    "    val out = Output(UInt(4.W))\n",
    "  })\n",
    "  io.out := 1.U\n",
    "  io.out := 2.U\n",
    "  io.out := 3.U\n",
    "  io.out := 4.U\n",
    "}\n",
    "\n",
    "// Chisel Code: Declare a new tester for Simple modules\n",
    "class LastConnectTester(c: LastConnect) extends PeekPokeTester(c) {\n",
    "  expect(c.io.out, 4)  // Assert that the output correctly has 0\n",
    "}\n",
    "\n",
    "//  Test LastConnect\n",
    "val works = Driver(() => new LastConnect) {\n",
    "  c => new LastConnectTester(c)\n",
    "}\n",
    "assert(works)        // Scala Code: if works == false, will throw an error\n",
    "println(\"SUCCESS!!\") // Scala Code: if we get here, our tests passed!"
   ]
  },
  {
   "cell_type": "markdown",
   "metadata": {},
   "source": [
    "## when, elsewhen, and otherwise<a name=\"when\"></a> \n",
    "Chisel's primary implementation of conditional logic is the when, elsewhen, and otherwise constructs. \n",
    "This generally looks like\n",
    "```scala\n",
    "when(someBooleanCondition) {\n",
    "  // things to do when true\n",
    "}.elsewhen(someOtherBooleanCondition) {\n",
    "  // things to do on this condition\n",
    "}.otherwise {\n",
    "  // things to do if none of th boolean conditions are true\n",
    "}\n",
    "```\n",
    "They must must appear in the above order, though either of the latter may be omitted.\n",
    "There can be as many elsewhen clauses as desired.\n",
    "Any section that is true terminates the construct. (VERIFY THIS)\n",
    "Actions taken in the bodies of the the three can be complex blocks and may contain nested\n",
    "*when* and allies.\n",
    ">**Unlike** scala ```if``` values are not returned by the blocks associated with when/elsewhen/otherwise.\n",
    "One cannot say\n",
    "```scala\n",
    "val result = when(squareIt) { x * x }.otherwise { x }\n",
    "```\n",
    "This will **not** work. We will discuss the solution to this in the *Wires* section.\n"
   ]
  },
  {
   "cell_type": "code",
   "execution_count": null,
   "metadata": {},
   "outputs": [],
   "source": [
    "/** Max3 returns the max of it's 3 arguments\n",
    "  */\n",
    "class Max3 extends Module {\n",
    "  val io = IO(new Bundle {\n",
    "    val in1 = Input(UInt(16.W))\n",
    "    val in2 = Input(UInt(16.W))\n",
    "    val in3 = Input(UInt(16.W))\n",
    "    val out = Output(UInt(16.W))\n",
    "  })\n",
    "    \n",
    "  when(io.in1 > io.in2 && io.in1 > io.in3) {\n",
    "    io.out := io.in1  \n",
    "  }.elsewhen(io.in2 > io.in1 && io.in2 > io.in3) {\n",
    "    io.out := io.in2 \n",
    "  }.otherwise {\n",
    "    io.out := io.in3\n",
    "  }\n",
    "}\n",
    "\n",
    "// verify that the max of the three inputs is correct\n",
    "class Max3Tester(c: Max3) extends PeekPokeTester(c) {\n",
    "  poke(c.io.in1, 6)\n",
    "  poke(c.io.in2, 4)  \n",
    "  poke(c.io.in3, 2)  \n",
    "  expect(c.io.out, 6)  // input 1 should be biggest\n",
    "  poke(c.io.in2, 7)  \n",
    "  expect(c.io.out, 7)  // now input 2 is\n",
    "  poke(c.io.in3, 11)  \n",
    "  expect(c.io.out, 11) // and now input 3\n",
    "  poke(c.io.in3, 3)  \n",
    "  expect(c.io.out, 7)  // show that decreasing an input works as well\n",
    "}\n",
    "\n",
    "// Test Max3\n",
    "val works = Driver(() => new Max3) {\n",
    "  c => new Max3Tester(c)\n",
    "}\n",
    "assert(works)        // Scala Code: if works == false, will throw an error\n",
    "println(\"SUCCESS!!\") // Scala Code: if we get here, our tests passed!"
   ]
  },
  {
   "cell_type": "markdown",
   "metadata": {},
   "source": [
    "## The Wire construct<a name=\"wire\"></a>\n",
    "Let's return to the note above describing the limitation that **when** does not return a value.\n",
    "The Chisel **Wire** construct is one of the ways around this.\n",
    "**Wire** defines a circuit component that can appear on the right hand side or left hand side of\n",
    "a connect **:=** operator.\n"
   ]
  },
  {
   "cell_type": "markdown",
   "metadata": {},
   "source": [
    "To illustrate this let's make a small combinational sorter that sorts its four numeric inputs into\n",
    "its four numeric outputs. To make things clearer, consider the following graph.  Data follows the red lines\n",
    "at each step when the left value is less than the right, and follows the black lines which swap the values when the left is greater than the right.\n",
    "![Sort4](images/Sort4.svg)\n",
    "The diagram shows a series of cells whose names begin with *row*, we will use **Wire**s to construct these as where results of a particular copy or swap are placed. "
   ]
  },
  {
   "cell_type": "code",
   "execution_count": null,
   "metadata": {
    "scrolled": true
   },
   "outputs": [],
   "source": [
    "/** Sort4 sorts its 4 inputs to its 4 outputs */\n",
    "class Sort4 extends Module {\n",
    "  val io = IO(new Bundle {\n",
    "    val in0 = Input(UInt(16.W))\n",
    "    val in1 = Input(UInt(16.W))\n",
    "    val in2 = Input(UInt(16.W))\n",
    "    val in3 = Input(UInt(16.W))\n",
    "    val out0 = Output(UInt(16.W))\n",
    "    val out1 = Output(UInt(16.W))\n",
    "    val out2 = Output(UInt(16.W))\n",
    "    val out3 = Output(UInt(16.W))\n",
    "  })\n",
    "\n",
    "  val row10 = Wire(UInt(16.W))\n",
    "  val row11 = Wire(UInt(16.W))\n",
    "  val row12 = Wire(UInt(16.W))\n",
    "  val row13 = Wire(UInt(16.W))\n",
    "\n",
    "  when(io.in0 < io.in1) {\n",
    "    row10 := io.in0            // preserve first two elements\n",
    "    row11 := io.in1\n",
    "  }.otherwise {\n",
    "    row10 := io.in1            // swap first two elements\n",
    "    row11 := io.in0\n",
    "  }\n",
    "\n",
    "  when(io.in2 < io.in3) {\n",
    "    row12 := io.in2            // preserve last two elements\n",
    "    row13 := io.in3\n",
    "  }.otherwise {\n",
    "    row12 := io.in3            // swap last two elements\n",
    "    row13 := io.in2\n",
    "  }\n",
    "\n",
    "  val row21 = Wire(UInt(16.W))\n",
    "  val row22 = Wire(UInt(16.W))\n",
    "\n",
    "  when(row11 < row12) {\n",
    "    row21 := row11            // preserve middle 2 elements\n",
    "    row22 := row12\n",
    "  }.otherwise {\n",
    "    row21 := row12            // swap middle two elements\n",
    "    row22 := row11\n",
    "  }\n",
    "\n",
    "  when(row10 < row21) {\n",
    "    io.out0 := row10            // preserve first two elements\n",
    "    io.out1 := row21\n",
    "  }.otherwise {\n",
    "    io.out0 := row21            // swap first two elements\n",
    "    io.out1 := row10\n",
    "  }\n",
    "\n",
    "  when(row10 < row21) {\n",
    "    io.out0 := row10            // preserve first two elements\n",
    "    io.out1 := row21\n",
    "  }.otherwise {\n",
    "    io.out0 := row21            // swap first two elements\n",
    "    io.out1 := row10\n",
    "  }\n",
    "\n",
    "  when(row22 < row13) {\n",
    "    io.out2 := row22            // preserve first two elements\n",
    "    io.out3 := row13\n",
    "  }.otherwise {\n",
    "    io.out2 := row13            // swap first two elements\n",
    "    io.out3 := row22\n",
    "  }\n",
    "}\n",
    "\n",
    "// verify that the max of the three inputs is correct\n",
    "class Sort4Tester(c: Sort4) extends PeekPokeTester(c) {\n",
    "  poke(c.io.in0, 3)\n",
    "  poke(c.io.in1, 6)\n",
    "  poke(c.io.in2, 9)\n",
    "  poke(c.io.in3, 12)\n",
    "  expect(c.io.out0, 3)\n",
    "  expect(c.io.out1, 6)\n",
    "  expect(c.io.out2, 9)\n",
    "  expect(c.io.out3, 12)\n",
    "\n",
    "  poke(c.io.in0, 13)\n",
    "  poke(c.io.in1, 4)\n",
    "  poke(c.io.in2, 6)\n",
    "  poke(c.io.in3, 1)\n",
    "  expect(c.io.out0, 1)\n",
    "  expect(c.io.out1, 4)\n",
    "  expect(c.io.out2, 6)\n",
    "  expect(c.io.out3, 13)\n",
    "}\n",
    "\n",
    "// Here's the tester\n",
    "val works = iotesters.Driver(() => new Sort4) {\n",
    "c => new Sort4Tester(c)\n",
    "}\n",
    "assert(works) // Scala Code: if works == false, will throw an error\n",
    "println(\"SUCCESS!!\") // Scala Code: if we get here, our tests passed!\n"
   ]
  },
  {
   "cell_type": "markdown",
   "metadata": {
    "collapsed": true
   },
   "source": [
    "## Control Flow Exercise\n",
    "Build Module that will compute the values of these polynomials.\n",
    "- x² - 2x + 1\n",
    "- 2x² + 6x + 3\n",
    "- 4x² - 10x -5\n",
    "\n",
    "Which one to compute will depenend on a selector input.  \n",
    "Use **Wire**s so that hardware that computes x² appears only once in the module and so that there is a single connection to the output\n",
    "\n",
    "First let's use test-driven development and write a model using scala"
   ]
  },
  {
   "cell_type": "code",
   "execution_count": null,
   "metadata": {},
   "outputs": [],
   "source": [
    "def poly0(x: Int) = x*x - 2*x + 1\n",
    "def poly1(x: Int) = 2*x*x + 6*x + 3\n",
    "def poly2(x: Int) = 4*x*x - 10*x - 5\n",
    "\n",
    "poly0(0)\n",
    "poly1(0)\n",
    "poly2(0)\n",
    "\n",
    "poly0(1)\n",
    "poly1(1)\n",
    "poly2(1)"
   ]
  },
  {
   "cell_type": "markdown",
   "metadata": {},
   "source": [
    "That looks ok, to make it even easier let's make a function that works like our desired hardware module."
   ]
  },
  {
   "cell_type": "code",
   "execution_count": null,
   "metadata": {},
   "outputs": [],
   "source": [
    "def poly(select: Int, x: Int) = {\n",
    "    if(select == 0) {\n",
    "        poly0(x)\n",
    "    }\n",
    "    else if(select == 1) {\n",
    "        poly1(x)\n",
    "    }\n",
    "    else {\n",
    "        poly2(x)\n",
    "    }\n",
    "}\n",
    "\n",
    "poly(1, 0)\n",
    "poly(1, 1)\n",
    "poly(2, 1)\n",
    "\n"
   ]
  },
  {
   "cell_type": "markdown",
   "metadata": {},
   "source": [
    "Looks like the values are correct.  So now use the following template to implement your circuit"
   ]
  },
  {
   "cell_type": "code",
   "execution_count": null,
   "metadata": {},
   "outputs": [],
   "source": [
    "/** returns the selected result of 3 different\n",
    "  * second order polynomials\n",
    "  */\n",
    "class Polynomial extends Module {\n",
    "  val io = IO(new Bundle {\n",
    "    val select = Input(UInt(4.W))\n",
    "    val x = Input(SInt(32.W))\n",
    "    val fOfX = Output(SInt(32.W))\n",
    "  })\n",
    "    \n",
    "  val result = Wire(SInt(32.W))  \n",
    "  val square = Wire(SInt(32.W))  \n",
    "  ???\n",
    "\n",
    "  io.fOfX := result  \n",
    "}\n",
    "\n",
    "// verify that the max of the three inputs is correct\n",
    "class PolynomialTester(c: Polynomial) extends PeekPokeTester(c) {\n",
    "    \n",
    "  for(x <- 0 to 20) {\n",
    "      for(select <- 0 to 2) {\n",
    "          poke(c.io.select, select)\n",
    "          poke(c.io.x, x)\n",
    "          expect(c.io.fOfX, poly(select, x))\n",
    "\n",
    "      }\n",
    "  }\n",
    "}\n",
    "\n",
    "// Test Polynomial\n",
    "val works = Driver(() => new Polynomial) {\n",
    "  c => new PolynomialTester(c)\n",
    "}\n",
    "assert(works)        // Scala Code: if works == false, will throw an error\n",
    "println(\"SUCCESS!!\") // Scala Code: if we get here, our tests passed!"
   ]
  },
  {
   "cell_type": "markdown",
   "metadata": {},
   "source": [
    "## Control Flow Optional Exercise\n",
    "Instead of having three polynomials in a single module, parameterize a Module so that you can generate hardware that computes polynomials whose co-efficients are specified at generation time. Perhaps allowing different orders of polynomials to be generated."
   ]
  },
  {
   "cell_type": "markdown",
   "metadata": {},
   "source": [
    "# Exercise answers, Don't Peek"
   ]
  },
  {
   "cell_type": "code",
   "execution_count": null,
   "metadata": {},
   "outputs": [],
   "source": [
    "/** returns the selected result of 3 different\n",
    "  * second order polynomials\n",
    "  */\n",
    "class Polynomial extends Module {\n",
    "  val io = IO(new Bundle {\n",
    "    val select = Input(UInt(4.W))\n",
    "    val x = Input(SInt(32.W))\n",
    "    val fOfX = Output(SInt(32.W))\n",
    "  })\n",
    "    \n",
    "  val square = io.x * io.x\n",
    "  val result = Wire(SInt(32.W))  \n",
    "  when(io.select === 0.U) {\n",
    "      result := (square - (2.S * io.x)) + 1.S\n",
    "  }.elsewhen(io.select === 1.U) {\n",
    "      result := (2.S * square) + (6.S * io.x) + 3.S\n",
    "  }.otherwise {\n",
    "      result := (4.S * square) - (10.S * io.x) - 5.S\n",
    "  }\n",
    "  io.fOfX := result  \n",
    "}\n",
    "\n",
    "// verify that the max of the three inputs is correct\n",
    "class PolynomialTester(c: Polynomial) extends PeekPokeTester(c) {\n",
    "    \n",
    "  for(x <- 0 to 20) {\n",
    "      for(select <- 0 to 2) {\n",
    "          poke(c.io.select, select)\n",
    "          poke(c.io.x, x)\n",
    "          expect(c.io.fOfX, poly(select, x))\n",
    "      }\n",
    "  }\n",
    "}\n",
    "\n",
    "// Test Polynomial\n",
    "val works = Driver(() => new Polynomial) {\n",
    "  c => new PolynomialTester(c)\n",
    "}\n",
    "assert(works)        // Scala Code: if works == false, will throw an error\n",
    "println(\"SUCCESS!!\") // Scala Code: if we get here, our tests passed!"
   ]
  },
  {
   "cell_type": "code",
   "execution_count": null,
   "metadata": {
    "collapsed": true
   },
   "outputs": [],
   "source": []
  }
 ],
 "metadata": {
  "kernelspec": {
   "display_name": "Scala",
   "language": "scala",
   "name": "scala"
  },
  "language_info": {
   "codemirror_mode": "text/x-scala",
   "file_extension": ".scala",
   "mimetype": "text/x-scala",
   "name": "scala211",
   "nbconvert_exporter": "script",
   "pygments_lexer": "scala",
   "version": "2.11.11"
  }
 },
 "nbformat": 4,
 "nbformat_minor": 2
}
