{
 "cells": [
  {
   "cell_type": "markdown",
   "metadata": {},
   "source": [
    "![Chisel](https://chisel.eecs.berkeley.edu/assets/img/chisel_64.png)"
   ]
  },
  {
   "cell_type": "markdown",
   "metadata": {
    "collapsed": true
   },
   "source": [
    "# Module 2: Basic Chisel : Control Flow"
   ]
  },
  {
   "cell_type": "markdown",
   "metadata": {},
   "source": [
    "#### Written by Chick Markley, Stevo Bailey, Edward Wang, and Richard Lin\n",
    "[chick@berkeley.edu](mailto:chick@berkeley.edu),\n",
    "[stevo@berkeley.edu](mailto:stevo@berkeley.edu),\n",
    "[edwardw@berkeley.edu](mailto:edwardw@berkeley.edu), [richard.lin@berkeley.edu](mailto:edwardw@berkeley.edu)"
   ]
  },
  {
   "cell_type": "markdown",
   "metadata": {},
   "source": [
    "## Introduction"
   ]
  },
  {
   "cell_type": "markdown",
   "metadata": {},
   "source": [
    "Up until now there has been a strong correspondence between software and hardware in Chisel.\n",
    "In control flow there will be a greater divergence between the way we think about the two."
   ]
  },
  {
   "cell_type": "markdown",
   "metadata": {},
   "source": [
    "## Table of Contents\n",
    "\n",
    "1. [Last Connect Semantics](#last-connect)\n",
    "1. [when/elsewhen/other](#when)\n",
    "1. [Wire vs val and var](#wire)\n",
    "1. [Exercise](#exercise)\n",
    "1. [Optional Exercise ](#optional-exercise)\n"
   ]
  },
  {
   "cell_type": "markdown",
   "metadata": {},
   "source": [
    "## Setup"
   ]
  },
  {
   "cell_type": "markdown",
   "metadata": {},
   "source": [
    "First we repeat the necessary imports to run Chisel."
   ]
  },
  {
   "cell_type": "code",
   "execution_count": 6,
   "metadata": {
    "collapsed": true
   },
   "outputs": [
    {
     "data": {
      "text/plain": [
       "\u001b[32mimport \u001b[39m\u001b[36m$ivy.$                                                 \n",
       "\u001b[39m\n",
       "\u001b[32mimport \u001b[39m\u001b[36m$ivy.$                                                          \n",
       "\u001b[39m\n",
       "\u001b[32mimport \u001b[39m\u001b[36m$ivy.$                                                \n",
       "\u001b[39m\n",
       "\u001b[32mimport \u001b[39m\u001b[36mchisel3._\n",
       "\u001b[39m\n",
       "\u001b[32mimport \u001b[39m\u001b[36mchisel3.util._\n",
       "\u001b[39m\n",
       "\u001b[32mimport \u001b[39m\u001b[36mchisel3.iotesters.{ChiselFlatSpec, Driver, PeekPokeTester}\n",
       "\n",
       "// A wrapper function that provides a easy way to get the generated Verilog code for a Chisel module.\n",
       "// Don't worry about the implementation of this.\n",
       "\u001b[39m\n",
       "defined \u001b[32mfunction\u001b[39m \u001b[36mgetVerilog\u001b[39m"
      ]
     },
     "execution_count": 6,
     "metadata": {},
     "output_type": "execute_result"
    }
   ],
   "source": [
    "import $ivy.`edu.berkeley.cs::chisel3:3.0-SNAPSHOT_2017-07-19`\n",
    "import $ivy.`edu.berkeley.cs::chisel-iotesters:1.1-SNAPSHOT_2017-07-19`\n",
    "import $ivy.`edu.berkeley.cs::firrtl:1.0-SNAPSHOT_2017-07-19`\n",
    "import chisel3._\n",
    "import chisel3.util._\n",
    "import chisel3.iotesters.{ChiselFlatSpec, Driver, PeekPokeTester}\n",
    "\n",
    "// A wrapper function that provides a easy way to get the generated Verilog code for a Chisel module.\n",
    "// Don't worry about the implementation of this.\n",
    "def getVerilog[T <: Module](gen: => T): String = {\n",
    "  chisel3.Driver.execute(Array[String](), {() => gen}) match {\n",
    "    case ChiselExecutionSuccess(_, _, Some(firrtl.FirrtlExecutionSuccess(_, verilog))) => verilog\n",
    "  }\n",
    "}"
   ]
  },
  {
   "cell_type": "markdown",
   "metadata": {},
   "source": [
    "## Last Connect Semantics<a name=\"last-connect\"></a>\n",
    " As seen earlier Chisel allows you to connect components using the ```:=``` operator.\n",
    " For various reasons it is possible to issue multiple connect statements to the same component.\n",
    " When this happens the last statement wins.  "
   ]
  },
  {
   "cell_type": "code",
   "execution_count": 7,
   "metadata": {},
   "outputs": [
    {
     "name": "stdout",
     "output_type": "stream",
     "text": [
      "[\u001b[35minfo\u001b[0m] [0.000] Elaborating design...\n",
      "[\u001b[35minfo\u001b[0m] [0.002] Done elaborating.\n",
      "Total FIRRTL Compile Time: 5.0 ms\n",
      "Total FIRRTL Compile Time: 4.2 ms\n",
      "End of dependency graph\n",
      "Circuit state created\n",
      "[\u001b[35minfo\u001b[0m] [0.000] SEED 1507329888292\n",
      "test cmd6WrapperHelperLastConnect Success: 1 tests passed in 5 cycles taking 0.001490 seconds\n",
      "[\u001b[35minfo\u001b[0m] [0.001] RAN 0 CYCLES PASSED\n",
      "SUCCESS!!\n"
     ]
    },
    {
     "data": {
      "text/plain": [
       "defined \u001b[32mclass\u001b[39m \u001b[36mLastConnect\u001b[39m\n",
       "defined \u001b[32mclass\u001b[39m \u001b[36mLastConnectTester\u001b[39m\n",
       "\u001b[36mworks\u001b[39m: \u001b[32mBoolean\u001b[39m = \u001b[32mtrue\u001b[39m"
      ]
     },
     "execution_count": 7,
     "metadata": {},
     "output_type": "execute_result"
    }
   ],
   "source": [
    "class LastConnect extends Module {\n",
    "  val io = IO(new Bundle {\n",
    "    val in = Input(UInt(4.W))\n",
    "    val out = Output(UInt(4.W))\n",
    "  })\n",
    "  io.out := 1.U\n",
    "  io.out := 2.U\n",
    "  io.out := 3.U\n",
    "  io.out := 4.U\n",
    "}\n",
    "\n",
    "// Chisel Code: Declare a new tester for Simple modules\n",
    "class LastConnectTester(c: LastConnect) extends PeekPokeTester(c) {\n",
    "  expect(c.io.out, 4)  // Assert that the output correctly has 0\n",
    "}\n",
    "\n",
    "// Scala Code: Calling Driver to instantiate Simple, SimpleTester, and execute the test\n",
    "// Don't worry about understanding this code, it is very complicated Scala\n",
    "val works = Driver(() => new LastConnect) {\n",
    "  c => new LastConnectTester(c)\n",
    "}\n",
    "assert(works)        // Scala Code: if works == false, will throw an error\n",
    "println(\"SUCCESS!!\") // Scala Code: if we get here, our tests passed!"
   ]
  },
  {
   "cell_type": "markdown",
   "metadata": {},
   "source": [
    "## when, elsewhen, and otherwise<a name=\"when\"></a> \n",
    "Chisel's primary implementation of conditional logic is the when, elsewhen, and otherwise constructs. \n",
    "This generally looks like\n",
    "```scala\n",
    "when(someBooleanCondition) {\n",
    "  // things to do when true\n",
    "}.elsewhen(someOtherBooleanCondition) {\n",
    "  // things to do on this condition\n",
    "}.otherwise {\n",
    "  // things to do if none of th boolean conditions are true\n",
    "}\n",
    "```\n",
    "They must must appear in the above order, though either of the latter may be omitted.\n",
    "There can be as many elsewhen clauses as desired.\n",
    "Any section that is true terminates the construct. (VERIFY THIS)\n",
    "Actions taken in the bodies of the the three can be complex blocks and may contain nested\n",
    "*when* and allies.\n",
    ">**Unlike** scala ```if``` values are not returned by the blocks associated with when/elsewhen/otherwise.\n",
    "One cannot say\n",
    "```scala\n",
    "val result = when(squareIt) { x * x }.otherwise { x }\n",
    "```\n",
    "This will **not** work. We will discuss the solution to this in the *Wires* section.\n"
   ]
  },
  {
   "cell_type": "code",
   "execution_count": 8,
   "metadata": {},
   "outputs": [
    {
     "name": "stdout",
     "output_type": "stream",
     "text": [
      "[\u001b[35minfo\u001b[0m] [0.000] Elaborating design...\n",
      "[\u001b[35minfo\u001b[0m] [0.006] Done elaborating.\n",
      "Total FIRRTL Compile Time: 17.5 ms\n",
      "Total FIRRTL Compile Time: 14.4 ms\n",
      "End of dependency graph\n",
      "Circuit state created\n",
      "[\u001b[35minfo\u001b[0m] [0.000] SEED 1507329889074\n",
      "test cmd7WrapperHelperMax3 Success: 4 tests passed in 5 cycles taking 0.007078 seconds\n",
      "[\u001b[35minfo\u001b[0m] [0.004] RAN 0 CYCLES PASSED\n",
      "SUCCESS!!\n"
     ]
    },
    {
     "data": {
      "text/plain": [
       "defined \u001b[32mclass\u001b[39m \u001b[36mMax3\u001b[39m\n",
       "defined \u001b[32mclass\u001b[39m \u001b[36mMax3Tester\u001b[39m\n",
       "\u001b[36mworks\u001b[39m: \u001b[32mBoolean\u001b[39m = \u001b[32mtrue\u001b[39m"
      ]
     },
     "execution_count": 8,
     "metadata": {},
     "output_type": "execute_result"
    }
   ],
   "source": [
    "/** Max3 returns the max of it's 3 arguments\n",
    "  */\n",
    "class Max3 extends Module {\n",
    "  val io = IO(new Bundle {\n",
    "    val in1 = Input(UInt(16.W))\n",
    "    val in2 = Input(UInt(16.W))\n",
    "    val in3 = Input(UInt(16.W))\n",
    "    val out = Output(UInt(16.W))\n",
    "  })\n",
    "    \n",
    "  when(io.in1 > io.in2 && io.in1 > io.in3) {\n",
    "    io.out := io.in1  \n",
    "  }.elsewhen(io.in2 > io.in1 && io.in2 > io.in3) {\n",
    "    io.out := io.in2 \n",
    "  }.otherwise {\n",
    "    io.out := io.in3\n",
    "  }\n",
    "}\n",
    "\n",
    "// verify that the max of the three inputs is correct\n",
    "class Max3Tester(c: Max3) extends PeekPokeTester(c) {\n",
    "  poke(c.io.in1, 6)\n",
    "  poke(c.io.in2, 4)  \n",
    "  poke(c.io.in3, 2)  \n",
    "  expect(c.io.out, 6)  // input 1 should be biggest\n",
    "  poke(c.io.in2, 7)  \n",
    "  expect(c.io.out, 7)  // now input 2 is\n",
    "  poke(c.io.in3, 11)  \n",
    "  expect(c.io.out, 11) // and now input 3\n",
    "  poke(c.io.in3, 3)  \n",
    "  expect(c.io.out, 7)  // show that decreasing an input works as well\n",
    "}\n",
    "\n",
    "// Scala Code: Calling Driver to instantiate Simple, SimpleTester, and execute the test\n",
    "// Don't worry about understanding this code, it is very complicated Scala\n",
    "val works = Driver(() => new Max3) {\n",
    "  c => new Max3Tester(c)\n",
    "}\n",
    "assert(works)        // Scala Code: if works == false, will throw an error\n",
    "println(\"SUCCESS!!\") // Scala Code: if we get here, our tests passed!"
   ]
  },
  {
   "cell_type": "markdown",
   "metadata": {},
   "source": [
    "## The Wire construct<a name=\"wire\"></a>\n",
    "Let's return to the note above describing the limitation that **when** does not return a value.\n",
    "The Chisel **Wire** construct is one of the ways around this.\n",
    "**Wire** defines a circuit component that can appear on the right hand side or left hand side of\n",
    "a connect **:=** operator.\n"
   ]
  },
  {
   "cell_type": "markdown",
   "metadata": {},
   "source": [
    "To illustrate this let's make a small combinational sorter that sorts its four numeric inputs into\n",
    "its four numeric outputs. To make things clearer, consider the following graph.  Data follows the red lines\n",
    "at each step when the left value is less than the right, and follows the black lines which swap the values when the left is greater than the right.\n",
    "![Sort4](images/Sort4.svg)\n",
    "The diagram shows a series of cells whose names begin with *row*, we will use **Wire**s to construct these as pwhere results of a particular copy or swap are placed. "
   ]
  },
  {
   "cell_type": "code",
   "execution_count": 9,
   "metadata": {
    "scrolled": true
   },
   "outputs": [
    {
     "name": "stdout",
     "output_type": "stream",
     "text": [
      "[\u001b[35minfo\u001b[0m] [0.000] Elaborating design...\n",
      "[\u001b[35minfo\u001b[0m] [0.010] Done elaborating.\n",
      "Total FIRRTL Compile Time: 44.8 ms\n",
      "Total FIRRTL Compile Time: 31.2 ms\n",
      "End of dependency graph\n",
      "Circuit state created\n",
      "[\u001b[35minfo\u001b[0m] [0.000] SEED 1507329889847\n",
      "test cmd8WrapperHelperSort4 Success: 8 tests passed in 5 cycles taking 0.011189 seconds\n",
      "[\u001b[35minfo\u001b[0m] [0.007] RAN 0 CYCLES PASSED\n",
      "SUCCESS!!\n"
     ]
    },
    {
     "data": {
      "text/plain": [
       "defined \u001b[32mclass\u001b[39m \u001b[36mSort4\u001b[39m\n",
       "defined \u001b[32mclass\u001b[39m \u001b[36mSort4Tester\u001b[39m\n",
       "\u001b[36mworks\u001b[39m: \u001b[32mBoolean\u001b[39m = \u001b[32mtrue\u001b[39m"
      ]
     },
     "execution_count": 9,
     "metadata": {},
     "output_type": "execute_result"
    }
   ],
   "source": [
    "/** Sort4 sorts its 4 inputs to its 4 outputs */\n",
    "class Sort4 extends Module {\n",
    "  val io = IO(new Bundle {\n",
    "    val in0 = Input(UInt(16.W))\n",
    "    val in1 = Input(UInt(16.W))\n",
    "    val in2 = Input(UInt(16.W))\n",
    "    val in3 = Input(UInt(16.W))\n",
    "    val out0 = Output(UInt(16.W))\n",
    "    val out1 = Output(UInt(16.W))\n",
    "    val out2 = Output(UInt(16.W))\n",
    "    val out3 = Output(UInt(16.W))\n",
    "  })\n",
    "\n",
    "  val row10 = Wire(UInt(16.W))\n",
    "  val row11 = Wire(UInt(16.W))\n",
    "  val row12 = Wire(UInt(16.W))\n",
    "  val row13 = Wire(UInt(16.W))\n",
    "\n",
    "  when(io.in0 < io.in1) {\n",
    "    row10 := io.in0            // preserve first two elements\n",
    "    row11 := io.in1\n",
    "  }.otherwise {\n",
    "    row10 := io.in1            // swap first two elements\n",
    "    row11 := io.in0\n",
    "  }\n",
    "\n",
    "  when(io.in2 < io.in3) {\n",
    "    row12 := io.in2            // preserve last two elements\n",
    "    row13 := io.in3\n",
    "  }.otherwise {\n",
    "    row12 := io.in3            // swap last two elements\n",
    "    row13 := io.in2\n",
    "  }\n",
    "\n",
    "  val row21 = Wire(UInt(16.W))\n",
    "  val row22 = Wire(UInt(16.W))\n",
    "\n",
    "  when(row11 < row12) {\n",
    "    row21 := row11            // preserve middle 2 elements\n",
    "    row22 := row12\n",
    "  }.otherwise {\n",
    "    row21 := row12            // swap middle two elements\n",
    "    row22 := row11\n",
    "  }\n",
    "\n",
    "  when(row10 < row21) {\n",
    "    io.out0 := row10            // preserve first two elements\n",
    "    io.out1 := row21\n",
    "  }.otherwise {\n",
    "    io.out0 := row21            // swap first two elements\n",
    "    io.out1 := row10\n",
    "  }\n",
    "\n",
    "  when(row10 < row21) {\n",
    "    io.out0 := row10            // preserve first two elements\n",
    "    io.out1 := row21\n",
    "  }.otherwise {\n",
    "    io.out0 := row21            // swap first two elements\n",
    "    io.out1 := row10\n",
    "  }\n",
    "\n",
    "  when(row22 < row13) {\n",
    "    io.out2 := row22            // preserve first two elements\n",
    "    io.out3 := row13\n",
    "  }.otherwise {\n",
    "    io.out2 := row13            // swap first two elements\n",
    "    io.out3 := row22\n",
    "  }\n",
    "}\n",
    "\n",
    "// verify that the max of the three inputs is correct\n",
    "class Sort4Tester(c: Sort4) extends PeekPokeTester(c) {\n",
    "  poke(c.io.in0, 3)\n",
    "  poke(c.io.in1, 6)\n",
    "  poke(c.io.in2, 9)\n",
    "  poke(c.io.in3, 12)\n",
    "  expect(c.io.out0, 3)\n",
    "  expect(c.io.out1, 6)\n",
    "  expect(c.io.out2, 9)\n",
    "  expect(c.io.out3, 12)\n",
    "\n",
    "  poke(c.io.in0, 13)\n",
    "  poke(c.io.in1, 4)\n",
    "  poke(c.io.in2, 6)\n",
    "  poke(c.io.in3, 1)\n",
    "  expect(c.io.out0, 1)\n",
    "  expect(c.io.out1, 4)\n",
    "  expect(c.io.out2, 6)\n",
    "  expect(c.io.out3, 13)\n",
    "}\n",
    "\n",
    "// Scala Code: Calling Driver to instantiate Simple, SimpleTester, and execute the test\n",
    "// Don't worry about understanding this code, it is very complicated Scala\n",
    "\n",
    "val works = iotesters.Driver(() => new Sort4) {\n",
    "c => new Sort4Tester(c)\n",
    "}\n",
    "assert(works) // Scala Code: if works == false, will throw an error\n",
    "println(\"SUCCESS!!\") // Scala Code: if we get here, our tests passed!\n"
   ]
  },
  {
   "cell_type": "markdown",
   "metadata": {
    "collapsed": true
   },
   "source": [
    "## Control Flow Exercise\n",
    "Coming Soon"
   ]
  }
 ],
 "metadata": {
  "kernelspec": {
   "display_name": "Scala",
   "language": "scala",
   "name": "scala"
  },
  "language_info": {
   "codemirror_mode": "text/x-scala",
   "file_extension": ".scala",
   "mimetype": "text/x-scala",
   "name": "scala211",
   "nbconvert_exporter": "script",
   "pygments_lexer": "scala",
   "version": "2.11.11"
  }
 },
 "nbformat": 4,
 "nbformat_minor": 2
}
