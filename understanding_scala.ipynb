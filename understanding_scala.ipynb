{
 "cells": [
  {
   "cell_type": "markdown",
   "metadata": {},
   "source": [
    "# Scala Things You Should Know"
   ]
  },
  {
   "cell_type": "markdown",
   "metadata": {},
   "source": [
    "# Packages"
   ]
  },
  {
   "cell_type": "markdown",
   "metadata": {},
   "source": [
    "```scala\n",
    "package mytools\n",
    "class Tool1 { ... }\n",
    "```\n",
    "This name can be used when referencing code defined in this file.  \n",
    "```scala\n",
    "import mytools.Tool1\n",
    "```\n",
    ">Note: The package name  **should** match the directory hierarchy, this is not mandatory but failing to abide by this guideline can produce some unusual and difficult to diagnose problems. Package names by convention are lower case and do not contain separators like underscore.  This sometimes makes good descriptive names difficult.  One approach is too add a layer of hierachy ```package good.tools```.  Do your best.  Chisel itself plays some games with the package names that do not conform to these rules."
   ]
  },
  {
   "cell_type": "code",
   "execution_count": null,
   "metadata": {
    "collapsed": true
   },
   "outputs": [],
   "source": []
  },
  {
   "cell_type": "code",
   "execution_count": null,
   "metadata": {
    "collapsed": true
   },
   "outputs": [],
   "source": []
  },
  {
   "cell_type": "markdown",
   "metadata": {},
   "source": [
    "# A Simple Class Example\n",
    "An example of creating a Scala class might be"
   ]
  },
  {
   "cell_type": "code",
   "execution_count": null,
   "metadata": {
    "collapsed": false
   },
   "outputs": [],
   "source": [
    "class WrapCounter(counterBits: Int) {\n",
    "  val max: Long = (1 << counterBits) - 1\n",
    "  var counter = 0L\n",
    "  def inc(): Long = {\n",
    "    counter = counter + 1\n",
    "    if(counter > max) counter = 0\n",
    "    counter\n",
    "  }\n",
    "  println(s\"counter created with max value $max\")\n",
    "}"
   ]
  },
  {
   "cell_type": "markdown",
   "metadata": {},
   "source": [
    "What is here:\n",
    "* ```class WrapCounter```: This is the definition of **WrapCounter**\n",
    "* ```(counterBits: Int)```: Creating MyCounter requires an integer argument, nicely named to suggest it is the bit width of the counter\n",
    "* braces ({}) delimit a block of code. Most classes use a code block to define variables and constants and methods (functions)\n",
    "* ```val max: Long =``` the class contains a member variable **max**, declared as ```Long``` and initialized as the class is created\n",
    "* ```(1 << counterBits) - 1``` computes the maximum value that can be contained in **counterBits** bits.  Since **max** was created with _val_ it cannot be changed.\n",
    "* a variable **counter** is created and initialized to **0L**, the **L** says that 0 is a long value and from this **counter** is inferred to be Long.\n",
    "* **max** and **counter** are commonly called _member variables_ of the class\n",
    "* a class method **inc** is defined which takes no arguments and returns a **Long** value\n",
    "* the body of the method **inc** is a code block that:\n",
    "  * ```counter = counter + 1``` increments **counter**\n",
    "  * ```if(counter > max) counter = 0``` tests if it is greater than the **max** value and sets it back to zero if it is\n",
    "  * ```counter``` the last line of the code block is important\n",
    "    * any value expressed at the last line of a code block is considered to be the return value of that code block, that return value can be used or ignore by the programmer\n",
    "    * this applies quite generally, for example since an if statement or and if then else statement defines its true and false clauses with code blocks the if itself can return a value\n",
    "    * for example ```val result = if( 10 * 10 > 90) { \"greater\" } else { \"lesser\" }``` would created a variable with the value \"greater\"\n",
    "  * so in this case the function **inc** returns the value of **counter**\n",
    "* ```println(s\"counter created with max value $max\")``` this prints a string to the standard out.  Because the **println** is directly in the defining code block it is part of the classes initialization code and is run, i.e. prints out the string, every time an instance of this class is created.\n",
    "* The string printed in this case is an _interpolated_ string\n",
    "  * the leading **s** in front of the first double quote identifies this as an interpolated\n",
    "  * an interpolated string is processed at run time  \n",
    "  * the **$max** is replaced with the value of max\n",
    "  * if the **$** is followed by a code block arbitrary scala can be in that code block\n",
    "    * for example **${max + max}**\n",
    "    * the return value of this code block will be inserted  in place of ${...}\n",
    "    * if the return value is not a string it will be converted to one, virtually every class or type in scala has implicit conversion to a string)\n",
    "  * it should be noted that classes that print something every time an instance is created is darned annoying and should avoided\n"
   ]
  },
  {
   "cell_type": "markdown",
   "metadata": {},
   "source": [
    "# Creating an instance of a class\n",
    "Let's use our example above to create a class.  Scala instances are created via the built-in magic keyword **new**"
   ]
  },
  {
   "cell_type": "code",
   "execution_count": null,
   "metadata": {
    "collapsed": false
   },
   "outputs": [],
   "source": [
    "val x = new WrapCounter(4)"
   ]
  },
  {
   "cell_type": "markdown",
   "metadata": {},
   "source": [
    "Now often in scala code one sees, instances being created without the keyword new, for example ```val y = WrapCounter(6)```\n",
    "This occurs often enough to merit special attention.  I it described below under [Companion Objects](#Companion-Objects)\n"
   ]
  },
  {
   "cell_type": "markdown",
   "metadata": {},
   "source": [
    "# Code Blocks\n",
    "Code blocks are delimited by braces.  A block can contain zero or more lines of scala code. The last line of scala code becomes the return value (which may be ignored) of the code block.  A code block with no lines would return and special null-like object called Unit. Code blocks are used throughout scala, they are the bodies of class definitions, they form function and method definitions, they are the clauses of if statements, they are the bodies of for and many other scala operators.\n",
    "\n",
    "### Parameterized Code Blocks\n",
    "Code blocks can take parameters.  In the case of class and method definitions these parameters look fairly like most conventional programming languages.  In the example below ```c``` and ```s``` are parameters of the code block.\n"
   ]
  },
  {
   "cell_type": "code",
   "execution_count": null,
   "metadata": {
    "collapsed": false
   },
   "outputs": [],
   "source": [
    "def add1(c: Int): Int = {\n",
    "  c + 1\n",
    "}\n",
    "class RepeatString(s: String) {\n",
    "  val repeatedString = s + s\n",
    "}"
   ]
  },
  {
   "cell_type": "markdown",
   "metadata": {},
   "source": [
    "**IMPORTANT**: There is another way in which code blocks may be parameterized, it is visible all over the place in a scala program and I found it to be one of the scala constructs that took me a while to get used to.  Here are some examples"
   ]
  },
  {
   "cell_type": "code",
   "execution_count": null,
   "metadata": {
    "collapsed": false
   },
   "outputs": [],
   "source": [
    "val intList = List(1, 2, 3)\n",
    "val stringList = intList.map { i =>\n",
    "  i.toString\n",
    "}"
   ]
  },
  {
   "cell_type": "markdown",
   "metadata": {},
   "source": [
    "The code block is begin passed to a method map of the class List.  The map method requires that it's code block have a single parameter.  The code block is called for each member of list, the code block returns that parameter converted to a String. Scala is almost excessively accepting of variations of this syntax.  You might see this written in many different ways. Assuming intList is defined as above, all the following will return a list of string versions of the original integer listµ"
   ]
  },
  {
   "cell_type": "code",
   "execution_count": null,
   "metadata": {
    "collapsed": false
   },
   "outputs": [],
   "source": [
    "intList map ( s => s.toString )\n",
    "intList.map( s => s.toString )\n",
    "intList.map { s: Int => s.toString }\n",
    "intList.map { (s: Int) => s.toString }\n",
    "\n",
    "// Even more exotically one can create a variable which points to a code block\n",
    "\n",
    "val intToString = { c: Int =>\n",
    "  c + 1\n",
    "}\n",
    "intList.map(intToString)\n",
    "\n",
    "// or even still more exotically periods and parens can be dropped entirely. \n",
    "intList map intToString"
   ]
  },
  {
   "cell_type": "markdown",
   "metadata": {},
   "source": [
    "The goal again here is simply to help you recognize the different notational types when you encounter them.  As you use Scala these will seem more comfortable and familiar.  Authors tend to gravitate to particular styles and there are also individual syntactical situations in which one notation will seem more natural. One liners tend to use the more concise forms, complex blocks usually have a more narrative appearance."
   ]
  },
  {
   "cell_type": "markdown",
   "metadata": {},
   "source": [
    "# Named parameters\n",
    "When a method is defined in scala, for example\n",
    "```scala\n",
    "def myMethod(count: Int, wrap: Boolean, wrapValue: Int = 24): Unit = { ... }\n",
    "```\n",
    "When calling the method, you will often see the parameter names along with the passed in values\n",
    "```scala\n",
    "myMethod(count = 10, wrap = false, wrapValue = 23)\n",
    "```\n",
    "For frequently called methods, the parameter ordering may be obvious but for less common methods and, in particular, boolean arguments, including the names with calls can make your code a lot more readable.  Using named parameters can allow you to re-arrange arguments, and in combination with parameters that have a default value, can make it so the caller only has to pass (by name) the specific arguments that do not use the default value.  Parameters to class definitions also used this named argument scheme (they are actually just the parameters to the constructor method for the class)."
   ]
  },
  {
   "cell_type": "markdown",
   "metadata": {},
   "source": [
    "# String interpolation\n",
    "There are lot of ways of building strings with dynamic content.  The simplest is simply to use the add operator."
   ]
  },
  {
   "cell_type": "code",
   "execution_count": null,
   "metadata": {
    "collapsed": false
   },
   "outputs": [],
   "source": [
    "val (dogsName, destination) = (\"Rufus\", \"Store\")\n",
    "println(\"my dog \" + dogsName + \" went to the \" + destination)"
   ]
  },
  {
   "cell_type": "markdown",
   "metadata": {},
   "source": [
    "But there are a lot of more alternative (possibly more elegant ways) to do the same thing.  The first is the **s** string interpolator.  When a string begins with **s\"** any occurrences of a dollar sign followed by a scala variable, or a dollar sign followed by a code block, will have that replaced by the string value of the variable or block.  For our previous example we could make this "
   ]
  },
  {
   "cell_type": "code",
   "execution_count": null,
   "metadata": {
    "collapsed": false
   },
   "outputs": [],
   "source": [
    "println(s\"my dog $dogsName went to the $destination\")\n"
   ]
  },
  {
   "cell_type": "markdown",
   "metadata": {},
   "source": [
    "As an example of using a code block, let's assume we have a list and we'd like to print this out with each animal capitalized. \n"
   ]
  },
  {
   "cell_type": "code",
   "execution_count": null,
   "metadata": {
    "collapsed": false
   },
   "outputs": [],
   "source": [
    "val aList = List(\"dog\", \"cat\", \"fox\")\n",
    "println(s\"Animal list ${aList.map(s => s.capitalize).mkString(\" -- \")}\")\n"
   ]
  },
  {
   "cell_type": "markdown",
   "metadata": {},
   "source": [
    "We used the ${...} to execute some scala code on that list.  map converts the list to a new list in which each word has been capitalized, then that new list is changed into a string by taking each element and joining it to the others with the string \" -- \" between each element.\n",
    "\n",
    "Another less commonly used interpolator is the **f** which allows printf style formatting specifiers to be included at each interpolation point."
   ]
  },
  {
   "cell_type": "code",
   "execution_count": null,
   "metadata": {
    "collapsed": false
   },
   "outputs": [],
   "source": [
    "case class Person(name: String, age: Int)\n",
    "\n",
    "val (lineNumber, person) = (22, Person(\"blink\", 77))\n",
    "println(f\"$lineNumber%6d ${person.name}%-40s ${person.age}%3d\")\n"
   ]
  },
  {
   "cell_type": "markdown",
   "metadata": {},
   "source": [
    "Can be used to make some columns that line up nicely.  Scala does have printf too if you really need it.  But be a little careful with that Chisel provides it's own version of printf specifically for debug printing inside an executing simulation.\n"
   ]
  },
  {
   "cell_type": "code",
   "execution_count": null,
   "metadata": {
    "collapsed": true
   },
   "outputs": [],
   "source": []
  }
 ],
 "metadata": {
  "kernelspec": {
   "display_name": "Scala",
   "language": "scala",
   "name": "scala"
  },
  "language_info": {
   "codemirror_mode": "text/x-scala",
   "file_extension": ".scala",
   "mimetype": "text/x-scala",
   "name": "scala211",
   "nbconvert_exporter": "script",
   "pygments_lexer": "scala",
   "version": "2.11.11"
  }
 },
 "nbformat": 4,
 "nbformat_minor": 1
}
