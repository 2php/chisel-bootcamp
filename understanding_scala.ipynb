{
 "cells": [
  {
   "cell_type": "markdown",
   "metadata": {},
   "source": [
    "# Scala Things You Should Know"
   ]
  },
  {
   "cell_type": "markdown",
   "metadata": {},
   "source": [
    "# Packages"
   ]
  },
  {
   "cell_type": "markdown",
   "metadata": {},
   "source": [
    "```scala\n",
    "package mytools\n",
    "class Tool1 { ... }\n",
    "```\n",
    "This name can be used when referencing code defined in this file.  \n",
    "```scala\n",
    "import mytools.Tool1\n",
    "```\n",
    ">Note: The package name  **should** match the directory hierarchy, this is not mandatory but failing to abide by this guideline can produce some unusual and difficult to diagnose problems. Package names by convention are lower case and do not contain separators like underscore.  This sometimes makes good descriptive names difficult.  One approach is too add a layer of hierachy ```package good.tools```.  Do your best.  Chisel itself plays some games with the package names that do not conform to these rules."
   ]
  },
  {
   "cell_type": "code",
   "execution_count": null,
   "metadata": {
    "collapsed": true
   },
   "outputs": [],
   "source": []
  },
  {
   "cell_type": "code",
   "execution_count": null,
   "metadata": {
    "collapsed": true
   },
   "outputs": [],
   "source": []
  },
  {
   "cell_type": "markdown",
   "metadata": {},
   "source": [
    "# A Simple Class Example\n",
    "An example of creating a Scala class might be"
   ]
  },
  {
   "cell_type": "code",
   "execution_count": null,
   "metadata": {
    "collapsed": false
   },
   "outputs": [],
   "source": [
    "class WrapCounter(counterBits: Int) {\n",
    "  val max: Long = (1 << counterBits) - 1\n",
    "  var counter = 0L\n",
    "  def inc(): Long = {\n",
    "    counter = counter + 1\n",
    "    if(counter > max) counter = 0\n",
    "    counter\n",
    "  }\n",
    "  println(s\"counter created with max value $max\")\n",
    "}"
   ]
  },
  {
   "cell_type": "markdown",
   "metadata": {},
   "source": [
    "What is here:\n",
    "* ```class WrapCounter```: This is the definition of **WrapCounter**\n",
    "* ```(counterBits: Int)```: Creating MyCounter requires an integer argument, nicely named to suggest it is the bit width of the counter\n",
    "* braces ({}) delimit a block of code. Most classes use a code block to define variables and constants and methods (functions)\n",
    "* ```val max: Long =``` the class contains a member variable **max**, declared as ```Long``` and initialized as the class is created\n",
    "* ```(1 << counterBits) - 1``` computes the maximum value that can be contained in **counterBits** bits.  Since **max** was created with _val_ it cannot be changed.\n",
    "* a variable **counter** is created and initialized to **0L**, the **L** says that 0 is a long value and from this **counter** is inferred to be Long.\n",
    "* **max** and **counter** are commonly called _member variables_ of the class\n",
    "* a class method **inc** is defined which takes no arguments and returns a **Long** value\n",
    "* the body of the method **inc** is a code block that:\n",
    "  * ```counter = counter + 1``` increments **counter**\n",
    "  * ```if(counter > max) counter = 0``` tests if it is greater than the **max** value and sets it back to zero if it is\n",
    "  * ```counter``` the last line of the code block is important\n",
    "    * any value expressed at the last line of a code block is considered to be the return value of that code block, that return value can be used or ignore by the programmer\n",
    "    * this applies quite generally, for example since an if statement or and if then else statement defines its true and false clauses with code blocks the if itself can return a value\n",
    "    * for example ```val result = if( 10 * 10 > 90) { \"greater\" } else { \"lesser\" }``` would created a variable with the value \"greater\"\n",
    "  * so in this case the function **inc** returns the value of **counter**\n",
    "* ```println(s\"counter created with max value $max\")``` this prints a string to the standard out.  Because the **println** is directly in the defining code block it is part of the classes initialization code and is run, i.e. prints out the string, every time an instance of this class is created.\n",
    "* The string printed in this case is an _interpolated_ string\n",
    "  * the leading **s** in front of the first double quote identifies this as an interpolated\n",
    "  * an interpolated string is processed at run time  \n",
    "  * the **$max** is replaced with the value of max\n",
    "  * if the **$** is followed by a code block arbitrary scala can be in that code block\n",
    "    * for example **${max + max}**\n",
    "    * the return value of this code block will be inserted  in place of ${...}\n",
    "    * if the return value is not a string it will be converted to one, virtually every class or type in scala has implicit conversion to a string)\n",
    "  * it should be noted that classes that print something every time an instance is created is darned annoying and should avoided\n"
   ]
  },
  {
   "cell_type": "markdown",
   "metadata": {},
   "source": [
    "# Creating an instance of a class\n",
    "Let's use our example above to create a class.  Scala instances are created via the built-in magic keyword **new**"
   ]
  },
  {
   "cell_type": "code",
   "execution_count": null,
   "metadata": {
    "collapsed": false
   },
   "outputs": [],
   "source": [
    "val x = new WrapCounter(4)"
   ]
  },
  {
   "cell_type": "markdown",
   "metadata": {},
   "source": [
    "Now often in scala code one sees, instances being created without the keyword new, for example ```val y = WrapCounter(6)```\n",
    "This occurs often enough to merit special attention.  I it described below under [Companion Objects](#Companion-Objects)\n"
   ]
  },
  {
   "cell_type": "markdown",
   "metadata": {},
   "source": [
    "# Companion Objects\n",
    "A companion object is similar to a class but can only occur once.  First let's assume we have the definition of some class X.  Along with the class we will define an **companion object** for X"
   ]
  },
  {
   "cell_type": "code",
   "execution_count": null,
   "metadata": {
    "collapsed": true
   },
   "outputs": [],
   "source": []
  },
  {
   "cell_type": "code",
   "execution_count": null,
   "metadata": {
    "collapsed": false
   },
   "outputs": [],
   "source": [
    "class X(x: Int, y: Int) { val z = x + y }\n",
    "\n",
    "object X {\n",
    "  val const = 77\n",
    "  def apply(i: Int): X = { new X(i, const)  }\n",
    "  def apply(i: Int, j: Int): X = { new X(i, j) }\n",
    "  def show(x: X): Unit = { println(s\"x contains value z = ${x.z}\") }\n",
    "}"
   ]
  },
  {
   "cell_type": "markdown",
   "metadata": {},
   "source": [
    "Our companion object X does 3 things\n",
    "1. It defines a constant, companion object are the canonical way to define constants related to a class\n",
    "  * ```val const = 77``` \n",
    "1. It defines two **apply** methods.  In this case the **apply** methods are known as factory methods in that they return instances of the **class X**\n",
    "  * ```def apply(i: Int): X = { new X(i, const)  }``` creates an instance of X using only one argument, it uses it's constant const to provide the other missing argument\n",
    "  * ```def apply(i: Int, j: Int): X = { new X(i, j) }``` defines a basic factory that requires the same arguments as the constructor for **class X**\n",
    "  * These factory methods can be called naively like this ```val x1 = X.apply(4)``` or ```val x2 = X.apply(33)``` which eliminates the need to use the new keyword\n",
    "  * But the real magic is that the compiler assumes the apply method any time it sees parentheses applied to an instance or object.  By way of example \n",
    "    *  ```val x1 = X(4)``` is equivalent to ```val x1 = X.apply(4)```\n",
    "    * ```val x2 = X(33)``` is equivalent to ```val x2 = X.apply(33)```\n",
    "  * Factory methods, usually provided via companion objects, allows alternative ways to express instance creations, they can provide additional tests for constructor parameters, conversions, and eliminate the need to use the keyword new\n",
    "\n",
    "> We will not here that there is another way of creating a default factory method for a class via the case modifier in class definition ```case class X(...) { ... }``` which implicitly creates a factory method that does not require new and does a number of useful functions.  There are restrictions on case classes, but they are a commonly used scala idiom.\n"
   ]
  },
  {
   "cell_type": "markdown",
   "metadata": {},
   "source": [
    "# Code Blocks\n",
    "Code blocks are delimited by braces.  A block can contain zero or more lines of scala code. The last line of scala code becomes the return value (which may be ignored) of the code block.  A code block with no lines would return and special null-like object called Unit. Code blocks are used throughout scala, they are the bodies of class definitions, they form function and method definitions, they are the clauses of if statements, they are the bodies of for and many other scala operators.\n",
    "\n",
    "### Parameterized Code Blocks\n",
    "Code blocks can take parameters.  In the case of class and method definitions these parameters look fairly like most conventional programming languages.  In the example below ```c``` and ```s``` are parameters of the code block.\n"
   ]
  },
  {
   "cell_type": "code",
   "execution_count": null,
   "metadata": {
    "collapsed": false
   },
   "outputs": [],
   "source": [
    "def add1(c: Int): Int = {\n",
    "  c + 1\n",
    "}\n",
    "class RepeatString(s: String) {\n",
    "  val repeatedString = s + s\n",
    "}"
   ]
  },
  {
   "cell_type": "markdown",
   "metadata": {},
   "source": [
    "**IMPORTANT**: There is another way in which code blocks may be parameterized, it is visible all over the place in a scala program and I found it to be one of the scala constructs that took me a while to get used to.  Here are some examples"
   ]
  },
  {
   "cell_type": "code",
   "execution_count": null,
   "metadata": {
    "collapsed": false
   },
   "outputs": [],
   "source": [
    "val intList = List(1, 2, 3)\n",
    "val stringList = intList.map { i =>\n",
    "  i.toString\n",
    "}"
   ]
  },
  {
   "cell_type": "markdown",
   "metadata": {},
   "source": [
    "The code block is begin passed to a method map of the class List.  The map method requires that it's code block have a single parameter.  The code block is called for each member of list, the code block returns that parameter converted to a String. Scala is almost excessively accepting of variations of this syntax.  You might see this written in many different ways. Assuming intList is defined as above, all the following will return a list of string versions of the original integer listµ"
   ]
  },
  {
   "cell_type": "code",
   "execution_count": null,
   "metadata": {
    "collapsed": false
   },
   "outputs": [],
   "source": [
    "intList map ( s => s.toString )\n",
    "intList.map( s => s.toString )\n",
    "intList.map { s: Int => s.toString }\n",
    "intList.map { (s: Int) => s.toString }\n",
    "\n",
    "// Even more exotically one can create a variable which points to a code block\n",
    "\n",
    "val intToString = { c: Int =>\n",
    "  c + 1\n",
    "}\n",
    "intList.map(intToString)\n",
    "\n",
    "// or even still more exotically periods and parens can be dropped entirely. \n",
    "intList map intToString"
   ]
  },
  {
   "cell_type": "markdown",
   "metadata": {},
   "source": [
    "The goal again here is simply to help you recognize the different notational types when you encounter them.  As you use Scala these will seem more comfortable and familiar.  Authors tend to gravitate to particular styles and there are also individual syntactical situations in which one notation will seem more natural. One liners tend to use the more concise forms, complex blocks usually have a more narrative appearance."
   ]
  },
  {
   "cell_type": "markdown",
   "metadata": {},
   "source": [
    "# Scala Match and Matching\n",
    "The scala *matching* concept is used throughout chisel and needs to be part of any chisel programmers basic understanding. Scala provides the match operator which supports:\n",
    "- Simple testing for alternatives, something like a *C* switch statement\n",
    "- More complex testing of ad-hoc combinations of values\n",
    "- Taking actions based on the type of a variable when it's type is unknown or underspecified, for example when\n",
    "  - variable is taken from a heterogeneous list ```val mixedList = List(1, \"string\", false)```\n",
    "  - or variable is known to be a member of a super-class but not which specific sub-class it is.\n",
    "- Extraction of sub strings of a string that are specified with a *regular expression*\n",
    "\n",
    "# Simple match statement\n"
   ]
  },
  {
   "cell_type": "code",
   "execution_count": null,
   "metadata": {
    "collapsed": false
   },
   "outputs": [],
   "source": [
    "// y is an integer variable defined somewhere else in the code\n",
    "val y = 7\n",
    "/// ...\n",
    "val x = y match {\n",
    "  case 0 => \"zero\"\n",
    "  case 1 => \"one\"\n",
    "  case 2 => \"two\"\n",
    "  case _ => \"many\"\n",
    "}\n",
    "println(\"y is \" + x)"
   ]
  },
  {
   "cell_type": "markdown",
   "metadata": {},
   "source": [
    "The match operator checks possible values and for each case returns a string.  A couple of things to note:\n",
    "- A match is searched in the order of the case statements, once a case statement has been matched, no other\n",
    "checks against other case statements are made.\n",
    "- The use of underscore as a wildcard, to handle any value not found. \n"
   ]
  },
  {
   "cell_type": "markdown",
   "metadata": {},
   "source": [
    "# Testing adhoc combinations with match\n",
    "Here's a simple example of a truth table implemented with a match statement and tuple of values\n"
   ]
  },
  {
   "cell_type": "code",
   "execution_count": null,
   "metadata": {
    "collapsed": false
   },
   "outputs": [],
   "source": [
    "def animalType(biggerThanBreadBox: Boolean, meanAsCanBe: Boolean): String = {\n",
    "  (biggerThanBreadBox, meanAsCanBe) match {\n",
    "    case (true, true) => \"wolverine\"\n",
    "    case (true, false) => \"elephant\"\n",
    "    case (false, true) => \"shrew\"\n",
    "    case (false, false) => \"puppy\"\n",
    "  }\n",
    "}"
   ]
  },
  {
   "cell_type": "markdown",
   "metadata": {},
   "source": [
    "In this example a tuple is created from the method parameters ```(biggerThanBreadBox, meanAsCanBe)``` is created and tested with the match statement.  A case is listed for all the possible combinations. \n",
    "The call ```animalType(true, false)``` would return the string \"elephant\""
   ]
  },
  {
   "cell_type": "markdown",
   "metadata": {},
   "source": [
    "# Processing a heterogenous list with match"
   ]
  },
  {
   "cell_type": "code",
   "execution_count": null,
   "metadata": {
    "collapsed": false
   },
   "outputs": [],
   "source": [
    "val mixedList = List(1, \"string\", false, 1.57)\n",
    "val stringList = mixedList.map { \n",
    "  case i: Int => i.toString\n",
    "  case s: String => s\n",
    "  case b: Boolean => \n",
    "    if(b) {\n",
    "      \"T\"\n",
    "    } else {\n",
    "      \"F\"\n",
    "    }\n",
    "  case _ =>\n",
    "    \"unsupported type\"\n",
    "}"
   ]
  },
  {
   "cell_type": "markdown",
   "metadata": {},
   "source": [
    "```stringList``` will be a list of strings ```List(\"1\", \"string\", \"F\", \"unsupported type\")```\n",
    "What's going on?  We have created a list that contains three different types of elements.  We are going to map this string into another string.  The ```map``` method on string implicitly *match*es each element against the cases.  Other things to note:\n",
    "- Each code block that follows a the ```=>``` operator continues until it reaches either the ending brace of the match or the next case statement.\n",
    "- The map statement is sometimes written out more explicitly as follows, See: [Parameterized Code Blocks](Scala-Things-You-Should-Know#Parameterized-Code-Blocks)\n"
   ]
  },
  {
   "cell_type": "code",
   "execution_count": null,
   "metadata": {
    "collapsed": false
   },
   "outputs": [],
   "source": [
    "val stringList2 = mixedList.map {  element =>\n",
    "  element match {                                 \n",
    "      case i: Int => i.toString\n",
    "      case s: String => s\n",
    "      case b: Boolean => \n",
    "        if(b) {\n",
    "          \"T\"\n",
    "        } else {\n",
    "          \"F\"\n",
    "        }\n",
    "      case _ =>\n",
    "        \"unsupported type\"\n",
    "  }\n",
    "}"
   ]
  },
  {
   "cell_type": "markdown",
   "metadata": {},
   "source": [
    "This works as it did before, but uses the parameterized code block convention to pass each member of list to the ```map``` code block as the variable ```element```.  In this code block each element is processed by the ```match``` statement.\n"
   ]
  },
  {
   "cell_type": "markdown",
   "metadata": {},
   "source": [
    "# Unapply methods and scala match\n",
    "Scala unapply methods are another form of syntactic sugar giving match statements the ability to both match on types and extract values from those types during the matching.  Scala unapply methods can be coded explicitly by developers or, more commonly, can be generated by the use of case classes.  See [Case Classes Section](Scala-Things-You-Should-Know#Case-Classes).  There are reams of web resources on this but we'll try to capture a number of important features in hopefully not too confusing example.\n",
    "First let's define a number of classes"
   ]
  },
  {
   "cell_type": "code",
   "execution_count": null,
   "metadata": {
    "collapsed": false
   },
   "outputs": [],
   "source": [
    "trait Component { def name: String }\n",
    "case class Monitor(name: String, diagonal: Double, scanRate: Int) extends Component\n",
    "case class Keyboard(name: String, numberOfKeys: Int) extends Component\n",
    "case class Mouse(name: String) extends Component"
   ]
  },
  {
   "cell_type": "markdown",
   "metadata": {},
   "source": [
    "We have defined a trait, a lightweight super-class, and we have created a number of case classes that extend Component.  In each case they provide a name, required when extending the trait and other parameters based on their type.  We will now create a collection of components called System which will provide a displayComponents method that uses match to identify them."
   ]
  },
  {
   "cell_type": "code",
   "execution_count": null,
   "metadata": {
    "collapsed": false
   },
   "outputs": [],
   "source": [
    "class System(val components: List[Component]) {\n",
    "  def displayComponents(): Unit = {\n",
    "    components.foreach {\n",
    "      case Monitor(\"BrandX\", size, _) =>\n",
    "        // brandx is square, lists horizontal size, all are 60Hz\n",
    "        val diag = size * 1.414\n",
    "        println(s\"monitor BrandX of diagonal size $diag scan rate is 60\")\n",
    "      case Monitor(name, size, scan) =>\n",
    "        println(s\"monitor $name of diagonal size $size scan rate $scan\")\n",
    "      case Keyboard(name, keys) =>\n",
    "        println(s\"keyboard $name with $keys keys\")\n",
    "      case _: Mouse =>\n",
    "        println(\"There is a mouse\")\n",
    "      case x: Component =>\n",
    "        println(s\"unknown component ${x.name}\")\n",
    "    }\n",
    "  }\n",
    "}"
   ]
  },
  {
   "cell_type": "markdown",
   "metadata": {},
   "source": [
    "The next case statement ```case Monitor(name, size, scan) =>``` will *match* any Monitor instance (except for any with BrandX because the prior case statement caught all those).  In this case when the component is a Monitor we grab the the parameters of the Monitor class as name, size and scan, and we use those directly to print out this type of monitor.\n",
    "\n",
    "\n",
    "We can begin to see the power of the match capability.  ```def displayComponents(): Unit = {``` declares the displayComponents method that returns nothing.  ```components.foreach {``` uses the foreach method to iterate over each element in the list of components. The code block of the foreach matches on a number of possibilities.\n",
    "\n",
    "```case Monitor(\"BrandX\", size, _) =>``` This matches a component whose type is Monitor and whose first parameter has the value. Now here is the cool part, the size symbol takes *diagonal* (the second parameter of the Monitor class) to a local variable size.  The size variable is only defined until the next case statement or to the end of the block.  Note also the use of underscore, the Monitor class has third parameter which must be dealt with, so we use the underscore to stand in for the third parameter but to indicate we do not need to use it's value.  This case statement then has a small code block\n",
    "```\n",
    "        // brandx is square, lists horizontal size, all are 60Hz\n",
    "        val diag = size * 1.414\n",
    "        println(s\"monitor BrandX of diagonal size $diag scan rate is 60\")\n",
    "```\n"
   ]
  },
  {
   "cell_type": "markdown",
   "metadata": {},
   "source": [
    "that does a little math on the size variable and prints out information on the monitor.\n",
    "\n",
    "Next we match on Keyboard class instances using ```case Keyboard(name, keys) =>``` as before using match's ability to instantiate local variables with values from the class constructor parameters.  \n",
    "\n",
    "The next case statement ```case _: Mouse =>``` uses a different match idiom.  The underscore says we have match here but we don't need to reference what was matched, but we do insist that the match be on a instance of class Mouse. See [Underscore the Scala Wildcard](Scala-Things-You-Should-Know#Underscore-the-Scala-Wildcard)\n",
    "\n",
    "The final case statement ```case x: Component =>``` illustrates matching an instance of Component and assigning that instance to a local variable x.  Since x is a Component the only thing know about it, is that it will have a method name. So we use that method, wrapped in braces because it contains more complex scala code, to print this.\n",
    "\n",
    "Because we declared components to be a ```List[Component]``` the compiler guarantees we don't have any other classes instances in there.  Otherwise a thorough developer should add an additional match to avoid errors.  That code would look like\n",
    "```scala\n",
    "    case _ =>\n",
    "      // do some error handling here\n",
    "```"
   ]
  },
  {
   "cell_type": "markdown",
   "metadata": {},
   "source": [
    "# Case Classes\n",
    "Chisel often uses case classes, a declaration looks something like \n"
   ]
  },
  {
   "cell_type": "code",
   "execution_count": null,
   "metadata": {
    "collapsed": false
   },
   "outputs": [],
   "source": [
    "case class Drill(variableSpeed: Boolean, amps: Int, rpm: Int)\n"
   ]
  },
  {
   "cell_type": "markdown",
   "metadata": {},
   "source": [
    "\n",
    "The case class provides a bunch of useful features, the ones most commonly taken advantage of are:\n",
    "- Allows external access to the class parameters.  These are not accessible by default a class declared with ```class X(y: Int)``` would not allow the programmer to reference ```x.y``` when x is an instance of X created via ```val x = new X(88)```\n",
    "- Eliminates the need to use new when instantiating the class, i.e. one can write ```val d = Drill(true, 10, 3000)```\n",
    "- Automatically creates an unapply method that supplies access to all of the class Parameters.  This allows a programmer to us match on the class as we discussed in [Scala Match and Matching](Scala-Things-You-Should-Know#scala-match-and-matching). So assuming a match is being done on an instance of Drill, once can write."
   ]
  },
  {
   "cell_type": "markdown",
   "metadata": {},
   "source": [
    "# Named parameters\n",
    "When a method is defined in scala, for example\n",
    "```scala\n",
    "def myMethod(count: Int, wrap: Boolean, wrapValue: Int = 24): Unit = { ... }\n",
    "```\n",
    "When calling the method, you will often see the parameter names along with the passed in values\n",
    "```scala\n",
    "myMethod(count = 10, wrap = false, wrapValue = 23)\n",
    "```\n",
    "For frequently called methods, the parameter ordering may be obvious but for less common methods and, in particular, boolean arguments, including the names with calls can make your code a lot more readable.  Using named parameters can allow you to re-arrange arguments, and in combination with parameters that have a default value, can make it so the caller only has to pass (by name) the specific arguments that do not use the default value.  Parameters to class definitions also used this named argument scheme (they are actually just the parameters to the constructor method for the class)."
   ]
  },
  {
   "cell_type": "markdown",
   "metadata": {},
   "source": [
    "# String interpolation\n",
    "There are lot of ways of building strings with dynamic content.  The simplest is simply to use the add operator."
   ]
  },
  {
   "cell_type": "code",
   "execution_count": null,
   "metadata": {
    "collapsed": false
   },
   "outputs": [],
   "source": [
    "val (dogsName, destination) = (\"Rufus\", \"Store\")\n",
    "println(\"my dog \" + dogsName + \" went to the \" + destination)"
   ]
  },
  {
   "cell_type": "markdown",
   "metadata": {},
   "source": [
    "But there are a lot of more alternative (possibly more elegant ways) to do the same thing.  The first is the **s** string interpolator.  When a string begins with **s\"** any occurrences of a dollar sign followed by a scala variable, or a dollar sign followed by a code block, will have that replaced by the string value of the variable or block.  For our previous example we could make this "
   ]
  },
  {
   "cell_type": "code",
   "execution_count": null,
   "metadata": {
    "collapsed": false
   },
   "outputs": [],
   "source": [
    "println(s\"my dog $dogsName went to the $destination\")\n"
   ]
  },
  {
   "cell_type": "markdown",
   "metadata": {},
   "source": [
    "As an example of using a code block, let's assume we have a list and we'd like to print this out with each animal capitalized. \n"
   ]
  },
  {
   "cell_type": "code",
   "execution_count": null,
   "metadata": {
    "collapsed": false
   },
   "outputs": [],
   "source": [
    "val aList = List(\"dog\", \"cat\", \"fox\")\n",
    "println(s\"Animal list ${aList.map(s => s.capitalize).mkString(\" -- \")}\")\n"
   ]
  },
  {
   "cell_type": "markdown",
   "metadata": {},
   "source": [
    "We used the ${...} to execute some scala code on that list.  map converts the list to a new list in which each word has been capitalized, then that new list is changed into a string by taking each element and joining it to the others with the string \" -- \" between each element.\n",
    "\n",
    "Another less commonly used interpolator is the **f** which allows printf style formatting specifiers to be included at each interpolation point."
   ]
  },
  {
   "cell_type": "code",
   "execution_count": null,
   "metadata": {
    "collapsed": false
   },
   "outputs": [],
   "source": [
    "case class Person(name: String, age: Int)\n",
    "\n",
    "val (lineNumber, person) = (22, Person(\"blink\", 77))\n",
    "println(f\"$lineNumber%6d ${person.name}%-40s ${person.age}%3d\")\n"
   ]
  },
  {
   "cell_type": "markdown",
   "metadata": {},
   "source": [
    "Can be used to make some columns that line up nicely.  Scala does have printf too if you really need it.  But be a little careful with that Chisel provides it's own version of printf specifically for debug printing inside an executing simulation.\n"
   ]
  },
  {
   "cell_type": "code",
   "execution_count": null,
   "metadata": {
    "collapsed": true
   },
   "outputs": [],
   "source": []
  }
 ],
 "metadata": {
  "kernelspec": {
   "display_name": "Scala",
   "language": "scala",
   "name": "scala"
  },
  "language_info": {
   "codemirror_mode": "text/x-scala",
   "file_extension": ".scala",
   "mimetype": "text/x-scala",
   "name": "scala211",
   "nbconvert_exporter": "script",
   "pygments_lexer": "scala",
   "version": "2.11.11"
  }
 },
 "nbformat": 4,
 "nbformat_minor": 0
}
