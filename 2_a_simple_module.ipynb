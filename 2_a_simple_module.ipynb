{
 "cells": [
  {
   "cell_type": "markdown",
   "metadata": {},
   "source": [
    "![Chisel](https://chisel.eecs.berkeley.edu/assets/img/chisel_64.png)"
   ]
  },
  {
   "cell_type": "markdown",
   "metadata": {
    "collapsed": true
   },
   "source": [
    "# Module 2: Basic Chisel"
   ]
  },
  {
   "cell_type": "markdown",
   "metadata": {},
   "source": [
    "#### Written by Stevo Bailey, Edward Wang, and Richard Lin\n",
    "[stevo@berkeley.edu](mailto:stevo@berkeley.edu), [edwardw@berkeley.edu](mailto:edwardw@berkeley.edu), [richard.lin@berkeley.edu](mailto:edwardw@berkeley.edu)"
   ]
  },
  {
   "cell_type": "markdown",
   "metadata": {},
   "source": [
    "## Introduction"
   ]
  },
  {
   "cell_type": "markdown",
   "metadata": {},
   "source": [
    "## Table of Contents\n",
    "\n",
    "**[Hello World: A Simple Example](#hello)**\n",
    "1. [A Simple Module](#module1)\n",
    "1. [A Simple Tester](#tester)\n",
    "1. [Understanding Chisel vs Scala](#chiselvscala1)\n",
    "1. [A Quick Debugging Primer](#debug1)\n",
    "\n",
    "**[Basic Chisel](#chisel)**\n",
    "1. [Combinational Logic](#comb)\n",
    "1. [Sequential Logic](#seq)\n",
    "1. [Conditional Logic and Wires](#cond)\n",
    "1. [Modules](#module2)\n",
    "1. [Now You Try: The Full LFSR](#lfsr)\n",
    "1. [A Few More Constructs](#more)\n",
    "1. [Chisel vs Scala Revisited](#chiselvscala2)\n",
    "1. [Chisel Motivation as Verilog++](#motive)\n",
    "1. [Debugging Tips](#debug2)"
   ]
  },
  {
   "cell_type": "markdown",
   "metadata": {},
   "source": [
    "## Setup"
   ]
  },
  {
   "cell_type": "markdown",
   "metadata": {},
   "source": [
    "Download and import Chisel by running this cell:"
   ]
  },
  {
   "cell_type": "code",
   "execution_count": null,
   "metadata": {},
   "outputs": [],
   "source": [
    "import $ivy.`edu.berkeley.cs::chisel3:3.0-SNAPSHOT_2017-07-19`\n",
    "import $ivy.`edu.berkeley.cs::chisel-iotesters:1.1-SNAPSHOT_2017-07-19`\n",
    "import $ivy.`edu.berkeley.cs::firrtl:1.0-SNAPSHOT_2017-07-19`\n",
    "import chisel3._\n",
    "import chisel3.util._\n",
    "import chisel3.iotesters.{ChiselFlatSpec, Driver, PeekPokeTester}\n",
    "\n",
    "// A wrapper function that provides a easy way to get the generated Verilog code for a Chisel module.\n",
    "// Don't worry about the implementation of this.\n",
    "def getVerilog[T <: Module](gen: => T): String = {\n",
    "  chisel3.Driver.execute(Array[String](), {() => gen}) match {\n",
    "    case ChiselExecutionSuccess(_, _, Some(firrtl.FirrtlExecutionSuccess(_, verilog))) => verilog\n",
    "  }\n",
    "}"
   ]
  },
  {
   "cell_type": "markdown",
   "metadata": {},
   "source": [
    "# Hello, World: A Simple Example<a name=\"hello\"></a>\n",
    "This section will present the simple hardware module, a simple test, and how to run it. It will contain many things that you will not understand, and that is ok. We want you to take away the broad strokes, so you can continually return to this complete working example to reinforce what you've learned.\n",
    "\n",
    "## A Simple Module<a name=\"module1\"></a>\n",
    "\n",
    "Like Verilog, we can declare module definitions in Chisel. The following example is a Chisel `Module`, `Simple` that has one input, `in`, and one output, `out`, and inside it combinationally connects `in` and `out`, so `in` drives `out`."
   ]
  },
  {
   "cell_type": "code",
   "execution_count": null,
   "metadata": {
    "collapsed": true
   },
   "outputs": [],
   "source": [
    "// Chisel Code: Declare a new module definition\n",
    "class Simple extends Module {\n",
    "  val io = IO(new Bundle {\n",
    "    val in = Input(UInt(4.W))\n",
    "    val out = Output(UInt(4.W))\n",
    "  })\n",
    "  io.out := io.in\n",
    "}"
   ]
  },
  {
   "cell_type": "markdown",
   "metadata": {},
   "source": [
    "There's a lot here! The following explains how to think of each line in terms of the hardware we are describing.\n",
    "\n",
    "```scala\n",
    "class Simple extends Module {\n",
    "```\n",
    "We declare a new module called Simple.\n",
    "\n",
    "```scala \n",
    "val io = IO(...)\n",
    "```\n",
    "We declare all our input and output ports into a special io variable.\n",
    "\n",
    "```scala\n",
    "new Bundle {\n",
    "    val in = Input(...)\n",
    "    val out = Output(...)\n",
    "}\n",
    "```\n",
    "We declare a new hardware struct type that contains some named and directioned signals `in` and `out`.\n",
    "\n",
    "```scala\n",
    "UInt(4.W)\n",
    "```\n",
    "We declare a signal's hardware type. In this case, it is an unsigned integer of width 4.\n",
    "\n",
    "```scala\n",
    "io.out := io.in\n",
    "```\n",
    "We connect our input port to our output port, such that `io.in` *drives* `io.out`. Note that the `:=` operator is a ***Chisel*** operator that indicates the right-hand signal drives the left-hand signal. It is a directioned operator.\n",
    "\n",
    "What is neat about HCL's is we can use the underlying programming language as a scripting language. For example, after declaring our Chisel module, we then use Scala to call the Chisel compiler to translate Chisel `Simple` into Verilog `Simple`. This process is called ***elaboration***."
   ]
  },
  {
   "cell_type": "code",
   "execution_count": null,
   "metadata": {},
   "outputs": [],
   "source": [
    "// Scala Code: Elaborate our Chisel design by translating it to Verilog\n",
    "// Don't worry about understanding this code; it is very complicated Scala\n",
    "println(getVerilog(new Simple))"
   ]
  },
  {
   "cell_type": "markdown",
   "metadata": {},
   "source": [
    "Note that the Name of our module is `cmd<#>WrapperHelperSimple`, which is an artifact of running this tutorial in Jupyter. In your normal code, it should have the name Simple. This is an important lesson though - although Chisel does its best to preserve the names of your modules and other hardware components, sometimes it fails to do so.\n",
    "\n",
    "If we apply what we learned about Scala to this example, we can see that a Chisel module is implemented as a Scala class. Just like any other Scala class, we could make a Chisel module take some construction parameters. In this case, we make a new class `SimpleGenerator` which will accept an integer `width` that dictates the widths of its input and output ports:"
   ]
  },
  {
   "cell_type": "code",
   "execution_count": null,
   "metadata": {
    "collapsed": true
   },
   "outputs": [],
   "source": [
    "// Chisel Code, but pass in a parameter to set widths of ports\n",
    "class SimpleGenerator(width: Int) extends Module { \n",
    "  val io = IO(new Bundle {\n",
    "    val in = Input(UInt(width.W))\n",
    "    val out = Output(UInt(width.W))\n",
    "  })\n",
    "  io.out := io.in\n",
    "}\n",
    "\n",
    "// Let's now generate different Simple modules with different widths\n",
    "println(getVerilog(new SimpleGenerator(10)))\n",
    "println(getVerilog(new SimpleGenerator(20)))"
   ]
  },
  {
   "cell_type": "markdown",
   "metadata": {},
   "source": [
    "Let's dig into how this works. Because Chisel Modules are normal Scala classes, we can use the power of Scala's class constructors to parameterize the elboration of our design.\n",
    "\n",
    "You may notice that this parameterization is enabled by *Scala*, not *Chisel*; Chisel has no extra API's for parameterization, but a design can simply leverage Scala features to parameterize their designs.\n",
    "\n",
    "Because `SimpleGenerator` no longer describes a single Module, but instead describes a family of modules parameterized by `width`, we refer to `Simple` as a ***generator***."
   ]
  },
  {
   "cell_type": "markdown",
   "metadata": {},
   "source": [
    "## A Simple Tester <a name=\"tester\"></a>\n",
    "\n",
    "No hardware module or generator should be complete without a tester. The following example is a Chisel test harness that passes values to an instance of `Simple`'s input port `in`, and checks that the same value is seen on the output port `out`.\n",
    "\n",
    "There is a ***LOT*** of crazy Scala going on here, so no need to understand anything except the `poke` and `peek` commands. You can think of the rest of the code as simply boilerplate to write these simple tests."
   ]
  },
  {
   "cell_type": "code",
   "execution_count": null,
   "metadata": {
    "collapsed": true
   },
   "outputs": [],
   "source": [
    "// Scala Code: Calling Driver to instantiate Simple of width 10, SimpleTester, and execute the test\n",
    "// Don't worry about understanding this code, it is very complicated Scala.\n",
    "// Think of it more as boilerplate to run a Chisel tester\n",
    "val testResult = Driver(() => new Simple()) {\n",
    "  c => new PeekPokeTester(c) {\n",
    "    poke(c.io.in, 0)     // Set our input to value 0\n",
    "    expect(c.io.out, 0)  // Assert that the output correctly has 0\n",
    "    poke(c.io.in, 1)     // Set our input to value 1\n",
    "    expect(c.io.out, 1)  // Assert that the output correctly has 1\n",
    "    poke(c.io.in, 2)     // Set our input to value 2\n",
    "    expect(c.io.out, 2)  // Assert that the output correctly has 2\n",
    "  }\n",
    "}\n",
    "assert(testResult)   // Scala Code: if testResult == false, will throw an error\n",
    "println(\"SUCCESS!!\") // Scala Code: if we get here, our tests passed!"
   ]
  },
  {
   "cell_type": "markdown",
   "metadata": {},
   "source": [
    "What's going on? The test accepts a `Simple` module that it can assign values to its inputs, and check its outputs. To set an input, we call `poke`. To check an output, we call `expect`.\n",
    "\n",
    "If all `expect` statements are true, then our boilerplate code will return true (see `testResult`)."
   ]
  },
  {
   "cell_type": "markdown",
   "metadata": {},
   "source": [
    "<span style=\"color:blue\">**Exercise:**</span> Write and execute two tests, one that tests SimpleGenerator for a width of 10, and a second that tests SimpleGenerator for a width of 20."
   ]
  },
  {
   "cell_type": "code",
   "execution_count": null,
   "metadata": {
    "collapsed": true
   },
   "outputs": [],
   "source": [
    "val test10result = ???\n",
    "\n",
    "val test20result = ???\n",
    "\n",
    "assert((test10result == true) && (test20result == true))\n",
    "println(\"SUCCESS!!\") // Scala Code: if we get here, our tests passed!"
   ]
  },
  {
   "cell_type": "markdown",
   "metadata": {},
   "source": [
    "### Looking at generated Verilog/FIRRTL\n",
    "\n",
    "If you are having trouble understanding the generated hardware and are comfortable with reading structural Verilog and/or FIRRTL (Chisel's IR which is comparable to a synthesis-only subset of Verilog), then you can try looking at the generated Verilog to see the result of executing the Chisel.\n",
    "\n",
    "Here is an example below:"
   ]
  },
  {
   "cell_type": "code",
   "execution_count": null,
   "metadata": {},
   "outputs": [],
   "source": [
    "// A sample counter module for demonstration purposes.\n",
    "class MyCounter extends Module {\n",
    "  val io = IO(new Bundle {\n",
    "        val in = Input(UInt(10.W))\n",
    "    val out = Output(UInt(2.W))\n",
    "  })\n",
    "  val myReg = RegInit(UInt(2.W), 1.U)\n",
    "  myReg := myReg + 1.U\n",
    "  io.out := myReg\n",
    "\n",
    "  // printing results\n",
    "  printf(\"out=%d\\n\", io.out)\n",
    "  // The \"p\" below is a Scala string interpolator.\n",
    "  // Chisel provides this interpolator for your convenience in printing out signals for debugging.\n",
    "  printf(p\"${io}\\n\")\n",
    "}"
   ]
  },
  {
   "cell_type": "markdown",
   "metadata": {},
   "source": [
    "We can view the resulting generated Verilog as shown below."
   ]
  },
  {
   "cell_type": "code",
   "execution_count": null,
   "metadata": {},
   "outputs": [],
   "source": [
    "// Viewing the Verilog for debugging\n",
    "println(getVerilog(new MyCounter))"
   ]
  },
  {
   "cell_type": "markdown",
   "metadata": {},
   "source": [
    "FIRRTL is the immediate representation (IR) of Chisel, which represents the circuit graph before it is emitted to Verilog. If you are already familiar with what FIRRTL is, then you can use it as a debugging technique as follows:\n",
    "\n",
    "Don't worry if you don't understand this - it is not required to use Chisel."
   ]
  },
  {
   "cell_type": "code",
   "execution_count": null,
   "metadata": {},
   "outputs": [],
   "source": [
    "// Viewing the firrtl for debugging\n",
    "println(chisel3.Driver.emit(() => new MyCounter))"
   ]
  }
 ],
 "metadata": {
  "kernelspec": {
   "display_name": "Scala",
   "language": "scala",
   "name": "scala"
  },
  "language_info": {
   "codemirror_mode": "text/x-scala",
   "file_extension": ".scala",
   "mimetype": "text/x-scala",
   "name": "scala211",
   "nbconvert_exporter": "script",
   "pygments_lexer": "scala",
   "version": "2.11.11"
  }
 },
 "nbformat": 4,
 "nbformat_minor": 2
}
