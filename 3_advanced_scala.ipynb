{
 "cells": [
  {
   "cell_type": "markdown",
   "metadata": {},
   "source": [
    "# Module 3: Advanced Scala\n",
    "#### Written by Adam Izraelevitz (adamiz@berkeley.edu)\n",
    "\n",
    "### Prerequesites\n",
    "**Module 1: Basic Scala**"
   ]
  },
  {
   "cell_type": "markdown",
   "metadata": {},
   "source": [
    "## Table of Contents\n",
    "In this tutorial, you will learn some advanced features of Scala which enable you to write more powerful and expressive Chisel generators. We will focus on the following Scala features:\n",
    "\n",
    "**[Functional Programming](#funcprog)**\n",
    "1. [Immutable vs. Mutable Data Structures](#data)  \n",
    "2. [A Simple Example](#example)  \n",
    "2. [Map](#map)  \n",
    "2. [Anonymous Functions](#anonfunc)  \n",
    "2. [Filter](#filter)  \n",
    "2. [Reduce](#reduce)  \n",
    "2. [FoldLeft](#foldleft)\n",
    "\n",
    "**[Objects and Classes](#objclass)**\n",
    "2. [Companion Objects](#compobj)  \n",
    "2. [Case Classes](#caseclass)\n",
    "\n",
    "**[Type System](#types)**\n",
    "2. [Static Types](#static)  \n",
    "2. [Common Idioms](#idiom)\n",
    "2. [Generic Types](#generic)\n",
    "\n",
    "**[Match/Case Statements](#match)**\n",
    "\n",
    "**[Implicits](#implicits)**\n",
    "\n"
   ]
  },
  {
   "cell_type": "markdown",
   "metadata": {},
   "source": [
    "# Functional Programming<a name=\"funcprog\"></a>\n",
    "\n",
    "Functional programming enables progammers to operate on immutable datastructures in a concise and powerful way. Before we delve into this style of programming, we need to understand the difference between immutability and mutability.\n",
    "\n",
    "## Immutable vs Mutable Datastructures<a name=\"data\"></a>\n",
    "\n",
    "A datastructure is immutable if, after it is created, it cannot be changed. Conversely, mutable datastructures can be changed after creation.\n",
    "\n",
    "Like array's in C or ArrayBuffer's in Java, Scala has a corresponding mutable List-like datastructure, `ArrayBuffer[String]`. We can use various update and appending operations to change its contents."
   ]
  },
  {
   "cell_type": "code",
   "execution_count": null,
   "metadata": {},
   "outputs": [],
   "source": [
    "import scala.collection.mutable //Import mutable collections library\n",
    "val arraybuf = mutable.ArrayBuffer[String](\"a\", \"b\", \"c\")\n",
    "println(arraybuf)\n",
    "// Because ArrayBuffer is mutable, you can update or append values to arraybuf\n",
    "arraybuf(0) = \"A\"\n",
    "println(arraybuf)\n",
    "arraybuf += \"d\"\n",
    "println(arraybuf)"
   ]
  },
  {
   "cell_type": "markdown",
   "metadata": {},
   "source": [
    "Alternatively, we can use an immutable datastructure, `List[String]`. We cannot use update or appending operations, but instead must create new immutable datastructures containing our changes:"
   ]
  },
  {
   "cell_type": "code",
   "execution_count": null,
   "metadata": {},
   "outputs": [],
   "source": [
    "// Because List is immutable, l will always have the 3 elements \"a\", \"b\", and \"c\"\n",
    "val list = List(\"a\", \"b\", \"c\")\n",
    "println(list)\n",
    "// We cannot append a new value or update a value\n",
    "// list(0) = \"A\" <- Illegal\n",
    "// list += \"d\" <- Illegal\n",
    "\n",
    "// Instead, we must create a new List with our appended or updated value\n",
    "val lAppended = list ++ List(\"d\") // ++ returns a new immutable List with both input lists appended\n",
    "println(lAppended)\n",
    "val lUpdated = List(\"A\") ++ list.tail // tail returns a new List without the first element\n",
    "println(lUpdated)"
   ]
  },
  {
   "cell_type": "markdown",
   "metadata": {},
   "source": [
    "Immutable datastructures have the benefits of eliminating side-effects, making your code's behavior more reliable and predictable.Scala style promotes using immutable datastructures whenever possible; the only exceptions are when a mutable datastructure enables more performant or significantly cleaner code.\n",
    "\n",
    "## A Simple Example<a name=\"example\"></a>\n",
    "\n",
    "Generally, we use functional programming to cleanly and concisely create new immutable datastructures from other immutable datastructures.\n",
    "\n",
    "Suppose we are given a sequence of strings, and want to return a new sequence with each string \"doubled\":\n",
    "```scala\n",
    "val sequence = List(\"a\", \"b\", \"c\")\n",
    "println(sequence.mkString(\" \")) //\"a b c\"\n",
    "...\n",
    "val newSequence = ...\n",
    "...\n",
    "println(newSequence.mkString(\" \")) //\"aa bb cc\"\n",
    "```\n",
    "\n",
    "Using a for-loop and a mutable list, we can mimic how one could do this in C or Java:"
   ]
  },
  {
   "cell_type": "code",
   "execution_count": null,
   "metadata": {},
   "outputs": [],
   "source": [
    "val sequence = List(\"a\", \"b\", \"c\")\n",
    "println(sequence.mkString(\" \"))\n",
    "\n",
    "val doubleABuf = mutable.ArrayBuffer[String]()\n",
    "for(letter <- sequence) {\n",
    "    doubleABuf += letter + letter\n",
    "}\n",
    "println(doubleABuf.mkString(\" \"))"
   ]
  },
  {
   "cell_type": "markdown",
   "metadata": {},
   "source": [
    "However, using functional programming, we can do the same but much more concisely:"
   ]
  },
  {
   "cell_type": "code",
   "execution_count": null,
   "metadata": {},
   "outputs": [],
   "source": [
    "println(sequence.mkString(\" \"))\n",
    "\n",
    "val doubleSeq = sequence.map(s => s + s)\n",
    "println(doubleSeq.mkString(\" \"))"
   ]
  },
  {
   "cell_type": "markdown",
   "metadata": {},
   "source": [
    "What's going on here?? Let's break it down.\n",
    "\n",
    "## Map<a name=\"map\"></a>\n",
    "First, let's rewrite the same example to be more less syntactically concise, but more readable to those unfamiliar with functional programming."
   ]
  },
  {
   "cell_type": "code",
   "execution_count": null,
   "metadata": {},
   "outputs": [],
   "source": [
    "println(sequence.mkString(\" \"))\n",
    "\n",
    "def double(s: String): String = s + s\n",
    "val doubleSeq = sequence.map(double)\n",
    "println(doubleSeq.mkString(\" \"))"
   ]
  },
  {
   "cell_type": "markdown",
   "metadata": {},
   "source": [
    "As you can see, the function `double` takes a `String` and returns a new \"doubled\" `String`. We then pass this function, as an argument, to another function called `map`. When called, map returns a new `List` containing the results of applying `double` to every element in `sequence`.\n",
    "\n",
    "Let's try a different function, `triple`, which appends three copies of a string together:"
   ]
  },
  {
   "cell_type": "code",
   "execution_count": null,
   "metadata": {},
   "outputs": [],
   "source": [
    "println(sequence.mkString(\" \"))\n",
    "\n",
    "def triple(s: String): String = ???\n",
    "val tripleSeq = sequence.map(triple)\n",
    "println(newSequence.mkString(\" \"))"
   ]
  },
  {
   "cell_type": "markdown",
   "metadata": {},
   "source": [
    "As you can see, we can easily change the function we pass the `map`, while abstracting away the actual traversing of the sequence.\n",
    "\n",
    "## Anonymous Functions<a name=\"anonfunc\"></a>\n",
    "In our earliest example, we had the following syntax.\n",
    "```scala\n",
    "s => s + s\n",
    "```\n",
    "This is an anonymous function, or a function that has no name.Think of this like an object with a single method. When we call an anonymous function (e.g. passing it arguments), it calls its method on those arguments. In this case, our argument `s` is doubled.\n",
    "\n",
    "The following example shows us creating an anonymous function, then calling it:"
   ]
  },
  {
   "cell_type": "code",
   "execution_count": null,
   "metadata": {},
   "outputs": [],
   "source": [
    "val anon = {x: Int => x + x} // Scala usually requires anonymous functions to be wrapped in {}\n",
    "val result = anon(10)\n",
    "println(result)"
   ]
  },
  {
   "cell_type": "markdown",
   "metadata": {},
   "source": [
    "You can see that this is very similar to a Scala method declaration, `def`. Generally, we use anonymous functions when they are simple and referenced only once, and use method declarations otherwise.\n",
    "\n",
    "Now, you should be able to fully understand our functional programming example:"
   ]
  },
  {
   "cell_type": "code",
   "execution_count": null,
   "metadata": {},
   "outputs": [],
   "source": [
    "println(sequence.mkString(\" \"))\n",
    "\n",
    "val doubleSeq = sequence.map(s => s + s)\n",
    "println(doubleSeq.mkString(\" \"))"
   ]
  },
  {
   "cell_type": "markdown",
   "metadata": {},
   "source": [
    "Try writing your own anonymous function, so that the example returns a sequence of tripled strings:"
   ]
  },
  {
   "cell_type": "code",
   "execution_count": null,
   "metadata": {},
   "outputs": [],
   "source": [
    "val tripleSeq = sequence.map(s => ???)\n",
    "println(tripleSeq.mkString(\" \"))"
   ]
  },
  {
   "cell_type": "markdown",
   "metadata": {},
   "source": [
    "## Filter<a name=\"filter\"></a>\n",
    "\n",
    "Like `map`, the function `filter` takes a function as an argument, but this function returns true or false. Thus, calling `filter` will returns a new sequence containing only elements that return true.\n",
    "\n",
    "The following code prints a new sequence that only contains numbers greater than 5:"
   ]
  },
  {
   "cell_type": "code",
   "execution_count": null,
   "metadata": {},
   "outputs": [],
   "source": [
    "val numbers = Seq(1, 2, 10, 6, 3, 9)\n",
    "val filtered = numbers.filter(i => i > 5)\n",
    "println(filtered.mkString(\" \"))"
   ]
  },
  {
   "cell_type": "markdown",
   "metadata": {},
   "source": [
    "## Reduce<a name=\"reduce\"></a>\n",
    "\n",
    "The function `reduce` will iteratively call its input function on two elements, returning a new element, until only one remains.\n",
    "\n",
    "The following code prints the total sum of all integers in the sequence:"
   ]
  },
  {
   "cell_type": "code",
   "execution_count": null,
   "metadata": {},
   "outputs": [],
   "source": [
    "val sum = numbers.reduce((a, b) => a + b)\n",
    "println(sum)"
   ]
  },
  {
   "cell_type": "markdown",
   "metadata": {},
   "source": [
    "## FoldLeft<a name=\"foldleft\"></a>\n",
    "\n",
    "Reductions have the problem of failing when the input sequence is empty:"
   ]
  },
  {
   "cell_type": "code",
   "execution_count": null,
   "metadata": {},
   "outputs": [],
   "source": [
    "val empty = Seq[Int]()\n",
    "empty.reduce((a, b) => a + b)"
   ]
  },
  {
   "cell_type": "markdown",
   "metadata": {},
   "source": [
    "In these instances, we can use the function `foldLeft`. This function takes two arguments, an initial value and another function. This function takes two arguments - one is the value you are collecting, and the second is an element of the sequence, and it must return the new value you are collecting.\n",
    "\n",
    "As it turns out, we can use `foldLeft` to implement our `map`, `reduce`, and `filter` examples!"
   ]
  },
  {
   "cell_type": "code",
   "execution_count": null,
   "metadata": {},
   "outputs": [],
   "source": [
    "val mapped = sequence.foldLeft(Seq[String]()){\n",
    "    (seq, element) => seq ++ Seq(element + element)\n",
    "}\n",
    "println(mapped.mkString(\" \"))\n",
    "\n",
    "val reduced = numbers.foldLeft(0){\n",
    "    (sum, element) => sum + element\n",
    "}\n",
    "println(reduced)\n",
    "\n",
    "val filtered = numbers.foldLeft(Seq[Int]()){\n",
    "    (seq, element) => if (element > 5) seq ++ Seq(element) else seq\n",
    "}\n",
    "println(filtered.mkString(\" \"))"
   ]
  },
  {
   "cell_type": "markdown",
   "metadata": {},
   "source": [
    "As you can see, `foldLeft` is a very powerful construct, and well worth starting at these examples to fully understand them.\n",
    "\n",
    "Other useful sequence manipulators can be found here: http://www.scala-lang.org/api/current/scala/collection/immutable/List.html"
   ]
  },
  {
   "cell_type": "markdown",
   "metadata": {},
   "source": [
    "# Objects and Classes<a name=\"objclass\"></a>\n",
    "\n",
    "## Companion Objects<a name=\"compobj\"></a>\n",
    "Like Java, Scala has classes you can define and instantiate. However, when you want a static class, there is no direct support in Java.\n",
    "\n",
    "Scala has a language feature for these singleton classes, called objects. Often they define a method `apply`, which is  special in that it is called by reference the object, followed by an argument list."
   ]
  },
  {
   "cell_type": "code",
   "execution_count": null,
   "metadata": {},
   "outputs": [],
   "source": [
    "object MyObject {\n",
    "    def hi: String = \"Hello World!\"\n",
    "    def apply(msg: String) = msg\n",
    "}\n",
    "println(MyObject.hi)\n",
    "println(MyObject(msg)) // equivalent to MyObject.apply(msg)"
   ]
  },
  {
   "cell_type": "markdown",
   "metadata": {},
   "source": [
    "When a class and an object share the same name and defined in the same file, the object is called a **companion object**.\n",
    "\n",
    "Companion objects are usually used to run code before or after the class constructor. In the example below, we will count the number of instances of Animal. Note that you must call the companion object's `apply` method for `numberOfAnimals` to be incremented."
   ]
  },
  {
   "cell_type": "code",
   "execution_count": null,
   "metadata": {},
   "outputs": [],
   "source": [
    "object Animal {\n",
    "    var numberOfAnimals = 0\n",
    "    def apply(name: String) = {\n",
    "        numberOfAnimals += 1\n",
    "        new Animal(name)\n",
    "    }\n",
    "}\n",
    "class Animal(val name: String)\n",
    "\n",
    "val bunny = new Animal(\"Hopper\") // Calls the class Animal's constructor\n",
    "val cat = Animal(\"Whiskers\")     // Calls the object Animal's apply method\n",
    "println(Animal.numberOfAnimals)  // Prints only one animal!"
   ]
  },
  {
   "cell_type": "markdown",
   "metadata": {},
   "source": [
    "Chisel uses many companion objects, like Module. When you write `Module(new MyModule)`, you are calling the Module companion object, so Chisel can run background code before and after instantiating `MyModule`.\n",
    "\n",
    "Can call private members.\n",
    "\n",
    "## Case Classes<a name=\"caseclass\"></a>\n",
    "\n",
    "..."
   ]
  },
  {
   "cell_type": "markdown",
   "metadata": {},
   "source": [
    "# Type System<a name=\"types\"></a>\n",
    "\n",
    "## Static Types<a name=\"static\"></a>\n",
    "\n",
    "## Common Idioms<a name=\"idioms\"></a>\n",
    "\n",
    "### Option\n",
    "\n",
    "### Seq/List\n",
    "\n",
    "## Generic Types<a name=\"generic\"></a>"
   ]
  },
  {
   "cell_type": "markdown",
   "metadata": {},
   "source": [
    "# Match/Case Statements<a name=\"match\"></a>\n",
    "\n",
    "Scala is a strongly typed language, so the types of all objects are known during runtime. To use this type information to dictate control flow, we use **match** statements."
   ]
  },
  {
   "cell_type": "code",
   "execution_count": null,
   "metadata": {},
   "outputs": [],
   "source": [
    "val sequence = Seq(\"a\", 1, 0.0)\n",
    "sequence.foreach { x =>\n",
    "    x match {\n",
    "        case s: String => println(s\"$x is a String\")\n",
    "        case s: Int    => println(s\"$x is an Int\")\n",
    "        case s: Double => println(s\"$x is a Double\")\n",
    "    }\n",
    "}"
   ]
  },
  {
   "cell_type": "markdown",
   "metadata": {},
   "source": [
    "Match statements have some limitations. Because Scala runs on the JVM, and the JVM does not maintain polymorphic types, you cannot match on them at runtime (because they are all erased). Note that the following example always matches the first case statement, because the `[String]`, `[Int]`, and `[Double]` polymorphic types are erased, and the case statements are **actually** matching on just a `Seq`."
   ]
  },
  {
   "cell_type": "code",
   "execution_count": null,
   "metadata": {},
   "outputs": [],
   "source": [
    "val sequence = Seq(Seq(\"a\"), Seq(1), Seq(0.0))\n",
    "sequence.foreach { x =>\n",
    "    x match {\n",
    "        case s: Seq[String] => println(s\"$x is a String\")\n",
    "        case s: Seq[Int]    => println(s\"$x is an Int\")\n",
    "        case s: Seq[Double] => println(s\"$x is a Double\")\n",
    "    }\n",
    "}"
   ]
  },
  {
   "cell_type": "markdown",
   "metadata": {
    "collapsed": true
   },
   "source": [
    "# Implicits<a name=\"implicits\"></a>"
   ]
  },
  {
   "cell_type": "code",
   "execution_count": null,
   "metadata": {
    "collapsed": true
   },
   "outputs": [],
   "source": []
  }
 ],
 "metadata": {
  "kernelspec": {
   "display_name": "Scala",
   "language": "scala",
   "name": "scala"
  },
  "language_info": {
   "codemirror_mode": "text/x-scala",
   "file_extension": ".scala",
   "mimetype": "text/x-scala",
   "name": "scala211",
   "nbconvert_exporter": "script",
   "pygments_lexer": "scala",
   "version": "2.11.11"
  }
 },
 "nbformat": 4,
 "nbformat_minor": 2
}
