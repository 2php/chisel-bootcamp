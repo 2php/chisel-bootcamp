{
 "cells": [
  {
   "cell_type": "markdown",
   "metadata": {},
   "source": [
    "![Chisel](https://chisel.eecs.berkeley.edu/assets/img/chisel_64.png)"
   ]
  },
  {
   "cell_type": "markdown",
   "metadata": {},
   "source": [
    "# Module 3: Advanced Scala\n",
    "***Written by Adam Izraelevitz (adamiz@berkeley.edu)***\n",
    "\n",
    "**Prerequesites**\n",
    "- Module 1: Basic Scala\n",
    "- Module 2: Basic Chisel ***(optional)***"
   ]
  },
  {
   "cell_type": "markdown",
   "metadata": {},
   "source": [
    "## Table of Contents\n",
    "In this tutorial, you will learn some advanced features of Scala which enable you to write more powerful and expressive Chisel generators. We will focus on the following Scala features:\n",
    "\n",
    "**[Functional Programming](#funcprog)**\n",
    "1. [Immutable vs. Mutable Data Structures](#data)  \n",
    "2. [A Simple Example](#example)  \n",
    "2. [Map](#map)  \n",
    "2. [Higher-Order Functions](#anonfunc)  \n",
    "2. [Filter](#filter)  \n",
    "2. [Reduce](#reduce)  \n",
    "2. [FoldLeft](#foldleft)\n",
    "\n",
    "**[Type System](#types)**\n",
    "2. [Static Types](#static)\n",
    "2. [Common Idioms](#idiom)\n",
    "2. [Generic Types](#generic)\n",
    "\n",
    "**[Implicits](#implicits)**\n",
    "1. [Implicit Arguments](#implicitargs)\n",
    "1. [Implicit Conversions](#implicitconvs)\n",
    "\n",
    "**[Currying](#currying)**\n",
    "\n",
    "**[Match/Case Statements](#match)**\n",
    "1. [Value Matching](#valuematch)\n",
    "1. [Type Matching](#typematch)\n",
    "\n",
    "**[Object-Oriented Programming](#objprog)**\n",
    "2. [Abstract Classes](#abstract)\n",
    "2. [Traits](#traits)\n",
    "2. [Objects](#objects)  \n",
    "2. [Companion Objects](#compobj)\n",
    "2. [Case Classes](#caseclass)\n",
    "2. [Unapply](#unapply)"
   ]
  },
  {
   "cell_type": "markdown",
   "metadata": {},
   "source": [
    "# Functional Programming<a name=\"funcprog\"></a>\n",
    "\n",
    "Functional programming enables progammers to operate on immutable datastructures in a concise and powerful way. Before we delve into this style of programming, we need to understand the difference between immutability and mutability.\n",
    "\n",
    "## Immutable vs Mutable Datastructures<a name=\"data\"></a>\n",
    "\n",
    "A datastructure is immutable if, after it is created, it cannot be changed. Conversely, mutable datastructures can be changed after creation.\n",
    "\n",
    "Like array's in C or ArrayBuffer's in Java, Scala has a corresponding mutable List-like datastructure, `ArrayBuffer[String]`. We can use various update and appending operations to change its contents."
   ]
  },
  {
   "cell_type": "code",
   "execution_count": null,
   "metadata": {},
   "outputs": [],
   "source": [
    "import scala.collection.mutable //Import mutable collections library\n",
    "val arraybuf = mutable.ArrayBuffer[String](\"a\", \"b\", \"c\")\n",
    "println(arraybuf)\n",
    "// Because ArrayBuffer is mutable, you can update or append values to arraybuf\n",
    "arraybuf(0) = \"A\"\n",
    "println(arraybuf)\n",
    "arraybuf += \"d\"\n",
    "println(arraybuf)"
   ]
  },
  {
   "cell_type": "markdown",
   "metadata": {},
   "source": [
    "Alternatively, we can use an immutable datastructure, `List[String]`. We cannot use update or appending operations, but instead must create new immutable datastructures containing our changes:"
   ]
  },
  {
   "cell_type": "code",
   "execution_count": null,
   "metadata": {},
   "outputs": [],
   "source": [
    "// Because List is immutable, l will always have the 3 elements \"a\", \"b\", and \"c\"\n",
    "val list = List(\"a\", \"b\", \"c\")\n",
    "println(list)\n",
    "// We cannot append a new value or update a value\n",
    "// list(0) = \"A\" // Illegal\n",
    "// list += \"d\" // Illegal\n",
    "\n",
    "// Instead, we must create a new List with our appended or updated value\n",
    "val lAppended = list ++ List(\"d\") // ++ returns a new immutable List with both input lists appended\n",
    "println(lAppended)\n",
    "val lUpdated = List(\"A\") ++ list.tail // tail returns a new List without the first element\n",
    "println(lUpdated)"
   ]
  },
  {
   "cell_type": "markdown",
   "metadata": {},
   "source": [
    "Immutable datastructures have the benefits of eliminating side-effects, making your code's behavior more reliable and predictable.Scala style promotes using immutable datastructures whenever possible; the only exceptions are when a mutable datastructure enables more performant or significantly cleaner code.\n",
    "\n",
    "## A Simple Example<a name=\"example\"></a>\n",
    "\n",
    "Generally, we use functional programming to cleanly and concisely create new immutable datastructures from other immutable datastructures.\n",
    "\n",
    "Suppose we are given a sequence of strings, and want to return a new sequence with each string \"doubled\":\n",
    "```scala\n",
    "val sequence = List(\"a\", \"b\", \"c\")\n",
    "println(sequence.mkString(\" \")) //\"a b c\"\n",
    "...\n",
    "val newSequence = ...\n",
    "...\n",
    "println(newSequence.mkString(\" \")) //\"aa bb cc\"\n",
    "```\n",
    "\n",
    "Using a for-loop and a mutable list, we can mimic how one could do this in C or Java:"
   ]
  },
  {
   "cell_type": "code",
   "execution_count": null,
   "metadata": {},
   "outputs": [],
   "source": [
    "val sequence = List(\"a\", \"b\", \"c\")\n",
    "println(sequence.mkString(\" \"))\n",
    "\n",
    "val doubleABuf = mutable.ArrayBuffer[String]()\n",
    "for(letter <- sequence) {\n",
    "    doubleABuf += letter + letter\n",
    "}\n",
    "println(doubleABuf.mkString(\" \"))"
   ]
  },
  {
   "cell_type": "markdown",
   "metadata": {},
   "source": [
    "However, using functional programming, we can do the same but much more concisely:"
   ]
  },
  {
   "cell_type": "code",
   "execution_count": null,
   "metadata": {},
   "outputs": [],
   "source": [
    "val sequence = List(\"a\", \"b\", \"c\")\n",
    "println(sequence.mkString(\" \"))\n",
    "\n",
    "val doubleSeq = sequence.map(s => s + s)\n",
    "println(doubleSeq.mkString(\" \"))"
   ]
  },
  {
   "cell_type": "markdown",
   "metadata": {},
   "source": [
    "What's going on here?? Let's break it down.\n",
    "\n",
    "## Map<a name=\"map\"></a>\n",
    "First, let's rewrite the same example to be more less syntactically concise, but more readable to those unfamiliar with functional programming."
   ]
  },
  {
   "cell_type": "code",
   "execution_count": null,
   "metadata": {
    "collapsed": true
   },
   "outputs": [],
   "source": [
    "val sequence = List(\"a\", \"b\", \"c\")\n",
    "println(sequence.mkString(\" \"))\n",
    "\n",
    "def double(s: String): String = s + s\n",
    "val doubleSeq = sequence.map(double)\n",
    "println(doubleSeq.mkString(\" \"))"
   ]
  },
  {
   "cell_type": "markdown",
   "metadata": {},
   "source": [
    "As you can see, the function `double` takes a `String` and returns a new \"doubled\" `String`. We then pass this function, as an argument, to another function called `map`. When called, map returns a new `List` containing the results of applying `double` to every element in `sequence`.\n",
    "\n",
    "Let's try a different function, `triple`, which appends three copies of a string together. The `???` is just a way to signify a function is incomplete - please complete it!"
   ]
  },
  {
   "cell_type": "code",
   "execution_count": null,
   "metadata": {
    "collapsed": true
   },
   "outputs": [],
   "source": [
    "val sequence = List(\"a\", \"b\", \"c\")\n",
    "println(sequence.mkString(\" \"))\n",
    "\n",
    "def triple(s: String): String = ???\n",
    "val tripleSeq = sequence.map(triple)\n",
    "println(tripleSeq.mkString(\" \"))"
   ]
  },
  {
   "cell_type": "markdown",
   "metadata": {},
   "source": [
    "As you can see, we can easily change the function we pass the `map`, while abstracting away the actual traversing of the sequence.\n",
    "\n",
    "## Higher-Order Functions<a name=\"anonfunc\"></a>\n",
    "In our earliest example, we had the following syntax.\n",
    "```scala\n",
    "s => s + s\n",
    "```\n",
    "This is a higher-order function, or an object that is a function. Think of this like an object with a single method. When we call a higher-order function (e.g. passing it arguments), it calls its method on those arguments. In this case, our argument `s` is doubled. Note that this function is also *anonymous*, in that we haven't actually named it!\n",
    "\n",
    "The following example shows us creating a higher-order function and naming it `myfunc`, then calling it:"
   ]
  },
  {
   "cell_type": "code",
   "execution_count": null,
   "metadata": {
    "collapsed": true
   },
   "outputs": [],
   "source": [
    "val myfunc = {x: Int => x + x} // Scala usually requires higher-order functions to be wrapped in {}\n",
    "val result = myfunc(10)\n",
    "println(result)"
   ]
  },
  {
   "cell_type": "markdown",
   "metadata": {},
   "source": [
    "You can see that this is very similar to a Scala method declaration, `def`. Generally, we use higher-order functions when they are simple and referenced only once, and use method declarations otherwise.\n",
    "\n",
    "Now, you should be able to fully understand our functional programming example:"
   ]
  },
  {
   "cell_type": "code",
   "execution_count": null,
   "metadata": {
    "collapsed": true
   },
   "outputs": [],
   "source": [
    "println(sequence.mkString(\" \"))\n",
    "\n",
    "val doubleSeq = sequence.map(s => s + s)\n",
    "println(doubleSeq.mkString(\" \"))"
   ]
  },
  {
   "cell_type": "markdown",
   "metadata": {},
   "source": [
    "Try writing your own anonymous higher-order function, so that the example returns a sequence of tripled strings:"
   ]
  },
  {
   "cell_type": "code",
   "execution_count": null,
   "metadata": {
    "collapsed": true
   },
   "outputs": [],
   "source": [
    "val tripleSeq = sequence.map(s => ???)\n",
    "println(tripleSeq.mkString(\" \"))"
   ]
  },
  {
   "cell_type": "markdown",
   "metadata": {},
   "source": [
    "There are lots of different syntaxes for declaring anonymous functions in Scala. The most common is to use `_` to refer to an unnamed input argument.\n",
    "\n",
    "The five examples below list many anonymous functions with identical semantics, but different syntaxes. *Generally, use the syntax that is most concise, unless the anonymous function spans multiple lines. In that case, use the syntaxes with curly braces.*"
   ]
  },
  {
   "cell_type": "code",
   "execution_count": null,
   "metadata": {},
   "outputs": [],
   "source": [
    "// First example: anon-function accepting one argument, referencing that argument once\n",
    "val seq1 = Seq(1, 2, 3)\n",
    "seq1.map(_ + 1)\n",
    "seq1.map { _ + 1 }\n",
    "seq1.map(x => x + 1)\n",
    "seq1.map{ x => x + 1 }\n",
    "seq1.map { case x => x + 1 }\n",
    "\n",
    "\n",
    "// Second example: anon-function accepting one argument, referenced that argument >1 time\n",
    "// Note, you cannot use the `_` syntax in this scenario!\n",
    "val seq2 = Seq(1, 2, 3)\n",
    "// seq2.map(_ + _) // Illegal!\n",
    "seq2.map(x => x + x)\n",
    "seq2.map { x => x + x }\n",
    "seq2.map { case x => x + x }\n",
    "\n",
    "// Third example: anon-function accepting two arguments, each referenced one time\n",
    "val seq3: Seq[Int] = Seq(1, 2, 3)\n",
    "seq3.reduce(_ + _)\n",
    "seq3.reduce { _ + _ }\n",
    "seq3.reduce { (x: Int, y: Int) => x + y } // Note sometimes you must declare the function's argument types\n",
    "\n",
    "// Fourth example: anon-function accepting one argument and passing it to a function\n",
    "val seq4 = Seq(1, 2, 3)\n",
    "def inc(i: Int): Int = i + 1\n",
    "seq4.map(inc)\n",
    "seq4.map(inc(_))\n",
    "seq4.map { inc(_) }\n",
    "seq4.map(x => inc(x))\n",
    "seq4.map { x => inc(x) }\n",
    "\n",
    "// Fifth example: anon-function accepting one argument and passing it to series of nested functions\n",
    "// Note, you cannot use the `_` syntax in this scenario!\n",
    "val seq5 = Seq(1, 2, 3)\n",
    "// seq5.map(inc(inc(_))) //Illegal!\n",
    "seq5.map(x => inc(inc(x)))\n",
    "seq5.map { x => inc(inc(x)) }"
   ]
  },
  {
   "cell_type": "markdown",
   "metadata": {},
   "source": [
    "## Filter<a name=\"filter\"></a>\n",
    "\n",
    "Like `map`, the function `filter` takes a function as an argument, but this function returns true or false. Thus, calling `filter` will return a new sequence containing only elements that return true.\n",
    "\n",
    "The following code prints a new sequence that only contains numbers greater than 5:"
   ]
  },
  {
   "cell_type": "code",
   "execution_count": null,
   "metadata": {
    "collapsed": true
   },
   "outputs": [],
   "source": [
    "val numbers = Seq(1, 2, 10, 6, 3, 9)\n",
    "val filtered = numbers.filter(i => i > 5)\n",
    "println(filtered.mkString(\" \"))"
   ]
  },
  {
   "cell_type": "markdown",
   "metadata": {},
   "source": [
    "## Reduce<a name=\"reduce\"></a>\n",
    "\n",
    "The function `reduce` will iteratively call its input function on two elements, returning a new element, until only one remains.\n",
    "\n",
    "The following code prints the total sum of all integers in the sequence:"
   ]
  },
  {
   "cell_type": "code",
   "execution_count": null,
   "metadata": {
    "collapsed": true
   },
   "outputs": [],
   "source": [
    "val sum = numbers.reduce((a, b) => a + b)\n",
    "println(sum)"
   ]
  },
  {
   "cell_type": "markdown",
   "metadata": {},
   "source": [
    "## FoldLeft<a name=\"foldleft\"></a>\n",
    "\n",
    "Reductions have the problem of failing when the input sequence is empty:"
   ]
  },
  {
   "cell_type": "code",
   "execution_count": null,
   "metadata": {
    "collapsed": true
   },
   "outputs": [],
   "source": [
    "val empty = Seq[Int]()\n",
    "empty.reduce((a, b) => a + b)"
   ]
  },
  {
   "cell_type": "markdown",
   "metadata": {},
   "source": [
    "In these instances (and more), we can use the function `foldLeft`:\n",
    "```scala\n",
    "/* Applies a binary operator to a start value and all elements of this\n",
    " * traversable or iterator, going left to right.\n",
    " */\n",
    "def foldLeft[B](z: B)(op: (B, A) ⇒ B): B\n",
    "```\n",
    "\n",
    "This function takes two arguments, an initial value `z` and another function `op`; `op` takes two arguments - one is the value you are collecting, and the second is an element of the sequence, and it must return the new value you are collecting.\n",
    "\n",
    "As it turns out, we can use `foldLeft` to implement our `map`, `reduce`, and `filter` examples!"
   ]
  },
  {
   "cell_type": "code",
   "execution_count": null,
   "metadata": {
    "collapsed": true
   },
   "outputs": [],
   "source": [
    "val mapped = sequence.foldLeft(Seq[String]()){\n",
    "    (seq, element) => seq ++ Seq(element + element)\n",
    "}\n",
    "println(mapped.mkString(\" \"))\n",
    "\n",
    "val reduced = numbers.foldLeft(0){\n",
    "    (sum, element) => sum + element\n",
    "}\n",
    "println(reduced)\n",
    "\n",
    "val filtered = numbers.foldLeft(Seq[Int]()){\n",
    "    (seq, element) => if (element > 5) seq ++ Seq(element) else seq\n",
    "}\n",
    "println(filtered.mkString(\" \"))"
   ]
  },
  {
   "cell_type": "markdown",
   "metadata": {},
   "source": [
    "As you can see, `foldLeft` is a very powerful construct, and well worth starting at these examples to fully understand them.\n",
    "\n",
    "Take a look at the following functions in the [Scala documentation](http://www.scala-lang.org/api/current/scala/collection/immutable/List.html):\n",
    "- corresponds\n",
    "- groupBy\n",
    "- span\n",
    "\n",
    "<span style=\"color:blue\">**Exercise:**</span> Use **`collect`** to get a Seq[Int] from Seq[Option[Int]]"
   ]
  },
  {
   "cell_type": "code",
   "execution_count": null,
   "metadata": {},
   "outputs": [],
   "source": [
    "val fullNames = Seq(\"Eddie Izzard\", \"Eddie Murphy\", \"Chris Rock\", \"Louis CK\")\n",
    "val lastNames = Seq(\"Izzard\", \"Murphy\", \"Rock\", \"CK\")\n",
    "// Note: \"A B\".split(\" \") == Seq(\"A\", \"B\")\n",
    "val corresponds = fullNames.corresponds(lastNames){\n",
    "    ???\n",
    "}\n",
    "assert(corresponds)\n",
    "println(\"Success!\")"
   ]
  },
  {
   "cell_type": "markdown",
   "metadata": {},
   "source": [
    "<span style=\"color:blue\">**Exercise:**</span> Use **`groupBy`** to organize a list of names by first letter.\n"
   ]
  },
  {
   "cell_type": "code",
   "execution_count": null,
   "metadata": {},
   "outputs": [],
   "source": [
    "val names = Seq(\"Jack\", \"Jill\", \"Larry\", \"Bill\")\n",
    "val groups = names.groupBy {\n",
    "    ???\n",
    "}\n",
    "def getNames(letter: Char): Seq[String] = groups.getOrElse(letter, Nil)\n",
    "val jNames = getNames('J')\n",
    "assert(jNames == Seq(\"Jack\", \"Jill\"))\n",
    "val lNames = getNames('L')\n",
    "assert(lNames == Seq(\"Larry\"))\n",
    "val oNames = getNames('O')\n",
    "assert(oNames == Nil)\n",
    "println(\"Success!\")"
   ]
  },
  {
   "cell_type": "markdown",
   "metadata": {},
   "source": [
    "<span style=\"color:blue\">**Exercise:**</span> Use **`span`** to sort the presidents to before/after Kennedy was elected:"
   ]
  },
  {
   "cell_type": "code",
   "execution_count": null,
   "metadata": {},
   "outputs": [],
   "source": [
    "val presidents = Seq(\"Roosevelt\", \"Taft\", \"Wilson\", \"Harding\", \"Coolidge\", \"Hoover\", \"Roosevelt\", \"Truman\",\n",
    "                     \"Eisenhower\", \"Kennedy\", \"Johnson\", \"Nixon\", \"Ford\", \"Carter\", \"Reagan\", \"Bush\", \"Clinton\")\n",
    "\n",
    "val (beforeKennedy, afterKennedy) = presidents.span {\n",
    "    ???\n",
    "}\n",
    "\n",
    "assert(beforeKennedy == Seq(\"Roosevelt\", \"Taft\", \"Wilson\", \"Harding\", \"Coolidge\",\n",
    "                            \"Hoover\", \"Roosevelt\", \"Truman\", \"Eisenhower\"))\n",
    "assert(afterKennedy == Seq(\"Kennedy\", \"Johnson\", \"Nixon\", \"Ford\", \"Carter\",\n",
    "                           \"Reagan\", \"Bush\", \"Clinton\"))\n",
    "println(\"SUCCESS!\")"
   ]
  },
  {
   "cell_type": "markdown",
   "metadata": {},
   "source": [
    "# Type System<a name=\"types\"></a>\n",
    "Scala is a strongly-typed programming language. This is a two-edged sword; on one hand, many programs that would compile and execute in Python (a dynamically-typed language) would fail at compile time in Scala. On the other hand, programs that compile in Scala will contain many fewer runtime errors than a similar Python program.\n",
    "\n",
    "In this section, our goal is to familiarize you with types as a first class citizen in Scala. While initially you may feel you have limited productivity, you will soon learn to understand compile-time error messages and how to architect your programs with the type system in mind to catch more errors for you. \n",
    "\n",
    "## Static Types<a name=\"static\"></a>\n",
    "All objects in Scala have a type, which is usually the object's class. Let's see some:"
   ]
  },
  {
   "cell_type": "code",
   "execution_count": null,
   "metadata": {},
   "outputs": [],
   "source": [
    "println(10.getClass)\n",
    "println(10.0.getClass)\n",
    "println(\"ten\".getClass)"
   ]
  },
  {
   "cell_type": "markdown",
   "metadata": {},
   "source": [
    "When you declare your own class, it has an associated type."
   ]
  },
  {
   "cell_type": "code",
   "execution_count": null,
   "metadata": {},
   "outputs": [],
   "source": [
    "class MyClass {\n",
    "    def myMethod = ???\n",
    "}\n",
    "println(new MyClass().getClass)"
   ]
  },
  {
   "cell_type": "markdown",
   "metadata": {},
   "source": [
    "While not required, it is HIGHLY recommended that you **define input and output types for all function declarations**. This will let the Scala compiler catch improper use of a function."
   ]
  },
  {
   "cell_type": "code",
   "execution_count": null,
   "metadata": {
    "collapsed": true
   },
   "outputs": [],
   "source": [
    "def double(s: String): String = s + s\n",
    "// Uncomment the code below to test it\n",
    "// double(\"hi\")      // Proper use of double\n",
    "// double(10)        // Bad input argument!\n",
    "// double(\"hi\") / 10 // Inproper use of double's output!"
   ]
  },
  {
   "cell_type": "markdown",
   "metadata": {},
   "source": [
    "Functions that don't return anything return type `Unit`."
   ]
  },
  {
   "cell_type": "code",
   "execution_count": null,
   "metadata": {},
   "outputs": [],
   "source": [
    "var counter = 0\n",
    "def increment(): Unit = {\n",
    "    counter += 1\n",
    "}\n",
    "increment()"
   ]
  },
  {
   "cell_type": "markdown",
   "metadata": {},
   "source": [
    "## Common Idioms<a name=\"idiom\"></a>\n",
    "There are several canonical Scala types that are ideally suited for various use cases that you may encounter.\n",
    "\n",
    "### Option\n",
    "There times when a function sometimes returns a value, and sometimes does not. Instead of erroring when it cannot return a value, Scala has a mechanism to encode this in the type system.\n",
    "\n",
    "In the following example, we have a map containing several key/value pairs. If we try to access a missing key/value pair, then we get a runtime error:"
   ]
  },
  {
   "cell_type": "code",
   "execution_count": null,
   "metadata": {},
   "outputs": [],
   "source": [
    "val map = Map(\"a\" -> 1)\n",
    "val a = map(\"a\")\n",
    "println(a)\n",
    "val b = map(\"b\")\n",
    "println(b)"
   ]
  },
  {
   "cell_type": "markdown",
   "metadata": {},
   "source": [
    "However, `Map` provides another way to access a key's value, through the **get** method. Using this returns a value of abstract class `Option`. `Option` has two subclasses, `Some` and `None`."
   ]
  },
  {
   "cell_type": "code",
   "execution_count": null,
   "metadata": {
    "collapsed": true
   },
   "outputs": [],
   "source": [
    "val map = Map(\"a\" -> 1)\n",
    "val a = map.get(\"a\")\n",
    "println(a)\n",
    "val b = map.get(\"b\")\n",
    "println(b)"
   ]
  },
  {
   "cell_type": "markdown",
   "metadata": {},
   "source": [
    "As you'll see in later sections, `Option` is extremely important because it lets users use a match statement to check Scala types and values.\n",
    "\n",
    "Like `Map`, `Option` also has a `get` method, which errors if called on `None`. For these instances, we can provide a default using **`getOrElse`**."
   ]
  },
  {
   "cell_type": "code",
   "execution_count": null,
   "metadata": {},
   "outputs": [],
   "source": [
    "val some = Some(1)\n",
    "val none = None\n",
    "println(some.get)          // Returns 1\n",
    "// println(none.get)       // Errors!\n",
    "println(some.getOrElse(2)) // Returns 1\n",
    "println(none.getOrElse(2)) // Returns 2"
   ]
  },
  {
   "cell_type": "markdown",
   "metadata": {},
   "source": [
    "### Seq/List\n",
    "Scala's default immutable array is List. However, its super class is Seq. Generally, it is recommended to use Seq everywhere, as its default underlying implementation is List. However, it makes functions generally more accepting of inputs that are list-like. The following example demonstrates how using Seq makes functions more generic:"
   ]
  },
  {
   "cell_type": "code",
   "execution_count": null,
   "metadata": {
    "collapsed": true
   },
   "outputs": [],
   "source": [
    "def sumList(l: List[Int]): Int = l.reduce(_ + _)\n",
    "def sumSeq(s: Seq[Int]): Int = s.reduce(_ + _)\n",
    "\n",
    "val array = Array(1, 2, 3)\n",
    "// Uncomment code below to test it\n",
    "// sumSeq(array)  // Legal!\n",
    "// sumList(array) // Illegal!"
   ]
  },
  {
   "cell_type": "markdown",
   "metadata": {},
   "source": [
    "## Generic Types<a name=\"generic\"></a>\n",
    "Scala's generic types (also known as polymorphism) is very complicated, especially when coupling it with inheritance.\n",
    "\n",
    "This section will just get your toes wet; to understand more, checkout [this tutorial](https://twitter.github.io/scala_school/type-basics.html).\n",
    "\n",
    "Classes can be polymorphic in their types. One good example are sequences, which require knowing what the type of the elements it contains."
   ]
  },
  {
   "cell_type": "code",
   "execution_count": null,
   "metadata": {},
   "outputs": [],
   "source": [
    "val seq1 = Seq(\"1\", \"2\", \"3\") // Type is Seq[String]\n",
    "val seq2 = Seq(1, 2, 3)       // Type is Seq[Int]\n",
    "val seq3 = Seq(1, \"2\", true)  // Type is Seq[Any]"
   ]
  },
  {
   "cell_type": "markdown",
   "metadata": {},
   "source": [
    "Sometimes, the Scala compiler needs help determining a polymorphic type, which requires the user to explicitly put the type:"
   ]
  },
  {
   "cell_type": "code",
   "execution_count": null,
   "metadata": {},
   "outputs": [],
   "source": [
    "//val default = Seq() // Error!\n",
    "val default = Seq[String]() // User must tell compiler that default is of type Seq[String]\n",
    "Seq(1, \"2\", true).foldLeft(default){ (strings, next) =>\n",
    "    next match {\n",
    "        case s: String => strings ++ Seq(s)\n",
    "        case _ => strings\n",
    "    }\n",
    "}"
   ]
  },
  {
   "cell_type": "markdown",
   "metadata": {},
   "source": [
    "Functions can also be polymorphic in their input or output types. The following example defines a function that times how long it takes to run a block of code. It is parameterized based on the return type of the block of code. *Note that the `=> T` syntax encodes an anonymous function that does not have an argument list, e.g. `{ ... }` versus `{ x => ... }`.*"
   ]
  },
  {
   "cell_type": "code",
   "execution_count": null,
   "metadata": {},
   "outputs": [],
   "source": [
    "def time[T](block: => T): T = {\n",
    "    val t0 = System.nanoTime()\n",
    "    val result = block\n",
    "    val t1 = System.nanoTime()\n",
    "    val timeMillis = (t1 - t0) / 1000000.0\n",
    "    println(s\"Block took $timeMillis milliseconds!\")\n",
    "    result\n",
    "}\n",
    "\n",
    "// Adds 1 through a million\n",
    "val int = time { (1 to 1000000).reduce(_ + _) }\n",
    "println(s\"Add 1 through a million is $int\")\n",
    "\n",
    "// Finds the largest number under a million that, in hex, contains \"beef\"\n",
    "val string = time {\n",
    "    (1 to 1000000).map(_.toHexString).filter(_.contains(\"beef\")).last\n",
    "}\n",
    "println(s\"The largest number under a million that has beef: $string\")"
   ]
  },
  {
   "cell_type": "markdown",
   "metadata": {},
   "source": [
    "# Currying<a name=\"currying\"></a>\n",
    "\n",
    "Partial argument evaluation is a useful functional-programming concept that this section will explore.\n",
    "\n",
    "Suppose we want to map over a list of integers such that we clip any integer over a maximum value to be the maximum value. If we want this function to be parameterized, we need it to accept two arguments:\n",
    "```scala\n",
    "def clip(max: Int, i: Int): Int = ...\n",
    "```\n",
    "However, we want to map over a sequence, and map requires its input argument to be a function that accepts one argument:\n",
    "```scala\n",
    "def map[B](f: (A) ⇒ B): Seq[B]\n",
    "```\n",
    "\n",
    "In these situations, we want to pass only a subset of arguments to a function; this is called ***currying***.\n",
    "\n",
    "To curry a function, Scala has a multiple argument syntax. The following example illustrates mapping a partially-filled in function, `clip`, over a sequence of integers:"
   ]
  },
  {
   "cell_type": "code",
   "execution_count": null,
   "metadata": {},
   "outputs": [],
   "source": [
    "val seq = Seq(1, 2, 3, 4, 5)\n",
    "def clip(max: Int)(i: Int): Int = if(i >= max) max else i\n",
    "println(seq.map(clip(3)))\n",
    "println(seq.map(clip(4)))"
   ]
  },
  {
   "cell_type": "markdown",
   "metadata": {},
   "source": [
    "As detailed in the following section, currying plays a large role in implicit arguments."
   ]
  },
  {
   "cell_type": "markdown",
   "metadata": {
    "collapsed": true
   },
   "source": [
    "# Implicits<a name=\"implicits\"></a>\n",
    "\n",
    "There are often times when you are programming that requires a lot of boilerplate code. To handle this use case, Scala introduced the notion of **implicits**, which allow the compiler to do some syntactic sugar for you. Because lots of things happen behind the scenes, implicits can appear very magical. This section breaks down some basic examples to explain what they are and where they are commonly used.\n",
    "\n",
    "## Implicit Arguments<a name=\"implicitargs\"></a>\n",
    "At times, your code will require accessing a top-level variable of some sort from deep within a series of function calls. Instead of manually threading this variable through every function call, you can use implicit arguments to do it for you.\n",
    "\n",
    "In the following example, we can pass the number of cats implicitly or explicitly."
   ]
  },
  {
   "cell_type": "code",
   "execution_count": null,
   "metadata": {},
   "outputs": [],
   "source": [
    "implicit val numberOfCats = 3\n",
    "// implicit val numberOfDogs = 5 // SAD!\n",
    "\n",
    "def tooManyCats(nDogs: Int)(implicit nCats: Int): Boolean = nCats > nDogs\n",
    "tooManyCats(2)    // Argument passed implicitly!\n",
    "tooManyCats(2)(1) // Argument passed explicitly!"
   ]
  },
  {
   "cell_type": "markdown",
   "metadata": {},
   "source": [
    "What's happening here? First, we define an implicit value **numberOfCats**. In a given scope, **there can only be one implicit value of a given type**. Then, we define a function that takes two argument lists; the first is any explicit parameters, and the second are any implicit parameters. When we call **tooManyCats**, we either omit the second implicit argument list (letting the compiler find it for us), or explicitly provide an argument (which can be different than the implicit value).\n",
    "\n",
    "The following are ways implicit arguments can *fail*:\n",
    "- Two or more implicit values of a given type are defined in a scope\n",
    "- If the compiler cannot find an implicit value necessary for a function call\n",
    "\n",
    "## Implicit Conversions<a name=\"implicitconvs\"></a>\n",
    "Like implicit arguments, implicit functions (also known as **implicit conversions**) are used to reduce boilerplate code. More specifically, they are used to automatically convert one Scala object into another.\n",
    "\n",
    "In the following example, we have two classes, `Animal` and `Human`. `Animal` has a `species` field, but `Human` does not. However, by implementing an implicit conversion, we can call `species` on a `Human`."
   ]
  },
  {
   "cell_type": "code",
   "execution_count": null,
   "metadata": {},
   "outputs": [],
   "source": [
    "class Animal(val name: String, val species: String)\n",
    "class Human(val name: String)\n",
    "implicit def human2animal(h: Human): Animal = new Animal(h.name, \"Homo sapiens\")\n",
    "val me = new Human(\"Adam\")\n",
    "println(me.species)"
   ]
  },
  {
   "cell_type": "markdown",
   "metadata": {},
   "source": [
    "Generally, implicits can make your code confusing so we recommend you use them as a last resort. First try inheritance, traits, or method overloading."
   ]
  },
  {
   "cell_type": "markdown",
   "metadata": {},
   "source": [
    "# Match/Case Statements<a name=\"match\"></a>\n",
    "\n",
    "The Scala *matching* concept is used throughout Chisel and needs to be part of any Chisel programmers basic understanding. Scala provides the match operator which supports:\n",
    "- Simple testing for alternatives, something like a *C* switch statement\n",
    "- More complex testing of ad-hoc combinations of values\n",
    "- Taking actions based on the type of a variable when it's type is unknown or underspecified, for example when\n",
    "  - variable is taken from a heterogeneous list ```val mixedList = List(1, \"string\", false)```\n",
    "  - or variable is known to be a member of a super-class but not which specific sub-class it is.\n",
    "- Extraction of sub strings of a string that are specified with a *regular expression*\n",
    "\n",
    "\n",
    "## Value Matching<a name=\"valuematch\"></a>\n",
    "\n",
    "The following example, depending on the **value** of the variable we **match** on, we execute a different **case** statement:"
   ]
  },
  {
   "cell_type": "code",
   "execution_count": null,
   "metadata": {
    "collapsed": true
   },
   "outputs": [],
   "source": [
    "// y is an integer variable defined somewhere else in the code\n",
    "val y = 7\n",
    "/// ...\n",
    "val x = y match {\n",
    "  case 0 => \"zero\" // One common syntax, preferred if fits in one line\n",
    "  case 1 =>        // Another common syntax, preferred if does not fit in one line.\n",
    "      \"one\"        // Note the code block continues until the next case\n",
    "  case 2 => {      // Another syntax, but curly braces are not required\n",
    "      \"two\"\n",
    "  }\n",
    "  case _ => \"many\" // _ is a wildcard that matches all values\n",
    "}\n",
    "println(\"y is \" + x)"
   ]
  },
  {
   "cell_type": "markdown",
   "metadata": {},
   "source": [
    "The match operator checks possible values and for each case returns a string.  A couple of things to note:\n",
    "- Each code block that follows a the ```=>``` operator continues until it reaches either the ending brace of the match or the next case statement.\n",
    "- A match is searched in the order of the case statements, once a case statement has been matched, no other\n",
    "checks against other case statements are made.\n",
    "- The use of underscore as a wildcard, to handle any value not found.\n",
    "\n",
    "Also, multiple variables can be matched at the same time. Here's a simple example of a truth table implemented with a match statement and tuple of values:"
   ]
  },
  {
   "cell_type": "code",
   "execution_count": null,
   "metadata": {},
   "outputs": [],
   "source": [
    "def animalType(biggerThanBreadBox: Boolean, meanAsCanBe: Boolean): String = {\n",
    "  (biggerThanBreadBox, meanAsCanBe) match {\n",
    "    case (true, true) => \"wolverine\"\n",
    "    case (true, false) => \"elephant\"\n",
    "    case (false, true) => \"shrew\"\n",
    "    case (false, false) => \"puppy\"\n",
    "  }\n",
    "}\n",
    "println(animalType(true, true))"
   ]
  },
  {
   "cell_type": "markdown",
   "metadata": {},
   "source": [
    "<span style=\"color:blue\">**Exercise:**</span> Use a **match statement** and **foldLeft** to return true if the sequence of strings contains \"needle\":"
   ]
  },
  {
   "cell_type": "code",
   "execution_count": null,
   "metadata": {
    "collapsed": true
   },
   "outputs": [],
   "source": [
    "def foundNeedle(seq: Seq[String]): Boolean = {\n",
    "    // Your code goes here!\n",
    "    ???\n",
    "}\n",
    "assert(foundNeedle(Seq(\"hay\", \"hay\", \"hay\", \"needle\", \"hay\")) == true)\n",
    "assert(foundNeedle(Seq(\"hay\", \"hay\", \"hay\", \"hay\",    \"hay\")) == false)\n",
    "println(\"SUCCESS\")"
   ]
  },
  {
   "cell_type": "markdown",
   "metadata": {},
   "source": [
    "## Type Matching<a name=\"typematch\"></a>\n",
    "\n",
    "Scala is a strongly typed language, so the types of all objects are known during runtime. We can use **match statements** to use this type information to dictate control flow:"
   ]
  },
  {
   "cell_type": "code",
   "execution_count": null,
   "metadata": {},
   "outputs": [],
   "source": [
    "val sequence = Seq(\"a\", 1, 0.0)\n",
    "sequence.foreach { x =>\n",
    "    x match {\n",
    "        case s: String => println(s\"$x is a String\")\n",
    "        case s: Int    => println(s\"$x is an Int\")\n",
    "        case s: Double => println(s\"$x is a Double\")\n",
    "        case _ => println(s\"$x is an unknown type!\")\n",
    "    }\n",
    "}"
   ]
  },
  {
   "cell_type": "markdown",
   "metadata": {},
   "source": [
    "If you want to match on whether a value has one of many types, use the following syntax. *Note that you **must** use an `_` when matching.*"
   ]
  },
  {
   "cell_type": "code",
   "execution_count": null,
   "metadata": {
    "collapsed": true
   },
   "outputs": [],
   "source": [
    "val sequence = Seq(\"a\", 1, 0.0)\n",
    "sequence.foreach { x =>\n",
    "    x match {\n",
    "        case _: Int | _: Double => println(s\"$x is a number!\")\n",
    "        case _ => println(s\"$x is an unknown type!\")\n",
    "    }\n",
    "}"
   ]
  },
  {
   "cell_type": "markdown",
   "metadata": {},
   "source": [
    "Type matching has some limitations. Because Scala runs on the JVM, and the JVM does not maintain polymorphic types, you cannot match on them at runtime (because they are all erased). Note that the following example always matches the first case statement, because the `[String]`, `[Int]`, and `[Double]` polymorphic types are erased, and the case statements are **actually** matching on just a `Seq`."
   ]
  },
  {
   "cell_type": "code",
   "execution_count": null,
   "metadata": {
    "collapsed": true
   },
   "outputs": [],
   "source": [
    "val sequence = Seq(Seq(\"a\"), Seq(1), Seq(0.0))\n",
    "sequence.foreach { x =>\n",
    "    x match {\n",
    "        case s: Seq[String] => println(s\"$x is a String\")\n",
    "        case s: Seq[Int]    => println(s\"$x is an Int\")\n",
    "        case s: Seq[Double] => println(s\"$x is a Double\")\n",
    "    }\n",
    "}"
   ]
  },
  {
   "cell_type": "markdown",
   "metadata": {},
   "source": [
    "Note that generally, Scala compilers will give a warning if you implement code like the example above.\n",
    "\n",
    "\n",
    "<span style=\"color:blue\">**Exercise:**</span> Use a **match statement** and **map** to return a new sequence of strings, where non-string types are serialized as follows:"
   ]
  },
  {
   "cell_type": "code",
   "execution_count": null,
   "metadata": {
    "collapsed": true
   },
   "outputs": [],
   "source": [
    "def convertToStrings(seq: Seq[Any]): Seq[String] = {\n",
    "    // Your code goes here!\n",
    "    ???\n",
    "}\n",
    "val mixedList = List(1, \"string\", false, 1.57)\n",
    "assert(convertToStrings(mixedList) == Seq(\"1\", \"string\", \"F\", \"unsupported type\"))\n",
    "println(\"SUCCESS\")"
   ]
  },
  {
   "cell_type": "markdown",
   "metadata": {},
   "source": [
    "# Object Oriented Programming<a name=\"objclass\"></a>\n",
    "This section outlines how Scala implements the object-oriented programming paradigm. So far you have already seen classes, but Scala also has the following features:\n",
    "- Abstract classes\n",
    "- Traits\n",
    "- Objects\n",
    "- Companion Objects\n",
    "- Case Classes\n",
    "\n",
    "## Abstract Classes<a name=\"abstract\"></a>\n",
    "Abstract classes are just like other programming language implementations. They can define many unimplemented values that subclasses must implement. Any object can only directly inherit from one parent abstract class."
   ]
  },
  {
   "cell_type": "code",
   "execution_count": null,
   "metadata": {
    "collapsed": true
   },
   "outputs": [],
   "source": [
    "abstract class MyAbstractClass {\n",
    "    def myFunction(i: Int): Int\n",
    "    val myValue: String\n",
    "}\n",
    "class ConcreteClass extends MyAbstractClass {\n",
    "    def myFunction(i: Int): Int = i + 1\n",
    "    val myValue = \"Hello World!\"\n",
    "}\n",
    "// Uncomment below to test!\n",
    "// val abstractClass = new MyAbstractClass() // Illegal! Cannot instantiate an abstract class\n",
    "val concreteClass = new ConcreteClass()      // Legal!\n"
   ]
  },
  {
   "cell_type": "markdown",
   "metadata": {},
   "source": [
    "## Traits<a name=\"traits\"></a>\n",
    "Traits are very similar to abstract classes in that they can define unimplemented values. However, they differ in two ways:\n",
    "- a class can inherit from multiple traits\n",
    "- a trait cannot have constructor parameters\n",
    "\n",
    "Traits are how Scala implements multiple inheritance, as shown in the example below. `MyClass` extends from both traits `HasFunction` and `HasValue`:"
   ]
  },
  {
   "cell_type": "code",
   "execution_count": null,
   "metadata": {},
   "outputs": [],
   "source": [
    "trait HasFunction {\n",
    "    def myFunction(i: Int): Int\n",
    "}\n",
    "trait HasValue {\n",
    "    val myValue: String\n",
    "    val myOtherValue = 100\n",
    "}\n",
    "class MyClass extends HasFunction with HasValue {\n",
    "    override def myFunction(i: Int): Int = i + 1\n",
    "    val myValue = \"Hello World!\"\n",
    "}\n",
    "// Uncomment below to test!\n",
    "// val myTraitFunction = new HasFunction() // Illegal! Cannot instantiate a trait\n",
    "// val myTraitValue = new HasValue()       // Illegal! Cannot instantiate a trait\n",
    "val myClass = new MyClass()                // Legal!"
   ]
  },
  {
   "cell_type": "markdown",
   "metadata": {},
   "source": [
    "In general, always use traits over abstract classes, unless you are certain you want to enforce the single-inheritance restriction of abstract classes.\n",
    "\n",
    "## Objects<a name=\"objects\"></a>\n",
    "\n",
    "Scala has a language feature for these singleton classes, called objects. You cannot instantiate an object **(no need to call `new`)**; you can simply directly reference it:"
   ]
  },
  {
   "cell_type": "code",
   "execution_count": null,
   "metadata": {},
   "outputs": [],
   "source": [
    "object MyObject {\n",
    "    def hi: String = \"Hello World!\"\n",
    "    def apply(msg: String) = msg\n",
    "}\n",
    "println(MyObject.hi)\n",
    "println(MyObject(\"This message is important!\")) // equivalent to MyObject.apply(msg)"
   ]
  },
  {
   "cell_type": "markdown",
   "metadata": {},
   "source": [
    "## Companion Objects<a name=\"compobj\"></a>\n",
    "\n",
    "When a class and an object share the same name and defined in the same file, the object is called a **companion object**. When you use `new` before the class/object name, it will instantiate the class. If you don't use `new`, it will reference the object:"
   ]
  },
  {
   "cell_type": "code",
   "execution_count": null,
   "metadata": {},
   "outputs": [],
   "source": [
    "object Lion {\n",
    "    def roar(): Unit = println(\"I'M AN OBJECT!\")\n",
    "}\n",
    "class Lion {\n",
    "    def roar(): Unit = println(\"I'M A CLASS!\")\n",
    "}\n",
    "new Lion().roar()\n",
    "Lion.roar()"
   ]
  },
  {
   "cell_type": "markdown",
   "metadata": {},
   "source": [
    "Companion objects are usually used for the following reasons:\n",
    "  1. to contain constants related to the class\n",
    "  2. to execute code before/after the class constructor\n",
    "  3. to create multiple constructors for a class\n",
    "\n",
    "In the example below, we will instantiate a number of instances of Animal. We want each animal to have a name, and to know its order within all instantiations. Finally, if no name is given, it should get a default name."
   ]
  },
  {
   "cell_type": "code",
   "execution_count": null,
   "metadata": {
    "collapsed": true
   },
   "outputs": [],
   "source": [
    "object Animal {\n",
    "    val defaultName = \"Bigfoot\"\n",
    "    private var numberOfAnimals = 0\n",
    "    def apply(name: String): Animal = {\n",
    "        numberOfAnimals += 1\n",
    "        new Animal(name, numberOfAnimals)\n",
    "    }\n",
    "    def apply(): Animal = apply(defaultName)\n",
    "}\n",
    "class Animal(name: String, order: Int) {\n",
    "  def info: String = s\"Hi my name is $name, and I'm $order in line!\"\n",
    "}\n",
    "\n",
    "val bunny = Animal.apply(\"Hopper\") // Calls the Animal factory method\n",
    "println(bunny.info)\n",
    "val cat = Animal(\"Whiskers\")       // Calls the Animal factory method\n",
    "println(cat.info)\n",
    "val yeti = Animal()                // Calls the Animal factory method\n",
    "println(yeti.info)\n"
   ]
  },
  {
   "cell_type": "markdown",
   "metadata": {},
   "source": [
    "*What's happening here?*\n",
    "1. Our **Animal companion object** defines a constant relevant to ```class Animal```:\n",
    "```scala\n",
    "val defaultName = \"Bigfoot\"\n",
    "```\n",
    "1. It also defines a private mutable integer to keep track of the order of Animal instances:\n",
    "```scala \n",
    "private var numberOfAnimals = 0\n",
    "```\n",
    "1. It defines two **apply** methods, which are known as **factory methods** in that they return instances of the **class Animal**. \n",
    "    1. The first creates an instance of Animal using only one argument, ```name```, and uses ```numberOfAnimals``` as well to call the Animal class constructor.\n",
    "```scala\n",
    "def apply(name: String): Animal = {\n",
    "            numberOfAnimals += 1\n",
    "            new Animal(name, numberOfAnimals)\n",
    "}\n",
    "```\n",
    "    1. The second factory method requires no argument, and instead uses the default name to call the other apply method.\n",
    "```scala\n",
    "def apply(): Animal = apply(defaultName)\n",
    "```\n",
    "1. These factory methods can be called naively like this\n",
    "```scala\n",
    "val bunny = Animal.apply(\"Hopper\")\n",
    "```\n",
    "which eliminates the need to use the new keyword, but the real magic is that the compiler assumes the apply method any time it sees parentheses applied to an instance or object:\n",
    "```scala\n",
    "val cat = Animal(\"Whiskers\")\n",
    "```\n",
    "1. Factory methods, usually provided via companion objects, allow alternative ways to express instance creations, provide additional tests for constructor parameters, conversions, and eliminate the need to use the keyword ```new```. Note that you must call the companion object's `apply` method for `numberOfAnimals` to be incremented.\n",
    "\n",
    "**Chisel uses many companion objects, like Module.** When you write the following:\n",
    "```scala\n",
    "val myModule = Module(new MyModule)\n",
    "```\n",
    "you are calling the **Module companion object**, so Chisel can run background code before and after instantiating \n",
    "```MyModule```."
   ]
  },
  {
   "cell_type": "markdown",
   "metadata": {},
   "source": [
    "## Case Classes<a name=\"caseclass\"></a>\n",
    "Case classes are a special type of Scala class that provides some cool additional features. They are very common in Scala programming, so this section outlines some of their useful features:\n",
    "- Allows **external access** to the **class parameters**\n",
    "- **Eliminates** the need to use **`new`** when instantiating the class\n",
    "- Automatically creates an **unapply method** that supplies access to all of the class Parameters.\n",
    "- Cannot be subclassed from\n",
    "\n",
    "In the following example, we declare three different classes, `Nail`, `Screw`, and `Staple`."
   ]
  },
  {
   "cell_type": "code",
   "execution_count": null,
   "metadata": {
    "collapsed": true
   },
   "outputs": [],
   "source": [
    "class Nail(length: Int) // Regular class\n",
    "val nail = new Nail(10) // Requires the `new` keyword\n",
    "// println(nail.length) // Illegal! Class constructor parameters are not by default externally visible\n",
    "\n",
    "class Screw(val threadSpace: Int) // By using the `val` keyword, threadSpace is now externally visible\n",
    "val screw = new Screw(2)          // Requires the `new` keyword\n",
    "println(screw.threadSpace)\n",
    "\n",
    "case class Staple(isClosed: Boolean) // Case class constructor parameters are, by default, externally visible\n",
    "val staple = Staple(false)           // No `new` keyword required\n",
    "println(staple.isClosed)"
   ]
  },
  {
   "cell_type": "markdown",
   "metadata": {},
   "source": [
    "`Nail` is a regular class, and its parameters are not externally visible because we did not use the `val` keyword in the argument list. It also requires the `new` keyword when declaring an instance of `Nail`.\n",
    "\n",
    "`Screw` is declared similarly to `Nail`, but includes `val` in the argument list. This allows its parameter, `threadSpace`, to be visible externally.\n",
    "\n",
    "By using a case class, `Staple` gets the benefit of all its parameters being externally visible (without needing the `val` keyword).\n",
    "\n",
    "In addition, `Staple` does not require using `new` when declaring a case class. This is because the Scala compiler automatically creates a companion object for every case class in your code, which contains an apply method for the case class."
   ]
  },
  {
   "cell_type": "markdown",
   "metadata": {},
   "source": [
    "## Unapply<a name=\"unapply\"></a>\n",
    "As it turns out, the companion object that is created for every case class also contains an **unapply** method, in addition to an **apply** method. What is an **unapply** method?\n",
    "\n",
    "Scala unapply methods are another form of syntactic sugar that give match statements the ability to both match on types and **extract values** from those types during the matching.\n",
    "\n",
    "Let's look at the following example. We have three types of Disney characters: `Hero`, `Villain`, and `SideKick`. We also defined two variables, `jungleBook` and `lionKing` which contain a list of Disney characters. Finally, we have two functions: `teaser`, which prints out a summary of the movie, and `sequel`, which creates a new list of characters based off the old list of characters."
   ]
  },
  {
   "cell_type": "code",
   "execution_count": null,
   "metadata": {},
   "outputs": [],
   "source": [
    "trait DisneyCharacter\n",
    "case class Hero(name: String) extends DisneyCharacter\n",
    "case class Villain(name: String, isTiger: Boolean) extends DisneyCharacter\n",
    "case class SideKick(name: String) extends DisneyCharacter\n",
    "\n",
    "val jungleBook = Seq(\n",
    "    new Hero(\"Mowgli\"),\n",
    "    new Villain(\"Shere Khan\", true),\n",
    "    new SideKick(\"Baloo\"),\n",
    "    new SideKick(\"Bagheera\"),\n",
    "    new Villain(\"Kaa\", false)\n",
    ")\n",
    "\n",
    "val lionKing = Seq(\n",
    "    new Hero(\"Simba\"),\n",
    "    new Villain(\"Scar\", true),\n",
    "    new SideKick(\"Zazu\"),\n",
    "    new SideKick(\"Timone\"),\n",
    "    new SideKick(\"Pumba\"),\n",
    "    new Villain(\"Hyeena\", false)\n",
    ")\n",
    "\n",
    "def teaser(chars: Seq[DisneyCharacter]): String = {\n",
    "    val heros = chars.collect { case h: Hero => h.name }.mkString(\" and \")\n",
    "    val sidekicks = chars.collect { case s: SideKick => s.name }.mkString(\" and \")\n",
    "    val villains = chars.collect { case v: Villain => v.name }.mkString(\" and \")\n",
    "    s\"Watch the courageous $heros, along with $sidekicks, defeat $villains!!!\"\n",
    "}\n",
    "\n",
    "def sequel(chars: Seq[DisneyCharacter]): Seq[DisneyCharacter] = chars.map {\n",
    "    _ match {\n",
    "        case Hero(name) => SideKick(name)              // You already got your own movie!\n",
    "        case SideKick(\"Zazu\") => SideKick(\"Zazu\")      // Once a king's advisor, always a king's advisor \n",
    "        case SideKick(name) => Hero(name)              // Our new heroes!\n",
    "        case Villain(name, true) => Villain(name, true)// Cats always make great villains...\n",
    "        case Villain(name, _) => SideKick(name)        // Bad guys who get a chance for redemption!\n",
    "    }\n",
    "}\n",
    "\n",
    "println(teaser(jungleBook))\n",
    "println(teaser(sequel(jungleBook)))\n",
    "println(teaser(lionKing))\n",
    "println(teaser(sequel(lionKing)))"
   ]
  },
  {
   "cell_type": "markdown",
   "metadata": {},
   "source": [
    "If you look at the `sequel` function, you should note that addition to matching on the type of each character, we are also:\n",
    "- Directly reference internal values of each character\n",
    "- Sometimes, are matching directly on the internal values of each character\n",
    "\n",
    "These are possible due to the compiler implementing an `unapply` method. Note that unapplying the case is just syntactic sugar; e.g. the following two cases examples are equivalent:\n",
    "```scala\n",
    "case h: Hero => SideKick(h.name)\n",
    "case Hero(name) => SideKick(name)\n",
    "```\n",
    "\n",
    "In addition, there are more syntaxes and styles of matching. The following two cases are also equivalent, but the second allows you to match on internal values while still reference the parent value:\n",
    "```scala\n",
    "case Villain(name, true) => Villain(name, true)\n",
    "case v@Villain(name, true) => v\n",
    "```\n",
    "\n",
    "Finally, you can directly embed condition checking into match statements, as demonstrated by the third of these equivalent examples:\n",
    "```scala\n",
    "case SideKick(\"Zazu\") => SideKick(\"Zazu\")\n",
    "case s@SideKick(\"Zazu\") => s\n",
    "case s: SideKick if s.name == \"Zazu\" => s\n",
    "```\n",
    "\n",
    "All these syntaxes are enabled by a Scala unapply method contained in a class's companion object. If you want to unapply a class but do not want to make it a case class, you can manually implement the unapply method. The following example demonstrates how one can manually implement a class's apply and unapply methods:"
   ]
  },
  {
   "cell_type": "code",
   "execution_count": null,
   "metadata": {
    "collapsed": true
   },
   "outputs": [],
   "source": [
    "class Boat(val name: String, val length: Int)\n",
    "object Boat {\n",
    "    def unapply(b: Boat): Option[(String, Int)] = Some((b.name, b.length))\n",
    "    def apply(name: String, length: Int): Boat = new Boat(name, length)\n",
    "}\n",
    "\n",
    "def getSmallBoats(seq: Seq[Boat]): Seq[Boat] = seq.filter { b =>\n",
    "    b match {\n",
    "        case Boat(_, length) if length < 60 => true\n",
    "        case Boat(_, _) => false\n",
    "    }\n",
    "}\n",
    "\n",
    "val boats = Seq(Boat(\"Santa Maria\", 62), Boat(\"Pinta\", 56), Boat(\"Nina\", 50))\n",
    "println(getSmallBoats(boats).map(_.name).mkString(\" and \") + \" are small boats!\")"
   ]
  },
  {
   "cell_type": "markdown",
   "metadata": {},
   "source": [
    "***Great job getting through the entire tutorial!!***"
   ]
  }
 ],
 "metadata": {
  "kernelspec": {
   "display_name": "Scala",
   "language": "scala",
   "name": "scala"
  },
  "language_info": {
   "codemirror_mode": "text/x-scala",
   "file_extension": ".scala",
   "mimetype": "text/x-scala",
   "name": "scala211",
   "nbconvert_exporter": "script",
   "pygments_lexer": "scala",
   "version": "2.11.11"
  }
 },
 "nbformat": 4,
 "nbformat_minor": 2
}
