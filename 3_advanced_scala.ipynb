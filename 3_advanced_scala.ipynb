{
 "cells": [
  {
   "cell_type": "markdown",
   "metadata": {},
   "source": [
    "# Module 3: Advanced Scala\n",
    "#### Written by Adam Izraelevitz (adamiz@berkeley.edu)\n",
    "\n",
    "### Prerequesites\n",
    "**Module 1: Basic Scala**"
   ]
  },
  {
   "cell_type": "markdown",
   "metadata": {},
   "source": [
    "## Table of Contents\n",
    "In this tutorial, you will learn some advanced features of Scala which enable you to write more powerful and expressive Chisel generators. We will focus on the following Scala features:\n",
    "\n",
    "**[Functional Programming](#funcprog)**\n",
    "1. [Immutable vs. Mutable Data Structures](#data)  \n",
    "2. [A Simple Example](#example)  \n",
    "2. [Map](#map)  \n",
    "2. [Anonymous Functions](#anonfunc)  \n",
    "2. [Filter](#filter)  \n",
    "2. [Reduce](#reduce)  \n",
    "2. [FoldLeft](#foldleft)\n",
    "\n",
    "**[Objects and Classes](#objclass)**\n",
    "2. [Companion Objects](#compobj)  \n",
    "2. [Case Classes](#caseclass)\n",
    "\n",
    "**[Type System](#types)**\n",
    "2. [Static Types](#static)  \n",
    "2. [Common Idioms](#idiom)\n",
    "2. [Generic Types](#generic)\n",
    "\n",
    "**[Match/Case Statements](#match)**\n",
    "\n",
    "**[Implicits](#implicits)**\n",
    "\n"
   ]
  },
  {
   "cell_type": "markdown",
   "metadata": {},
   "source": [
    "# Functional Programming<a name=\"funcprog\"></a>\n",
    "\n",
    "Functional programming enables progammers to operate on immutable datastructures in a concise and powerful way. Before we delve into this style of programming, we need to understand the difference between immutability and mutability.\n",
    "\n",
    "## Immutable vs Mutable Datastructures<a name=\"data\"></a>\n",
    "\n",
    "A datastructure is immutable if, after it is created, it cannot be changed. Conversely, mutable datastructures can be changed after creation.\n",
    "\n",
    "Like array's in C or ArrayBuffer's in Java, Scala has a corresponding mutable List-like datastructure, `ArrayBuffer[String]`. We can use various update and appending operations to change its contents."
   ]
  },
  {
   "cell_type": "code",
   "execution_count": null,
   "metadata": {},
   "outputs": [],
   "source": [
    "import scala.collection.mutable //Import mutable collections library\n",
    "val arraybuf = mutable.ArrayBuffer[String](\"a\", \"b\", \"c\")\n",
    "println(arraybuf)\n",
    "// Because ArrayBuffer is mutable, you can update or append values to arraybuf\n",
    "arraybuf(0) = \"A\"\n",
    "println(arraybuf)\n",
    "arraybuf += \"d\"\n",
    "println(arraybuf)"
   ]
  },
  {
   "cell_type": "markdown",
   "metadata": {},
   "source": [
    "Alternatively, we can use an immutable datastructure, `List[String]`. We cannot use update or appending operations, but instead must create new immutable datastructures containing our changes:"
   ]
  },
  {
   "cell_type": "code",
   "execution_count": null,
   "metadata": {},
   "outputs": [],
   "source": [
    "// Because List is immutable, l will always have the 3 elements \"a\", \"b\", and \"c\"\n",
    "val list = List(\"a\", \"b\", \"c\")\n",
    "println(list)\n",
    "// We cannot append a new value or update a value\n",
    "// list(0) = \"A\" <- Illegal\n",
    "// list += \"d\" <- Illegal\n",
    "\n",
    "// Instead, we must create a new List with our appended or updated value\n",
    "val lAppended = list ++ List(\"d\") // ++ returns a new immutable List with both input lists appended\n",
    "println(lAppended)\n",
    "val lUpdated = List(\"A\") ++ list.tail // tail returns a new List without the first element\n",
    "println(lUpdated)"
   ]
  },
  {
   "cell_type": "markdown",
   "metadata": {},
   "source": [
    "Immutable datastructures have the benefits of eliminating side-effects, making your code's behavior more reliable and predictable.Scala style promotes using immutable datastructures whenever possible; the only exceptions are when a mutable datastructure enables more performant or significantly cleaner code.\n",
    "\n",
    "## A Simple Example<a name=\"example\"></a>\n",
    "\n",
    "Generally, we use functional programming to cleanly and concisely create new immutable datastructures from other immutable datastructures.\n",
    "\n",
    "Suppose we are given a sequence of strings, and want to return a new sequence with each string \"doubled\":\n",
    "```scala\n",
    "val sequence = List(\"a\", \"b\", \"c\")\n",
    "println(sequence.mkString(\" \")) //\"a b c\"\n",
    "...\n",
    "val newSequence = ...\n",
    "...\n",
    "println(newSequence.mkString(\" \")) //\"aa bb cc\"\n",
    "```\n",
    "\n",
    "Using a for-loop and a mutable list, we can mimic how one could do this in C or Java:"
   ]
  },
  {
   "cell_type": "code",
   "execution_count": null,
   "metadata": {},
   "outputs": [],
   "source": [
    "val sequence = List(\"a\", \"b\", \"c\")\n",
    "println(sequence.mkString(\" \"))\n",
    "\n",
    "val doubleABuf = mutable.ArrayBuffer[String]()\n",
    "for(letter <- sequence) {\n",
    "    doubleABuf += letter + letter\n",
    "}\n",
    "println(doubleABuf.mkString(\" \"))"
   ]
  },
  {
   "cell_type": "markdown",
   "metadata": {},
   "source": [
    "However, using functional programming, we can do the same but much more concisely:"
   ]
  },
  {
   "cell_type": "code",
   "execution_count": null,
   "metadata": {},
   "outputs": [],
   "source": [
    "println(sequence.mkString(\" \"))\n",
    "\n",
    "val doubleSeq = sequence.map(s => s + s)\n",
    "println(doubleSeq.mkString(\" \"))"
   ]
  },
  {
   "cell_type": "markdown",
   "metadata": {},
   "source": [
    "What's going on here?? Let's break it down.\n",
    "\n",
    "## Map<a name=\"map\"></a>\n",
    "First, let's rewrite the same example to be more less syntactically concise, but more readable to those unfamiliar with functional programming."
   ]
  },
  {
   "cell_type": "code",
   "execution_count": null,
   "metadata": {},
   "outputs": [],
   "source": [
    "println(sequence.mkString(\" \"))\n",
    "\n",
    "def double(s: String): String = s + s\n",
    "val doubleSeq = sequence.map(double)\n",
    "println(doubleSeq.mkString(\" \"))"
   ]
  },
  {
   "cell_type": "markdown",
   "metadata": {},
   "source": [
    "As you can see, the function `double` takes a `String` and returns a new \"doubled\" `String`. We then pass this function, as an argument, to another function called `map`. When called, map returns a new `List` containing the results of applying `double` to every element in `sequence`.\n",
    "\n",
    "Let's try a different function, `triple`, which appends three copies of a string together:"
   ]
  },
  {
   "cell_type": "code",
   "execution_count": null,
   "metadata": {},
   "outputs": [],
   "source": [
    "println(sequence.mkString(\" \"))\n",
    "\n",
    "def triple(s: String): String = ???\n",
    "val tripleSeq = sequence.map(triple)\n",
    "println(newSequence.mkString(\" \"))"
   ]
  },
  {
   "cell_type": "markdown",
   "metadata": {},
   "source": [
    "As you can see, we can easily change the function we pass the `map`, while abstracting away the actual traversing of the sequence.\n",
    "\n",
    "## Anonymous Functions<a name=\"anonfunc\"></a>\n",
    "In our earliest example, we had the following syntax.\n",
    "```scala\n",
    "s => s + s\n",
    "```\n",
    "This is an anonymous function, or a function that has no name.Think of this like an object with a single method. When we call an anonymous function (e.g. passing it arguments), it calls its method on those arguments. In this case, our argument `s` is doubled.\n",
    "\n",
    "The following example shows us creating an anonymous function, then calling it:"
   ]
  },
  {
   "cell_type": "code",
   "execution_count": null,
   "metadata": {},
   "outputs": [],
   "source": [
    "val anon = {x: Int => x + x} // Scala usually requires anonymous functions to be wrapped in {}\n",
    "val result = anon(10)\n",
    "println(result)"
   ]
  },
  {
   "cell_type": "markdown",
   "metadata": {},
   "source": [
    "You can see that this is very similar to a Scala method declaration, `def`. Generally, we use anonymous functions when they are simple and referenced only once, and use method declarations otherwise.\n",
    "\n",
    "Now, you should be able to fully understand our functional programming example:"
   ]
  },
  {
   "cell_type": "code",
   "execution_count": null,
   "metadata": {},
   "outputs": [],
   "source": [
    "println(sequence.mkString(\" \"))\n",
    "\n",
    "val doubleSeq = sequence.map(s => s + s)\n",
    "println(doubleSeq.mkString(\" \"))"
   ]
  },
  {
   "cell_type": "markdown",
   "metadata": {},
   "source": [
    "Try writing your own anonymous function, so that the example returns a sequence of tripled strings:"
   ]
  },
  {
   "cell_type": "code",
   "execution_count": null,
   "metadata": {},
   "outputs": [],
   "source": [
    "val tripleSeq = sequence.map(s => ???)\n",
    "println(tripleSeq.mkString(\" \"))"
   ]
  },
  {
   "cell_type": "markdown",
   "metadata": {},
   "source": [
    "## Filter<a name=\"filter\"></a>\n",
    "\n",
    "Like `map`, the function `filter` takes a function as an argument, but this function returns true or false. Thus, calling `filter` will returns a new sequence containing only elements that return true.\n",
    "\n",
    "The following code prints a new sequence that only contains numbers greater than 5:"
   ]
  },
  {
   "cell_type": "code",
   "execution_count": null,
   "metadata": {},
   "outputs": [],
   "source": [
    "val numbers = Seq(1, 2, 10, 6, 3, 9)\n",
    "val filtered = numbers.filter(i => i > 5)\n",
    "println(filtered.mkString(\" \"))"
   ]
  },
  {
   "cell_type": "markdown",
   "metadata": {},
   "source": [
    "## Reduce<a name=\"reduce\"></a>\n",
    "\n",
    "The function `reduce` will iteratively call its input function on two elements, returning a new element, until only one remains.\n",
    "\n",
    "The following code prints the total sum of all integers in the sequence:"
   ]
  },
  {
   "cell_type": "code",
   "execution_count": null,
   "metadata": {},
   "outputs": [],
   "source": [
    "val sum = numbers.reduce((a, b) => a + b)\n",
    "println(sum)"
   ]
  },
  {
   "cell_type": "markdown",
   "metadata": {},
   "source": [
    "## FoldLeft<a name=\"foldleft\"></a>\n",
    "\n",
    "Reductions have the problem of failing when the input sequence is empty:"
   ]
  },
  {
   "cell_type": "code",
   "execution_count": null,
   "metadata": {},
   "outputs": [],
   "source": [
    "val empty = Seq[Int]()\n",
    "empty.reduce((a, b) => a + b)"
   ]
  },
  {
   "cell_type": "markdown",
   "metadata": {},
   "source": [
    "In these instances, we can use the function `foldLeft`. This function takes two arguments, an initial value and another function. This function takes two arguments - one is the value you are collecting, and the second is an element of the sequence, and it must return the new value you are collecting.\n",
    "\n",
    "As it turns out, we can use `foldLeft` to implement our `map`, `reduce`, and `filter` examples!"
   ]
  },
  {
   "cell_type": "code",
   "execution_count": null,
   "metadata": {},
   "outputs": [],
   "source": [
    "val mapped = sequence.foldLeft(Seq[String]()){\n",
    "    (seq, element) => seq ++ Seq(element + element)\n",
    "}\n",
    "println(mapped.mkString(\" \"))\n",
    "\n",
    "val reduced = numbers.foldLeft(0){\n",
    "    (sum, element) => sum + element\n",
    "}\n",
    "println(reduced)\n",
    "\n",
    "val filtered = numbers.foldLeft(Seq[Int]()){\n",
    "    (seq, element) => if (element > 5) seq ++ Seq(element) else seq\n",
    "}\n",
    "println(filtered.mkString(\" \"))"
   ]
  },
  {
   "cell_type": "markdown",
   "metadata": {},
   "source": [
    "As you can see, `foldLeft` is a very powerful construct, and well worth starting at these examples to fully understand them.\n",
    "\n",
    "Other useful sequence manipulators can be found here: http://www.scala-lang.org/api/current/scala/collection/immutable/List.html"
   ]
  },
  {
   "cell_type": "markdown",
   "metadata": {},
   "source": [
    "# Objects and Classes<a name=\"objclass\"></a>\n",
    "\n",
    "## Companion Objects<a name=\"compobj\"></a>\n",
    "Like Java, Scala has classes you can define and instantiate. However, when you want a static class, there is no direct support in Java.\n",
    "\n",
    "Scala has a language feature for these singleton classes, called objects. Often they define a method `apply`, which is  special in that it is called by reference the object, followed by an argument list."
   ]
  },
  {
   "cell_type": "code",
   "execution_count": null,
   "metadata": {},
   "outputs": [],
   "source": [
    "object MyObject {\n",
    "    def hi: String = \"Hello World!\"\n",
    "    def apply(msg: String) = msg\n",
    "}\n",
    "println(MyObject.hi)\n",
    "println(MyObject(msg)) // equivalent to MyObject.apply(msg)"
   ]
  },
  {
   "cell_type": "markdown",
   "metadata": {},
   "source": [
    "When a class and an object share the same name and defined in the same file, the object is called a **companion object**.\n",
    "\n",
    "Companion objects are usually used to run code before or after the class constructor. In the example below, we will count the number of instances of Animal. Note that you must call the companion object's `apply` method for `numberOfAnimals` to be incremented."
   ]
  },
  {
   "cell_type": "code",
   "execution_count": null,
   "metadata": {},
   "outputs": [],
   "source": [
    "object Animal {\n",
    "    var numberOfAnimals = 0\n",
    "    def apply(name: String) = {\n",
    "        numberOfAnimals += 1\n",
    "        new Animal(name)\n",
    "    }\n",
    "}\n",
    "class Animal(val name: String)\n",
    "\n",
    "val bunny = new Animal(\"Hopper\") // Calls the class Animal's constructor\n",
    "val cat = Animal(\"Whiskers\")     // Calls the object Animal's apply method\n",
    "println(Animal.numberOfAnimals)  // Prints only one animal!"
   ]
  },
  {
   "cell_type": "markdown",
   "metadata": {},
   "source": [
    "Chisel uses many companion objects, like Module. When you write `Module(new MyModule)`, you are calling the Module companion object, so Chisel can run background code before and after instantiating `MyModule`.\n",
    "\n",
    "Can call private members.\n",
    "\n",
    "Here's another example.\n",
    "\n",
    "A companion object is similar to a class but can only occur once.  First let's assume we have the definition of some class X.  Along with the class we will define an **companion object** for X"
   ]
  },
  {
   "cell_type": "code",
   "execution_count": null,
   "metadata": {},
   "outputs": [],
   "source": [
    "class X(x: Int, y: Int) { val z = x + y }\n",
    "\n",
    "object X {\n",
    "  val const = 77\n",
    "  def apply(i: Int): X = { new X(i, const)  }\n",
    "  def apply(i: Int, j: Int): X = { new X(i, j) }\n",
    "  def show(x: X): Unit = { println(s\"x contains value z = ${x.z}\") }\n",
    "}"
   ]
  },
  {
   "cell_type": "markdown",
   "metadata": {},
   "source": [
    "Our companion object X does 3 things\n",
    "1. It defines a constant, companion object are the canonical way to define constants related to a class\n",
    "  * ```val const = 77``` \n",
    "1. It defines two **apply** methods.  In this case the **apply** methods are known as factory methods in that they return instances of the **class X**\n",
    "  * ```def apply(i: Int): X = { new X(i, const)  }``` creates an instance of X using only one argument, it uses it's constant const to provide the other missing argument\n",
    "  * ```def apply(i: Int, j: Int): X = { new X(i, j) }``` defines a basic factory that requires the same arguments as the constructor for **class X**\n",
    "  * These factory methods can be called naively like this ```val x1 = X.apply(4)``` or ```val x2 = X.apply(33)``` which eliminates the need to use the new keyword\n",
    "  * But the real magic is that the compiler assumes the apply method any time it sees parentheses applied to an instance or object.  By way of example \n",
    "    *  ```val x1 = X(4)``` is equivalent to ```val x1 = X.apply(4)```\n",
    "    * ```val x2 = X(33)``` is equivalent to ```val x2 = X.apply(33)```\n",
    "  * Factory methods, usually provided via companion objects, allows alternative ways to express instance creations, they can provide additional tests for constructor parameters, conversions, and eliminate the need to use the keyword new\n",
    "\n",
    "> We will not here that there is another way of creating a default factory method for a class via the case modifier in class definition ```case class X(...) { ... }``` which implicitly creates a factory method that does not require new and does a number of useful functions.  There are restrictions on case classes, but they are a commonly used scala idiom."
   ]
  },
  {
   "cell_type": "markdown",
   "metadata": {},
   "source": [
    "## Case Classes<a name=\"caseclass\"></a>\n",
    "\n",
    "Chisel often uses case classes, a declaration looks something like \n"
   ]
  },
  {
   "cell_type": "code",
   "execution_count": null,
   "metadata": {},
   "outputs": [],
   "source": [
    "case class Drill(variableSpeed: Boolean, amps: Int, rpm: Int)\n"
   ]
  },
  {
   "cell_type": "markdown",
   "metadata": {},
   "source": [
    "\n",
    "The case class provides a bunch of useful features, the ones most commonly taken advantage of are:\n",
    "- Allows external access to the class parameters.  These are not accessible by default a class declared with ```class X(y: Int)``` would not allow the programmer to reference ```x.y``` when x is an instance of X created via ```val x = new X(88)```\n",
    "- Eliminates the need to use new when instantiating the class, i.e. one can write ```val d = Drill(true, 10, 3000)```\n",
    "- Automatically creates an unapply method that supplies access to all of the class Parameters.  This allows a programmer to us match on the class as we discussed in [Scala Match and Matching](Scala-Things-You-Should-Know#scala-match-and-matching). So assuming a match is being done on an instance of Drill, once can write."
   ]
  },
  {
   "cell_type": "markdown",
   "metadata": {},
   "source": [
    "# Type System<a name=\"types\"></a>\n",
    "\n",
    "## Static Types<a name=\"static\"></a>\n",
    "\n",
    "## Common Idioms<a name=\"idioms\"></a>\n",
    "\n",
    "### Option\n",
    "\n",
    "### Seq/List\n",
    "\n",
    "## Generic Types<a name=\"generic\"></a>"
   ]
  },
  {
   "cell_type": "markdown",
   "metadata": {},
   "source": [
    "# Match/Case Statements<a name=\"match\"></a>\n",
    "\n",
    "Scala is a strongly typed language, so the types of all objects are known during runtime. To use this type information to dictate control flow, we use **match** statements."
   ]
  },
  {
   "cell_type": "code",
   "execution_count": null,
   "metadata": {},
   "outputs": [],
   "source": [
    "val sequence = Seq(\"a\", 1, 0.0)\n",
    "sequence.foreach { x =>\n",
    "    x match {\n",
    "        case s: String => println(s\"$x is a String\")\n",
    "        case s: Int    => println(s\"$x is an Int\")\n",
    "        case s: Double => println(s\"$x is a Double\")\n",
    "    }\n",
    "}"
   ]
  },
  {
   "cell_type": "markdown",
   "metadata": {},
   "source": [
    "Match statements have some limitations. Because Scala runs on the JVM, and the JVM does not maintain polymorphic types, you cannot match on them at runtime (because they are all erased). Note that the following example always matches the first case statement, because the `[String]`, `[Int]`, and `[Double]` polymorphic types are erased, and the case statements are **actually** matching on just a `Seq`."
   ]
  },
  {
   "cell_type": "code",
   "execution_count": null,
   "metadata": {},
   "outputs": [],
   "source": [
    "val sequence = Seq(Seq(\"a\"), Seq(1), Seq(0.0))\n",
    "sequence.foreach { x =>\n",
    "    x match {\n",
    "        case s: Seq[String] => println(s\"$x is a String\")\n",
    "        case s: Seq[Int]    => println(s\"$x is an Int\")\n",
    "        case s: Seq[Double] => println(s\"$x is a Double\")\n",
    "    }\n",
    "}"
   ]
  },
  {
   "cell_type": "markdown",
   "metadata": {},
   "source": [
    "The scala *matching* concept is used throughout chisel and needs to be part of any chisel programmers basic understanding. Scala provides the match operator which supports:\n",
    "- Simple testing for alternatives, something like a *C* switch statement\n",
    "- More complex testing of ad-hoc combinations of values\n",
    "- Taking actions based on the type of a variable when it's type is unknown or underspecified, for example when\n",
    "  - variable is taken from a heterogeneous list ```val mixedList = List(1, \"string\", false)```\n",
    "  - or variable is known to be a member of a super-class but not which specific sub-class it is.\n",
    "- Extraction of sub strings of a string that are specified with a *regular expression*"
   ]
  },
  {
   "cell_type": "code",
   "execution_count": null,
   "metadata": {},
   "outputs": [],
   "source": [
    "// y is an integer variable defined somewhere else in the code\n",
    "val y = 7\n",
    "/// ...\n",
    "val x = y match {\n",
    "  case 0 => \"zero\"\n",
    "  case 1 => \"one\"\n",
    "  case 2 => \"two\"\n",
    "  case _ => \"many\"\n",
    "}\n",
    "println(\"y is \" + x)"
   ]
  },
  {
   "cell_type": "markdown",
   "metadata": {},
   "source": [
    "The match operator checks possible values and for each case returns a string.  A couple of things to note:\n",
    "- A match is searched in the order of the case statements, once a case statement has been matched, no other\n",
    "checks against other case statements are made.\n",
    "- The use of underscore as a wildcard, to handle any value not found. \n"
   ]
  },
  {
   "cell_type": "markdown",
   "metadata": {},
   "source": [
    "# Testing adhoc combinations with match\n",
    "Here's a simple example of a truth table implemented with a match statement and tuple of values\n"
   ]
  },
  {
   "cell_type": "code",
   "execution_count": null,
   "metadata": {},
   "outputs": [],
   "source": [
    "def animalType(biggerThanBreadBox: Boolean, meanAsCanBe: Boolean): String = {\n",
    "  (biggerThanBreadBox, meanAsCanBe) match {\n",
    "    case (true, true) => \"wolverine\"\n",
    "    case (true, false) => \"elephant\"\n",
    "    case (false, true) => \"shrew\"\n",
    "    case (false, false) => \"puppy\"\n",
    "  }\n",
    "}"
   ]
  },
  {
   "cell_type": "markdown",
   "metadata": {},
   "source": [
    "# Processing a heterogenous list with match"
   ]
  },
  {
   "cell_type": "code",
   "execution_count": null,
   "metadata": {},
   "outputs": [],
   "source": [
    "val mixedList = List(1, \"string\", false, 1.57)\n",
    "val stringList = mixedList.map { \n",
    "  case i: Int => i.toString\n",
    "  case s: String => s\n",
    "  case b: Boolean => \n",
    "    if(b) {\n",
    "      \"T\"\n",
    "    } else {\n",
    "      \"F\"\n",
    "    }\n",
    "  case _ =>\n",
    "    \"unsupported type\"\n",
    "}"
   ]
  },
  {
   "cell_type": "markdown",
   "metadata": {},
   "source": [
    "```stringList``` will be a list of strings ```List(\"1\", \"string\", \"F\", \"unsupported type\")```\n",
    "What's going on?  We have created a list that contains three different types of elements.  We are going to map this string into another string.  The ```map``` method on string implicitly *match*es each element against the cases.  Other things to note:\n",
    "- Each code block that follows a the ```=>``` operator continues until it reaches either the ending brace of the match or the next case statement.\n",
    "- The map statement is sometimes written out more explicitly as follows, See: [Parameterized Code Blocks](Scala-Things-You-Should-Know#Parameterized-Code-Blocks)\n"
   ]
  },
  {
   "cell_type": "code",
   "execution_count": null,
   "metadata": {},
   "outputs": [],
   "source": [
    "val stringList2 = mixedList.map {  element =>\n",
    "  element match {                                 \n",
    "      case i: Int => i.toString\n",
    "      case s: String => s\n",
    "      case b: Boolean => \n",
    "        if(b) {\n",
    "          \"T\"\n",
    "        } else {\n",
    "          \"F\"\n",
    "        }\n",
    "      case _ =>\n",
    "        \"unsupported type\"\n",
    "  }\n",
    "}"
   ]
  },
  {
   "cell_type": "markdown",
   "metadata": {},
   "source": [
    "This works as it did before, but uses the parameterized code block convention to pass each member of list to the ```map``` code block as the variable ```element```.  In this code block each element is processed by the ```match``` statement.\n"
   ]
  },
  {
   "cell_type": "markdown",
   "metadata": {},
   "source": [
    "# Unapply methods and scala match\n",
    "Scala unapply methods are another form of syntactic sugar giving match statements the ability to both match on types and extract values from those types during the matching.  Scala unapply methods can be coded explicitly by developers or, more commonly, can be generated by the use of case classes.  See [Case Classes Section](Scala-Things-You-Should-Know#Case-Classes).  There are reams of web resources on this but we'll try to capture a number of important features in hopefully not too confusing example.\n",
    "First let's define a number of classes"
   ]
  },
  {
   "cell_type": "code",
   "execution_count": null,
   "metadata": {},
   "outputs": [],
   "source": [
    "trait Component { def name: String }\n",
    "case class Monitor(name: String, diagonal: Double, scanRate: Int) extends Component\n",
    "case class Keyboard(name: String, numberOfKeys: Int) extends Component\n",
    "case class Mouse(name: String) extends Component"
   ]
  },
  {
   "cell_type": "markdown",
   "metadata": {},
   "source": [
    "We have defined a trait, a lightweight super-class, and we have created a number of case classes that extend Component.  In each case they provide a name, required when extending the trait and other parameters based on their type.  We will now create a collection of components called System which will provide a displayComponents method that uses match to identify them."
   ]
  },
  {
   "cell_type": "code",
   "execution_count": null,
   "metadata": {},
   "outputs": [],
   "source": [
    "class System(val components: List[Component]) {\n",
    "  def displayComponents(): Unit = {\n",
    "    components.foreach {\n",
    "      case Monitor(\"BrandX\", size, _) =>\n",
    "        // brandx is square, lists horizontal size, all are 60Hz\n",
    "        val diag = size * 1.414\n",
    "        println(s\"monitor BrandX of diagonal size $diag scan rate is 60\")\n",
    "      case Monitor(name, size, scan) =>\n",
    "        println(s\"monitor $name of diagonal size $size scan rate $scan\")\n",
    "      case Keyboard(name, keys) =>\n",
    "        println(s\"keyboard $name with $keys keys\")\n",
    "      case _: Mouse =>\n",
    "        println(\"There is a mouse\")\n",
    "      case x: Component =>\n",
    "        println(s\"unknown component ${x.name}\")\n",
    "    }\n",
    "  }\n",
    "}"
   ]
  },
  {
   "cell_type": "markdown",
   "metadata": {},
   "source": [
    "The next case statement ```case Monitor(name, size, scan) =>``` will *match* any Monitor instance (except for any with BrandX because the prior case statement caught all those).  In this case when the component is a Monitor we grab the the parameters of the Monitor class as name, size and scan, and we use those directly to print out this type of monitor.\n",
    "\n",
    "\n",
    "We can begin to see the power of the match capability.  ```def displayComponents(): Unit = {``` declares the displayComponents method that returns nothing.  ```components.foreach {``` uses the foreach method to iterate over each element in the list of components. The code block of the foreach matches on a number of possibilities.\n",
    "\n",
    "```case Monitor(\"BrandX\", size, _) =>``` This matches a component whose type is Monitor and whose first parameter has the value. Now here is the cool part, the size symbol takes *diagonal* (the second parameter of the Monitor class) to a local variable size.  The size variable is only defined until the next case statement or to the end of the block.  Note also the use of underscore, the Monitor class has third parameter which must be dealt with, so we use the underscore to stand in for the third parameter but to indicate we do not need to use it's value.  This case statement then has a small code block\n",
    "```\n",
    "        // brandx is square, lists horizontal size, all are 60Hz\n",
    "        val diag = size * 1.414\n",
    "        println(s\"monitor BrandX of diagonal size $diag scan rate is 60\")\n",
    "```\n",
    "that does a little math on the size variable and prints out information on the monitor.\n",
    "\n",
    "Next we match on Keyboard class instances using ```case Keyboard(name, keys) =>``` as before using match's ability to instantiate local variables with values from the class constructor parameters.  \n",
    "\n",
    "The next case statement ```case _: Mouse =>``` uses a different match idiom.  The underscore says we have match here but we don't need to reference what was matched, but we do insist that the match be on a instance of class Mouse. See [Underscore the Scala Wildcard](Scala-Things-You-Should-Know#Underscore-the-Scala-Wildcard)\n",
    "\n",
    "The final case statement ```case x: Component =>``` illustrates matching an instance of Component and assigning that instance to a local variable x.  Since x is a Component the only thing know about it, is that it will have a method name. So we use that method, wrapped in braces because it contains more complex scala code, to print this.\n",
    "\n",
    "Because we declared components to be a ```List[Component]``` the compiler guarantees we don't have any other classes instances in there.  Otherwise a thorough developer should add an additional match to avoid errors.  That code would look like\n",
    "```scala\n",
    "    case _ =>\n",
    "      // do some error handling here\n",
    "```"
   ]
  },
  {
   "cell_type": "markdown",
   "metadata": {
    "collapsed": true
   },
   "source": [
    "# Implicits<a name=\"implicits\"></a>"
   ]
  },
  {
   "cell_type": "code",
   "execution_count": null,
   "metadata": {
    "collapsed": true
   },
   "outputs": [],
   "source": []
  },
  {
   "cell_type": "markdown",
   "metadata": {},
   "source": [
    "# Named parameters\n",
    "When a method is defined in scala, for example\n",
    "```scala\n",
    "def myMethod(count: Int, wrap: Boolean, wrapValue: Int = 24): Unit = { ... }\n",
    "```\n",
    "When calling the method, you will often see the parameter names along with the passed in values\n",
    "```scala\n",
    "myMethod(count = 10, wrap = false, wrapValue = 23)\n",
    "```\n",
    "For frequently called methods, the parameter ordering may be obvious but for less common methods and, in particular, boolean arguments, including the names with calls can make your code a lot more readable.  Using named parameters can allow you to re-arrange arguments, and in combination with parameters that have a default value, can make it so the caller only has to pass (by name) the specific arguments that do not use the default value.  Parameters to class definitions also used this named argument scheme (they are actually just the parameters to the constructor method for the class)."
   ]
  },
  {
   "cell_type": "markdown",
   "metadata": {},
   "source": [
    "# String interpolation\n",
    "There are lot of ways of building strings with dynamic content.  The simplest is simply to use the add operator."
   ]
  },
  {
   "cell_type": "code",
   "execution_count": null,
   "metadata": {},
   "outputs": [],
   "source": [
    "val (dogsName, destination) = (\"Rufus\", \"Store\")\n",
    "println(\"my dog \" + dogsName + \" went to the \" + destination)"
   ]
  },
  {
   "cell_type": "markdown",
   "metadata": {},
   "source": [
    "But there are a lot of more alternative (possibly more elegant ways) to do the same thing.  The first is the **s** string interpolator.  When a string begins with **s\"** any occurrences of a dollar sign followed by a scala variable, or a dollar sign followed by a code block, will have that replaced by the string value of the variable or block.  For our previous example we could make this "
   ]
  },
  {
   "cell_type": "code",
   "execution_count": null,
   "metadata": {},
   "outputs": [],
   "source": [
    "println(s\"my dog $dogsName went to the $destination\")"
   ]
  },
  {
   "cell_type": "markdown",
   "metadata": {},
   "source": [
    "As an example of using a code block, let's assume we have a list and we'd like to print this out with each animal capitalized. \n"
   ]
  },
  {
   "cell_type": "code",
   "execution_count": null,
   "metadata": {},
   "outputs": [],
   "source": [
    "val aList = List(\"dog\", \"cat\", \"fox\")\n",
    "println(s\"Animal list ${aList.map(s => s.capitalize).mkString(\" -- \")}\")\n"
   ]
  },
  {
   "cell_type": "markdown",
   "metadata": {},
   "source": [
    "We used the ${...} to execute some scala code on that list.  map converts the list to a new list in which each word has been capitalized, then that new list is changed into a string by taking each element and joining it to the others with the string \" -- \" between each element.\n",
    "\n",
    "Another less commonly used interpolator is the **f** which allows printf style formatting specifiers to be included at each interpolation point."
   ]
  },
  {
   "cell_type": "code",
   "execution_count": null,
   "metadata": {},
   "outputs": [],
   "source": [
    "case class Person(name: String, age: Int)\n",
    "\n",
    "val (lineNumber, person) = (22, Person(\"blink\", 77))\n",
    "println(f\"$lineNumber%6d ${person.name}%-40s ${person.age}%3d\")\n"
   ]
  },
  {
   "cell_type": "markdown",
   "metadata": {},
   "source": [
    "Can be used to make some columns that line up nicely.  Scala does have printf too if you really need it.  But be a little careful with that Chisel provides it's own version of printf specifically for debug printing inside an executing simulation.\n"
   ]
  },
  {
   "cell_type": "code",
   "execution_count": null,
   "metadata": {
    "collapsed": true
   },
   "outputs": [],
   "source": []
  }
 ],
 "metadata": {
  "kernelspec": {
   "display_name": "Scala",
   "language": "scala",
   "name": "scala"
  },
  "language_info": {
   "codemirror_mode": "text/x-scala",
   "file_extension": ".scala",
   "mimetype": "text/x-scala",
   "name": "scala211",
   "nbconvert_exporter": "script",
   "pygments_lexer": "scala",
   "version": "2.11.11"
  }
 },
 "nbformat": 4,
 "nbformat_minor": 2
}
