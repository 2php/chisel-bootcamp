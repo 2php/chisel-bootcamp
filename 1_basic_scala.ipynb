{
 "cells": [
  {
   "cell_type": "markdown",
   "metadata": {},
   "source": [
    "![Chisel](https://chisel.eecs.berkeley.edu/assets/img/chisel_64.png)"
   ]
  },
  {
   "cell_type": "markdown",
   "metadata": {},
   "source": [
    "# Module 1: Basic Scala\n",
    "#### Written by Chick Markley (chick@berkeley.edu)\n",
    "\n",
    "- Object Oriented\n",
    "  - Factory Objects, Classes\n",
    "  - Traits, overloading etc\n",
    "  - Strongly typed with type inference\n",
    "- Functional\n",
    "  - Higher order functions\n",
    "  - Anonymous functions\n",
    "  - Currying etc\n",
    "- Extensible\n",
    "  - Domain Specific Languages (DSLs)\n",
    "- Compiled to JVM\n",
    "  - Good performance\n",
    "  - Great Java interoperability\n",
    "  - Mature debugging, execution environments\n",
    "  "
   ]
  },
  {
   "cell_type": "markdown",
   "metadata": {},
   "source": [
    "## Table of Contents\n",
    "In this tutorial you will learn how the basics of how to install and manage a Scala development environment.\n",
    "You will also learn to read and understand the fundamental features of the Scala language:\n",
    "\n",
    "**[Installing Chisel](#installation)**\n",
    "**[Understanding Scala](#understanding)**\n",
    "1. [Variables and Constants](#vars)\n",
    "1. [Arrays](#arrays)\n",
    "1. [Lists](#lists)\n",
    "1. [Tuples](#tuples)\n",
    "1. [Maps](#maps)\n",
    "1. [Sets](#sets)\n"
   ]
  },
  {
   "cell_type": "markdown",
   "metadata": {},
   "source": [
    "# Installing Chisel<a name=\"installation\"></a>\n",
    "The chisel3 repo, found here: [github chisel3](https://github.com/freechipsproject/chisel3) has instructions in\n",
    "the README.md file. Scroll down the page to see the instructions.                                                 "
   ]
  },
  {
   "cell_type": "markdown",
   "metadata": {},
   "source": []
  },
  {
   "cell_type": "markdown",
   "metadata": {},
   "source": [
    "# Understanding Scala<a name=\"installation\"></a>\n",
    "Scala is yet another programming language.  It does all the basic stuff, we chose it for several reasons\n",
    "- It is a good language for hosting an embedded DSL\n",
    "- It has a powerful and elegant library for manipulating various collections of data\n",
    "- It type system helps catch a large class of errors very early in the development cycle\n",
    "- It has powerful way of expressing and passing functions.\n",
    "\n",
    "All of that really become apparent as we talk about Chisel later, but for now, we are going to focus on the\n",
    "basics of reading and writing basic Scala code."
   ]
  },
  {
   "cell_type": "markdown",
   "metadata": {},
   "source": [
    "# Variables and Constants -- val and var<a name=\"vars\"></a>\n",
    "Statements that create variable and constants are preceded with the keywords *var* and *val* respectively.  It is\n",
    "common practice to use *val* whenever possible.  Why?  Mostly to reduce the chances of re-using variables in ways that are error prone or make your code difficult to read.  Structure of Scala make this practice easier than you might expect."
   ]
  },
  {
   "cell_type": "code",
   "execution_count": 10,
   "metadata": {
    "collapsed": false
   },
   "outputs": [
    {
     "data": {
      "text/plain": [
       "\u001b[36mnumberOfKittens\u001b[39m: \u001b[32mInt\u001b[39m = \u001b[32m7\u001b[39m\n",
       "\u001b[36mkittensPerHouse\u001b[39m: \u001b[32mInt\u001b[39m = \u001b[32m101\u001b[39m\n",
       "\u001b[36mcats\u001b[39m: \u001b[32mInt\u001b[39m = \u001b[32m23\u001b[39m\n",
       "\u001b[36mdogs\u001b[39m: \u001b[32mInt\u001b[39m = \u001b[32m42\u001b[39m\n",
       "\u001b[36msq\u001b[39m: \u001b[32mInt\u001b[39m => \u001b[32mInt\u001b[39m = <function1>\n",
       "\u001b[36mres9_6\u001b[39m: \u001b[32mInt\u001b[39m = \u001b[32m25\u001b[39m"
      ]
     },
     "execution_count": 10,
     "metadata": {},
     "output_type": "execute_result"
    }
   ],
   "source": [
    "// Variables in scala\n",
    "var numberOfKittens = 6\n",
    "val kittensPerHouse = 101\n",
    "\n",
    "val (cats, dogs) = (23, 42)\n",
    "\n",
    "// What's going on here.  Variables and Constants can point to functions, more on this later\n",
    "val sq = (z: Int) => z * z\n",
    "\n",
    "// You can refer to variables and constants in the obvious way\n",
    "\n",
    "numberOfKittens += 1\n",
    "if(numberOfKittens > kittensPerHouse) { } // we have a problem\n",
    "\n",
    "sq(5)  // computes square root of 5"
   ]
  },
  {
   "cell_type": "markdown",
   "metadata": {},
   "source": [
    "# Arrays<a name=\"arrays\"></a>\n",
    "Scala has arrays, including *ArrayBuffer* an array that can be extended, inserted into, and deleted.  It has many\n",
    "other types, for example List"
   ]
  },
  {
   "cell_type": "code",
   "execution_count": 16,
   "metadata": {
    "collapsed": false
   },
   "outputs": [
    {
     "data": {
      "text/plain": [
       "\u001b[36mtable\u001b[39m: \u001b[32mArray\u001b[39m[\u001b[32mInt\u001b[39m] = \u001b[33mArray\u001b[39m(\n",
       "  \u001b[32m32\u001b[39m,\n",
       "  \u001b[32m0\u001b[39m,\n",
       "  \u001b[32m0\u001b[39m,\n",
       "  \u001b[32m0\u001b[39m,\n",
       "  \u001b[32m0\u001b[39m,\n",
       "  \u001b[32m0\u001b[39m,\n",
       "  \u001b[32m0\u001b[39m,\n",
       "  \u001b[32m0\u001b[39m,\n",
       "  \u001b[32m0\u001b[39m,\n",
       "  \u001b[32m0\u001b[39m,\n",
       "  \u001b[32m0\u001b[39m,\n",
       "\u001b[33m...\u001b[39m\n",
       "\u001b[36my\u001b[39m: \u001b[32mInt\u001b[39m = \u001b[32m32\u001b[39m\n",
       "\u001b[36mn\u001b[39m: \u001b[32mInt\u001b[39m = \u001b[32m256\u001b[39m\n",
       "\u001b[32mimport \u001b[39m\u001b[36mscala.collection.mutable.ArrayBuffer\n",
       "\u001b[39m\n",
       "\u001b[36mbuf\u001b[39m: \u001b[32mArrayBuffer\u001b[39m[\u001b[32mInt\u001b[39m] = \u001b[33mArrayBuffer\u001b[39m(\u001b[32m12\u001b[39m, \u001b[32m9\u001b[39m, \u001b[32m13\u001b[39m, \u001b[32m14\u001b[39m)\n",
       "\u001b[36mres15_6\u001b[39m: \u001b[32mArrayBuffer\u001b[39m[\u001b[32mInt\u001b[39m] = \u001b[33mArrayBuffer\u001b[39m(\u001b[32m12\u001b[39m, \u001b[32m9\u001b[39m, \u001b[32m13\u001b[39m, \u001b[32m14\u001b[39m)\n",
       "\u001b[36mres15_7\u001b[39m: \u001b[32mArrayBuffer\u001b[39m[\u001b[32mInt\u001b[39m] = \u001b[33mArrayBuffer\u001b[39m(\u001b[32m12\u001b[39m, \u001b[32m9\u001b[39m, \u001b[32m13\u001b[39m, \u001b[32m14\u001b[39m)\n",
       "\u001b[36mres15_8\u001b[39m: \u001b[32mArrayBuffer\u001b[39m[\u001b[32mInt\u001b[39m] = \u001b[33mArrayBuffer\u001b[39m(\u001b[32m12\u001b[39m, \u001b[32m9\u001b[39m, \u001b[32m13\u001b[39m, \u001b[32m14\u001b[39m)\n",
       "\u001b[36mz\u001b[39m: \u001b[32mInt\u001b[39m = \u001b[32m12\u001b[39m\n",
       "\u001b[36ml\u001b[39m: \u001b[32mInt\u001b[39m = \u001b[32m4\u001b[39m\n",
       "\u001b[36mels\u001b[39m: \u001b[32mList\u001b[39m[\u001b[32mInt\u001b[39m] = \u001b[33mList\u001b[39m(\u001b[32m1\u001b[39m, \u001b[32m2\u001b[39m, \u001b[32m3\u001b[39m)\n",
       "\u001b[36mels2\u001b[39m: \u001b[32mList\u001b[39m[\u001b[32mInt\u001b[39m] = \u001b[33mList\u001b[39m(\u001b[32m44\u001b[39m, \u001b[32m32\u001b[39m, \u001b[32m32\u001b[39m)\n",
       "\u001b[36ma\u001b[39m: \u001b[32mInt\u001b[39m = \u001b[32m1\u001b[39m\n",
       "\u001b[36mb\u001b[39m: \u001b[32mInt\u001b[39m = \u001b[32m2\u001b[39m\n",
       "\u001b[36mc\u001b[39m: \u001b[32mInt\u001b[39m = \u001b[32m3\u001b[39m\n",
       "\u001b[36mm\u001b[39m: \u001b[32mInt\u001b[39m = \u001b[32m3\u001b[39m\n",
       "\u001b[36ma1\u001b[39m: \u001b[32mInt\u001b[39m = \u001b[32m1\u001b[39m\n",
       "\u001b[36ma2\u001b[39m: \u001b[32mInt\u001b[39m = \u001b[32m2\u001b[39m\n",
       "\u001b[36ma3\u001b[39m: \u001b[32mInt\u001b[39m = \u001b[32m3\u001b[39m"
      ]
     },
     "execution_count": 16,
     "metadata": {},
     "output_type": "execute_result"
    }
   ],
   "source": [
    "val table = new Array[Int](256)\n",
    "table(0) = 32\n",
    "val y = table(0)\n",
    "val n = table.length\n",
    "\n",
    "// ArrayBuffer’s\n",
    "import scala.collection.mutable.ArrayBuffer\n",
    "val buf = new ArrayBuffer[Int]()\n",
    "buf += 12\n",
    "buf += 13\n",
    "buf += 14\n",
    "buf.insert(1, 9) // insert 9 at position 0 and scoot downt the following\n",
    "val z = buf(0)\n",
    "val l = buf.length"
   ]
  },
  {
   "cell_type": "markdown",
   "metadata": {},
   "source": [
    "# Lists<a name=\"lists\"></a>\n",
    "Lists are a lot like arrays but support additional operations for appending and extracting"
   ]
  },
  {
   "cell_type": "code",
   "execution_count": 22,
   "metadata": {
    "collapsed": false
   },
   "outputs": [
    {
     "data": {
      "text/plain": [
       "\u001b[36mlist1\u001b[39m: \u001b[32mList\u001b[39m[\u001b[32mInt\u001b[39m] = \u001b[33mList\u001b[39m(\u001b[32m1\u001b[39m, \u001b[32m2\u001b[39m, \u001b[32m3\u001b[39m)\n",
       "\u001b[36mlist2\u001b[39m: \u001b[32mList\u001b[39m[\u001b[32mInt\u001b[39m] = \u001b[33mList\u001b[39m(\u001b[32m44\u001b[39m, \u001b[32m32\u001b[39m, \u001b[32m32\u001b[39m)\n",
       "\u001b[36melement1\u001b[39m: \u001b[32mInt\u001b[39m = \u001b[32m1\u001b[39m\n",
       "\u001b[36melement2\u001b[39m: \u001b[32mInt\u001b[39m = \u001b[32m2\u001b[39m\n",
       "\u001b[36melement3\u001b[39m: \u001b[32mInt\u001b[39m = \u001b[32m3\u001b[39m\n",
       "\u001b[36mlist3\u001b[39m: \u001b[32mList\u001b[39m[\u001b[32mInt\u001b[39m] = \u001b[33mList\u001b[39m(\u001b[32m1\u001b[39m, \u001b[32m2\u001b[39m, \u001b[32m3\u001b[39m, \u001b[32m44\u001b[39m, \u001b[32m32\u001b[39m, \u001b[32m32\u001b[39m)\n",
       "\u001b[36mm\u001b[39m: \u001b[32mInt\u001b[39m = \u001b[32m3\u001b[39m"
      ]
     },
     "execution_count": 22,
     "metadata": {},
     "output_type": "execute_result"
    }
   ],
   "source": [
    "val list1 = List(1, 2, 3)\n",
    "val list2 = x :: y :: y :: Nil  // an alternate notation for assembling a list\n",
    "val element1 :: element2 :: element3 :: Nil = list1   // list notation on left hand side, extracts\n",
    "                                                      // list1 into named values, would fail if list1 not length 4\n",
    "val list3 = list1 ++ list2\n",
    "val m = list2.length\n"
   ]
  },
  {
   "cell_type": "markdown",
   "metadata": {},
   "source": [
    "# Tuples<a name=\"tuples\"></a>\n",
    "Sort of like fixed lists but really more useful and when combining other kinds of data or returning more than one\n",
    "thing from a function"
   ]
  },
  {
   "cell_type": "code",
   "execution_count": 23,
   "metadata": {
    "collapsed": false
   },
   "outputs": [
    {
     "data": {
      "text/plain": [
       "\u001b[36mtuple1\u001b[39m: (\u001b[32mString\u001b[39m, \u001b[32mInt\u001b[39m) = (\u001b[32m\"dog\"\u001b[39m, \u001b[32m1\u001b[39m)\n",
       "\u001b[36mlistOfTuples\u001b[39m: \u001b[32mList\u001b[39m[(\u001b[32mInt\u001b[39m, \u001b[32mInt\u001b[39m)] = \u001b[33mList\u001b[39m((\u001b[32m1\u001b[39m, \u001b[32m44\u001b[39m), (\u001b[32m2\u001b[39m, \u001b[32m32\u001b[39m), (\u001b[32m3\u001b[39m, \u001b[32m32\u001b[39m))\n",
       "defined \u001b[32mfunction\u001b[39m \u001b[36msquareAndCube\u001b[39m\n",
       "\u001b[36mres22_3\u001b[39m: (\u001b[32mInt\u001b[39m, \u001b[32mInt\u001b[39m) = (\u001b[32m49\u001b[39m, \u001b[32m343\u001b[39m)"
      ]
     },
     "execution_count": 23,
     "metadata": {},
     "output_type": "execute_result"
    }
   ],
   "source": [
    "val tuple1 = (\"dog\", 1) // can have elements with different data types\n",
    "val e1 = tuple1._1  // accessing elements of a tuple (note that it's bottom element is 1)\n",
    "val e2 = tuple1._2  // extensive searching has failed to find anyone who likes this syntax\n",
    "\n",
    "val listOfTuples = list1.zip(list2)  // create a list of tuples from two lists.  More in advanced scala\n",
    "\n",
    "def squareAndCube(n: Integer) = (n * n, n * n * n) // returns a tuple\n",
    "\n",
    "squareAndCube(7)"
   ]
  },
  {
   "cell_type": "markdown",
   "metadata": {},
   "source": [
    "# Maps<a name=\"maps\"></a>"
   ]
  },
  {
   "cell_type": "code",
   "execution_count": 12,
   "metadata": {
    "collapsed": false
   },
   "outputs": [
    {
     "data": {
      "text/plain": [
       "\u001b[32mimport \u001b[39m\u001b[36mscala.collection.mutable.HashMap\n",
       "\u001b[39m\n",
       "\u001b[36mvars\u001b[39m: \u001b[32mHashMap\u001b[39m[\u001b[32mString\u001b[39m, \u001b[32mInt\u001b[39m] = \u001b[33mMap\u001b[39m(\u001b[32m\"b\"\u001b[39m -> \u001b[32m2\u001b[39m, \u001b[32m\"a\"\u001b[39m -> \u001b[32m1\u001b[39m)\n",
       "\u001b[36mres11_4\u001b[39m: \u001b[32mInt\u001b[39m = \u001b[32m2\u001b[39m\n",
       "\u001b[36mres11_5\u001b[39m: \u001b[32mBoolean\u001b[39m = \u001b[32mfalse\u001b[39m\n",
       "\u001b[36mres11_6\u001b[39m: \u001b[32mInt\u001b[39m = \u001b[32m-1\u001b[39m\n",
       "\u001b[36mres11_7\u001b[39m: \u001b[32mIterable\u001b[39m[\u001b[32mString\u001b[39m] = \u001b[33mSet\u001b[39m(\u001b[32m\"b\"\u001b[39m, \u001b[32m\"a\"\u001b[39m)\n",
       "\u001b[36mres11_8\u001b[39m: \u001b[32mIterable\u001b[39m[\u001b[32mInt\u001b[39m] = \u001b[33mHashMap\u001b[39m(\u001b[32m2\u001b[39m, \u001b[32m1\u001b[39m)"
      ]
     },
     "execution_count": 12,
     "metadata": {},
     "output_type": "execute_result"
    }
   ],
   "source": [
    "import scala.collection.mutable.HashMap\n",
    "val vars = new HashMap[String, Int]()\n",
    "vars(\"a\") = 1\n",
    "vars(\"b\") = 2\n",
    "vars.size\n",
    "vars.contains(\"c\")\n",
    "vars.getOrElse(\"c\", -1)\n",
    "vars.keys\n",
    "vars.values"
   ]
  },
  {
   "cell_type": "code",
   "execution_count": 13,
   "metadata": {
    "collapsed": false
   },
   "outputs": [
    {
     "data": {
      "text/plain": [
       "\u001b[32mimport \u001b[39m\u001b[36mscala.collection.mutable.HashSet\n",
       "\u001b[39m\n",
       "\u001b[36mkeys\u001b[39m: \u001b[32mHashSet\u001b[39m[\u001b[32mInt\u001b[39m] = \u001b[33mSet\u001b[39m(\u001b[32m1\u001b[39m, \u001b[32m5\u001b[39m)\n",
       "\u001b[36mres12_2\u001b[39m: \u001b[32mHashSet\u001b[39m[\u001b[32mInt\u001b[39m] = \u001b[33mSet\u001b[39m(\u001b[32m1\u001b[39m, \u001b[32m5\u001b[39m)\n",
       "\u001b[36mres12_3\u001b[39m: \u001b[32mHashSet\u001b[39m[\u001b[32mInt\u001b[39m] = \u001b[33mSet\u001b[39m(\u001b[32m1\u001b[39m, \u001b[32m5\u001b[39m)\n",
       "\u001b[36mres12_4\u001b[39m: (\u001b[32mInt\u001b[39m, \u001b[32mInt\u001b[39m) = (\u001b[32m2\u001b[39m, \u001b[32m2\u001b[39m)\n",
       "\u001b[36mres12_5\u001b[39m: (\u001b[32mBoolean\u001b[39m, \u001b[32mBoolean\u001b[39m) = (\u001b[32mfalse\u001b[39m, \u001b[32mfalse\u001b[39m)"
      ]
     },
     "execution_count": 13,
     "metadata": {},
     "output_type": "execute_result"
    }
   ],
   "source": [
    "import scala.collection.mutable.HashSet\n",
    "val keys = new HashSet[Int]()\n",
    "keys += 1\n",
    "keys += 5\n",
    "keys.size -> 2\n",
    "keys.contains(2) -> false"
   ]
  },
  {
   "cell_type": "markdown",
   "metadata": {},
   "source": [
    "<a id='dog'></a>"
   ]
  },
  {
   "cell_type": "markdown",
   "metadata": {},
   "source": [
    "# Scala Iteration"
   ]
  },
  {
   "cell_type": "code",
   "execution_count": 14,
   "metadata": {
    "collapsed": false
   },
   "outputs": [
    {
     "name": "stdout",
     "output_type": "stream",
     "text": [
      "K b V 2\n",
      "K a V 1\n"
     ]
    },
    {
     "data": {
      "text/plain": [
       "\u001b[36mtbl\u001b[39m: \u001b[32mArray\u001b[39m[\u001b[32mInt\u001b[39m] = \u001b[33mArray\u001b[39m(\n",
       "  \u001b[32m0\u001b[39m,\n",
       "  \u001b[32m1\u001b[39m,\n",
       "  \u001b[32m2\u001b[39m,\n",
       "  \u001b[32m3\u001b[39m,\n",
       "  \u001b[32m4\u001b[39m,\n",
       "  \u001b[32m5\u001b[39m,\n",
       "  \u001b[32m6\u001b[39m,\n",
       "  \u001b[32m7\u001b[39m,\n",
       "  \u001b[32m8\u001b[39m,\n",
       "  \u001b[32m9\u001b[39m,\n",
       "  \u001b[32m10\u001b[39m,\n",
       "\u001b[33m...\u001b[39m\n",
       "\u001b[36mtbl2\u001b[39m: \u001b[32mArrayBuffer\u001b[39m[\u001b[32mInt\u001b[39m] = \u001b[33mArrayBuffer\u001b[39m(\n",
       "  \u001b[32m0\u001b[39m,\n",
       "  \u001b[32m2\u001b[39m,\n",
       "  \u001b[32m4\u001b[39m,\n",
       "  \u001b[32m6\u001b[39m,\n",
       "  \u001b[32m8\u001b[39m,\n",
       "  \u001b[32m10\u001b[39m,\n",
       "  \u001b[32m12\u001b[39m,\n",
       "  \u001b[32m14\u001b[39m,\n",
       "  \u001b[32m16\u001b[39m,\n",
       "  \u001b[32m18\u001b[39m,\n",
       "  \u001b[32m20\u001b[39m,\n",
       "\u001b[33m...\u001b[39m"
      ]
     },
     "execution_count": 14,
     "metadata": {},
     "output_type": "execute_result"
    }
   ],
   "source": [
    "val tbl = new Array[Int](256)\n",
    "// loop over all indices\n",
    "for (i <- 0 until tbl.length) tbl(i) = i\n",
    "\n",
    "// loop of each sequence element\n",
    "val tbl2 = new ArrayBuffer[Int]\n",
    "for (e <- tbl) {\n",
    "    tbl2 += 2*e\n",
    "}\n",
    "// loop over hashmap key / values\n",
    "for ((x, y) <- vars)\n",
    "    println(\"K \" + x + \" V \" + y)"
   ]
  },
  {
   "cell_type": "markdown",
   "metadata": {},
   "source": [
    "# Scala Functions"
   ]
  },
  {
   "cell_type": "code",
   "execution_count": 15,
   "metadata": {
    "collapsed": false
   },
   "outputs": [
    {
     "data": {
      "text/plain": [
       "defined \u001b[32mfunction\u001b[39m \u001b[36mx2\u001b[39m\n",
       "defined \u001b[32mfunction\u001b[39m \u001b[36mf\u001b[39m"
      ]
     },
     "execution_count": 15,
     "metadata": {},
     "output_type": "execute_result"
    }
   ],
   "source": [
    "// simple scaling function, e.g., x2(3) => 6\n",
    "def x2 (x: Int) = 2 * x\n",
    "\n",
    "// more complicated function with statements\n",
    "def f (x: Int, y: Int) = {\n",
    "val xy = x + y;\n",
    "if (x < y) xy else -xy\n",
    "}"
   ]
  }
 ],
 "metadata": {
  "kernelspec": {
   "display_name": "Scala",
   "language": "scala",
   "name": "scala"
  },
  "language_info": {
   "codemirror_mode": "text/x-scala",
   "file_extension": ".scala",
   "mimetype": "text/x-scala",
   "name": "scala211",
   "nbconvert_exporter": "script",
   "pygments_lexer": "scala",
   "version": "2.11.11"
  }
 },
 "nbformat": 4,
 "nbformat_minor": 1
}
