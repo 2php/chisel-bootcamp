{
 "cells": [
  {
   "cell_type": "markdown",
   "metadata": {},
   "source": [
    "# Module 1: Basic Scala\n",
    "- Object Oriented\n",
    "  - Factory Objects [Billy](#dog)\n",
    "  "
   ]
  },
  {
   "cell_type": "markdown",
   "metadata": {},
   "source": [
    "## Why Scala\n",
    "- Object Oriented\n",
    "  - Factory Objects, Classes\n",
    "  - Traits, overloading etc\n",
    "  - Strongly typed with type inference\n",
    "- Functional\n",
    "  - Higher order functions\n",
    "  - Anonymous functions\n",
    "  - Currying etc\n",
    "- Extensible\n",
    "  - Domain Specific Languages (DSLs)\n",
    "- Compiled to JVM\n",
    "  - Good performance\n",
    "  - Great Java interoperability\n",
    "  - Mature debugging, execution environments"
   ]
  },
  {
   "cell_type": "markdown",
   "metadata": {},
   "source": [
    "## Scala Basics\n",
    "### (In order of appearance)\n",
    "- Packages\n",
    "- Imports\n",
    "- Classes and Objects\n",
    "- Blocks\n",
    "- [Variables and Values](#vars-and-vals)\n",
    "- Parameters\n",
    "- Matching\n",
    "- Syntactic sugar"
   ]
  },
  {
   "cell_type": "markdown",
   "metadata": {},
   "source": [
    "# Scala Collections"
   ]
  },
  {
   "cell_type": "code",
   "execution_count": null,
   "metadata": {
    "collapsed": false
   },
   "outputs": [],
   "source": [
    "// Variables in scala\n",
    "var x = 6\n",
    "val (a, b) = (23, 42)\n",
    "\n",
    "x = 44\n",
    "\n",
    "val sq = (z: Int) => z * z\n",
    "sq(5)"
   ]
  },
  {
   "cell_type": "code",
   "execution_count": null,
   "metadata": {
    "collapsed": false
   },
   "outputs": [],
   "source": [
    "// Array’s\n",
    "val tbl = new Array[Int](256)\n",
    "tbl(0) = 32\n",
    "val y = tbl(0)\n",
    "val n = tbl.length\n",
    "\n",
    "// ArrayBuffer’s\n",
    "import scala.collection.mutable.ArrayBuffer\n",
    "val buf = new ArrayBuffer[Int]()\n",
    "buf += 12\n",
    "val z = buf(0)\n",
    "val l = buf.length\n",
    "// List’s\n",
    "\n",
    "val els = List(1, 2, 3)\n",
    "val els2 = x :: y :: y :: Nil\n",
    "val a :: b :: c :: Nil = els\n",
    "val m = els.length\n",
    "// Tuple’s\n",
    "val (a1, a2, a3) = (1, 2, 3)"
   ]
  },
  {
   "cell_type": "markdown",
   "metadata": {},
   "source": [
    "# Scala Maps and Sets"
   ]
  },
  {
   "cell_type": "code",
   "execution_count": null,
   "metadata": {
    "collapsed": false
   },
   "outputs": [],
   "source": [
    "import scala.collection.mutable.HashMap\n",
    "val vars = new HashMap[String, Int]()\n",
    "vars(\"a\") = 1\n",
    "vars(\"b\") = 2\n",
    "vars.size\n",
    "vars.contains(\"c\")\n",
    "vars.getOrElse(\"c\", -1)\n",
    "vars.keys\n",
    "vars.values"
   ]
  },
  {
   "cell_type": "code",
   "execution_count": null,
   "metadata": {
    "collapsed": false
   },
   "outputs": [],
   "source": [
    "import scala.collection.mutable.HashSet\n",
    "val keys = new HashSet[Int]()\n",
    "keys += 1\n",
    "keys += 5\n",
    "keys.size -> 2\n",
    "keys.contains(2) -> false"
   ]
  },
  {
   "cell_type": "markdown",
   "metadata": {},
   "source": [
    "<a id='dog'></a>"
   ]
  },
  {
   "cell_type": "markdown",
   "metadata": {},
   "source": [
    "# Scala Iteration"
   ]
  },
  {
   "cell_type": "code",
   "execution_count": null,
   "metadata": {
    "collapsed": false
   },
   "outputs": [],
   "source": [
    "val tbl = new Array[Int](256)\n",
    "// loop over all indices\n",
    "for (i <- 0 until tbl.length)\n",
    "tbl(i) = i\n",
    "// loop of each sequence element\n",
    "val tbl2 = new ArrayBuffer[Int]\n",
    "for (e <- tbl)\n",
    "tbl2 += 2*e\n",
    "// loop over hashmap key / values\n",
    "for ((x, y) <- vars)\n",
    "println(\"K \" + x + \" V \" + y)"
   ]
  },
  {
   "cell_type": "markdown",
   "metadata": {},
   "source": [
    "# Scala Functions"
   ]
  },
  {
   "cell_type": "code",
   "execution_count": null,
   "metadata": {
    "collapsed": false
   },
   "outputs": [],
   "source": [
    "// simple scaling function, e.g., x2(3) => 6\n",
    "def x2 (x: Int) = 2 * x\n",
    "\n",
    "// more complicated function with statements\n",
    "def f (x: Int, y: Int) = {\n",
    "val xy = x + y;\n",
    "if (x < y) xy else -xy\n",
    "}"
   ]
  },
  {
   "cell_type": "code",
   "execution_count": null,
   "metadata": {
    "collapsed": false
   },
   "outputs": [],
   "source": [
    "s\"abcd $tbl\""
   ]
  }
 ],
 "metadata": {
  "kernelspec": {
   "display_name": "Scala",
   "language": "scala",
   "name": "scala"
  },
  "language_info": {
   "codemirror_mode": "text/x-scala",
   "file_extension": ".scala",
   "mimetype": "text/x-scala",
   "name": "scala211",
   "nbconvert_exporter": "script",
   "pygments_lexer": "scala",
   "version": "2.11.11"
  }
 },
 "nbformat": 4,
 "nbformat_minor": 0
}
