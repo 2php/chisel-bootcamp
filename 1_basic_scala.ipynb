{
 "cells": [
  {
   "cell_type": "markdown",
   "metadata": {},
   "source": [
    "![Chisel](https://chisel.eecs.berkeley.edu/assets/img/chisel_64.png)"
   ]
  },
  {
   "cell_type": "markdown",
   "metadata": {},
   "source": [
    "# Module 1: Basic Scala\n",
    "#### Written by Chick Markley (chick@berkeley.edu)\n",
    "\n",
    "# TODO\n",
    "- semicolons at the end of a line are optional (but allowed)\n",
    "- inferred line endings\n",
    "- object.function   // (no parentheses)\n",
    "- object function === object.function\n",
    "- to, until, by"
   ]
  },
  {
   "cell_type": "markdown",
   "metadata": {},
   "source": [
    "## Table of Contents\n",
    "In this tutorial you will learn how to write some basic Scala code, and how to read some more advanced Scala code.\n",
    "This tutorial uses the *Jupyter* notebook environment so you can read the code then, make changes and run it in place right in the tutorial.  We encourage you to experiment with the tutorials to speed your way to Chisel.\n",
    "\n",
    "**[Understanding Scala](#understanding)**\n",
    "1. [Variables and Constants](#vars)\n",
    "1. [Conditionals](#conditionals)\n",
    "1. [Functions](#funcs)\n",
    "1. [Arrays](#arrays)\n",
    "1. [Lists](#lists)\n",
    "1. [Tuples](#tuples)\n",
    "1. [Maps](#maps)\n",
    "1. [Sets](#sets)\n",
    "1. [Iterations](#iterations)\n",
    "\n",
    "**[Reading Scala](#reading)**\n",
    "1. [Packages and Imports](#packages)\n",
    "1. [Simple Class Example](#simpleclass)\n",
    "1. [Code Blocks](#codeblocks)\n",
    "1. [Named Parameters and Parameter Defaults](#namedparameters)\n"
   ]
  },
  {
   "cell_type": "markdown",
   "metadata": {},
   "source": [
    "# Understanding Scala<a name=\"installation\"></a>\n",
    "Scala is yet another programming language which does all the basic stuff. We chose it for several reasons:\n",
    "\n",
    "- It is a good language for hosting an embedded DSL.\n",
    "- It has a powerful and elegant library for manipulating various collections of data.\n",
    "- It has a rigorous type system that helps catch a large class of errors very early in the development cycle.\n",
    "- It has powerful way of expressing and passing functions.\n",
    "\n",
    "All of these points will really become apparent as we talk about Chisel later, but for now, we are going to focus on the\n",
    "basics of reading and writing basic Scala code."
   ]
  },
  {
   "cell_type": "markdown",
   "metadata": {},
   "source": [
    "# Variables and Constants - var and val<a name=\"vars\"></a>\n",
    "Statements that create variables and constants are preceded with the keywords *var* and *val* respectively.  It is\n",
    "common practice to use *val* whenever possible.  Why?  Mostly to reduce the chances of re-using variables in ways that are error prone or make your code difficult to read. The structure of Scala make this practice easier than you might expect."
   ]
  },
  {
   "cell_type": "code",
   "execution_count": null,
   "metadata": {},
   "outputs": [],
   "source": [
    "var numberOfKittens = 6\n",
    "val kittensPerHouse = 101\n",
    "val alphabet = \"abcdefghijklmnopqrstuvwxyz\"\n",
    "var done = false"
   ]
  },
  {
   "cell_type": "markdown",
   "metadata": {},
   "source": [
    "> We could have written these variables with their types explicitly specified (see below). Scala will do a pretty good job inferring these types, however, so generally types are only declared when specifying variables that are visible\n",
    "outside of the scopes in which they are declared."
   ]
  },
  {
   "cell_type": "code",
   "execution_count": null,
   "metadata": {},
   "outputs": [],
   "source": [
    "var numberOfKittens: Int = 6\n",
    "val kittensPerHouse: Int = 101\n",
    "val alphabet: String = \"abcdefghijklmnopqrstuvwxyz\"\n",
    "var done: Boolean = false"
   ]
  },
  {
   "cell_type": "markdown",
   "metadata": {},
   "source": [
    "You use variables in the obvious ways"
   ]
  },
  {
   "cell_type": "code",
   "execution_count": null,
   "metadata": {},
   "outputs": [],
   "source": [
    "numberOfKittens += 1\n",
    "\n",
    "// kittensPerHouse = kittensPerHouse * 2 // This would be an error; this is a constant\n",
    "\n",
    "println(alphabet)\n",
    "done = true"
   ]
  },
  {
   "cell_type": "markdown",
   "metadata": {},
   "source": [
    "# Conditionals<a name=\"conditionals\"></a>\n",
    "\n",
    "Scala mostly implements \"`if`\" like other programming languages."
   ]
  },
  {
   "cell_type": "code",
   "execution_count": null,
   "metadata": {},
   "outputs": [],
   "source": [
    "// a simple conditional\n",
    "if(numberOfKittens > kittensPerHouse) { println(\"Too many kittens!!!\") }\n",
    "// The braces are not required for a one liner, so we could have written that\n",
    "if(numberOfKittens > kittensPerHouse) println(\"Too many kittens!!!\")\n",
    "\n",
    "// if's have else clauses of course\n",
    "if(done) { println(\"we are done\")}\n",
    "else { numberOfKittens += 1 }\n",
    "\n",
    "// and else if's\n",
    "if(done) { println(\"we are done\")}\n",
    "else if(numberOfKittens < kittensPerHouse) { numberOfKittens += 1 }\n",
    "else { done = true }\n",
    "\n",
    "// You're likely to have written the above as\n",
    "if(done) {\n",
    "    println(\"we are done\")\n",
    "}\n",
    "else if(numberOfKittens < kittensPerHouse) {\n",
    "    numberOfKittens += 1\n",
    "}\n",
    "else {\n",
    "    done = true\n",
    "}\n",
    "\n",
    "// Some prefer \"} else {\" on a single line, I don't"
   ]
  },
  {
   "cell_type": "markdown",
   "metadata": {},
   "source": [
    "But in Scala, \"`if`\" returns a value.  What is that value?  It's given by the last line of the block that was selected by the conditional statements in the if.  It's quite powerful, particularly when used to initialize variables in functions and classes. It looks like:"
   ]
  },
  {
   "cell_type": "code",
   "execution_count": null,
   "metadata": {},
   "outputs": [],
   "source": [
    "val likelyCharactersSet = if(alphabet.length == 26) {\n",
    "    \"english\"\n",
    "} else {\n",
    "    \"not english\"\n",
    "}"
   ]
  },
  {
   "cell_type": "markdown",
   "metadata": {},
   "source": [
    ">We created a constant *likelyCharactersSet* whose value is conditionally determined at runtime."
   ]
  },
  {
   "cell_type": "markdown",
   "metadata": {},
   "source": [
    "# Scala Functions\n",
    "\n",
    "Functions are defined with the keyword *def*.  Function parameters are specified in a comma separated list that specifies the name of the parameter, it's type and optionally a default value for it. Functions should typically also declare their return types.\n",
    "\n",
    "## Simple declarations"
   ]
  },
  {
   "cell_type": "code",
   "execution_count": null,
   "metadata": {},
   "outputs": [],
   "source": [
    "// simple scaling function with on parameter, e.g., times2(3) returns 6\n",
    "def times2(x: Int): Int = { 2 * x }\n",
    "\n",
    "// more complicated function with statements\n",
    "def distance(x: Int, y: Int, returnPositive: Boolean): Int = {\n",
    "    val xy = x * y\n",
    "    if(returnPositive) xy.abs else -(xy.abs)\n",
    "}"
   ]
  },
  {
   "cell_type": "markdown",
   "metadata": {},
   "source": [
    "## Functions can be overloaded\n",
    "The same function name can be used in more than one way.  The parameters and there types determine a signature that allows the compiler to figure out which version of the function should be called."
   ]
  },
  {
   "cell_type": "markdown",
   "metadata": {},
   "source": [
    "## Functions can recursive and they can be nested"
   ]
  },
  {
   "cell_type": "code",
   "execution_count": null,
   "metadata": {},
   "outputs": [],
   "source": [
    "def asciiTriangle(rows: Int) {\n",
    "    def printRow(columns: Int) {\n",
    "        println(\"X\" * columns)\n",
    "    }\n",
    "    if(rows > 0) {\n",
    "        printRow(rows)\n",
    "        asciiTriangle(rows - 1)\n",
    "    }\n",
    "}\n",
    "\n",
    "asciiTriangle(6)"
   ]
  },
  {
   "cell_type": "markdown",
   "metadata": {},
   "source": [
    "# Arrays<a name=\"arrays\"></a>\n",
    "Scala has fixed-length arrays. Elements are referenced using parentheses."
   ]
  },
  {
   "cell_type": "code",
   "execution_count": null,
   "metadata": {},
   "outputs": [],
   "source": [
    "val table = new Array[Int](256)\n",
    "table(0) = 32\n",
    "val y = table(0)\n",
    "val n = table.length"
   ]
  },
  {
   "cell_type": "markdown",
   "metadata": {},
   "source": [
    "*ArrayBuffer* are arrays that can be extended, inserted into, and deleted."
   ]
  },
  {
   "cell_type": "code",
   "execution_count": null,
   "metadata": {},
   "outputs": [],
   "source": [
    "import scala.collection.mutable\n",
    "val buf = new mutable.ArrayBuffer[Int]()\n",
    "buf += 12\n",
    "buf += 13\n",
    "buf += 14\n",
    "buf.insert(1, 9) // insert 9 at position 0 and scoot down the following\n",
    "val z = buf(0)\n",
    "val l = buf.length"
   ]
  },
  {
   "cell_type": "markdown",
   "metadata": {},
   "source": [
    "# Lists<a name=\"lists\"></a>\n",
    "Lists are a lot like arrays but support additional operations for appending and extracting"
   ]
  },
  {
   "cell_type": "code",
   "execution_count": null,
   "metadata": {},
   "outputs": [],
   "source": [
    "val x = 7\n",
    "val list1 = List(1, 2, 3)\n",
    "val list2 = x :: y :: y :: Nil      // an alternate notation for assembling a list\n",
    "\n",
    "val list3 = list1 ++ list2\n",
    "val m = list2.length\n",
    "\n",
    "val headOfList = list1.head          // gets the first element of the list\n",
    "val restOfList = list1.tail          // get a new list with first element removed\n",
    "\n",
    "val third = list1(2)                 // gets the third element of a list"
   ]
  },
  {
   "cell_type": "markdown",
   "metadata": {},
   "source": [
    "# Tuples<a name=\"tuples\"></a>\n",
    "Sort of like a struct without named members. They can be useful when combining different kinds of data or returning more than one thing from a function."
   ]
  },
  {
   "cell_type": "code",
   "execution_count": null,
   "metadata": {},
   "outputs": [],
   "source": [
    "val tuple1 = (\"dog\", 1) // can have elements with different data types\n",
    "val e1 = tuple1._1  // accessing elements of a tuple (note that it's bottom element is 1)\n",
    "val e2 = tuple1._2  // extensive searching has failed to find anyone who likes this syntax\n",
    "\n",
    "val listOfTuples = list1.zip(list2)  // create a list of tuples from two lists.  More in advanced scala\n",
    "\n",
    "// TODO more creativity\n",
    "def squareAndCube(n: Integer) = (n * n, n * n * n) // returns a tuple\n",
    "\n",
    "squareAndCube(7)"
   ]
  },
  {
   "cell_type": "markdown",
   "metadata": {},
   "source": [
    "# Maps<a name=\"maps\"></a>\n",
    "Maps are like associative maps or python *dicts* that allow indexing into a\n",
    "collection with strings, classes or other keys."
   ]
  },
  {
   "cell_type": "code",
   "execution_count": null,
   "metadata": {},
   "outputs": [],
   "source": [
    "import scala.collection.mutable\n",
    "val vars = new mutable.HashMap[String, Int]()\n",
    "vars(\"a\") = 1\n",
    "vars(\"b\") = 2\n",
    "// TODO get from vars\n",
    "vars.size\n",
    "vars.contains(\"c\")\n",
    "vars.getOrElse(\"c\", -1)\n",
    "vars.keys\n",
    "vars.values"
   ]
  },
  {
   "cell_type": "markdown",
   "metadata": {},
   "source": [
    "# Sets<a name=\"sets\"></a>\n",
    "Sets are a collection that only allows one of each member. The example below illustrate sets automatic deduplication of entries.  Elements are added with the *+=* operator, but can only be added once."
   ]
  },
  {
   "cell_type": "code",
   "execution_count": null,
   "metadata": {},
   "outputs": [],
   "source": [
    "import scala.collection.mutable\n",
    "import scala.collection.immutable\n",
    "val keys = new mutable.HashSet[Int]()\n",
    "\n",
    "keys += 1\n",
    "keys += 5\n",
    "keys.size  // size is 2\n",
    "keys += 5\n",
    "keys += 5\n",
    "keys += 1\n",
    "keys.size  // size is still 2\n",
    "keys.contains(2) // false"
   ]
  },
  {
   "cell_type": "markdown",
   "metadata": {},
   "source": [
    "# Scala `for` statement<a name=\"for\"></a>\n",
    "\n",
    "Scala has a for statement and it can work like traditional for statements.  You\n",
    "can iterate over a range of values."
   ]
  },
  {
   "cell_type": "code",
   "execution_count": null,
   "metadata": {},
   "outputs": [],
   "source": [
    "for(i <- 0 to 7) {\n",
    "  print(i + \" \")\n",
    "}\n",
    "println()"
   ]
  },
  {
   "cell_type": "markdown",
   "metadata": {},
   "source": [
    "Use *until* instead of *to* to handle array indices"
   ]
  },
  {
   "cell_type": "code",
   "execution_count": null,
   "metadata": {},
   "outputs": [],
   "source": [
    "val bins = Array[Int](7)\n",
    "// It's easy to iterate up to 7, but not including it\n",
    "for(i <- 0 until bins.length) {\n",
    "  bins(i) = util.Random.nextInt()\n",
    "}"
   ]
  },
  {
   "cell_type": "markdown",
   "metadata": {},
   "source": [
    "If you have an array of some kind and want to visit all the elements, you can use for\n",
    "as an *iterator* as in Java and Python.  This can be over simple elements or even more complicated\n",
    "collections like *vars* in Maps above."
   ]
  },
  {
   "cell_type": "code",
   "execution_count": null,
   "metadata": {},
   "outputs": [],
   "source": [
    "var binSum = 0\n",
    "for(binValue <- bins) {\n",
    "  binSum += binValue\n",
    "}\n",
    "println(\"sum is \" + binSum)\n",
    "\n",
    "for((key, value) <- vars) {\n",
    "    println(key + \" points to \" + value)\n",
    "}"
   ]
  },
  {
   "cell_type": "markdown",
   "metadata": {},
   "source": [
    "Scala's *for* has a lot more tricks it can do, but also, it will work intuitively for\n",
    "a wide range of traditional iteration needs, but it may or not be the easiest way.  Operations like summing the elements of an array are often more easily done using a rich family of functions called *comprehensions* that are available across many different collections of elements.  More on *for* and its allies in advanced Scala."
   ]
  },
  {
   "cell_type": "markdown",
   "metadata": {},
   "source": [
    "# Reading Scala: <a name=\"#reading\"></a>\n",
    "## Common patterns you will find in code"
   ]
  },
  {
   "cell_type": "markdown",
   "metadata": {},
   "source": [
    "# Packages and Imports <a name=\"packages\"></a>\n",
    "\n",
    "```scala\n",
    "package mytools\n",
    "class Tool1 { ... }\n",
    "```\n",
    "This name can be used when referencing code defined in this file.  \n",
    "```scala\n",
    "import mytools.Tool1\n",
    "```\n",
    ">Note: The package name  **should** match the directory hierarchy, this is not mandatory but failing to abide by this guideline can produce some unusual and difficult to diagnose problems. Package names by convention are lower case and do not contain separators like underscore.  This sometimes makes good descriptive names difficult.  One approach is too add a layer of hierachy ```package good.tools```.  Do your best.  Chisel itself plays some games with the package names that do not conform to these rules.\n",
    "\n",
    "As shown above import statements inform the compiler that you are using some additional libraries.  Some common imports you will use when programming in Chisel are\n",
    "```scala\n",
    "import chisel3._\n",
    "import chisel3.iotesters.{ChiselFlatSpec, Driver, PeekPokeTester}\n",
    "```\n",
    "The first imports all the classes and methods in the chisel3 package, the underscore here works as a wildcard.  The second imports specific classes from the chisel3.iotesters package."
   ]
  },
  {
   "cell_type": "markdown",
   "metadata": {},
   "source": [
    "# Scala is an Object Oriented Language<a name=\"objectoriented\"></a>\n",
    "Scala is object oriented and it's important to understand a bit about this to take maxiumum advantage of both Scala and Chisel.  There is no doubt more than one way to describe all this, we are aiming for simple here.  \n",
    "1. Variables are objects.\n",
    "1. Constants in the sense of *Scala's* *val* declarative are also objects\n",
    "1. Even literal values are objects.\n",
    "1. Even functions are themselves objects. (more on this later)\n",
    "1. Objects are instances of classes.\n",
    "  1. In fact, in just about every way that matters in Scala the *object* in *Objected Oriented* will be called an instance.\n",
    "1. In defining classes, the programmer specifies\n",
    "  1. The data associated with the class\n",
    "  1. The operations, called methods or functions, that that instances of the class can perform\n",
    "1. Classes can extend other classes\n",
    "  1. The class being extended is the superclass, the extendee is the subclass\n",
    "  1. In this case the subclass inherits the data and methods from the superclass\n",
    "  1. There are many useful but controlled ways in which a class may extend or overrided the inherited properties.\n",
    "Objects, Classes, Types, Inheritance\n",
    "  1. Objects may inherit from traits, think of them as lightweight classes, that allow specific limited ways of inheriting from more than one superclass.  \n",
    "1. Objects are special kind of Scala class\n",
    "  1. They are not objects as above, remember we're calling those ins\n",
    "\n",
    "We are about to look at how to create a basic class in scala."
   ]
  },
  {
   "cell_type": "markdown",
   "metadata": {},
   "source": [
    "# A Simple Class Example<a name=\"#simpleclass\"></a>\n",
    "An example of creating a Scala class might be"
   ]
  },
  {
   "cell_type": "code",
   "execution_count": null,
   "metadata": {},
   "outputs": [],
   "source": [
    "// WrapCounter counts up to a max value based on a bit size\n",
    "class WrapCounter(counterBits: Int) {\n",
    "\n",
    "  val max: Long = (1 << counterBits) - 1\n",
    "  var counter = 0L\n",
    "  def inc(): Long = {\n",
    "    counter = counter + 1\n",
    "    if(counter > max) counter = 0\n",
    "    counter\n",
    "  }\n",
    "  println(s\"counter created with max value $max\")\n",
    "}\n",
    "val w = new WrapCounter(4)\n"
   ]
  },
  {
   "cell_type": "markdown",
   "metadata": {},
   "source": [
    "What is here:\n",
    "* ```class WrapCounter```: This is the definition of **WrapCounter**\n",
    "* ```(counterBits: Int)```: Creating MyCounter requires an integer argument, nicely named to suggest it is the bit width of the counter\n",
    "* braces ({}) delimit a block of code. Most classes use a code block to define variables and constants and methods (functions)\n",
    "* ```val max: Long =``` the class contains a member variable **max**, declared as ```Long``` and initialized as the class is created\n",
    "* ```(1 << counterBits) - 1``` computes the maximum value that can be contained in **counterBits** bits.  Since **max** was created with _val_ it cannot be changed.\n",
    "* a variable **counter** is created and initialized to **0L**, the **L** says that 0 is a long value and from this **counter** is inferred to be Long.\n",
    "* **max** and **counter** are commonly called _member variables_ of the class\n",
    "* a class method **inc** is defined which takes no arguments and returns a **Long** value\n",
    "* the body of the method **inc** is a code block that:\n",
    "  * ```counter = counter + 1``` increments **counter**\n",
    "  * ```if(counter > max) counter = 0``` tests if it is greater than the **max** value and sets it back to zero if it is\n",
    "  * ```counter``` the last line of the code block is important\n",
    "    * any value expressed at the last line of a code block is considered to be the return value of that code block, that return value can be used or ignore by the programmer\n",
    "    * this applies quite generally, for example since an if statement or and if then else statement defines its true and false clauses with code blocks the if itself can return a value\n",
    "    * for example ```val result = if( 10 * 10 > 90) { \"greater\" } else { \"lesser\" }``` would created a variable with the value \"greater\"\n",
    "  * so in this case the function **inc** returns the value of **counter**\n",
    "* ```println(s\"counter created with max value $max\")``` this prints a string to the standard out.  Because the **println** is directly in the defining code block it is part of the classes initialization code and is run, i.e. prints out the string, every time an instance of this class is created.\n",
    "* The string printed in this case is an _interpolated_ string\n",
    "  * the leading **s** in front of the first double quote identifies this as an interpolated\n",
    "  * an interpolated string is processed at run time  \n",
    "  * the **\\$max** is replaced with the value of max\n",
    "  * if the **\\$** is followed by a code block arbitrary scala can be in that code block\n",
    "    * for example **\\${max + max}**\n",
    "    * the return value of this code block will be inserted  in place of \\${...}\n",
    "    * if the return value is not a string it will be converted to one, virtually every class or type in scala has implicit conversion to a string)\n",
    "  * it should be noted that classes that print something every time an instance is created is darned annoying and should avoided\n"
   ]
  },
  {
   "cell_type": "markdown",
   "metadata": {},
   "source": [
    "# Creating an instance of a class<a name=\"#createinstance\"></a>\n",
    "Let's use our example above to create a class.  Scala instances are created via the built-in magic keyword **new**"
   ]
  },
  {
   "cell_type": "code",
   "execution_count": null,
   "metadata": {},
   "outputs": [],
   "source": [
    "val x = new WrapCounter(4)"
   ]
  },
  {
   "cell_type": "markdown",
   "metadata": {},
   "source": [
    "Now often in scala code one sees, instances being created without the keyword new, for example ```val y = WrapCounter(6)```\n",
    "This occurs often enough to merit special attention.  It is described later in the Advanced Chisel tutorial.\n"
   ]
  },
  {
   "cell_type": "markdown",
   "metadata": {},
   "source": [
    "# Code Blocks<a name=\"#codeblocks\"></a>\n",
    "Code blocks are delimited by braces.  A block can contain zero or more lines of scala code. The last line of scala code becomes the return value (which may be ignored) of the code block.  A code block with no lines would return and special null-like object called Unit. Code blocks are used throughout scala, they are the bodies of class definitions, they form function and method definitions, they are the clauses of if statements, they are the bodies of for and many other scala operators.\n",
    "\n",
    "### Parameterized Code Blocks\n",
    "Code blocks can take parameters.  In the case of class and method definitions these parameters look fairly like most conventional programming languages.  In the example below ```c``` and ```s``` are parameters of the code block.\n"
   ]
  },
  {
   "cell_type": "code",
   "execution_count": null,
   "metadata": {},
   "outputs": [],
   "source": [
    "def add1(c: Int): Int = {\n",
    "  c + 1\n",
    "}\n",
    "class RepeatString(s: String) {\n",
    "  val repeatedString = s + s\n",
    "}"
   ]
  },
  {
   "cell_type": "markdown",
   "metadata": {},
   "source": [
    "**IMPORTANT**: There is another way in which code blocks may be parameterized, it is visible all over the place in a scala program and I found it to be one of the scala constructs that took me a while to get used to.  Here are some examples"
   ]
  },
  {
   "cell_type": "code",
   "execution_count": null,
   "metadata": {},
   "outputs": [],
   "source": [
    "val intList = List(1, 2, 3)\n",
    "val stringList = intList.map { i =>\n",
    "  i.toString\n",
    "}"
   ]
  },
  {
   "cell_type": "markdown",
   "metadata": {},
   "source": [
    "The code block is passed to a method map of the class List.  The map method requires that it's code block have a single parameter.  The code block is called for each member of list, the code block returns that parameter converted to a String. Scala is almost excessively accepting of variations of this syntax.  You might see this written in many different ways. Assuming intList is defined as above, all the following will return a list of string versions of the original integer listµ"
   ]
  },
  {
   "cell_type": "markdown",
   "metadata": {},
   "source": [
    "The goal again here is simply to help you recognize the different notational types when you encounter them.  As you use Scala these will seem more comfortable and familiar.  Authors tend to gravitate to particular styles and there are also individual syntactical situations in which one notation will seem more natural. One liners tend to use the more concise forms, complex blocks usually have a more narrative appearance."
   ]
  },
  {
   "cell_type": "markdown",
   "metadata": {},
   "source": [
    "# Named Parameters and Parameter Defaults<a name=\"namedparameters\"></a>\n",
    "When a method is defined in scala, for example\n",
    "```scala\n",
    "def myMethod(count: Int, wrap: Boolean, wrapValue: Int = 24): Unit = { ... }\n",
    "```\n",
    "When calling the method, you will often see the parameter names along with the passed in values\n",
    "```scala\n",
    "myMethod(count = 10, wrap = false, wrapValue = 23)\n",
    "```\n",
    "Using named parameters, you can even call the function with a different ordering\n",
    "```scala\n",
    "myMethod(wrapValue = 23, wrap = false, count = 10)\n",
    "```\n",
    "For frequently called methods, the parameter ordering may be obvious but for less common methods and, in particular, boolean arguments, including the names with calls can make your code a lot more readable.  Using named parameters can allow you to re-arrange arguments, and in combination with parameters that have a default value, can make it so the caller only has to pass (by name) the specific arguments that do not use the default value.  Parameters to class definitions also used this named argument scheme (they are actually just the parameters to the constructor method for the class).\n",
    "\n",
    "Notice also that the parameter *wrapValue* has a default value 24.  Parameters with default values may ommitted when calling the function. \n",
    "```scala\n",
    "myMethod(wrap = false, count = 10)\n",
    "```\n",
    "will work as if 24 had been passed in."
   ]
  },
  {
   "cell_type": "code",
   "execution_count": null,
   "metadata": {},
   "outputs": [],
   "source": [
    "val (dogsName, destination) = (\"Rufus\", \"Store\")\n",
    "println(\"my dog \" + dogsName + \" went to the \" + destination)"
   ]
  },
  {
   "cell_type": "markdown",
   "metadata": {},
   "source": [
    "But there are a lot of more alternative (possibly more elegant ways) to do the same thing.  The first is the **s** string interpolator.  When a string begins with **s\"** any occurrences of a dollar sign followed by a scala variable, or a dollar sign followed by a code block, will have that replaced by the string value of the variable or block.  For our previous example we could make this "
   ]
  },
  {
   "cell_type": "markdown",
   "metadata": {},
   "source": [
    "```scala\n",
    "println(s\"my dog $dogsName went to the $destination\")\n",
    "```\n"
   ]
  },
  {
   "cell_type": "markdown",
   "metadata": {},
   "source": [
    "As an example of using a code block, let's assume we have a list and we'd like to print this out with each animal capitalized. "
   ]
  },
  {
   "cell_type": "code",
   "execution_count": null,
   "metadata": {},
   "outputs": [],
   "source": [
    "val aList = List(\"dog\", \"cat\", \"fox\")\n",
    "println(s\"Animal list ${aList.map(s => s.capitalize).mkString(\" -- \")}\")\n"
   ]
  },
  {
   "cell_type": "markdown",
   "metadata": {},
   "source": [
    "We used the ${...} to execute some scala code on that list.  map converts the list to a new list in which each word has been capitalized, then that new list is changed into a string by taking each element and joining it to the others with the string \" -- \" between each element.\n",
    "\n",
    "Another less commonly used interpolator is the **f** which allows printf style formatting specifiers to be included at each interpolation point.  This can be used to make some columns that line up nicely.  Scala does have printf too if you really need it.  But be a little careful with that Chisel provides it's own version of printf specifically for debug printing inside an executing simulation.\n"
   ]
  },
  {
   "cell_type": "code",
   "execution_count": null,
   "metadata": {},
   "outputs": [],
   "source": [
    "case class Person(name: String, age: Int)\n",
    "\n",
    "val (lineNumber, person) = (22, Person(\"blink\", 77))\n",
    "println(f\"$lineNumber%6d ${person.name}%-40s ${person.age}%3d\")\n"
   ]
  },
  {
   "cell_type": "code",
   "execution_count": null,
   "metadata": {
    "collapsed": true
   },
   "outputs": [],
   "source": []
  }
 ],
 "metadata": {
  "kernelspec": {
   "display_name": "Scala",
   "language": "scala",
   "name": "scala"
  },
  "language_info": {
   "codemirror_mode": "text/x-scala",
   "file_extension": ".scala",
   "mimetype": "text/x-scala",
   "name": "scala211",
   "nbconvert_exporter": "script",
   "pygments_lexer": "scala",
   "version": "2.11.11"
  }
 },
 "nbformat": 4,
 "nbformat_minor": 1
}
