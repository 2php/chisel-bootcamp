{
 "cells": [
  {
   "cell_type": "markdown",
   "metadata": {
    "collapsed": true
   },
   "source": [
    "# Advanced Chisel"
   ]
  },
  {
   "cell_type": "markdown",
   "metadata": {},
   "source": [
    "### Introduction\n",
    "\n",
    "Chisel is a framework that helps users write hardware generators.\n",
    "The idea is to encode a designer's methodology into a program that can be used to create many categories of a circuit.\n",
    "Some generators are very narrow in scope and can be used to generate a small set of designs, for example an adder parameterized by the width of its operands.\n",
    "Other generators are very broad in scope and can generate circuits with a wide range of architectures, for example a rocket core that can either be in-order or out-of-order.\n",
    "\n",
    "Most of the popular HDLs have some mechanisms for writing generators, but they are often difficult to use to write sophisticated generators because of limitations of the language.\n",
    "Chisel can make writing sophisticated generators much easier because it is hosted in Scala.\n",
    "This allows generator writers to use the powerful language features of scala and the software development practices they enable that are not possible in HDLs."
   ]
  },
  {
   "cell_type": "code",
   "execution_count": 2,
   "metadata": {
    "collapsed": true
   },
   "outputs": [
    {
     "name": "stdout",
     "output_type": "stream",
     "text": [
      "Checking https://repo1.maven.org/maven2/edu/berkeley/cs/chisel3_2.11/3.0-SNAPSHOT_2017-07-19/chisel3_2.11-3.0-SNAPSHOT_2017-07-19.pom.sha1\n",
      "Checking https://repo1.maven.org/maven2/edu/berkeley/cs/chisel3_2.11/3.0-SNAPSHOT_2017-07-19/chisel3_2.11-3.0-SNAPSHOT_2017-07-19.pom\n",
      "Checked https://repo1.maven.org/maven2/edu/berkeley/cs/chisel3_2.11/3.0-SNAPSHOT_2017-07-19/chisel3_2.11-3.0-SNAPSHOT_2017-07-19.pom\n",
      "Checked https://repo1.maven.org/maven2/edu/berkeley/cs/chisel3_2.11/3.0-SNAPSHOT_2017-07-19/chisel3_2.11-3.0-SNAPSHOT_2017-07-19.pom.sha1\n",
      "Checking https://repo1.maven.org/maven2/edu/berkeley/cs/chisel3_2.11/3.0-SNAPSHOT_2017-07-19/\n",
      "Checked https://repo1.maven.org/maven2/edu/berkeley/cs/chisel3_2.11/3.0-SNAPSHOT_2017-07-19/\n",
      "Checking https://repo1.maven.org/maven2/edu/berkeley/cs/firrtl_2.11/1.0-SNAPSHOT_2017-07-19/firrtl_2.11-1.0-SNAPSHOT_2017-07-19.pom\n",
      "Checking https://repo1.maven.org/maven2/edu/berkeley/cs/firrtl_2.11/1.0-SNAPSHOT_2017-07-19/firrtl_2.11-1.0-SNAPSHOT_2017-07-19.pom.sha1\n",
      "Checked https://repo1.maven.org/maven2/edu/berkeley/cs/firrtl_2.11/1.0-SNAPSHOT_2017-07-19/firrtl_2.11-1.0-SNAPSHOT_2017-07-19.pom\n",
      "Checked https://repo1.maven.org/maven2/edu/berkeley/cs/firrtl_2.11/1.0-SNAPSHOT_2017-07-19/firrtl_2.11-1.0-SNAPSHOT_2017-07-19.pom.sha1\n",
      "Checking https://repo1.maven.org/maven2/edu/berkeley/cs/firrtl_2.11/1.0-SNAPSHOT_2017-07-19/\n",
      "Checked https://repo1.maven.org/maven2/edu/berkeley/cs/firrtl_2.11/1.0-SNAPSHOT_2017-07-19/\n",
      "Checking https://repo1.maven.org/maven2/edu/berkeley/cs/firrtl_2.11/1.0-SNAPSHOT_2017-07-19/firrtl_2.11-1.0-SNAPSHOT_2017-07-19.jar\n",
      "Checking https://repo1.maven.org/maven2/edu/berkeley/cs/firrtl_2.11/1.0-SNAPSHOT_2017-07-19/firrtl_2.11-1.0-SNAPSHOT_2017-07-19.jar.sha1\n",
      "Checking https://repo1.maven.org/maven2/edu/berkeley/cs/chisel3_2.11/3.0-SNAPSHOT_2017-07-19/chisel3_2.11-3.0-SNAPSHOT_2017-07-19.jar.sha1\n",
      "Checked https://repo1.maven.org/maven2/edu/berkeley/cs/firrtl_2.11/1.0-SNAPSHOT_2017-07-19/firrtl_2.11-1.0-SNAPSHOT_2017-07-19.jar.sha1\n",
      "Checking https://repo1.maven.org/maven2/edu/berkeley/cs/chisel3_2.11/3.0-SNAPSHOT_2017-07-19/chisel3_2.11-3.0-SNAPSHOT_2017-07-19.jar\n",
      "Checked https://repo1.maven.org/maven2/edu/berkeley/cs/chisel3_2.11/3.0-SNAPSHOT_2017-07-19/chisel3_2.11-3.0-SNAPSHOT_2017-07-19.jar\n",
      "Checked https://repo1.maven.org/maven2/edu/berkeley/cs/chisel3_2.11/3.0-SNAPSHOT_2017-07-19/chisel3_2.11-3.0-SNAPSHOT_2017-07-19.jar.sha1\n",
      "Checked https://repo1.maven.org/maven2/edu/berkeley/cs/firrtl_2.11/1.0-SNAPSHOT_2017-07-19/firrtl_2.11-1.0-SNAPSHOT_2017-07-19.jar\n",
      "Checking https://repo1.maven.org/maven2/edu/berkeley/cs/chisel-iotesters_2.11/1.1-SNAPSHOT_2017-07-19/chisel-iotesters_2.11-1.1-SNAPSHOT_2017-07-19.pom\n",
      "Checking https://repo1.maven.org/maven2/edu/berkeley/cs/chisel-iotesters_2.11/1.1-SNAPSHOT_2017-07-19/chisel-iotesters_2.11-1.1-SNAPSHOT_2017-07-19.pom.sha1\n",
      "Checked https://repo1.maven.org/maven2/edu/berkeley/cs/chisel-iotesters_2.11/1.1-SNAPSHOT_2017-07-19/chisel-iotesters_2.11-1.1-SNAPSHOT_2017-07-19.pom\n",
      "Checked https://repo1.maven.org/maven2/edu/berkeley/cs/chisel-iotesters_2.11/1.1-SNAPSHOT_2017-07-19/chisel-iotesters_2.11-1.1-SNAPSHOT_2017-07-19.pom.sha1\n",
      "Checking https://repo1.maven.org/maven2/edu/berkeley/cs/chisel-iotesters_2.11/1.1-SNAPSHOT_2017-07-19/\n",
      "Checked https://repo1.maven.org/maven2/edu/berkeley/cs/chisel-iotesters_2.11/1.1-SNAPSHOT_2017-07-19/\n",
      "Checking https://repo1.maven.org/maven2/edu/berkeley/cs/firrtl-interpreter_2.11/1.0-SNAPSHOT_2017-07-19/firrtl-interpreter_2.11-1.0-SNAPSHOT_2017-07-19.pom\n",
      "Checking https://repo1.maven.org/maven2/edu/berkeley/cs/firrtl-interpreter_2.11/1.0-SNAPSHOT_2017-07-19/firrtl-interpreter_2.11-1.0-SNAPSHOT_2017-07-19.pom.sha1\n",
      "Checked https://repo1.maven.org/maven2/edu/berkeley/cs/firrtl-interpreter_2.11/1.0-SNAPSHOT_2017-07-19/firrtl-interpreter_2.11-1.0-SNAPSHOT_2017-07-19.pom\n",
      "Checked https://repo1.maven.org/maven2/edu/berkeley/cs/firrtl-interpreter_2.11/1.0-SNAPSHOT_2017-07-19/firrtl-interpreter_2.11-1.0-SNAPSHOT_2017-07-19.pom.sha1\n",
      "Checking https://repo1.maven.org/maven2/edu/berkeley/cs/firrtl-interpreter_2.11/1.0-SNAPSHOT_2017-07-19/\n",
      "Checked https://repo1.maven.org/maven2/edu/berkeley/cs/firrtl-interpreter_2.11/1.0-SNAPSHOT_2017-07-19/\n",
      "Checking https://repo1.maven.org/maven2/edu/berkeley/cs/firrtl-interpreter_2.11/1.0-SNAPSHOT_2017-07-19/firrtl-interpreter_2.11-1.0-SNAPSHOT_2017-07-19.jar\n",
      "Checking https://repo1.maven.org/maven2/edu/berkeley/cs/firrtl-interpreter_2.11/1.0-SNAPSHOT_2017-07-19/firrtl-interpreter_2.11-1.0-SNAPSHOT_2017-07-19.jar.sha1\n",
      "Checking https://repo1.maven.org/maven2/edu/berkeley/cs/chisel-iotesters_2.11/1.1-SNAPSHOT_2017-07-19/chisel-iotesters_2.11-1.1-SNAPSHOT_2017-07-19.jar\n",
      "Checked https://repo1.maven.org/maven2/edu/berkeley/cs/chisel-iotesters_2.11/1.1-SNAPSHOT_2017-07-19/chisel-iotesters_2.11-1.1-SNAPSHOT_2017-07-19.jar\n",
      "Checking https://repo1.maven.org/maven2/edu/berkeley/cs/chisel-iotesters_2.11/1.1-SNAPSHOT_2017-07-19/chisel-iotesters_2.11-1.1-SNAPSHOT_2017-07-19.jar.sha1\n",
      "Checked https://repo1.maven.org/maven2/edu/berkeley/cs/firrtl-interpreter_2.11/1.0-SNAPSHOT_2017-07-19/firrtl-interpreter_2.11-1.0-SNAPSHOT_2017-07-19.jar.sha1\n",
      "Checked https://repo1.maven.org/maven2/edu/berkeley/cs/chisel-iotesters_2.11/1.1-SNAPSHOT_2017-07-19/chisel-iotesters_2.11-1.1-SNAPSHOT_2017-07-19.jar.sha1\n",
      "Checked https://repo1.maven.org/maven2/edu/berkeley/cs/firrtl-interpreter_2.11/1.0-SNAPSHOT_2017-07-19/firrtl-interpreter_2.11-1.0-SNAPSHOT_2017-07-19.jar\n"
     ]
    },
    {
     "data": {
      "text/plain": [
       "\u001b[32mimport \u001b[39m\u001b[36m$ivy.$                                                  \n",
       "\u001b[39m\n",
       "\u001b[32mimport \u001b[39m\u001b[36m$ivy.$                                                          \n",
       "\u001b[39m\n",
       "\u001b[32mimport \u001b[39m\u001b[36mchisel3._\n",
       "\u001b[39m\n",
       "\u001b[32mimport \u001b[39m\u001b[36mchisel3.iotesters.{ChiselFlatSpec, Driver, PeekPokeTester}\n",
       "\u001b[39m\n",
       "\u001b[32mimport \u001b[39m\u001b[36mchisel3.util._\u001b[39m"
      ]
     },
     "execution_count": 2,
     "metadata": {},
     "output_type": "execute_result"
    }
   ],
   "source": [
    "import $ivy.`edu.berkeley.cs::chisel3:3.0-SNAPSHOT_2017-07-19` \n",
    "import $ivy.`edu.berkeley.cs::chisel-iotesters:1.1-SNAPSHOT_2017-07-19`\n",
    "import chisel3._\n",
    "import chisel3.iotesters.{ChiselFlatSpec, Driver, PeekPokeTester}\n",
    "import chisel3.util._"
   ]
  },
  {
   "cell_type": "markdown",
   "metadata": {},
   "source": [
    "## Module Parameterization\n",
    "\n",
    "### Simple Parameterization\n",
    "\n",
    "An important building block to writing hardware generators is writing a parameterized module.\n",
    "Chisel `Module`s are implemented as Scala classes, and any Scala objects can be used as parameters to a `Module`.\n",
    "\n",
    "Providing widths and vector sizes is the simplest style of parameterization and is commonly done in Verilog.\n",
    "The following code block gives examples of this style of parameterization in chisel.\n",
    "\n",
    "Notice the use of `require()`.\n",
    "Some values of a parameter may be nonsensical or unsupported by the generator.\n",
    "`require()` allows the generator author to make a Chisel compile-time assertion with a message explaining what was wrong.\n",
    "Note what happens when you change the values of the parameters in the last two lines."
   ]
  },
  {
   "cell_type": "code",
   "execution_count": 2,
   "metadata": {},
   "outputs": [
    {
     "name": "stdout",
     "output_type": "stream",
     "text": [
      "[\u001b[35minfo\u001b[0m] [0.002] Elaborating design...\n",
      "[\u001b[35minfo\u001b[0m] [0.111] Done elaborating.\n",
      "Total FIRRTL Compile Time: 259.0 ms\n",
      "Total FIRRTL Compile Time: 30.2 ms\n",
      "End of dependency graph\n",
      "Circuit state created\n",
      "[\u001b[35minfo\u001b[0m] [0.002] SEED 1502320703820\n",
      "test cmd1WrapperHelperAdder Success: 1 tests passed in 6 cycles taking 0.017796 seconds\n",
      "[\u001b[35minfo\u001b[0m] [0.004] RAN 1 CYCLES PASSED\n",
      "[\u001b[35minfo\u001b[0m] [0.000] Elaborating design...\n",
      "[\u001b[35minfo\u001b[0m] [0.024] Done elaborating.\n",
      "Total FIRRTL Compile Time: 55.4 ms\n",
      "Total FIRRTL Compile Time: 51.2 ms\n",
      "End of dependency graph\n",
      "Circuit state created\n",
      "[\u001b[35minfo\u001b[0m] [0.000] SEED 1502320704603\n",
      "test cmd1WrapperHelperVecAdder Success: 5 tests passed in 5 cycles taking 0.013948 seconds\n",
      "[\u001b[35minfo\u001b[0m] [0.008] RAN 0 CYCLES PASSED\n"
     ]
    },
    {
     "data": {
      "text/plain": [
       "defined \u001b[32mclass\u001b[39m \u001b[36mAdder\u001b[39m\n",
       "defined \u001b[32mclass\u001b[39m \u001b[36mVecAdder\u001b[39m\n",
       "defined \u001b[32mclass\u001b[39m \u001b[36mAdderTester\u001b[39m\n",
       "defined \u001b[32mclass\u001b[39m \u001b[36mVecAdderTester\u001b[39m\n",
       "\u001b[36mres1_4\u001b[39m: \u001b[32mBoolean\u001b[39m = \u001b[32mtrue\u001b[39m\n",
       "\u001b[36mres1_5\u001b[39m: \u001b[32mBoolean\u001b[39m = \u001b[32mtrue\u001b[39m"
      ]
     },
     "execution_count": 2,
     "metadata": {},
     "output_type": "execute_result"
    }
   ],
   "source": [
    "class Adder(inWidth: Int, outWidth: Int) extends Module {\n",
    "    require(inWidth > 0 && outWidth > 0, s\"Widths should be positive, got $inWidth and $outWidth\")\n",
    "    require (outWidth >= inWidth, s\"Output width should not be smaller than input width ($outWidth < $inWidth)\")\n",
    "    \n",
    "    val io = IO(new Bundle {\n",
    "        val in0 = Input(UInt(inWidth.W))\n",
    "        val in1 = Input(UInt(inWidth.W))\n",
    "        val out = Output(UInt(outWidth.W))\n",
    "    })\n",
    "    \n",
    "    io.out := io.in0 + io.in1\n",
    "}\n",
    "\n",
    "class VecAdder(inWidth: Int, outWidth: Int, vecSize: Int) extends Module {\n",
    "    require (vecSize > 0, \"Vector length should be positive\")\n",
    "    require(inWidth > 0 && outWidth > 0, \"Widths should be positive\")\n",
    "    require (outWidth >= inWidth, \"Output width should not be smaller than input width\")\n",
    "\n",
    "    \n",
    "    val io = IO(new Bundle {\n",
    "        val in0 = Input(Vec(vecSize, UInt(inWidth.W)))\n",
    "        val in1 = Input(Vec(vecSize, UInt(inWidth.W)))\n",
    "        val out = Output(Vec(vecSize, UInt(outWidth.W)))\n",
    "    })\n",
    "    \n",
    "    for (i <- 0 until vecSize) {\n",
    "        io.out(i) := io.in0(i) + io.in1(i)\n",
    "    }\n",
    "}\n",
    "\n",
    "class AdderTester(c: Adder) extends PeekPokeTester(c) {\n",
    "    poke(c.io.in0, 3)\n",
    "    poke(c.io.in1, 4)\n",
    "    step(1)\n",
    "    expect(c.io.out, 7)\n",
    "}\n",
    "\n",
    "class VecAdderTester(c: VecAdder) extends PeekPokeTester(c) {\n",
    "    for (i <- 0 until c.io.in0.length) {\n",
    "        poke(c.io.in0(i), 3 + i)\n",
    "        poke(c.io.in1(i), 4 + i)\n",
    "        expect(c.io.out(i), 7 + 2 * i)\n",
    "    }\n",
    "}\n",
    "\n",
    "Driver(() => new Adder(3, 4), \"firrtl\") { c => new AdderTester(c) }\n",
    "Driver(() => new VecAdder(7, 8, 5), \"firrtl\") { c => new VecAdderTester(c) }"
   ]
  },
  {
   "cell_type": "markdown",
   "metadata": {},
   "source": [
    "### More Advanced Parameterization\n",
    "\n",
    "The kind of parameterization shown in `Adder` and `VecAdder` is very basic.\n",
    "Chisel `Module`s are scala classes, so anything that can be used as an argument to a scala class constructor can be a parameter for a Chisel `Module`.\n",
    "\n",
    "Here follows a few LFSR implementations that are parameterized differently.\n",
    "Note that the `io` for the `LFSR` is implemented as a separate class.\n",
    "This makes it easy to write multiple versions of the `LFSR` with the same IO interface.\n",
    "\n",
    "The first example is perhaps somewhat similar to how you would write this generator in a language like Verilog.\n",
    "The module has two parameters: number of state bits and an integer representing the feedback polynomial.\n",
    "If the `i`th LSB of `feedback` is high, the `i`th bit of state is included in the feedback.\n",
    "\n",
    "In the second example, instead of representing `feedback` as an integer, we represent it as a function.\n",
    "`feedback` takes `UInt` as an argument and produces a `Bool`.\n",
    "This is possible because scala is a functional programming language that treats functions as first class objects (you can pass them around as arguments and treat them like any other object).\n",
    "\n",
    "Is the second example better than the first?\n",
    "In this case, it made the code shorter (although defining `feedback` as a function may take more lines of code than defining it as an integer).\n",
    "Using a function in this case eliminates some bit manipulation code which can be hard to read or debug.\n",
    "One potential downside to having feedback defined as a function is that you could pass a function that has state or isn't linear, which would mean this is no longer an LFSR.\n",
    "\n",
    "The third example has one parameter: a list with `Booleans` that indicate if the bit in the corresponding position is included in the feedback polynomial.\n",
    "This avoids the bit manipulation code of the first example while still enforcing that you are actually building an LFSR.\n",
    "\n",
    "One thing to notice about the third example is that `n` is no longer a parameter.\n",
    "The number of bits of state is set by the length of the list being passed in.\n",
    "Also note that it is written using some functional programming constructs.\n",
    "\n",
    "Which style of parameterization presented here is best?\n"
   ]
  },
  {
   "cell_type": "code",
   "execution_count": 16,
   "metadata": {
    "scrolled": true
   },
   "outputs": [
    {
     "name": "stdout",
     "output_type": "stream",
     "text": [
      "[\u001b[35minfo\u001b[0m] [0.000] Elaborating design...\n",
      "[\u001b[35minfo\u001b[0m] [0.009] Done elaborating.\n",
      ";buildInfoPackage: chisel3, version: 3.0-SNAPSHOT_2017-07-19, scalaVersion: 2.11.11, sbtVersion: 0.13.15, builtAtString: 2017-07-19 18:56:34.453, builtAtMillis: 1500490594453\n",
      "circuit cmd15WrapperHelperLFSRwithPolynomialParam : \n",
      "  module cmd15WrapperHelperLFSRwithPolynomialParam : \n",
      "    input clock : Clock\n",
      "    input reset : UInt<1>\n",
      "    output io : {flip en : UInt<1>, out : UInt<1>, state : UInt}\n",
      "    \n",
      "    clock is invalid\n",
      "    reset is invalid\n",
      "    io is invalid\n",
      "    reg state : UInt<4>, clock with : (reset => (reset, UInt<4>(\"h0f\"))) @[cmd15.sc 63:24]\n",
      "    node _T_7 = bits(state, 0, 0) @[cmd15.sc 69:57]\n",
      "    node _T_8 = bits(state, 3, 3) @[cmd15.sc 69:57]\n",
      "    node feedback = xor(_T_7, _T_8) @[cmd15.sc 69:76]\n",
      "    node _T_9 = shl(state, 1) @[cmd15.sc 74:28]\n",
      "    node nextState = or(_T_9, feedback) @[cmd15.sc 74:34]\n",
      "    node _T_10 = bits(state, 0, 0) @[cmd15.sc 76:20]\n",
      "    io.out <= _T_10 @[cmd15.sc 76:12]\n",
      "    when io.en : @[cmd15.sc 77:18]\n",
      "      state <= nextState @[cmd15.sc 78:15]\n",
      "      skip @[cmd15.sc 77:18]\n",
      "    io.state <= state @[cmd15.sc 80:14]\n",
      "    \n",
      "\n"
     ]
    },
    {
     "data": {
      "text/plain": [
       "defined \u001b[32mclass\u001b[39m \u001b[36mLFSRIO\u001b[39m\n",
       "defined \u001b[32mclass\u001b[39m \u001b[36mLFSRwithIntParams\u001b[39m\n",
       "defined \u001b[32mclass\u001b[39m \u001b[36mLFSRwithFuncParam\u001b[39m\n",
       "defined \u001b[32mclass\u001b[39m \u001b[36mLFSRwithPolynomialParam\u001b[39m"
      ]
     },
     "execution_count": 16,
     "metadata": {},
     "output_type": "execute_result"
    }
   ],
   "source": [
    "class LFSRIO extends Bundle {\n",
    "    val en  = Input(Bool())\n",
    "    val out = Output(Bool())\n",
    "    val state = Output(UInt())\n",
    "}\n",
    "\n",
    "class LFSRwithIntParams(n: Int, feedback: Int) extends Module {\n",
    "    require(n > 1, \"State must be at least 2 bits\")\n",
    "    \n",
    "    val io = IO(new LFSRIO)\n",
    "    \n",
    "    val allOnes = (BigInt(1) << n) - 1 // n may be larger than the word size\n",
    "    val state = RegInit(allOnes.U(n.W))\n",
    "    val nextStates = Wire(Vec(n, Bool()))\n",
    "    \n",
    "    nextStates(0) := state(0)\n",
    "    for (i <- 1 until n) {\n",
    "        val sel = (feedback >> i) & 1\n",
    "        if (sel != 0) {\n",
    "            // this is a tap!\n",
    "            nextStates(i) := state(i) ^ nextStates(i-1)\n",
    "        } else {\n",
    "            // not a tap, just pass through\n",
    "            nextStates(i) := nextStates(i-1)\n",
    "        }\n",
    "    }\n",
    "    \n",
    "    io.out := state(0)\n",
    "    when (io.en) {\n",
    "        state := nextStates(n-1)\n",
    "    }\n",
    "    io.state := state\n",
    "}\n",
    "\n",
    "// Functions in scala are first class objects\n",
    "// UInt => Bool is the type signature for a function that takes a UInt as an argument\n",
    "// and returns a Bool.\n",
    "// The input will be the state of the lfsr and the return value will be the new\n",
    "// bit to shift in.\n",
    "class LFSRwithFuncParam(n: Int, feedback: UInt => Bool) extends Module {\n",
    "    require(n > 1, \"State must be at least 2 bits\")\n",
    "    \n",
    "    val io = IO(new LFSRIO)\n",
    "    \n",
    "    val allOnes = (1 << n) - 1 // n may be larger than the word size\n",
    "    val state = RegInit(allOnes.U(n.W))\n",
    "    val nextState = (state << 1) | feedback(state)\n",
    "    \n",
    "    io.out := state(0)\n",
    "    when (io.en) {\n",
    "        state := nextState\n",
    "    }\n",
    "    io.state := state\n",
    "}\n",
    "\n",
    "class LFSRwithPolynomialParam(polynomial: Seq[Boolean]) extends Module {\n",
    "    require (polynomial.length > 1, \"State must be at least 2 bits\")\n",
    "    \n",
    "    val io = IO(new LFSRIO)\n",
    "    \n",
    "    val n = polynomial.length\n",
    "    val allOnes = (BigInt(1) << n) - 1 // n may be larger than the word size\n",
    "    val state = RegInit(allOnes.U(n.W))\n",
    "    // e.g. Seq(1, 0, 1) -> Seq( (1,0), (0,1), (1,2) )\n",
    "    val polyWithIdxs = polynomial.zipWithIndex\n",
    "    // e.g. Seq( (1,0), (0,1), (1,2) ) -> Seq( (1,0), (1,2) )\n",
    "    val polyWithIdxsFiltered = polyWithIdxs.filter( x => x._1 )\n",
    "    // e.g. Seq( (1,0), (1,2) ) -> Seq(0, 2)\n",
    "    val feedback = polyWithIdxsFiltered.map ( x => state(x._2) ).reduce( _ ^ _ )\n",
    "    // the last three lines could be combined into one step with\n",
    "    //val feedback = polynomial.zipWithIndex.collect {\n",
    "    //  case (sel, idx) if sel => state(idx)\n",
    "    //}.reduce(_ ^ _)\n",
    "    val nextState = (state << 1) | feedback\n",
    "    \n",
    "    io.out := state(0)\n",
    "    when (io.en) {\n",
    "        state := nextState\n",
    "    }\n",
    "    io.state := state\n",
    "}\n",
    "\n",
    "println (chisel3.Driver.emit  (() => new LFSRwithPolynomialParam(Seq(1, 0, 0, 1).map(_!=0))))"
   ]
  },
  {
   "cell_type": "markdown",
   "metadata": {},
   "source": [
    "The ability to have more sophisticated objects as parameters to our `Module`s is very powerful.\n",
    "Combined with the fact that we can write arbitrary scala code with our Chisel code, this means we can write programs that generate low level parameters based on high level requirements.\n",
    "\n",
    "In the following example, we write a `MSequence` `Module` that generates its own polynomial parameter.\n",
    "It uses pure scala to find a generator polynomial that will give a maximal-length LFSR and then passes the polynomial to the `LFSR` generator.\n",
    "Don't worry too much about the details of how it finds the generator polynomial (which is done inside `object Galois { ... }`)."
   ]
  },
  {
   "cell_type": "code",
   "execution_count": 17,
   "metadata": {
    "scrolled": true
   },
   "outputs": [
    {
     "data": {
      "text/plain": [
       "defined \u001b[32mobject\u001b[39m \u001b[36mGalois\u001b[39m\n",
       "\u001b[36mres16_1\u001b[39m: \u001b[32mSeq\u001b[39m[\u001b[32mInt\u001b[39m] = \u001b[33mArrayBuffer\u001b[39m(\u001b[32m1\u001b[39m, \u001b[32m0\u001b[39m, \u001b[32m0\u001b[39m, \u001b[32m1\u001b[39m)\n",
       "defined \u001b[32mclass\u001b[39m \u001b[36mMSequence\u001b[39m"
      ]
     },
     "execution_count": 17,
     "metadata": {},
     "output_type": "execute_result"
    }
   ],
   "source": [
    "// Based on Saxena & McClusky, \"Primitive Polynomial Generation Algorithms: Implementation and Performance Analysis\" (2004)\n",
    "// http://crc.stanford.edu/crc_papers/CRC-TR-04-03.pdf\n",
    "object Galois {\n",
    "    def maxForDegree(n: Int): Long = {\n",
    "        var max: Long = 1\n",
    "        for (i <- 1 to n) {\n",
    "            max *= 2\n",
    "        }\n",
    "        max - 1\n",
    "    }\n",
    "    def gp(degree: Int, l: Option[Int] = None, d: Option[Seq[Int]] = None): Seq[Int] = {\n",
    "        val myL = l.getOrElse(degree - 1)\n",
    "        val myD = d.getOrElse(scala.collection.mutable.ArrayBuffer.fill(degree + 1)(1))\n",
    "        \n",
    "        if (myL == 0) visit(myD) match {\n",
    "            case Some(d) => d\n",
    "            case _ => Seq()\n",
    "        } else {\n",
    "            val d0 = myD.updated(myL, 0)\n",
    "            val d1 = myD.updated(myL, 1)\n",
    "            val try0 = gp(degree, Some(myL - 1), Some(d0))\n",
    "            if (try0.length > 0) return try0\n",
    "            val try1 = gp(degree, Some(myL - 1), Some(d1))\n",
    "            return try1\n",
    "        }\n",
    "        \n",
    "    }\n",
    "    def visit(d: Seq[Int]): Option[Seq[Int]] = {\n",
    "        // println(s\"visit() called on ${d.toString}\")\n",
    "        val n = d.length\n",
    "        val max = maxForDegree(n)\n",
    "        var f: Boolean = true\n",
    "        var c: Long = 0\n",
    "        var t: Int = 0\n",
    "        val s = scala.collection.mutable.ArrayBuffer.fill(n)(1)\n",
    "        do {\n",
    "            c += 1\n",
    "            t = 0\n",
    "            for (i <- 0 until n) {\n",
    "                t = (t ^ (s(i) & d(i)))\n",
    "            }\n",
    "            for (i <- 0 until n - 1) {\n",
    "                s.update(i, s(i+1))\n",
    "            }\n",
    "            s.update(n-1, t)\n",
    "            f = s.exists(_ == 0)\n",
    "        } while (f)\n",
    "        if (c == max) {\n",
    "            Some(d)\n",
    "        } else {\n",
    "            None\n",
    "        }\n",
    "    }\n",
    "}\n",
    "\n",
    "class MSequence(nBits: Int) extends Module {\n",
    "    val io = IO(new LFSRIO)\n",
    "    \n",
    "    // find polynomial corresponding to m-sequence with nBits of state\n",
    "    val poly = Galois.gp(nBits - 1).map(_ != 0)\n",
    "    \n",
    "    val lfsr = Module(new LFSRwithPolynomialParam(poly))\n",
    "    io <> lfsr.io\n",
    "}"
   ]
  },
  {
   "cell_type": "markdown",
   "metadata": {},
   "source": [
    "# TODO keep working on this"
   ]
  },
  {
   "cell_type": "code",
   "execution_count": 3,
   "metadata": {},
   "outputs": [
    {
     "data": {
      "text/plain": [
       "defined \u001b[32mclass\u001b[39m \u001b[36mJupyterListenerCallbacks\u001b[39m\n",
       "defined \u001b[32mobject\u001b[39m \u001b[36mJupyterListeners\u001b[39m\n",
       "defined \u001b[32mclass\u001b[39m \u001b[36mJupyterTester\u001b[39m"
      ]
     },
     "execution_count": 3,
     "metadata": {},
     "output_type": "execute_result"
    }
   ],
   "source": [
    "case class JupyterListenerCallbacks(\n",
    "    step: Option[() => Unit] = None,\n",
    "    poke: Option[(String, BigInt) => Unit] = None,\n",
    "    peek: Option[String => BigInt] = None,\n",
    "    reset: Option[() => Unit] = None,\n",
    "    finish: Option[() => Unit] = None\n",
    ")\n",
    "\n",
    "object JupyterListeners {\n",
    "    private var listener: Option[JupyterListenerCallbacks] = None\n",
    "    \n",
    "    def register(l: JupyterListenerCallbacks): Unit = {\n",
    "        require(!listener.isEmpty, \"Already have a registered listener!\")\n",
    "        listener = Some(l)\n",
    "    }\n",
    "    \n",
    "    def finish(): Unit = {\n",
    "        listener.get.finish.map { case finish => finish() }\n",
    "        listener = None\n",
    "    }\n",
    "    \n",
    "    def step(): Unit = listener.get.step.map { case step => step() }\n",
    "    \n",
    "    def peek(name: String): Option[BigInt] = {\n",
    "        listener.get.peek.map { case peek => peek(name) }\n",
    "    }\n",
    "}\n",
    "\n",
    "class JupyterTester[T <: Module](c: T) extends PeekPokeTester(c) {\n",
    "    JupyterListeners.register(JupyterListenerCallbacks(\n",
    "        step = Some( () => this.step(1) ),\n",
    "        poke = Some( (s: String, b: BigInt) => { this.poke(s, b) }),\n",
    "        peek = Some( (s: String) => this.peek(s)),\n",
    "        reset = Some( () => this.reset()),\n",
    "        finish = Some( () => this.finish )\n",
    "    ))\n",
    "}"
   ]
  },
  {
   "cell_type": "code",
   "execution_count": 25,
   "metadata": {
    "scrolled": true
   },
   "outputs": [
    {
     "data": {
      "text/html": [
       "\n",
       "<script>\n",
       "function myFunction() {\n",
       "  function output(out_type, out) {\n",
       "      data = out.data[\"text/plain\"];\n",
       "      alert(\"Here it comes: \" + data);\n",
       "  }\n",
       "  var kernel = IPython.notebook.kernel;\n",
       "  var a = kernel.execute(\"val a = 5; return \\\"a\\\"\", {'output': output})\n",
       "}\n",
       "</script>\n",
       "<button onclick=\"myFunction()\">Step</button>\n"
      ]
     },
     "metadata": {},
     "output_type": "display_data"
    }
   ],
   "source": [
    "// println (chisel3.Driver.emit  (() => new MSequence(5)))\n",
    "\n",
    "publish.html(\n",
    "\"\"\"\n",
    "<script>\n",
    "function myFunction() {\n",
    "  function output(out_type, out) {\n",
    "      data = out.data[\"text/plain\"];\n",
    "      alert(\"Here it comes: \" + data);\n",
    "  }\n",
    "  var kernel = IPython.notebook.kernel;\n",
    "  var a = kernel.execute(\"val a = 5; return \\\"a\\\"\", {'output': output})\n",
    "}\n",
    "</script>\n",
    "<button onclick=\"myFunction()\">Step</button>\n",
    "\"\"\")\n"
   ]
  },
  {
   "cell_type": "code",
   "execution_count": 20,
   "metadata": {},
   "outputs": [
    {
     "data": {
      "text/plain": [
       "\u001b[36mres19\u001b[39m: \u001b[32mInt\u001b[39m = \u001b[32m4\u001b[39m"
      ]
     },
     "execution_count": 20,
     "metadata": {},
     "output_type": "execute_result"
    }
   ],
   "source": [
    "a"
   ]
  },
  {
   "cell_type": "markdown",
   "metadata": {},
   "source": [
    "### Type Parameterization\n",
    "\n",
    "In the previous tutorial, we wrote a shift register. Unfortunately, it wasn't very flexible in what kind of inputs it could handle. If instead of a `Bool` we wanted a shift register for `SInt`, we would have to rewrite the shift register module.\n",
    "\n",
    "In Scala, objects and functions aren't the only things we can treat as parameters. We can also treat types as paramters.\n",
    "\n",
    "We usually need to provide a type constraint.\n",
    "In this case, we want to be able to put objects in a bundle, connect (`:=`) them, and create registers with them (`RegNext`).\n",
    "These operations cannot be done on arbitrary objects; for example `wire := 3` is illegal because scala is statically typed.\n",
    "If we use a type constraint to say that type `T` is a subclass of `Data`, then we can use `:=` on any objects of type `T` because `:=` is defined for all `Data`.\n",
    "\n",
    "Here are two implementations of a simple shift register that take types as a parameter.\n",
    "The first is written using a loop, and the second is written using `foldLeft`.\n",
    "\n",
    "Notice that the tester is also type parameterized!\n",
    "We created a trait called `HasShiftRegisterIO[T]` that says `io` is of type `ShiftRegisterIO`.\n",
    "The implementations of the shift register all include this trait, so the tester requires `T <: Module with HasShiftRegisterIO[V]`, which both `ShiftRegisterWithLoop[V]` and `ShiftRegister[V]` satisfy, so the tester can be used with both.\n",
    "The tester has a second type parameter `V`, which is an argument for the `HasShiftRegisterIO` trait.\n",
    "This unfortunately results in the scala compiler having some trouble figuring out how to infer all the types, so we have to be explicit and write them out, e.g. `new ShiftRegisterTester[ShiftRegisterWithLoop[SInt], SInt]`."
   ]
  },
  {
   "cell_type": "code",
   "execution_count": 42,
   "metadata": {},
   "outputs": [
    {
     "name": "stdout",
     "output_type": "stream",
     "text": [
      "[\u001b[35minfo\u001b[0m] [0.000] Elaborating design...\n",
      "[\u001b[35minfo\u001b[0m] [0.004] Done elaborating.\n",
      ";buildInfoPackage: chisel3, version: 3.0-SNAPSHOT_2017-07-19, scalaVersion: 2.11.11, sbtVersion: 0.13.15, builtAtString: 2017-07-19 18:56:34.453, builtAtMillis: 1500490594453\n",
      "circuit cmd41WrapperHelperShiftRegister : \n",
      "  module cmd41WrapperHelperShiftRegister : \n",
      "    input clock : Clock\n",
      "    input reset : UInt<1>\n",
      "    output io : {flip in : UInt<5>, out : UInt<5>[5]}\n",
      "    \n",
      "    clock is invalid\n",
      "    reset is invalid\n",
      "    io is invalid\n",
      "    io.out[0] <= io.in @[cmd41.sc 25:13]\n",
      "    reg _T_14 : UInt, clock @[cmd41.sc 26:16]\n",
      "    _T_14 <= io.in @[cmd41.sc 26:16]\n",
      "    io.out[1] <= _T_14 @[cmd41.sc 25:13]\n",
      "    reg _T_16 : UInt, clock @[cmd41.sc 26:16]\n",
      "    _T_16 <= _T_14 @[cmd41.sc 26:16]\n",
      "    io.out[2] <= _T_16 @[cmd41.sc 25:13]\n",
      "    reg _T_18 : UInt, clock @[cmd41.sc 26:16]\n",
      "    _T_18 <= _T_16 @[cmd41.sc 26:16]\n",
      "    io.out[3] <= _T_18 @[cmd41.sc 25:13]\n",
      "    reg _T_20 : UInt, clock @[cmd41.sc 26:16]\n",
      "    _T_20 <= _T_18 @[cmd41.sc 26:16]\n",
      "    io.out[4] <= _T_20 @[cmd41.sc 25:13]\n",
      "    reg _T_22 : UInt, clock @[cmd41.sc 26:16]\n",
      "    _T_22 <= _T_20 @[cmd41.sc 26:16]\n",
      "    \n",
      "\n",
      "[\u001b[35minfo\u001b[0m] [0.000] Elaborating design...\n",
      "[\u001b[35minfo\u001b[0m] [0.002] Done elaborating.\n",
      ";buildInfoPackage: chisel3, version: 3.0-SNAPSHOT_2017-07-19, scalaVersion: 2.11.11, sbtVersion: 0.13.15, builtAtString: 2017-07-19 18:56:34.453, builtAtMillis: 1500490594453\n",
      "circuit cmd41WrapperHelperShiftRegister : \n",
      "  module cmd41WrapperHelperShiftRegister : \n",
      "    input clock : Clock\n",
      "    input reset : UInt<1>\n",
      "    output io : {flip in : SInt<3>, out : SInt<3>[6]}\n",
      "    \n",
      "    clock is invalid\n",
      "    reset is invalid\n",
      "    io is invalid\n",
      "    io.out[0] <= io.in @[cmd41.sc 25:13]\n",
      "    reg _T_15 : SInt, clock @[cmd41.sc 26:16]\n",
      "    _T_15 <= io.in @[cmd41.sc 26:16]\n",
      "    io.out[1] <= _T_15 @[cmd41.sc 25:13]\n",
      "    reg _T_17 : SInt, clock @[cmd41.sc 26:16]\n",
      "    _T_17 <= _T_15 @[cmd41.sc 26:16]\n",
      "    io.out[2] <= _T_17 @[cmd41.sc 25:13]\n",
      "    reg _T_19 : SInt, clock @[cmd41.sc 26:16]\n",
      "    _T_19 <= _T_17 @[cmd41.sc 26:16]\n",
      "    io.out[3] <= _T_19 @[cmd41.sc 25:13]\n",
      "    reg _T_21 : SInt, clock @[cmd41.sc 26:16]\n",
      "    _T_21 <= _T_19 @[cmd41.sc 26:16]\n",
      "    io.out[4] <= _T_21 @[cmd41.sc 25:13]\n",
      "    reg _T_23 : SInt, clock @[cmd41.sc 26:16]\n",
      "    _T_23 <= _T_21 @[cmd41.sc 26:16]\n",
      "    io.out[5] <= _T_23 @[cmd41.sc 25:13]\n",
      "    reg _T_25 : SInt, clock @[cmd41.sc 26:16]\n",
      "    _T_25 <= _T_23 @[cmd41.sc 26:16]\n",
      "    \n",
      "\n",
      "[\u001b[35minfo\u001b[0m] [0.000] Elaborating design...\n",
      "[\u001b[35minfo\u001b[0m] [0.001] Done elaborating.\n",
      "Total FIRRTL Compile Time: 11.3 ms\n",
      "Total FIRRTL Compile Time: 10.5 ms\n",
      "End of dependency graph\n",
      "Circuit state created\n",
      "[\u001b[35minfo\u001b[0m] [0.000] SEED 1502864156260\n",
      "[\u001b[35minfo\u001b[0m] [0.000] Testing ShiftRegister of type chisel3.core.UInt@8 and depth 6\n",
      "[\u001b[35minfo\u001b[0m] [0.001] 0: Vector(0, 7, 7, 7, 7, 7)\n",
      "[\u001b[35minfo\u001b[0m] [0.001] 1: Vector(1, 0, 7, 7, 7, 7)\n",
      "[\u001b[35minfo\u001b[0m] [0.002] 2: Vector(2, 1, 0, 7, 7, 7)\n",
      "[\u001b[35minfo\u001b[0m] [0.002] 3: Vector(3, 2, 1, 0, 7, 7)\n",
      "[\u001b[35minfo\u001b[0m] [0.002] 4: Vector(4, 3, 2, 1, 0, 7)\n",
      "[\u001b[35minfo\u001b[0m] [0.002] 5: Vector(5, 4, 3, 2, 1, 0)\n",
      "[\u001b[35minfo\u001b[0m] [0.002] 6: Vector(6, 5, 4, 3, 2, 1)\n",
      "[\u001b[35minfo\u001b[0m] [0.002] 7: Vector(7, 6, 5, 4, 3, 2)\n",
      "[\u001b[35minfo\u001b[0m] [0.002] 8: Vector(8, 7, 6, 5, 4, 3)\n",
      "[\u001b[35minfo\u001b[0m] [0.003] 9: Vector(9, 8, 7, 6, 5, 4)\n",
      "test cmd41WrapperHelperShiftRegister Success: 0 tests passed in 15 cycles taking 0.003266 seconds\n",
      "[\u001b[35minfo\u001b[0m] [0.003] RAN 10 CYCLES PASSED\n",
      "[\u001b[35minfo\u001b[0m] [0.000] Elaborating design...\n",
      "[\u001b[35minfo\u001b[0m] [0.001] Done elaborating.\n",
      "Total FIRRTL Compile Time: 23.3 ms\n",
      "Total FIRRTL Compile Time: 9.2 ms\n",
      "End of dependency graph\n",
      "Circuit state created\n",
      "[\u001b[35minfo\u001b[0m] [0.000] SEED 1502864156296\n",
      "[\u001b[35minfo\u001b[0m] [0.000] Testing ShiftRegister of type chisel3.core.SInt@8 and depth 4\n",
      "[\u001b[35minfo\u001b[0m] [0.000] 0: Vector(0, -32, -32, -32)\n",
      "[\u001b[35minfo\u001b[0m] [0.001] 1: Vector(1, 0, -32, -32)\n",
      "[\u001b[35minfo\u001b[0m] [0.001] 2: Vector(2, 1, 0, -32)\n",
      "[\u001b[35minfo\u001b[0m] [0.001] 3: Vector(3, 2, 1, 0)\n",
      "[\u001b[35minfo\u001b[0m] [0.004] 4: Vector(4, 3, 2, 1)\n",
      "[\u001b[35minfo\u001b[0m] [0.004] 5: Vector(5, 4, 3, 2)\n",
      "[\u001b[35minfo\u001b[0m] [0.004] 6: Vector(6, 5, 4, 3)\n",
      "[\u001b[35minfo\u001b[0m] [0.004] 7: Vector(7, 6, 5, 4)\n",
      "[\u001b[35minfo\u001b[0m] [0.004] 8: Vector(8, 7, 6, 5)\n",
      "[\u001b[35minfo\u001b[0m] [0.005] 9: Vector(9, 8, 7, 6)\n",
      "test cmd41WrapperHelperShiftRegister Success: 0 tests passed in 15 cycles taking 0.006979 seconds\n",
      "[\u001b[35minfo\u001b[0m] [0.005] RAN 10 CYCLES PASSED\n",
      "[\u001b[35minfo\u001b[0m] [0.000] Elaborating design...\n",
      "[\u001b[35minfo\u001b[0m] [0.006] Done elaborating.\n",
      "Total FIRRTL Compile Time: 12.9 ms\n",
      "Total FIRRTL Compile Time: 6.3 ms\n",
      "End of dependency graph\n",
      "Circuit state created\n",
      "[\u001b[35minfo\u001b[0m] [0.000] SEED 1502864156429\n",
      "[\u001b[35minfo\u001b[0m] [0.000] Testing ShiftRegister of type chisel3.core.UInt@8 and depth 6\n",
      "[\u001b[35minfo\u001b[0m] [0.001] 0: Vector(0, 6, 6, 6, 6, 6)\n",
      "[\u001b[35minfo\u001b[0m] [0.005] 1: Vector(1, 0, 6, 6, 6, 6)\n",
      "[\u001b[35minfo\u001b[0m] [0.008] 2: Vector(2, 1, 0, 6, 6, 6)\n",
      "[\u001b[35minfo\u001b[0m] [0.008] 3: Vector(3, 2, 1, 0, 6, 6)\n",
      "[\u001b[35minfo\u001b[0m] [0.008] 4: Vector(4, 3, 2, 1, 0, 6)\n",
      "[\u001b[35minfo\u001b[0m] [0.008] 5: Vector(5, 4, 3, 2, 1, 0)\n",
      "[\u001b[35minfo\u001b[0m] [0.008] 6: Vector(6, 5, 4, 3, 2, 1)\n",
      "[\u001b[35minfo\u001b[0m] [0.009] 7: Vector(7, 6, 5, 4, 3, 2)\n",
      "[\u001b[35minfo\u001b[0m] [0.009] 8: Vector(8, 7, 6, 5, 4, 3)\n",
      "[\u001b[35minfo\u001b[0m] [0.009] 9: Vector(9, 8, 7, 6, 5, 4)\n",
      "test cmd41WrapperHelperShiftRegisterWithLoop Success: 0 tests passed in 15 cycles taking 0.009231 seconds\n",
      "[\u001b[35minfo\u001b[0m] [0.009] RAN 10 CYCLES PASSED\n",
      "[\u001b[35minfo\u001b[0m] [0.000] Elaborating design...\n",
      "[\u001b[35minfo\u001b[0m] [0.002] Done elaborating.\n",
      "Total FIRRTL Compile Time: 34.3 ms\n",
      "Total FIRRTL Compile Time: 12.8 ms\n",
      "End of dependency graph\n",
      "Circuit state created\n",
      "[\u001b[35minfo\u001b[0m] [0.000] SEED 1502864156474\n",
      "[\u001b[35minfo\u001b[0m] [0.000] Testing ShiftRegister of type chisel3.core.SInt@8 and depth 4\n",
      "[\u001b[35minfo\u001b[0m] [0.000] 0: Vector(0, -27, -27, -27)\n",
      "[\u001b[35minfo\u001b[0m] [0.001] 1: Vector(1, 0, -27, -27)\n",
      "[\u001b[35minfo\u001b[0m] [0.001] 2: Vector(2, 1, 0, -27)\n",
      "[\u001b[35minfo\u001b[0m] [0.001] 3: Vector(3, 2, 1, 0)\n",
      "[\u001b[35minfo\u001b[0m] [0.001] 4: Vector(4, 3, 2, 1)\n",
      "[\u001b[35minfo\u001b[0m] [0.001] 5: Vector(5, 4, 3, 2)\n",
      "[\u001b[35minfo\u001b[0m] [0.002] 6: Vector(6, 5, 4, 3)\n",
      "[\u001b[35minfo\u001b[0m] [0.002] 7: Vector(7, 6, 5, 4)\n",
      "[\u001b[35minfo\u001b[0m] [0.002] 8: Vector(8, 7, 6, 5)\n",
      "[\u001b[35minfo\u001b[0m] [0.002] 9: Vector(9, 8, 7, 6)\n",
      "test cmd41WrapperHelperShiftRegisterWithLoop Success: 0 tests passed in 15 cycles taking 0.002483 seconds\n",
      "[\u001b[35minfo\u001b[0m] [0.002] RAN 10 CYCLES PASSED\n"
     ]
    },
    {
     "data": {
      "text/plain": [
       "defined \u001b[32mtrait\u001b[39m \u001b[36mHasShiftRegisterIO\u001b[39m\n",
       "defined \u001b[32mclass\u001b[39m \u001b[36mShiftRegisterIO\u001b[39m\n",
       "defined \u001b[32mclass\u001b[39m \u001b[36mShiftRegisterWithLoop\u001b[39m\n",
       "defined \u001b[32mclass\u001b[39m \u001b[36mShiftRegister\u001b[39m\n",
       "defined \u001b[32mclass\u001b[39m \u001b[36mShiftRegisterTester\u001b[39m\n",
       "\u001b[36mres41_7\u001b[39m: \u001b[32mBoolean\u001b[39m = \u001b[32mtrue\u001b[39m\n",
       "\u001b[36mres41_8\u001b[39m: \u001b[32mBoolean\u001b[39m = \u001b[32mtrue\u001b[39m\n",
       "\u001b[36mres41_9\u001b[39m: \u001b[32mBoolean\u001b[39m = \u001b[32mtrue\u001b[39m\n",
       "\u001b[36mres41_10\u001b[39m: \u001b[32mBoolean\u001b[39m = \u001b[32mtrue\u001b[39m"
      ]
     },
     "execution_count": 42,
     "metadata": {},
     "output_type": "execute_result"
    }
   ],
   "source": [
    "trait HasShiftRegisterIO[T <: Data] {\n",
    "    def io: ShiftRegisterIO[T]\n",
    "}\n",
    "\n",
    "class ShiftRegisterIO[T <: Data](gen: T, n: Int) extends Bundle {\n",
    "    require (n >= 0, \"Shift register must have non-negative shift\")\n",
    "    \n",
    "    val in = Input(gen.cloneType)\n",
    "    val out = Output(Vec(n + 1, gen.cloneType)) // + 1 because in is included in out\n",
    "}\n",
    "\n",
    "class ShiftRegisterWithLoop[T <: Data](gen: T, n: Int) extends Module with HasShiftRegisterIO[T] {\n",
    "    val io = IO(new ShiftRegisterIO(gen, n))\n",
    "    \n",
    "    io.out(0) := io.in\n",
    "    for (i <- 0 until n) {\n",
    "        io.out(i+1) := RegNext(io.out(i))\n",
    "    }\n",
    "}\n",
    "\n",
    "class ShiftRegister[T <: Data](gen: T, n: Int) extends Module with HasShiftRegisterIO[T] {\n",
    "    val io = IO(new ShiftRegisterIO(gen, n))\n",
    "    \n",
    "    io.out.foldLeft(io.in) { case (in, out) =>\n",
    "        out := in\n",
    "        RegNext(in)\n",
    "    }\n",
    "}\n",
    "\n",
    "class ShiftRegisterTester[T <: Module with HasShiftRegisterIO[V], V <: Bits](c: T) extends PeekPokeTester(c) {\n",
    "    println(s\"Testing ShiftRegister of type ${c.io.in} and depth ${c.io.out.length}\")\n",
    "    for (i <- 0 until 10) {\n",
    "        poke(c.io.in, i)\n",
    "        println(s\"$i: ${peek(c.io.out)}\")\n",
    "        step(1)\n",
    "    }\n",
    "}\n",
    "\n",
    "println (chisel3.Driver.emit  (() => new ShiftRegister(UInt(5.W), 4)))\n",
    "println (chisel3.Driver.emit  (() => new ShiftRegister(SInt(3.W), 5)))\n",
    "\n",
    "Driver(() => new ShiftRegister(UInt(4.W), 5), \"firrtl\") { c => new ShiftRegisterTester[ShiftRegister[UInt], UInt](c) }\n",
    "Driver(() => new ShiftRegister(SInt(6.W), 3), \"firrtl\") { c => new ShiftRegisterTester[ShiftRegister[SInt], SInt](c) }\n",
    "Driver(() => new ShiftRegisterWithLoop(UInt(4.W), 5), \"firrtl\") { c => new ShiftRegisterTester[ShiftRegisterWithLoop[UInt], UInt](c) }\n",
    "Driver(() => new ShiftRegisterWithLoop(SInt(6.W), 3), \"firrtl\") { c => new ShiftRegisterTester[ShiftRegisterWithLoop[SInt], SInt](c) }"
   ]
  },
  {
   "cell_type": "markdown",
   "metadata": {},
   "source": [
    "## Advanced Bundles\n",
    "So far we've talked about writing code that can generate the contents of a module.\n",
    "Generators also need to be able to programmatically generate IOs.\n",
    "The next few sections will talk about some more sophisticated things you can do with `Bundle`s in chisel.\n",
    "\n",
    "### DecoupledIO\n",
    "Ready/valid handshakes are a very common interface.\n",
    "Rather than make a new ready and valid signal in an ad-hoc way each time as required, chisel gives some helpers to make dealing with them easier.\n",
    "`Decoupled` is one such helper.\n",
    "Wrapping an IO with a call to `Decoupled(gen)` returns a bundle of type `DecoupledIO` with three fields:\n",
    "  - `ready` (Input)\n",
    "  - `valid` (Output)\n",
    "  - `bits`  (Output of the type of `gen`)\n",
    "The outputs and inputs can be reversed with a call to `Flipped()` if needed.\n",
    "Decoupled also defines `fire()` which returns a `Bool` indicating when a valid transaction is occuring (i.e. `valid && ready`).\n",
    "\n",
    "Chisel provides some other helpers, like `Valid()` (similar to `Decoupled` but with no `ready` signal, only `valid`) and `Irrevocable()` (same fields as `Decoupled`, but `valid` cannot go from 1 -> 0 unless `ready` is asserted).\n",
    "\n",
    "The following code is an example of how to replace the somewhat ad-hoc `en` signal in `LFSRIO` with a `Decoupled` interface on `out`."
   ]
  },
  {
   "cell_type": "code",
   "execution_count": 63,
   "metadata": {},
   "outputs": [
    {
     "name": "stdout",
     "output_type": "stream",
     "text": [
      "[\u001b[35minfo\u001b[0m] [0.000] Elaborating design...\n",
      "[\u001b[35minfo\u001b[0m] [0.007] Done elaborating.\n",
      ";buildInfoPackage: chisel3, version: 3.0-SNAPSHOT_2017-07-19, scalaVersion: 2.11.11, sbtVersion: 0.13.15, builtAtString: 2017-07-19 18:56:34.453, builtAtMillis: 1500490594453\n",
      "circuit cmd62WrapperHelperDecoupledLFSR : \n",
      "  module cmd62WrapperHelperDecoupledLFSR : \n",
      "    input clock : Clock\n",
      "    input reset : UInt<1>\n",
      "    output io : {out : {flip ready : UInt<1>, valid : UInt<1>, bits : UInt<1>}, state : UInt}\n",
      "    \n",
      "    clock is invalid\n",
      "    reset is invalid\n",
      "    io is invalid\n",
      "    reg state : UInt<4>, clock with : (reset => (reset, UInt<4>(\"h0f\"))) @[cmd62.sc 10:29]\n",
      "    node _T_9 = shl(state, 1) @[cmd62.sc 11:29]\n",
      "    node _T_10 = bits(state, 3, 3) @[cmd62.sc 21:84]\n",
      "    node _T_11 = bits(state, 0, 0) @[cmd62.sc 21:91]\n",
      "    node _T_12 = xor(_T_10, _T_11) @[cmd62.sc 21:88]\n",
      "    node nextState = or(_T_9, _T_12) @[cmd62.sc 11:35]\n",
      "    io.out.valid <= UInt<1>(\"h01\") @[cmd62.sc 12:19]\n",
      "    node _T_14 = bits(state, 3, 3) @[cmd62.sc 13:27]\n",
      "    io.out.bits <= _T_14 @[cmd62.sc 13:19]\n",
      "    io.state <= state @[cmd62.sc 14:19]\n",
      "    node _T_15 = and(io.out.ready, io.out.valid) @[Decoupled.scala 30:37]\n",
      "    when _T_15 : @[cmd62.sc 16:26]\n",
      "      state <= nextState @[cmd62.sc 17:15]\n",
      "      skip @[cmd62.sc 16:26]\n",
      "    \n",
      "\n"
     ]
    },
    {
     "data": {
      "text/plain": [
       "defined \u001b[32mclass\u001b[39m \u001b[36mSimpleLFSRIO\u001b[39m\n",
       "defined \u001b[32mclass\u001b[39m \u001b[36mDecoupledLFSR\u001b[39m"
      ]
     },
     "execution_count": 63,
     "metadata": {},
     "output_type": "execute_result"
    }
   ],
   "source": [
    "class SimpleLFSRIO extends Bundle {\n",
    "    val out   = Decoupled(Bool())\n",
    "    val state = Output(UInt())\n",
    "}\n",
    "\n",
    "class DecoupledLFSR(n: Int, feedback: UInt => Bool) extends Module {\n",
    "    val io = IO(new SimpleLFSRIO)\n",
    "    \n",
    "    val allOnes    = (1 << n) - 1\n",
    "    val state      = RegInit(allOnes.U(n.W))\n",
    "    val nextState  = (state << 1) | feedback(state)\n",
    "    io.out.valid  := true.B // LFSR can always output valid data\n",
    "    io.out.bits   := state(n-1)\n",
    "    io.state      := state\n",
    "\n",
    "    when (io.out.fire()) { // io.out.fire() = io.out.ready && io.out.valid for Decoupled\n",
    "        state := nextState\n",
    "    }\n",
    "}\n",
    "\n",
    "println(chisel3.Driver.emit( () => new DecoupledLFSR(4, {u: UInt => u(3) ^ u(0)}) ))"
   ]
  },
  {
   "cell_type": "markdown",
   "metadata": {},
   "source": [
    "### Parameterized Bundles\n",
    "\n",
    "We've shown them in previous sections but it is worth discussing in a dedicated section.\n",
    "Like `Module`s, chisel `Bundle`s are classes that can have any valid scala object as arguments.\n",
    "These parameterized bundles can cause problems in some instances, usually with `cloneType`.\n",
    "The following code will give a somewhat strange error unless you uncomment the commented `cloneType` implementation."
   ]
  },
  {
   "cell_type": "code",
   "execution_count": 76,
   "metadata": {},
   "outputs": [
    {
     "name": "stdout",
     "output_type": "stream",
     "text": [
      "[\u001b[35minfo\u001b[0m] [0.000] Elaborating design...\n"
     ]
    },
    {
     "ename": "",
     "evalue": "",
     "output_type": "error",
     "traceback": [
      "\u001b[31mchisel3.internal.ChiselException: Parameterized Bundle class $sess.cmd75Wrapper$Helper$ParamBundle needs cloneType method\u001b[39m",
      "  chisel3.internal.throwException$.apply(\u001b[32mError.scala\u001b[39m:\u001b[32m13\u001b[39m)",
      "  chisel3.internal.Builder$.exception(\u001b[32mBuilder.scala\u001b[39m:\u001b[32m234\u001b[39m)",
      "  chisel3.core.Bundle.cloneType(\u001b[32mAggregate.scala\u001b[39m:\u001b[32m578\u001b[39m)",
      "  chisel3.core.Bundle.cloneType(\u001b[32mAggregate.scala\u001b[39m:\u001b[32m510\u001b[39m)",
      "  $sess.cmd41Wrapper$Helper$ShiftRegisterIO.<init>(\u001b[32mcmd41.sc\u001b[39m:\u001b[32m8\u001b[39m)",
      "  $sess.cmd41Wrapper$Helper$ShiftRegister.<init>(\u001b[32mcmd41.sc\u001b[39m:\u001b[32m22\u001b[39m)",
      "  $sess.cmd75Wrapper$Helper$$anonfun$1.apply(\u001b[32mcmd75.sc\u001b[39m:\u001b[32m7\u001b[39m)",
      "  $sess.cmd75Wrapper$Helper$$anonfun$1.apply(\u001b[32mcmd75.sc\u001b[39m:\u001b[32m7\u001b[39m)",
      "  chisel3.core.Module$.do_apply(\u001b[32mModule.scala\u001b[39m:\u001b[32m45\u001b[39m)",
      "  chisel3.Driver$$anonfun$elaborate$1.apply(\u001b[32mDriver.scala\u001b[39m:\u001b[32m92\u001b[39m)",
      "  chisel3.Driver$$anonfun$elaborate$1.apply(\u001b[32mDriver.scala\u001b[39m:\u001b[32m92\u001b[39m)",
      "  chisel3.internal.Builder$$anonfun$build$1.apply(\u001b[32mBuilder.scala\u001b[39m:\u001b[32m240\u001b[39m)",
      "  chisel3.internal.Builder$$anonfun$build$1.apply(\u001b[32mBuilder.scala\u001b[39m:\u001b[32m238\u001b[39m)",
      "  scala.util.DynamicVariable.withValue(\u001b[32mDynamicVariable.scala\u001b[39m:\u001b[32m58\u001b[39m)",
      "  chisel3.internal.Builder$.build(\u001b[32mBuilder.scala\u001b[39m:\u001b[32m238\u001b[39m)",
      "  chisel3.Driver$.elaborate(\u001b[32mDriver.scala\u001b[39m:\u001b[32m92\u001b[39m)",
      "  chisel3.Driver$.emit(\u001b[32mDriver.scala\u001b[39m:\u001b[32m94\u001b[39m)",
      "  $sess.cmd75Wrapper$Helper.<init>(\u001b[32mcmd75.sc\u001b[39m:\u001b[32m7\u001b[39m)",
      "  $sess.cmd75Wrapper.<init>(\u001b[32mcmd75.sc\u001b[39m:\u001b[32m808\u001b[39m)",
      "  $sess.cmd75$.<init>(\u001b[32mcmd75.sc\u001b[39m:\u001b[32m493\u001b[39m)",
      "  $sess.cmd75$.<clinit>(\u001b[32mcmd75.sc\u001b[39m:\u001b[32m-1\u001b[39m)"
     ]
    }
   ],
   "source": [
    "class ParamBundle(a: Int) extends Bundle {\n",
    "    val in1 = Output(SInt(a.W))\n",
    "    val in2 = Output(SInt(a.W))\n",
    "    // override def cloneType = new ParamBundle(a).asInstanceOf[this.type]\n",
    "}\n",
    "\n",
    "println(chisel3.Driver.emit( () => new ShiftRegister(new ParamBundle(3), 4) ))"
   ]
  },
  {
   "cell_type": "markdown",
   "metadata": {},
   "source": [
    "The error says a `cloneType` method is needed.\n",
    "What is going on?\n",
    "Every chisel object is either a bound \"hardware\" object or an unbound \"type\" object.\n",
    "Bound hardware objects actually exist in the circuit, like a register or a wire.\n",
    "Unbound type objects are things like `UInt(4.W)`- they don't exist in the circuit, they just describe a type.\n",
    "`cloneType` is a method used a lot internally in chisel that gets an unbound type object from any object, including a bound hardware object.\n",
    "Normally, chisel can figure out how to do this automatically, but sometimes parameterized bundles confuse this process because the chisel compiler has trouble figuring out where the parameters are coming from.\n",
    "Overriding `cloneType` and filling in the parameters manually will solve the problem, as shown above."
   ]
  },
  {
   "cell_type": "markdown",
   "metadata": {},
   "source": [
    "### Optional Bundle Fields\n",
    "\n",
    "Sometimes we want IOs to be optionally included or excluded.\n",
    "Maybe there's some internal state that's nice to be able to look at for debugging, but you want to hide it when the generator is being used in a system.\n",
    "Maybe your generator some inputs don't need to be connected all the time because there is a sensible default.\n",
    "\n",
    "Optional bundle fields are one way to get this functionality.\n",
    "`Option`s in scala might contain an object, or they might not.\n",
    "The option could be `Some`, in which case if you call `get` on it you will get the object it contains.\n",
    "It could also be `None`, in which case it contains no object and calling `get` on it raises an error.\n",
    "An `Option` can be either `Some` or `None`- either it has a value, or it is empty.\n",
    "\n",
    "In the following example, we show an LFSR where the state output is optional.\n",
    "If you are debugging the LFSR, it could be nice to look at the state and see what's going on.\n",
    "If you're using the LFSR as a PRBS generator, you don't have to see the state, just the output.\n",
    "If the state output exists, the generator assigns to it, but if it doesn't it does nothing.\n",
    "\n",
    "If the optional field were an input rather than an output, `getOrElse(...)` is a useful thing to call on the optional field.\n",
    "If the option is `Some()`, calling `getOrElse(...)` on it returns the value of the `Some()`.\n",
    "If the option is `None`, calling `getOrElse(default)` returns default."
   ]
  },
  {
   "cell_type": "code",
   "execution_count": 58,
   "metadata": {},
   "outputs": [
    {
     "name": "stdout",
     "output_type": "stream",
     "text": [
      "[\u001b[35minfo\u001b[0m] [0.000] Elaborating design...\n",
      "[\u001b[35minfo\u001b[0m] [0.014] Done elaborating.\n",
      ";buildInfoPackage: chisel3, version: 3.0-SNAPSHOT_2017-07-19, scalaVersion: 2.11.11, sbtVersion: 0.13.15, builtAtString: 2017-07-19 18:56:34.453, builtAtMillis: 1500490594453\n",
      "circuit cmd57WrapperHelperOptionalStateLFSR : \n",
      "  module cmd57WrapperHelperOptionalStateLFSR : \n",
      "    input clock : Clock\n",
      "    input reset : UInt<1>\n",
      "    output io : {out : UInt<1>, state : UInt}\n",
      "    \n",
      "    clock is invalid\n",
      "    reset is invalid\n",
      "    io is invalid\n",
      "    reg state : UInt<4>, clock with : (reset => (reset, UInt<4>(\"h0f\"))) @[cmd57.sc 10:24]\n",
      "    node _T_6 = shl(state, 1) @[cmd57.sc 11:28]\n",
      "    node _T_7 = bits(state, 3, 3) @[cmd57.sc 11:42]\n",
      "    node _T_8 = bits(state, 0, 0) @[cmd57.sc 11:53]\n",
      "    node _T_9 = xor(_T_7, _T_8) @[cmd57.sc 11:46]\n",
      "    node nextState = or(_T_6, _T_9) @[cmd57.sc 11:34]\n",
      "    state <= nextState @[cmd57.sc 12:11]\n",
      "    node _T_10 = bits(state, 0, 0) @[cmd57.sc 13:20]\n",
      "    io.out <= _T_10 @[cmd57.sc 13:12]\n",
      "    io.state <= state @[cmd57.sc 17:32]\n",
      "    \n",
      "\n",
      "[\u001b[35minfo\u001b[0m] [0.000] Elaborating design...\n",
      "[\u001b[35minfo\u001b[0m] [0.089] Done elaborating.\n",
      ";buildInfoPackage: chisel3, version: 3.0-SNAPSHOT_2017-07-19, scalaVersion: 2.11.11, sbtVersion: 0.13.15, builtAtString: 2017-07-19 18:56:34.453, builtAtMillis: 1500490594453\n",
      "circuit cmd57WrapperHelperOptionalStateLFSR : \n",
      "  module cmd57WrapperHelperOptionalStateLFSR : \n",
      "    input clock : Clock\n",
      "    input reset : UInt<1>\n",
      "    output io : {out : UInt<1>}\n",
      "    \n",
      "    clock is invalid\n",
      "    reset is invalid\n",
      "    io is invalid\n",
      "    reg state : UInt<4>, clock with : (reset => (reset, UInt<4>(\"h0f\"))) @[cmd57.sc 10:24]\n",
      "    node _T_5 = shl(state, 1) @[cmd57.sc 11:28]\n",
      "    node _T_6 = bits(state, 3, 3) @[cmd57.sc 11:42]\n",
      "    node _T_7 = bits(state, 0, 0) @[cmd57.sc 11:53]\n",
      "    node _T_8 = xor(_T_6, _T_7) @[cmd57.sc 11:46]\n",
      "    node nextState = or(_T_5, _T_8) @[cmd57.sc 11:34]\n",
      "    state <= nextState @[cmd57.sc 12:11]\n",
      "    node _T_9 = bits(state, 0, 0) @[cmd57.sc 13:20]\n",
      "    io.out <= _T_9 @[cmd57.sc 13:12]\n",
      "    \n",
      "\n"
     ]
    },
    {
     "data": {
      "text/plain": [
       "defined \u001b[32mclass\u001b[39m \u001b[36mOptionalLFSRIO\u001b[39m\n",
       "defined \u001b[32mclass\u001b[39m \u001b[36mOptionalStateLFSR\u001b[39m"
      ]
     },
     "execution_count": 58,
     "metadata": {},
     "output_type": "execute_result"
    }
   ],
   "source": [
    "class OptionalLFSRIO(includeState: Boolean = true) extends Bundle {\n",
    "    val out   = Output(Bool())\n",
    "    val state = if (includeState) Some(Output(UInt())) else None\n",
    "}\n",
    "\n",
    "class OptionalStateLFSR(includeState: Boolean = true) extends Module {\n",
    "    val io = IO(new OptionalLFSRIO(includeState))\n",
    "    \n",
    "    // simple 4-bit LFSR\n",
    "    val state = RegInit(15.U(4.W))\n",
    "    val nextState = (state << 1) | (state(3) ^ state(0))\n",
    "    state := nextState\n",
    "    io.out := state(0)\n",
    "    // map can be used to conditionally connect state\n",
    "    // an equivalent way would be\n",
    "    // if (!io.state.isEmpty) io.state.get := state\n",
    "    io.state.map { case s => s := state }\n",
    "}\n",
    "\n",
    "println(chisel3.Driver.emit( () => new OptionalStateLFSR(true) ))\n",
    "println(chisel3.Driver.emit( () => new OptionalStateLFSR(false) ))"
   ]
  },
  {
   "cell_type": "markdown",
   "metadata": {},
   "source": [
    "### Zero-Width Wires\n",
    "\n",
    "Types with width 0 are not illegal in chisel.\n",
    "This is frequently useful.\n",
    "They are more or less equivalent to a literal 0 when they are used in operations, and they are not emitted in IOs.\n",
    "When are they useful?\n",
    "\n",
    "Frequently, widths are computed from other widths.\n",
    "One very common case is that the width of one field is the log of the width of another field, as shown in the following example.\n",
    "Rather than special-casing these situations out, zero-width wires allow your generator to be clean while still emitting the right verilog."
   ]
  },
  {
   "cell_type": "code",
   "execution_count": 56,
   "metadata": {},
   "outputs": [
    {
     "name": "stdout",
     "output_type": "stream",
     "text": [
      "[\u001b[35minfo\u001b[0m] [0.000] Elaborating design...\n",
      "[\u001b[35minfo\u001b[0m] [0.003] Done elaborating.\n",
      ";buildInfoPackage: chisel3, version: 3.0-SNAPSHOT_2017-07-19, scalaVersion: 2.11.11, sbtVersion: 0.13.15, builtAtString: 2017-07-19 18:56:34.453, builtAtMillis: 1500490594453\n",
      "circuit cmd55WrapperHelperVectorSelect : \n",
      "  module cmd55WrapperHelperVectorSelect : \n",
      "    input clock : Clock\n",
      "    input reset : UInt<1>\n",
      "    output io : {flip vecIn : UInt<4>[4], flip sel : UInt<2>, out : UInt<4>}\n",
      "    \n",
      "    clock is invalid\n",
      "    reset is invalid\n",
      "    io is invalid\n",
      "    io.out <= io.vecIn[io.sel] @[cmd55.sc 9:12]\n",
      "    \n",
      "\n",
      "[\u001b[35minfo\u001b[0m] [0.000] Elaborating design...\n",
      "[\u001b[35minfo\u001b[0m] [0.002] Done elaborating.\n",
      ";buildInfoPackage: chisel3, version: 3.0-SNAPSHOT_2017-07-19, scalaVersion: 2.11.11, sbtVersion: 0.13.15, builtAtString: 2017-07-19 18:56:34.453, builtAtMillis: 1500490594453\n",
      "circuit cmd55WrapperHelperVectorSelect : \n",
      "  module cmd55WrapperHelperVectorSelect : \n",
      "    input clock : Clock\n",
      "    input reset : UInt<1>\n",
      "    output io : {flip vecIn : UInt<4>[1], flip sel : UInt<0>, out : UInt<4>}\n",
      "    \n",
      "    clock is invalid\n",
      "    reset is invalid\n",
      "    io is invalid\n",
      "    io.out <= io.vecIn[UInt<1>(\"h00\")] @[cmd55.sc 9:12]\n",
      "    \n",
      "\n"
     ]
    },
    {
     "data": {
      "text/plain": [
       "defined \u001b[32mclass\u001b[39m \u001b[36mVectorSelectIO\u001b[39m\n",
       "defined \u001b[32mclass\u001b[39m \u001b[36mVectorSelect\u001b[39m"
      ]
     },
     "execution_count": 56,
     "metadata": {},
     "output_type": "execute_result"
    }
   ],
   "source": [
    "class VectorSelectIO(n: Int) extends Bundle {\n",
    "    val vecIn = Input(Vec(UInt(4.W), n))\n",
    "    val sel   = Input(UInt(log2Ceil(n).W))\n",
    "    val out   = Output(UInt(4.W))\n",
    "}\n",
    "\n",
    "class VectorSelect(n: Int) extends Module {\n",
    "    val io = IO(new VectorSelectIO(n))\n",
    "    io.out := io.vecIn(io.sel)\n",
    "}\n",
    "\n",
    "println(chisel3.Driver.emit( () => new VectorSelect(4) ))\n",
    "println(chisel3.Driver.emit( () => new VectorSelect(1) ))"
   ]
  },
  {
   "cell_type": "markdown",
   "metadata": {},
   "source": [
    "### Multiple Clocks\n",
    "\n",
    "So far, all of our modules have used chisel's implicit clock and reset.\n",
    "You can override one or both of clock and reset.\n",
    "Clocks are special kinds of signals, whereas resets are synchronous and use any `Bool`.\n",
    "Here is an example of how to add new clocks and resets and what the resulting firrtl looks like."
   ]
  },
  {
   "cell_type": "code",
   "execution_count": 79,
   "metadata": {},
   "outputs": [
    {
     "name": "stdout",
     "output_type": "stream",
     "text": [
      "[\u001b[35minfo\u001b[0m] [0.000] Elaborating design...\n",
      "[\u001b[35minfo\u001b[0m] [0.012] Done elaborating.\n",
      ";buildInfoPackage: chisel3, version: 3.0-SNAPSHOT_2017-07-19, scalaVersion: 2.11.11, sbtVersion: 0.13.15, builtAtString: 2017-07-19 18:56:34.453, builtAtMillis: 1500490594453\n",
      "circuit cmd78WrapperHelperMultiClockExample : \n",
      "  module cmd78WrapperHelperMultiClockExample : \n",
      "    input clock : Clock\n",
      "    input reset : UInt<1>\n",
      "    output io : {flip clk1 : Clock, clk2 : Clock, flip rst : UInt<1>, flip data : UInt<4>}\n",
      "    \n",
      "    clock is invalid\n",
      "    reset is invalid\n",
      "    io is invalid\n",
      "    reg reg1 : UInt, clock @[cmd78.sc 12:23]\n",
      "    reg1 <= io.data @[cmd78.sc 12:23]\n",
      "    reg reg2 : UInt, io.clk1 @[cmd78.sc 14:44]\n",
      "    reg2 <= io.data @[cmd78.sc 14:44]\n",
      "    node _T_9 = eq(io.rst, UInt<1>(\"h00\")) @[cmd78.sc 16:32]\n",
      "    reg _T_12 : UInt, io.clk1 with : (reset => (_T_9, UInt<1>(\"h00\"))) @[cmd78.sc 17:27]\n",
      "    _T_12 <= io.data @[cmd78.sc 18:14]\n",
      "    reg reg5 : UInt, clock with : (reset => (io.rst, UInt<1>(\"h00\"))) @[cmd78.sc 21:43]\n",
      "    reg5 <= reg2 @[cmd78.sc 22:10]\n",
      "    \n",
      "\n"
     ]
    },
    {
     "data": {
      "text/plain": [
       "\u001b[32mimport \u001b[39m\u001b[36mchisel3.experimental.{withClockAndReset, withClock, withReset}\n",
       "\n",
       "\u001b[39m\n",
       "defined \u001b[32mclass\u001b[39m \u001b[36mMultiClockExample\u001b[39m"
      ]
     },
     "execution_count": 79,
     "metadata": {},
     "output_type": "execute_result"
    }
   ],
   "source": [
    "import chisel3.experimental.{withClockAndReset, withClock, withReset}\n",
    "\n",
    "class MultiClockExample extends Module {\n",
    "    val io = IO(new Bundle {\n",
    "        val clk1 = Input(Clock())\n",
    "        val clk2 = Output(Clock())\n",
    "        val rst = Input(Bool())\n",
    "        val data = Input(UInt(4.W))\n",
    "    })\n",
    "    \n",
    "    // use the implicit clock and reset\n",
    "    val reg1 = RegNext(io.data)\n",
    "    // use the clock in the bundle and the implicit reset\n",
    "    val reg2 = withClock(io.clk1) { RegNext(io.data) }\n",
    "    // use the clock and reset (inverted) in the bundle\n",
    "    withClockAndReset(io.clk1, !io.rst) {\n",
    "        val reg3 = RegInit(0.U)//\n",
    "        reg3 := io.data\n",
    "    }\n",
    "    // use the reset in the bundle\n",
    "    val reg5 = withReset(io.rst) { RegInit(0.U) }\n",
    "    reg5 := reg2\n",
    "}\n",
    "\n",
    "println(chisel3.Driver.emit( () => new MultiClockExample ))"
   ]
  },
  {
   "cell_type": "markdown",
   "metadata": {},
   "source": [
    "## Verilog blackboxes"
   ]
  },
  {
   "cell_type": "code",
   "execution_count": 26,
   "metadata": {},
   "outputs": [
    {
     "name": "stdout",
     "output_type": "stream",
     "text": [
      "[\u001b[35minfo\u001b[0m] [0.001] Elaborating design...\n",
      "[\u001b[35minfo\u001b[0m] [0.109] Done elaborating.\n",
      "Total FIRRTL Compile Time: 314.3 ms\n",
      "[\u001b[35minfo\u001b[0m] [0.000] Elaborating design...\n",
      "[\u001b[35minfo\u001b[0m] [0.004] Done elaborating.\n",
      "Total FIRRTL Compile Time: 54.3 ms\n",
      "verilator --cc Negate.v --assert -Wno-fatal -Wno-WIDTH -Wno-STMTDLY --trace -O1 --top-module Negate +define+TOP_TYPE=VNegate +define+PRINTF_COND=!Negate.reset +define+STOP_COND=!Negate.reset -CFLAGS -Wno-undefined-bool-conversion -O1 -DTOP_TYPE=VNegate -DVL_USER_FINISH -include VNegate.h -Mdir /Users/rigge/Downloads/test_run_dir/$sess.cmd25Wrapper$Helper1739786175 --exe /Users/rigge/Downloads/test_run_dir/$sess.cmd25Wrapper$Helper1739786175/Negate-harness.cpp\n"
     ]
    },
    {
     "name": "stderr",
     "output_type": "stream",
     "text": [
      "make: *** No rule to make target '/Users/rigge/Downloads/test_run_dir/ess.cmd25Wrapperelper1739786175/Negate-harness.cpp', needed by 'Negate-harness.o'.  Stop.\n"
     ]
    },
    {
     "name": "stdout",
     "output_type": "stream",
     "text": [
      "make: Entering directory '/Users/rigge/Downloads/test_run_dir/$sess.cmd25Wrapper$Helper1739786175'\n",
      "make: Leaving directory '/Users/rigge/Downloads/test_run_dir/$sess.cmd25Wrapper$Helper1739786175'\n"
     ]
    },
    {
     "ename": "",
     "evalue": "",
     "output_type": "error",
     "traceback": [
      "\u001b[31mjava.lang.AssertionError: assertion failed: \u001b[39m",
      "  scala.Predef$.assert(\u001b[32mPredef.scala\u001b[39m:\u001b[32m170\u001b[39m)",
      "  chisel3.core.assert$.apply(\u001b[32mAssert.scala\u001b[39m:\u001b[32m73\u001b[39m)",
      "  chisel3.iotesters.setupVerilatorBackend$.apply(\u001b[32mVerilatorBackend.scala\u001b[39m:\u001b[32m257\u001b[39m)",
      "  chisel3.iotesters.Driver$$anonfun$execute$1$$anonfun$apply$mcZ$sp$1.apply$mcZ$sp(\u001b[32mDriver.scala\u001b[39m:\u001b[32m53\u001b[39m)",
      "  chisel3.iotesters.Driver$$anonfun$execute$1$$anonfun$apply$mcZ$sp$1.apply(\u001b[32mDriver.scala\u001b[39m:\u001b[32m38\u001b[39m)",
      "  chisel3.iotesters.Driver$$anonfun$execute$1$$anonfun$apply$mcZ$sp$1.apply(\u001b[32mDriver.scala\u001b[39m:\u001b[32m38\u001b[39m)",
      "  logger.Logger$$anonfun$makeScope$1.apply(\u001b[32mLogger.scala\u001b[39m:\u001b[32m129\u001b[39m)",
      "  scala.util.DynamicVariable.withValue(\u001b[32mDynamicVariable.scala\u001b[39m:\u001b[32m58\u001b[39m)",
      "  logger.Logger$.makeScope(\u001b[32mLogger.scala\u001b[39m:\u001b[32m127\u001b[39m)",
      "  chisel3.iotesters.Driver$$anonfun$execute$1.apply$mcZ$sp(\u001b[32mDriver.scala\u001b[39m:\u001b[32m38\u001b[39m)",
      "  chisel3.iotesters.Driver$$anonfun$execute$1.apply(\u001b[32mDriver.scala\u001b[39m:\u001b[32m38\u001b[39m)",
      "  chisel3.iotesters.Driver$$anonfun$execute$1.apply(\u001b[32mDriver.scala\u001b[39m:\u001b[32m38\u001b[39m)",
      "  scala.util.DynamicVariable.withValue(\u001b[32mDynamicVariable.scala\u001b[39m:\u001b[32m58\u001b[39m)",
      "  chisel3.iotesters.Driver$.execute(\u001b[32mDriver.scala\u001b[39m:\u001b[32m37\u001b[39m)",
      "  chisel3.iotesters.Driver$.apply(\u001b[32mDriver.scala\u001b[39m:\u001b[32m217\u001b[39m)",
      "  $sess.cmd25Wrapper$Helper.<init>(\u001b[32mcmd25.sc\u001b[39m:\u001b[32m46\u001b[39m)",
      "  $sess.cmd25Wrapper.<init>(\u001b[32mcmd25.sc\u001b[39m:\u001b[32m400\u001b[39m)",
      "  $sess.cmd25$.<init>(\u001b[32mcmd25.sc\u001b[39m:\u001b[32m283\u001b[39m)",
      "  $sess.cmd25$.<clinit>(\u001b[32mcmd25.sc\u001b[39m:\u001b[32m-1\u001b[39m)"
     ]
    }
   ],
   "source": [
    "class Inverter extends BlackBox with HasBlackBoxInline {\n",
    "    override def desiredName = \"Inverter\"\n",
    "    val io = IO(new Bundle {\n",
    "        val in  = Input(Bool())\n",
    "        val out = Output(Bool())\n",
    "    })\n",
    "    \n",
    "    setInline(\"Inverter.v\", \n",
    "\"\"\"module Inverter(\n",
    "in,\n",
    "out\n",
    ");\n",
    "input in;\n",
    "output out;\n",
    "assign out = ~in;\n",
    "endmodule\n",
    "\"\"\")\n",
    "}\n",
    "\n",
    "\n",
    "class Negate extends Module {\n",
    "    override def desiredName = \"Negate\"\n",
    "    val io = IO(new Bundle {\n",
    "        val in = Input(SInt(4.W))\n",
    "        val out = Output(SInt(4.W))\n",
    "    })\n",
    "    val bools = io.in.toBools\n",
    "    val negated = Vec(bools.map { case b =>\n",
    "        //val inverter = Module(new Inverter)\n",
    "        //inverter.io.in := b\n",
    "        //inverter.io.out\n",
    "        ~b\n",
    "    })\n",
    "    io.out := negated.asTypeOf(SInt())\n",
    "}\n",
    "\n",
    "class NegateTester(c: Negate) extends PeekPokeTester(c) {\n",
    "    poke(c.io.in, 1)\n",
    "    expect(c.io.out, -1)\n",
    "    poke(c.io.in, 0)\n",
    "    expect(c.io.out, 0)\n",
    "}\n",
    "\n",
    "chisel3.Driver.execute(Array(\"-X\", \"verilog\"), () => new Negate)\n",
    "\n",
    "Driver(() => new Negate, \"verilator\") { c => new NegateTester(c) }\n"
   ]
  },
  {
   "cell_type": "markdown",
   "metadata": {
    "collapsed": true
   },
   "source": [
    "## Exercises\n",
    "### 1. Shift Register Test with Bundles\n",
    "\n",
    "The shift register implementations given earlier is templated for all `[T <: Data]`.\n",
    "`Bundle`s are subtypes of `Data`.\n",
    "However, the given tester was templated for `Bits` (which includes things like `UInt`, `SInt`, but not `Bundle`.\n",
    "Also, the test only printed out the values, it didn't actually check that it was correct.\n",
    "\n",
    "The following code defines a bundle type for complex numbers.\n",
    "Write a tester to check that the shift register works correctly for complex numbers.\n",
    "Test that it works for a variety of depths!\n",
    "To begin with, test that it works on `depth=4` and `width=3`, but then uncomment code to test that it works for more values."
   ]
  },
  {
   "cell_type": "code",
   "execution_count": 72,
   "metadata": {},
   "outputs": [
    {
     "name": "stderr",
     "output_type": "stream",
     "text": [
      "cmd72.sc:18: type arguments [cmd72Wrapper.this.cmd41.wrapper.ShiftRegister[Helper.this.ComplexBundle],Helper.this.ComplexBundle] do not conform to class ShiftRegisterTester's type parameter bounds [T <: chisel3.Module with Helper.this.HasShiftRegisterIO[V],V <: chisel3.Bits]\n",
      "        new ShiftRegisterTester[ShiftRegister[ComplexBundle], ComplexBundle](c) }\n",
      "            ^"
     ]
    },
    {
     "ename": "",
     "evalue": "",
     "output_type": "error",
     "traceback": [
      "Compilation Failed"
     ]
    }
   ],
   "source": [
    "class ComplexBundle(w: Int) extends Bundle {\n",
    "    val real = Output(SInt(w.W))\n",
    "    val imag = Output(SInt(w.W))\n",
    "    override def cloneType = new ComplexBundle(w).asInstanceOf[this.type]\n",
    "}\n",
    "\n",
    "// Show the emitted firrtl for an instance of ShiftRegister with Complex\n",
    "println(chisel3.Driver.emit( () => new ShiftRegister(new ComplexBundle(4), 0) ))\n",
    "\n",
    "class ComplexShiftRegisterTester(c: ShiftRegister[ComplexBundle]) extends PeekPokeTester(c) {\n",
    "    // TODO fill me in and remove fail\n",
    "    fail\n",
    "}\n",
    "\n",
    "// See what happens when you try to compile this\n",
    "// Why won't it compile?\n",
    "Driver( () => new ShiftRegister(new ComplexBundle(4), 5), \"firrtl\") { c=>\n",
    "        new ShiftRegisterTester[ShiftRegister[ComplexBundle], ComplexBundle](c) }\n",
    "\n",
    "val depths = List(4) // List(0, 1, 2, 5, 10, 100)\n",
    "val widths = List(3) // List(3, 16)\n",
    "\n",
    "for (w <- widths) {\n",
    "    for (d <- depths) {\n",
    "        Driver( () => new ShiftRegister(new ComplexBundle(w), d), \"firrtl\") { c=>\n",
    "        new ComplexShiftRegisterTester(c) }\n",
    "    }\n",
    "}"
   ]
  },
  {
   "cell_type": "markdown",
   "metadata": {},
   "source": [
    "### 2. Decoupled Shift Register\n",
    "\n",
    "Write an implementation of a shift register that has decoupled inputs and outputs.\n",
    "The output shouldn't be valid until the shift register has filled up initially."
   ]
  },
  {
   "cell_type": "code",
   "execution_count": 83,
   "metadata": {},
   "outputs": [
    {
     "name": "stdout",
     "output_type": "stream",
     "text": [
      "[\u001b[35minfo\u001b[0m] [0.000] Elaborating design...\n",
      "[\u001b[35minfo\u001b[0m] [0.005] Done elaborating.\n",
      ";buildInfoPackage: chisel3, version: 3.0-SNAPSHOT_2017-07-19, scalaVersion: 2.11.11, sbtVersion: 0.13.15, builtAtString: 2017-07-19 18:56:34.453, builtAtMillis: 1500490594453\n",
      "circuit cmd82WrapperHelperDecoupledShiftRegister : \n",
      "  module cmd82WrapperHelperDecoupledShiftRegister : \n",
      "    input clock : Clock\n",
      "    input reset : UInt<1>\n",
      "    output io : {flip in : {flip ready : UInt<1>, valid : UInt<1>, bits : UInt<4>}, out : {flip ready : UInt<1>, valid : UInt<1>, bits : UInt<4>[6]}}\n",
      "    \n",
      "    clock is invalid\n",
      "    reset is invalid\n",
      "    io is invalid\n",
      "    \n",
      "\n",
      "[\u001b[35minfo\u001b[0m] [0.000] Elaborating design...\n",
      "[\u001b[35minfo\u001b[0m] [0.002] Done elaborating.\n",
      "Total FIRRTL Compile Time: 4.1 ms\n",
      "Total FIRRTL Compile Time: 6.6 ms\n",
      "End of dependency graph\n",
      "Circuit state created\n",
      "[\u001b[35minfo\u001b[0m] [0.000] SEED 1502909159479\n",
      "test cmd82WrapperHelperDecoupledShiftRegister Success: 0 tests passed in 5 cycles taking 0.000842 seconds\n",
      "[\u001b[35minfo\u001b[0m] [0.000] RAN 0 CYCLES FAILED FIRST AT CYCLE 0\n"
     ]
    },
    {
     "data": {
      "text/plain": [
       "defined \u001b[32mclass\u001b[39m \u001b[36mDecoupledShiftRegisterIO\u001b[39m\n",
       "defined \u001b[32mclass\u001b[39m \u001b[36mDecoupledShiftRegister\u001b[39m\n",
       "defined \u001b[32mclass\u001b[39m \u001b[36mDecoupledShiftRegisterTester\u001b[39m\n",
       "\u001b[36mres82_4\u001b[39m: \u001b[32mBoolean\u001b[39m = \u001b[32mfalse\u001b[39m"
      ]
     },
     "execution_count": 83,
     "metadata": {},
     "output_type": "execute_result"
    }
   ],
   "source": [
    "class DecoupledShiftRegisterIO[T <: Data](gen: T, n: Int) extends Bundle {\n",
    "    require (n >= 0, \"Shift register must have non-negative shift\")\n",
    "    \n",
    "    val in = Flipped(Decoupled(gen))\n",
    "    val out = Decoupled(Vec(n + 1, gen.cloneType)) // + 1 because in is included in out\n",
    "}\n",
    "\n",
    "class DecoupledShiftRegister[T <: Data](gen: T, n: Int) extends Module {\n",
    "    val io = IO(new DecoupledShiftRegisterIO(gen, n))\n",
    "    \n",
    "}\n",
    "\n",
    "class DecoupledShiftRegisterTester[T <: DecoupledShiftRegister[UInt]](c: T) extends PeekPokeTester(c) {\n",
    "    fail\n",
    "}\n",
    "\n",
    "println(chisel3.Driver.emit( () => new DecoupledShiftRegister(UInt(4.W), 5)))\n",
    "Driver( () => new DecoupledShiftRegister(UInt(4.W), 5), \"firrtl\") { c => new DecoupledShiftRegisterTester(c)}"
   ]
  },
  {
   "cell_type": "markdown",
   "metadata": {},
   "source": [
    "### Bonus! Verilog Black Boxes with Handlebars"
   ]
  },
  {
   "cell_type": "code",
   "execution_count": null,
   "metadata": {
    "collapsed": true
   },
   "outputs": [],
   "source": []
  }
 ],
 "metadata": {
  "kernelspec": {
   "display_name": "Scala",
   "language": "scala",
   "name": "scala"
  },
  "language_info": {
   "codemirror_mode": "text/x-scala",
   "file_extension": ".scala",
   "mimetype": "text/x-scala",
   "name": "scala211",
   "nbconvert_exporter": "script",
   "pygments_lexer": "scala",
   "version": "2.11.11"
  }
 },
 "nbformat": 4,
 "nbformat_minor": 2
}
