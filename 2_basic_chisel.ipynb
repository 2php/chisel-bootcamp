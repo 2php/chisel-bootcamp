{
 "cells": [
  {
   "cell_type": "markdown",
   "metadata": {
    "collapsed": true
   },
   "source": [
    "# Module 2: Basic Chisel"
   ]
  },
  {
   "cell_type": "markdown",
   "metadata": {},
   "source": [
    "### Written by Stevo Bailey, Edward Wang, and Richard Lin"
   ]
  },
  {
   "cell_type": "markdown",
   "metadata": {},
   "source": [
    "## Introduction"
   ]
  },
  {
   "cell_type": "markdown",
   "metadata": {},
   "source": [
    "Now that you're familiar with Scala, it's time to learn Chisel. Chisel is a hardware construction language (HCL), similar to a hardware design language but embedded in a higher level, functional programming language. The details and benefits of an HCL will be covered in later modules. This module introduces basic Chisel, which is quite similar to Verilog. Once the basics are understood, you can use them to construct parameterized generators and take full advantage of the language.\n",
    "\n",
    "Throughout this module, the goal will be to produce a linear feedback shift register (LFSR) in hardware. If you are unfamiliar with LFSRs, gloss over the [Wikipedia page](https://en.wikipedia.org/wiki/Linear-feedback_shift_register) first. To do this, we will need to understand how combinational logic, sequential logic, operators, and data types are all handled in Chisel."
   ]
  },
  {
   "cell_type": "markdown",
   "metadata": {},
   "source": [
    "## Setup"
   ]
  },
  {
   "cell_type": "markdown",
   "metadata": {},
   "source": [
    "Download and import Chisel."
   ]
  },
  {
   "cell_type": "code",
   "execution_count": null,
   "metadata": {
    "collapsed": false
   },
   "outputs": [],
   "source": [
    "import $ivy.`edu.berkeley.cs::chisel3:3.0-SNAPSHOT_2017-07-19` \n",
    "import $ivy.`edu.berkeley.cs::chisel-iotesters:1.1-SNAPSHOT_2017-07-19`\n",
    "import chisel3._\n",
    "import chisel3.iotesters.{ChiselFlatSpec, Driver, PeekPokeTester}"
   ]
  },
  {
   "cell_type": "markdown",
   "metadata": {},
   "source": [
    "## Combinational Logic"
   ]
  },
  {
   "cell_type": "markdown",
   "metadata": {},
   "source": [
    "## Data Types"
   ]
  },
  {
   "cell_type": "markdown",
   "metadata": {},
   "source": [
    "Chisel has its own type system, distinct from Scala's type system. Chisel types eventually map to wires and logic. Example declarations of Chisel literals and variables in various types are given below. B stands for boolean, which is functionally the same as a one-bit UInt. U stands for UInt or unsigned integer. S stands for SInt or signed integer. Note that the width of an SInt includes the sign bit, so a 4-bit SInt ranges from -8 to 7. Notice how all Chisel variables are Scala `val`s. Never use a Scala `var` for a hardware construct, since the construct may never change once defined, only its value may change."
   ]
  },
  {
   "cell_type": "code",
   "execution_count": null,
   "metadata": {
    "collapsed": false
   },
   "outputs": [],
   "source": [
    "class DataTypesExample extends Module {\n",
    "  val io = IO(new Bundle {\n",
    "    val a  = Input(UInt(16.W))\n",
    "    val b  = Input(UInt(16.W))\n",
    "    val z  = Output(UInt(16.W))\n",
    "  })\n",
    "\n",
    "  // literals or constants:\n",
    "  val foo = 4.U(8.W)\n",
    "  val bar = -4.S(11.W)\n",
    "  val qux = true.B\n",
    "    \n",
    "  // variables or wires:\n",
    "  val foo2 = UInt(8.W)\n",
    "  val bar2 = SInt(11.W)\n",
    "  val qux2 = Bool()\n",
    "}"
   ]
  },
  {
   "cell_type": "markdown",
   "metadata": {},
   "source": [
    "## Chisel Operators"
   ]
  },
  {
   "cell_type": "markdown",
   "metadata": {},
   "source": [
    "An overview of Chisel operators is given below. For a more complete list, consult the [Chisel3 cheatsheet](https://chisel.eecs.berkeley.edu/doc/chisel-cheatsheet3.pdf). "
   ]
  },
  {
   "cell_type": "code",
   "execution_count": null,
   "metadata": {
    "collapsed": false
   },
   "outputs": [],
   "source": [
    "class OperatorsExample extends Module {\n",
    "  val io = IO(new Bundle {\n",
    "    val a  = Input(UInt(16.W))\n",
    "    val b  = Input(UInt(16.W))\n",
    "    val z  = Output(UInt(16.W))\n",
    "  })\n",
    "\n",
    "  // Colon equals assigns the value of the expression on the right-hand side to the variable on the left-hand side\n",
    "  val foo = UInt(16.W)        // define a wire called foo of type unsigned integer with width 16 bits\n",
    "  foo := io.a ^ io.b          // foo is assigned a XOR b (bitwise)\n",
    "    \n",
    "  // Comparisons return a Chisel Bool type, NOT a Scala Boolean type!!\n",
    "  val bar = io.a === io.b     // bar is 1 if a equals b, otherwise 0\n",
    "  val qux = io.a =/= io.b     // qux is 1 if a does not equal b, otherwise 0\n",
    "  val baz = io.a  >  io.b     // baz is 1 if a is greater than b, otherwise 0 (see also <, >=, and <=)\n",
    " \n",
    "  // Bit-level and ternary operators \n",
    "  val corge = io.a(10, 4)     // extracts bits 4, 5, 6, 7, 8, and 9 from the 16-bit input a (0 indexed)\n",
    "  val waldo = io.a(15)        // extracts bit 15 from the 16-bit input a (the MSB)\n",
    "  val plugh = Cat(io.a, io.b) // concatenates the two 16-bit inputs a and b into plugh, a 32-bit UInt\n",
    "  val xyzzy = Mux(io.a < io.b, io.a, io.b) // assigns to xyzzy input a if a is less than b, otherwise input b\n",
    "  \n",
    "  // Math operators\n",
    "  val quux = io.a + io.b      // assigns to quux the sum of a and b; the width of quux is inferred\n",
    "  val fred = io.a - io.b      // assigns to fred the difference between a and b; the width of fred is inferred\n",
    "  val thud = io.a * io.b      // assigns to thud the product of a and b\n",
    "}"
   ]
  },
  {
   "cell_type": "markdown",
   "metadata": {},
   "source": [
    "TODO: test-driven exercise(s)"
   ]
  },
  {
   "cell_type": "markdown",
   "metadata": {},
   "source": [
    "## Sequential Logic"
   ]
  },
  {
   "cell_type": "markdown",
   "metadata": {},
   "source": [
    "## Conditionals"
   ]
  },
  {
   "cell_type": "markdown",
   "metadata": {},
   "source": [
    "Note I already introduced Mux earlier, in the \"Operators\" section. But feel free to go over it again here. Also here is Wire? Seems out of place..."
   ]
  },
  {
   "cell_type": "markdown",
   "metadata": {},
   "source": [
    "## Putting it all Together: an LFSR circuit"
   ]
  },
  {
   "cell_type": "markdown",
   "metadata": {},
   "source": [
    "## Scala vs. Chisel"
   ]
  },
  {
   "cell_type": "markdown",
   "metadata": {},
   "source": [
    "## Abstraction and Hierarchy in Hardware"
   ]
  },
  {
   "cell_type": "markdown",
   "metadata": {},
   "source": [
    "Maybe include teasers for Mem and BlackBox here"
   ]
  },
  {
   "cell_type": "markdown",
   "metadata": {},
   "source": [
    "## Debugging Tips"
   ]
  },
  {
   "cell_type": "code",
   "execution_count": null,
   "metadata": {
    "collapsed": false
   },
   "outputs": [],
   "source": []
  }
 ],
 "metadata": {
  "kernelspec": {
   "display_name": "Scala",
   "language": "scala",
   "name": "scala"
  },
  "language_info": {
   "codemirror_mode": "text/x-scala",
   "file_extension": ".scala",
   "mimetype": "text/x-scala",
   "name": "scala211",
   "nbconvert_exporter": "script",
   "pygments_lexer": "scala",
   "version": "2.11.11"
  }
 },
 "nbformat": 4,
 "nbformat_minor": 2
}
