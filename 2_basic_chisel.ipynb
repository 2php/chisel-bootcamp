{
 "cells": [
  {
   "cell_type": "markdown",
   "metadata": {},
   "source": [
    "![Chisel](https://chisel.eecs.berkeley.edu/assets/img/chisel_64.png)"
   ]
  },
  {
   "cell_type": "markdown",
   "metadata": {
    "collapsed": true
   },
   "source": [
    "# Module 2: Basic Chisel"
   ]
  },
  {
   "cell_type": "markdown",
   "metadata": {},
   "source": [
    "#### Written by Stevo Bailey, Edward Wang, and Richard Lin\n",
    "[stevo@berkeley.edu](mailto:stevo@berkeley.edu), [edwardw@berkeley.edu](mailto:edwardw@berkeley.edu), [richard.lin@berkeley.edu](mailto:edwardw@berkeley.edu)"
   ]
  },
  {
   "cell_type": "markdown",
   "metadata": {},
   "source": [
    "## Introduction"
   ]
  },
  {
   "cell_type": "markdown",
   "metadata": {},
   "source": [
    "Now that you're familiar with Scala, it's time to learn Chisel. Chisel is a hardware construction language (HCL), similar to a hardware design language but embedded in a higher level, functional programming language. The details and benefits of an HCL will be covered in later modules. This module introduces basic Chisel, which is quite similar to Verilog. Once the basics are understood, you can use them to construct parameterized generators and take full advantage of the language.\n",
    "\n",
    "Throughout this module, the goal will be to produce a linear feedback shift register (LFSR) in hardware. If you are unfamiliar with LFSRs, skim the [Wikipedia page](https://en.wikipedia.org/wiki/Linear-feedback_shift_register) first. To do this, we will need to understand how combinational logic, sequential logic, operators, and data types are all handled in Chisel.\n",
    "\n",
    "At a high level, the basic 4-bit LFSR circuit we will be building will look like:\n",
    "\n",
    "![LFSR-4](images/lfsr4.svg)"
   ]
  },
  {
   "cell_type": "markdown",
   "metadata": {},
   "source": [
    "## Setup"
   ]
  },
  {
   "cell_type": "markdown",
   "metadata": {},
   "source": [
    "Download and import Chisel by running this cell:"
   ]
  },
  {
   "cell_type": "code",
   "execution_count": null,
   "metadata": {
    "collapsed": false
   },
   "outputs": [],
   "source": [
    "import $ivy.`edu.berkeley.cs::chisel3:3.0-SNAPSHOT_2017-07-19`\n",
    "import $ivy.`edu.berkeley.cs::chisel-iotesters:1.1-SNAPSHOT_2017-07-19`\n",
    "import $ivy.`edu.berkeley.cs::firrtl:1.0-SNAPSHOT_2017-07-19`\n",
    "import chisel3._\n",
    "import chisel3.util._\n",
    "import chisel3.iotesters.{ChiselFlatSpec, Driver, PeekPokeTester}\n",
    "\n",
    "// A wrapper function that provides a easy way to get the generated Verilog code for a Chisel module\n",
    "// Don't worry about the implementation of this.\n",
    "def getVerilog[T <: Module](gen: => T): String = {\n",
    "  chisel3.Driver.execute(Array[String](), {() => gen}) match {\n",
    "    case ChiselExecutionSuccess(_, _, Some(firrtl.FirrtlExecutionSuccess(_, verilog))) => verilog\n",
    "  }\n",
    "}"
   ]
  },
  {
   "cell_type": "markdown",
   "metadata": {},
   "source": [
    "# Hello, World: A Simple Example\n",
    "This section will present the simple hardware module, a simple test, and how to run it. It will contain many things that you will not understand, and that is ok. We want you to take away the broad strokes, so you can continually return to this complete working example to reinforce what you've learned.\n",
    "\n",
    "## A Simple Module\n",
    "\n",
    "Like Verilog, we can declare module definitions in Chisel. The following example is a Chisel `Module`, `Simple` that has one input, `in`, and one output, `out`, and inside it combinationally connects `in` and `out`, so `in` drives `out`.\n",
    "\n",
    "What is neat about HCL's is we can use the underlying programming language as a scripting language. For example, after declaring our Chisel module, we then use Scala to call the Chisel compiler to translate Chisel `Simple` into Verilog `Simple`. This process is called ***elaboration***."
   ]
  },
  {
   "cell_type": "code",
   "execution_count": null,
   "metadata": {
    "collapsed": true,
    "scrolled": true
   },
   "outputs": [],
   "source": [
    "// Chisel Code: Declare a new module definition\n",
    "class Simple extends Module {\n",
    "  val io = IO(new Bundle {\n",
    "    val in = Input(UInt(4.W))\n",
    "    val out = Output(UInt(4.W))\n",
    "  })\n",
    "  io.out := io.in\n",
    "}\n",
    "\n",
    "// Scala Code: Elaborate our Chisel design by translating it to Verilog\n",
    "// Don't worry about understanding this code, it is very complicated Scala\n",
    "println(getVerilog(new Simple))"
   ]
  },
  {
   "cell_type": "markdown",
   "metadata": {},
   "source": [
    "Note that the Name of our module is `cmd<#>WrapperHelperSimple`, which is an artifact of running this tutorial in Jupyter. In your normal code, it should have the name Simple. This is an important lesson though - although Chisel does its best to preserve the names of your modules and other hardware components, sometimes it fails to do so.\n",
    "\n",
    "## A Simple Tester\n",
    "\n",
    "No hardware module should be complete without a tester. The following example is a Chisel test harness `SimpleTester` that passes values to an instance of `Simple`'s input port `in`, and checks that the same value is seen on the output port `out`.\n",
    "\n",
    "Like before, we also use Scala to script our execution of the test."
   ]
  },
  {
   "cell_type": "code",
   "execution_count": null,
   "metadata": {
    "collapsed": true
   },
   "outputs": [],
   "source": [
    "// Chisel Code: Declare a new tester for Simple modules\n",
    "class SimpleTester(c: Simple) extends PeekPokeTester(c) {\n",
    "  poke(c.io.in, 0)     // Set our input to value 0\n",
    "  expect(c.io.out, 0)  // Assert that the output correctly has 0\n",
    "  poke(c.io.in, 1)     // Set our input to value 1\n",
    "  expect(c.io.out, 1)  // Assert that the output correctly has 1\n",
    "  poke(c.io.in, 2)     // Set our input to value 2\n",
    "  expect(c.io.out, 2)  // Assert that the output correctly has 2\n",
    "}\n",
    "\n",
    "// Scala Code: Calling Driver to instantiate Simple, SimpleTester, and execute the test\n",
    "// Don't worry about understanding this code, it is very complicated Scala\n",
    "val works = Driver(() => new Simple) {\n",
    "  c => new SimpleTester(c)\n",
    "}\n",
    "assert(works)        // Scala Code: if works == false, will throw an error\n",
    "println(\"SUCCESS!!\") // Scala Code: if we get here, our tests passed!\n"
   ]
  },
  {
   "cell_type": "markdown",
   "metadata": {},
   "source": [
    "## Understanding Chisel vs Scala\n",
    "\n",
    "The above examples compile Chisel into Verilog. It is important to understand what this process is, so that you as a designer can more clearly differentiate between what is hardware (Chisel) and what is scripting/parameterizations (Scala).\n",
    "\n",
    "Elaboration is the process of constructing hardware when running a Scala/Chisel program. This hardware could be represented as a schematic, or a Verilog file with neither parameters nor generate statements. In essence, elaboration removes all scripting/parameterizing around a circuit, leaving only the bare description of hardware.\n",
    "\n",
    "Let's look at some examples which clarify ***scripting*** values from ***hardware*** values.\n",
    "\n",
    "In this first example, we have two Modules `ScalaPlus` and `VerilogPlus`. In both examples, we call the `+` operator. However, the first `+` is resolved during elaboration (`1 + 2 == 3`), while the second instantiates a Verilog `+` operator and explicitly trims the carry-out. *Note that the Verilog now contains many temporary nodes of the form* `_T_<#>`*.*"
   ]
  },
  {
   "cell_type": "code",
   "execution_count": null,
   "metadata": {
    "collapsed": true
   },
   "outputs": [],
   "source": [
    "// Chisel Code: Declare a new module definition\n",
    "class ScalaPlus extends Module {\n",
    "  val io = IO(new Bundle {\n",
    "    val out = Output(UInt(2.W))\n",
    "  })\n",
    "  io.out := (1 + 2).U  // `+` resolved during elaboration\n",
    "}\n",
    "println(getVerilog(new ScalaPlus))\n",
    "\n",
    "class VerilogPlus extends Module {\n",
    "  val io = IO(new Bundle {\n",
    "    val out = Output(UInt(2.W))\n",
    "  })\n",
    "  io.out := 1.U + 2.U  // `+` remains in Verilog\n",
    "}\n",
    "println(getVerilog(new VerilogPlus))"
   ]
  },
  {
   "cell_type": "markdown",
   "metadata": {},
   "source": [
    "***What is going on here???*** When we elaborate a Chisel design, we are executing the Scala code that implements Chisel. It is designed in such a way that when it executes, it builds up an un-parameterized hardware circuit.\n",
    "\n",
    "In `ScalaPlus`:\n",
    "- <span style=\"color:red; font-family:monospace\">(1 + 2)</span> is an evaluated during elaboration, resulting in `3`\n",
    "- `(1 + 2)`<span style=\"color:red; font-family:monospace\">.U</span> converts `3` into a 2-bit hardware constant, represented by Verilog's `2'h3`\n",
    "- `out `<span style=\"color:red; font-family:monospace\"> := </span>` (1 + 2).U` combinationally connects `3.U` to `out`, resulting in the Verilog `assign out = 2'h3;`.\n",
    "\n",
    "In `ChiselPlus`:\n",
    "- `1`<span style=\"color:red; font-family:monospace\">.U</span> creates a 1-bit hardware constant, represented by Verilog's `1'h1`\n",
    "- `2`<span style=\"color:red; font-family:monospace\">.U</span> creates a 2-bit hardware constant, represented by Verilog's `2'h2`\n",
    "- `1.U ` <span style=\"color:red; font-family:monospace\">+</span> ` 2.U` creates a non-expanding hardware adder, represented by Verilog's `+` operator with logic to omit the carryout\n",
    "- `out `<span style=\"color:red; font-family:monospace\"> := </span> `1.U + 2.U` creates a combinational connection between the result of `+` with `out`, resulting in the Verilog `assign out = ...` statement\n",
    "\n",
    "## A Quick Debugging Primer\n",
    "\n",
    "There 3 major classes of bugs you may encounter:\n",
    "\n",
    "- **Compile-time errors**, where the Scala compiler is unable to build your code. A syntax error is an example. This typically produces a stack trace which can help narrow down the potential causes. Searching the Internet for the error message is often productive, as there is a community around Scala.\n",
    "- **Elaboration-time errors**, where Chisel operations have been invoked improperly. The code compiles and runs, but errors out before producing Verilog. Depending on the compilation stage of where this error occurs, some debugging information (like file and line numbers) may be available\n",
    "- **RTL bugs**, where the design is legal but wrong. Chisel is unable to detect these, though some restrictions attempt to reduce the chances of this by disallowing dangerous or confusing constructs."
   ]
  },
  {
   "cell_type": "markdown",
   "metadata": {},
   "source": [
    "## Combinational Logic\n",
    "### Data Types"
   ]
  },
  {
   "cell_type": "markdown",
   "metadata": {},
   "source": [
    "Chisel adds a set of hardware types to the Scala type system. Chisel types eventually map to wires and logic. Example declarations of Chisel literals and variables in various types are given below. `B` stands for boolean, which is functionally the same as a one-bit `UInt`. `U` stands for `UInt` or unsigned integer. `S` stands for `SInt` or signed integer. Note that the width of an `SInt` includes the sign bit, so a 4-bit `SInt` ranges from -8 to 7. Notice how all Chisel variables are Scala `val`s. **Never use a Scala `var` for a hardware construct**, since the construct may never change once defined; only its value may change. Wires may be used for parameterized types.\n",
    "```scala\n",
    "// literals or constants:\n",
    "val foo  = 4.U(8.W)        // unsigned literal with value 4 (8-bits wide)\n",
    "val foob = \"b00000100\".U   // same as above, unsigned literal with value 4 (8-bits wide)\n",
    "val bar  = -4.S(11.W)      // signed literal with value -4 (11-bits wide)\n",
    "val qux  = true.B          // boolean literal with value true\n",
    "    \n",
    "// hardware types:\n",
    "val foo2 = UInt(8.W)       // unsigned 8-bit wire (no value yet!)\n",
    "val foo3 = Wire(UInt(8.W)) // same as above, unsigned 8-bit wire\n",
    "val bar2 = SInt(11.W)      // signed 11-bit wire\n",
    "val qux2 = Bool()          // boolean wire\n",
    "\n",
    "// using wires with parameterized type:\n",
    "class test[T<:Data](myType: T) extends Module {\n",
    "  val io = IO(new Bundle {})\n",
    "  val myWire = Wire(myType) // wire of type myType, a subset of Data\n",
    "}\n",
    "```"
   ]
  },
  {
   "cell_type": "markdown",
   "metadata": {},
   "source": [
    "### Chisel Operators"
   ]
  },
  {
   "cell_type": "markdown",
   "metadata": {},
   "source": [
    "Like Verilog, Chisel is written with modules, which contain IO and logic. The details of modules are discussed later. For now, just know that all custom modules extend the Module class, and the IO should be formatted as below. Inputs are wrapped in Input() functions, and outputs in Ouptut() functions. Inputs and outputs must be Chisel types. Below is an exmaple module which passes the inputs through to the outputs. Ports in the IO bundle are accessed by prepending them with `io`, as seen below."
   ]
  },
  {
   "cell_type": "code",
   "execution_count": null,
   "metadata": {
    "collapsed": true
   },
   "outputs": [],
   "source": [
    "class ModuleExample extends Module {\n",
    "  val io = IO(new Bundle {\n",
    "    val myInput = Input(Bool())\n",
    "    val myOutput = Output(Bool())\n",
    "  })\n",
    "  io.myOutput := io.myInput\n",
    "}"
   ]
  },
  {
   "cell_type": "markdown",
   "metadata": {},
   "source": [
    "An overview of Chisel operators is given below. For a more complete list, consult the [Chisel3 cheatsheet](https://chisel.eecs.berkeley.edu/doc/chisel-cheatsheet3.pdf), specifically the third column on the first page."
   ]
  },
  {
   "cell_type": "code",
   "execution_count": null,
   "metadata": {
    "collapsed": true
   },
   "outputs": [],
   "source": [
    "class OperatorsExample extends Module {\n",
    "  val io = IO(new Bundle {\n",
    "    val a = Input(Bool())\n",
    "    val b = Input(Bool())\n",
    "    val z = Output(Bool())\n",
    "  })\n",
    "\n",
    "  // Colon equals assigns the value of the expression on the right-hand side to the variable on the left-hand side\n",
    "  val foo = Wire(UInt(16.W))        // define a wire called foo of type unsigned integer with width 16 bits\n",
    "  foo := io.a ^ io.b          // foo is assigned a XOR b (bitwise)\n",
    "  io.z := foo                 // assigns foo to the output z\n",
    "\n",
    "  // Comparisons return a Chisel Bool type, NOT a Scala Boolean type!!\n",
    "  val bar = io.a === io.b     // bar is 1 if a equals b, otherwise 0\n",
    "  val qux = io.a =/= io.b     // qux is 1 if a does not equal b, otherwise 0\n",
    "  val baz = io.a  >  io.b     // baz is 1 if a is greater than b, otherwise 0 (see also <, >=, and <=)\n",
    "\n",
    "  // Bit-level and ternary operators \n",
    "  val corge = io.a(10, 4)     // extracts bits 4, 5, 6, 7, 8, and 9 from the 16-bit input a (0 indexed)\n",
    "  val waldo = io.a(15)        // extracts bit 15 from the 16-bit input a (the MSB)\n",
    "  val plugh = Cat(io.a, io.b) // concatenates the two 16-bit inputs a and b into plugh, a 32-bit UInt\n",
    "  val xyzzy = Mux(io.a < io.b, io.a, io.b) // assigns to xyzzy input a if a is less than b, otherwise input b\n",
    "\n",
    "  // Math operators\n",
    "  val quux = io.a + io.b      // assigns to quux the sum of a and b; the width of quux is inferred\n",
    "  val fred = io.a - io.b      // assigns to fred the difference between a and b; the width of fred is inferred\n",
    "  val thud = io.a * io.b      // assigns to thud the product of a and b\n",
    "}"
   ]
  },
  {
   "cell_type": "markdown",
   "metadata": {},
   "source": [
    "Now that you have a cursory overview of operators, let's practice using them and data types with the following exercise. Write code that passes the test. First scroll down and view the tester, then modify the OperatorsExercise module in the indicated locations. Remember our goal of producing an LFSR. The input is a 4-bit word that we'll later store in a shift register. The result is the output of the LFSR (which will be fed back into the input of the shift register). Your task is to make the logic for an LFSR of the polynomial x<sup>4</sup>+x<sup>3</sup>+1. Note that the 1 is implicit, so bit 0 of the input is really x<sup>1</sup>.\n",
    "\n",
    "Graphically, the circuit looks like:\n",
    "\n",
    "![LFSR-4 combinational](images/lfsr4combinational.svg)"
   ]
  },
  {
   "cell_type": "code",
   "execution_count": null,
   "metadata": {
    "collapsed": true
   },
   "outputs": [],
   "source": [
    "// Create the module\n",
    "class OperatorsExercise extends Module {\n",
    "  val io = IO(new Bundle {\n",
    "    val input = Input(UInt(4.W))\n",
    "    val result = Output(Bool())\n",
    "  })\n",
    "\n",
    "  // YOUR CODE HERE\n",
    "  // Remember: input and result are inside io, so access them with io.input and io.result\n",
    "  // Also, there's no need to typecast between 1-bit UInts and Bools\n",
    "  // Hint: you should use the assignment operator :=\n",
    "}\n",
    "\n",
    "// Create the test\n",
    "class OperatorsExerciseTester(c: OperatorsExercise) extends PeekPokeTester(c) {\n",
    "  for (i <- 0 until math.pow(2,4).toInt) {\n",
    "    poke(c.io.input, i)\n",
    "    expect(c.io.result, (i >> 2 & 1) ^ (i >> 3 & 1))\n",
    "  }\n",
    "}\n",
    "\n",
    "// Run the test!\n",
    "val works = Driver(() => new OperatorsExercise) {\n",
    "  c => new OperatorsExerciseTester(c)\n",
    "}\n",
    "println(works)"
   ]
  },
  {
   "cell_type": "markdown",
   "metadata": {},
   "source": [
    "## Sequential Logic"
   ]
  },
  {
   "cell_type": "markdown",
   "metadata": {},
   "source": [
    "_In the previous section, we built the combinational part of the LFSR - that is, given the simultaneous output of all the shift register bits, generate the bit to feed back in. In this section, we will build the sequential part, the shift registers themselves._\n",
    "\n",
    "The basic stateful element in Chisel is the register, or `Reg`. It keeps its current value through a clock cycle, and can optionally be updated with a new value that becomes visible at the next clock edge.\n",
    "\n",
    "_Chisel connects an implicit clock line to all state elements, and an implicit reset line to state elements with an _ initial _ value. There are constructs for overriding this, for example in multi-clock designs, but we won't go into those here._\n",
    "\n",
    "A register can be constructed given a data type. For instance, a 2-bit unsigned integer register without initialization:\n",
    "```scala\n",
    "val myReg = Reg(UInt(2.W))\n",
    "```\n",
    "\n",
    "or with initialization (to 1 decimal). Both versions below are valid and do the same thing:\n",
    "```scala\n",
    "val myReg = RegInit(UInt(2.W), 1.U)\n",
    "val myReg = RegInit(1.U(2.W))\n",
    "```\n",
    "\n",
    "Its value can be updated with the `:=` operator. For example, this increments the register's value:\n",
    "```scala\n",
    "myReg := myReg + 1.U\n",
    "```\n",
    "\n",
    "Note that when read, it gives its current (stored) value, but the assignment doesn't take effect until the next clock edge.\n",
    "\n",
    "Below is an example which uses a register to implement a 2-bit wide counter, initializing at 1 and overflowing from 3 to zero. Run the block and take a look at the output trace.\n",
    "\n",
    "![LFSR-4](images/counter2.svg)"
   ]
  },
  {
   "cell_type": "code",
   "execution_count": null,
   "metadata": {
    "collapsed": true
   },
   "outputs": [],
   "source": [
    "// Module containing the register\n",
    "class MyCounter extends Module {\n",
    "  val io = IO(new Bundle {\n",
    "    val out = Output(UInt(2.W))\n",
    "  })\n",
    "  val myReg = RegInit(UInt(2.W), 1.U)\n",
    "  myReg := myReg + 1.U\n",
    "  io.out := myReg\n",
    "\n",
    "  printf(\"out=%d\\n\", io.out)\n",
    "  \n",
    "  printf(p\"${io}\\n\")\n",
    "}\n",
    "\n",
    "// Testvector\n",
    "class MyCounterTester(c: MyCounter) extends PeekPokeTester(c) {\n",
    "  expect(c.io.out, 1)\n",
    "  step(1)\n",
    "  expect(c.io.out, 2)\n",
    "  step(1)\n",
    "  expect(c.io.out, 3)\n",
    "  step(1)\n",
    "  expect(c.io.out, 0)\n",
    "  step(1)\n",
    "  expect(c.io.out, 1)\n",
    "  step(1)\n",
    "}\n",
    "\n",
    "// Driver run invocation\n",
    "Driver(() => new MyCounter) {\n",
    "  c => new MyCounterTester(c)\n",
    "}"
   ]
  },
  {
   "cell_type": "markdown",
   "metadata": {},
   "source": [
    "One important note is that Chisel distinguishes between types (like `UInt`) and hardware nodes (like the literal `2.U`, or the output of `myReg`). While\n",
    "```scala\n",
    "val myReg = Reg(UInt(2.W))\n",
    "```\n",
    "is legal because a Reg needs a data type as a model,\n",
    "```scala\n",
    "val myReg = Reg(2.U)\n",
    "```\n",
    "is an error because `2.U` is already a hardware node and can't be used as a model.\n",
    "\n",
    "Similarly, the `RegInit` examples have a type as their first argument and hardware node as the second argument. The hardware node is required to give a concrete initialization value.\n",
    "\n",
    "Given that, now build a module that implements a shift register for your LFSR. Specifically:\n",
    "- Each element is a single bit wide.\n",
    "- Has 4 stages.\n",
    "- Takes a single input bit, which is the next value into the shift register.\n",
    "- Outputs the parallel output of the shift register, with the most significant bit being the last element of the shift register and the least significant bit being the first element of the shift register. `Cat` may come in handy.\n",
    "- **The output initializes at `b0001`.**\n",
    "- Shifts each clock cycle (no enable signal).\n",
    "\n",
    "![4-stage shifter](images/shifter4.svg)\n",
    "\n",
    "A basic Module skeleton, testvector, and Driver invocation is provided below. The first register has been provided for you."
   ]
  },
  {
   "cell_type": "code",
   "execution_count": null,
   "metadata": {
    "collapsed": true
   },
   "outputs": [],
   "source": [
    "class MyShiftRegister extends Module {\n",
    "  val io = IO(new Bundle {\n",
    "    val in = Input(Bool())\n",
    "    val out = Output(UInt(4.W))\n",
    "  })\n",
    "\n",
    "  val state = RegInit(UInt(4.W), 1.U)  // 4-bit register as unsigned integer, initialized to 1 (b0001)\n",
    "\n",
    "  // YOUR CODE HERE\n",
    "  // You may find the bit extract (apply), bit shift (<<), and bit concatenation (Cat) operations useful.\n",
    "  // Don't forget to assign the module output!\n",
    "\n",
    "  printf(\"%x\\n\", io.out)\n",
    "}"
   ]
  },
  {
   "cell_type": "code",
   "execution_count": null,
   "metadata": {
    "collapsed": true
   },
   "outputs": [],
   "source": [
    "class MyShiftRegisterTester(c: MyShiftRegister) extends PeekPokeTester(c) {\n",
    "  expect(c.io.out, 1)  // b0001\n",
    "  poke(c.io.in, 0)\n",
    "  step(1)\n",
    "  expect(c.io.out, 2)  // b0010\n",
    "  poke(c.io.in, 1)\n",
    "  step(1)\n",
    "  expect(c.io.out, 5)  // b0101\n",
    "  poke(c.io.in, 1)\n",
    "  step(1)\n",
    "  expect(c.io.out, 11)  // b1011\n",
    "  poke(c.io.in, 0)\n",
    "  step(1)\n",
    "  expect(c.io.out, 6)  // b0110\n",
    "}\n",
    "\n",
    "val works = Driver(() => new MyShiftRegister) {\n",
    "  c => new MyShiftRegisterTester(c)\n",
    "}"
   ]
  },
  {
   "cell_type": "markdown",
   "metadata": {},
   "source": [
    "Chisel also offers several more variants of the register constructor, for example with a `next` field or with an `enable` signal, but these are outside the scope of this introductory tutorial.\n",
    "\n",
    "## Conditional Logic and Wires\n",
    "_We've now seen the basics of building combinational and sequential logic circuits, but those are very low-level primitives. Chisel provides a higher level of abstraction for some operations._\n",
    "\n",
    "### Conditional Register Updates\n",
    "Chisel operators can be gated by putting them inside a `when` conditional block. In our counter example above, if we also added a `count` input signal, we could gate the incrementing of the counter as follows:\n",
    "\n",
    "```scala\n",
    "when (io.count) {\n",
    "  myReg := myReg + 1.U\n",
    "}\n",
    "```\n",
    "\n",
    "In the case the `when` condition isn't met, the code inside simply isn't \"run\" on that cycle. Registers hold their state by default, so `myReg` will \"pause\" when the `when` condition isn't met, unless it is assigned later on to a different value.\n",
    "\n",
    "When also has an `.elsewhen` and `.otherwise` construct, similar to `else if` and `else`. For example, if we wanted to count the number of cycles `count` is consecutively high, we could have it reset in the `.otherwise` condition:\n",
    "\n",
    "```scala\n",
    "when (io.count) {\n",
    "  myReg := myReg + 1.U\n",
    "} .otherwise  {\n",
    "  myReg := 0.U\n",
    "}\n",
    "```\n",
    "\n",
    "_Note that there is a `.` before the `otherwise`, this due to limitations of Scala syntax._\n",
    "\n",
    "### Wires\n",
    "While we've seen the update operator `:=` used combinationally on Module boundary `IO`s, it can be also applied to Module-internal `Wire`s. Here's an example of the counter above, styled slightly differently to make the combinational logic explicit and using `Wire`s.\n",
    "```scala\n",
    "val myReg = RegInit(UInt(2.W), 1.U)\n",
    "val nextReg = Wire(UInt(2.W))  // constructed similarly to Regs\n",
    "nextReg := myReg + 1.U\n",
    "myReg := nextReg\n",
    "```\n",
    "\n",
    "### Conditional Combinational Updates\n",
    "Conditional blocks can also be used to generate combinational logic. Let's say now that we want a counter that counts 0, 1, 2, then resets. In this case, since we need to reset on 2, we can no longer depend on the implicit integer overflow and need to make the logic explicit:\n",
    "```scala\n",
    "val nextReg = Wire(UInt(2.W))\n",
    "when (myReg === 2.U) {\n",
    "  nextReg := 0.U\n",
    "} .otherwise {\n",
    "  nextReg := myReg + 1.U\n",
    "}\n",
    "```\n",
    "\n",
    "When there are multiple update operations that can apply at the same time, the last one takes priority. So the above example can be equivalently rewritten by unconditionally updating `nextReg` with the counter increment, then overriding it in the overflow case:\n",
    "\n",
    "```scala\n",
    "val nextReg = Wire(UInt(2.W))\n",
    "nextReg := myReg + 1.U\n",
    "when (myReg === 2.U) {\n",
    "  nextReg := 0.U\n",
    "}\n",
    "```\n",
    "\n",
    "There is also `WireInit`, a shorthand which declares and initializes a `Wire`:\n",
    "\n",
    "```scala\n",
    "val nextReg = WireInit(UInt(2.W), myReg + 1.U)\n",
    "when (myReg === 2.U) {\n",
    "  nextReg := 0.U\n",
    "}\n",
    "```\n",
    "\n",
    "Whether to use the first, second, or third forms is mainly a matter of style and readability. They are all functionally equivalent to the structral form with a mux:\n",
    "\n",
    "```scala\n",
    "val nextReg = Wire(UInt(2.W))\n",
    "nextReg := Mux(myReg === 2.U, 0.U, myReg + 1.U)\n",
    "```"
   ]
  },
  {
   "cell_type": "markdown",
   "metadata": {},
   "source": [
    "### A Gated, 3-tick Counter\n",
    "Putting it all together, here's the full example:"
   ]
  },
  {
   "cell_type": "code",
   "execution_count": null,
   "metadata": {
    "collapsed": true
   },
   "outputs": [],
   "source": [
    "// Module containing the register\n",
    "class MyNewCounter extends Module {\n",
    "  val io = IO(new Bundle {\n",
    "    val count = Input(Bool())\n",
    "    val out = Output(UInt(2.W))\n",
    "  })\n",
    "  val myReg = RegInit(UInt(2.W), 1.U)\n",
    "\n",
    "  val nextReg = Wire(UInt(2.W))\n",
    "  when (myReg === 2.U) {\n",
    "    nextReg := 0.U\n",
    "  } .otherwise {\n",
    "    nextReg := myReg + 1.U\n",
    "  }\n",
    "  \n",
    "  when (io.count) {\n",
    "    myReg := nextReg\n",
    "  }\n",
    "\n",
    "  io.out := myReg\n",
    "    \n",
    "  printf(\"out=%d\\n\", io.out)\n",
    "}\n",
    "\n",
    "// Testvector\n",
    "class MyNewCounterTester(c: MyNewCounter) extends PeekPokeTester(c) {\n",
    "  poke(c.io.count, 1)\n",
    "  expect(c.io.out, 1)\n",
    "  step(1)\n",
    "  expect(c.io.out, 2)\n",
    "  step(1)\n",
    "  expect(c.io.out, 0)\n",
    "  step(1)\n",
    "  expect(c.io.out, 1)\n",
    "  poke(c.io.count, 0)  // test pause\n",
    "  step(1)\n",
    "  expect(c.io.out, 1)\n",
    "  step(1)\n",
    "  expect(c.io.out, 1)\n",
    "  poke(c.io.count, 1)  // unpause\n",
    "  step(1)\n",
    "  expect(c.io.out, 2)\n",
    "  step(1)\n",
    "}\n",
    "\n",
    "// Driver run invocation\n",
    "Driver(() => new MyNewCounter) {\n",
    "  c => new MyNewCounterTester(c)\n",
    "}"
   ]
  },
  {
   "cell_type": "markdown",
   "metadata": {},
   "source": [
    "The `when` blocks are high-level constructs that ease the generation of muxes. The actual circuit would look something like:\n",
    "\n",
    "![Counter 3](images/counter3.svg)\n",
    "\n",
    "Take your shift register design from above, but modify it so that it only shifts when the update signal is asserted.\n",
    "\n",
    "As with before, a basic testbench and module skeleton are provided for you."
   ]
  },
  {
   "cell_type": "code",
   "execution_count": null,
   "metadata": {
    "collapsed": true
   },
   "outputs": [],
   "source": [
    "class MyGatedShiftRegister extends Module {\n",
    "  val io = IO(new Bundle {\n",
    "    val in = Input(Bool())\n",
    "    val update = Input(Bool())\n",
    "    val out = Output(UInt(4.W))\n",
    "  })\n",
    "  val s1 = RegInit(Bool(), true.B)\n",
    "\n",
    "  // YOUR CODE HERE\n",
    "  // don't forget to update the first register!\n",
    "\n",
    "  printf(\"%x\\n\", io.out)  \n",
    "}"
   ]
  },
  {
   "cell_type": "code",
   "execution_count": null,
   "metadata": {
    "collapsed": true
   },
   "outputs": [],
   "source": [
    "class MyGatedShiftRegisterTester(c: MyGatedShiftRegister) extends PeekPokeTester(c) {\n",
    "  poke(c.io.update, 1)\n",
    "  expect(c.io.out, 1)  // b0001\n",
    "  poke(c.io.in, 0)\n",
    "  step(1)\n",
    "  expect(c.io.out, 2)  // b0010\n",
    "  poke(c.io.in, 1)\n",
    "  step(1)\n",
    "  expect(c.io.out, 5)  // b0101\n",
    "  poke(c.io.update, 0)  // pause\n",
    "  step(1)\n",
    "  expect(c.io.out, 5)\n",
    "  step(1)\n",
    "  expect(c.io.out, 5)\n",
    "  step(1)\n",
    "  poke(c.io.update, 1)  // unpause\n",
    "  poke(c.io.in, 1)\n",
    "  step(1)\n",
    "  expect(c.io.out, 11)  // b1011\n",
    "  poke(c.io.in, 0)\n",
    "  step(1)\n",
    "  expect(c.io.out, 6)  // b0110\n",
    "}\n",
    "\n",
    "Driver(() => new MyGatedShiftRegister) {\n",
    "  c => new MyGatedShiftRegisterTester(c)\n",
    "}"
   ]
  },
  {
   "cell_type": "markdown",
   "metadata": {},
   "source": [
    "## Modules\n",
    "_Without re-use, any non-trivial RTL design wouldn't get very far. This section goes into the basics of re-use with Chisel._\n",
    "\n",
    "In all the example code, you've probably noticed that all your classes extend the `Module` class. Chisel `Module`s are very much like Verilog `module`s, they are instantiable blocks of logic that contain well-defined IO ports.\n",
    "\n",
    "As all `Module`s are classes, they can be instantiated using the `new` object syntax. However, they also must be wrapped in a `Module(...)` call. For example, to instantiate the 4-state counter example way above:\n",
    "```scala\n",
    "val myModule = Module(new MyCounter())\n",
    "```\n",
    "\n",
    "You can then reference its IO objects in its parent class. For example, if you wanted to know when `myModule`'s count was 3, you could:\n",
    "```scala\n",
    "val isCount3 = myModule.io.out === 3.U\n",
    "```\n",
    "\n",
    "### A 4-cycle tick\n",
    "This example below uses the `MyCounter` class from above to build a block that generates a one high cycle for every 4 clock cycles by comparing its output.\n",
    "\n",
    "![4-ticker](images/myTicker.svg)"
   ]
  },
  {
   "cell_type": "code",
   "execution_count": null,
   "metadata": {
    "collapsed": true
   },
   "outputs": [],
   "source": [
    "// Module containing the register\n",
    "class MyTicker extends Module {\n",
    "  val io = IO(new Bundle {\n",
    "    val out = Output(Bool())\n",
    "  })\n",
    "  \n",
    "  val myModule = Module(new MyCounter())\n",
    "  io.out := myModule.io.out === 3.U\n",
    "}\n",
    "\n",
    "// Testvector\n",
    "class MyTickerTester(c: MyTicker) extends PeekPokeTester(c) {\n",
    "  expect(c.io.out, 0)  // counter at 1\n",
    "  step(1)\n",
    "  expect(c.io.out, 0)  // counter at 2\n",
    "  step(1)\n",
    "  expect(c.io.out, 1)  // counter at 3\n",
    "  step(1)\n",
    "  expect(c.io.out, 0)  // counter at 0\n",
    "  step(1)\n",
    "  expect(c.io.out, 0)  // counter at 1\n",
    "  step(1)\n",
    "  expect(c.io.out, 0)  // counter at 2\n",
    "  step(1)\n",
    "  expect(c.io.out, 1)  // counter at 3\n",
    "  step(1)\n",
    "}\n",
    "\n",
    "// Driver run invocation\n",
    "Driver(() => new MyTicker) {\n",
    "  c => new MyTickerTester(c)\n",
    "}"
   ]
  },
  {
   "cell_type": "markdown",
   "metadata": {},
   "source": [
    "Modules are just one form of composition and re-use in Chisel; you'll learn more soon."
   ]
  },
  {
   "cell_type": "markdown",
   "metadata": {},
   "source": [
    "## Now You Try: The Full LFSR\n",
    "\n",
    "Now, build a full LFSR by taking your `MyGatedShiftRegister` and `OperatorsExercise` modules and instantiating them in a parent module. As usual, the module skeleton and a testbench is provided for you.\n",
    "\n",
    "![LFSR-4](images/lfsr4blocks.svg)"
   ]
  },
  {
   "cell_type": "code",
   "execution_count": null,
   "metadata": {
    "collapsed": true
   },
   "outputs": [],
   "source": [
    "class MyLfsr extends Module {\n",
    "  val io = IO(new Bundle {\n",
    "    val update = Input(Bool())\n",
    "    val out = Output(UInt(4.W))\n",
    "  })\n",
    "  \n",
    "  val myShifter = Module(new MyGatedShiftRegister())\n",
    "  myShifter.io.update := io.update\n",
    "  \n",
    "  // YOUR CODE HERE\n",
    "  // Don't forget to make the other needed connections to myShifter!\n",
    "  \n",
    "  printf(\"%x\\n\", io.out)\n",
    "}\n"
   ]
  },
  {
   "cell_type": "code",
   "execution_count": null,
   "metadata": {
    "collapsed": true
   },
   "outputs": [],
   "source": [
    "// Testvector\n",
    "class MyLfsrTester(c: MyLfsr) extends PeekPokeTester(c) {\n",
    "  poke(c.io.update, 1)\n",
    "  expect(c.io.out, 1)\n",
    "  step(1)\n",
    "  expect(c.io.out, 2)\n",
    "  step(1)\n",
    "  expect(c.io.out, 4)\n",
    "  step(1)\n",
    "  expect(c.io.out, 9)\n",
    "  step(1)\n",
    "  expect(c.io.out, 3)\n",
    "  step(1)\n",
    "  expect(c.io.out, 6)\n",
    "  step(1)\n",
    "  expect(c.io.out, 13)\n",
    "  step(1)\n",
    "  expect(c.io.out, 10)\n",
    "  step(1)\n",
    "  expect(c.io.out, 5)\n",
    "  step(1)\n",
    "  expect(c.io.out, 11)\n",
    "  poke(c.io.update, 0)  // pause\n",
    "  step(1)\n",
    "  expect(c.io.out, 11)\n",
    "  step(1)\n",
    "  expect(c.io.out, 11)\n",
    "  poke(c.io.update, 1)  // unpause\n",
    "  step(1)\n",
    "  expect(c.io.out, 7)\n",
    "  step(1)\n",
    "  expect(c.io.out, 15)\n",
    "  step(1)\n",
    "  expect(c.io.out, 14)\n",
    "  step(1)\n",
    "  expect(c.io.out, 12)\n",
    "  step(1)\n",
    "  expect(c.io.out, 8)\n",
    "  step(1)\n",
    "  expect(c.io.out, 1)  // LFSR restarts\n",
    "  step(1)\n",
    "  expect(c.io.out, 2)\n",
    "  step(1)\n",
    "  expect(c.io.out, 4)\n",
    "  step(1)\n",
    "  expect(c.io.out, 9)\n",
    "  step(1)\n",
    "}\n",
    "\n",
    "// Driver run invocation\n",
    "Driver(() => new MyLfsr) {\n",
    "  c => new MyLfsrTester(c)\n",
    "}"
   ]
  },
  {
   "cell_type": "markdown",
   "metadata": {},
   "source": [
    "## A Few More Constructs"
   ]
  },
  {
   "cell_type": "markdown",
   "metadata": {},
   "source": [
    "### Vec (Hardware Arrays)\n",
    "\n",
    "The Chisel `Vec` is a **type** representing a fixed-length array of some other type. What this means is that we can use a  `Vec` anywhere we would use other types like `UInt` or `Bool`.\n",
    "\n",
    "Example:\n",
    "```scala\n",
    "val vectorRegister = Reg(Vec(4, UInt(8.W))\n",
    "// This is analogous to the following scalar version.\n",
    "val scalarRegister = Reg(UInt(32.W))\n",
    "```\n",
    "\n",
    "We can do almost all of the usual things that we can do with arrays.\n",
    "\n",
    "```scala\n",
    "// Read from Vec\n",
    "val firstElement = scalarRegister(0)\n",
    "// Write to Vec\n",
    "scalarRegister(3) := nextValueForLastElement\n",
    "// Or even do this using dynamic/runtime indexing!\n",
    "val myElement = scalarRegister(io.myAddr)\n",
    "```\n",
    "\n",
    "We can even flatten/deflatten a `Vec` into a flat `UInt`.\n",
    "\n",
    "```scala\n",
    "// Flatten a Vec into a UInt\n",
    "val flatVec = vectorRegister.asUInt\n",
    "// Expand a UInt into a Vec (of the appropriate size)\n",
    "val vecScalar = scalarRegister.asTypeOf(Vec(4, UInt(8.W))\n",
    "```"
   ]
  },
  {
   "cell_type": "markdown",
   "metadata": {},
   "source": [
    "### Memories\n",
    "\n",
    "Memories are given special treatment in Chisel since hardware implementations of memory vary greatly. For example, FPGA memories are instantiated quite differently from ASIC memories. Chisel defines a memory abstraction that can map to either simple Verilog behavioural descriptions or to instances of memory modules that are available from external memory generators provided by foundry or IP vendors.\n",
    "\n",
    "Chisel supports random-access memories via the `Mem` construct. Writes to `Mem`s are **combinational/asynchronous-read, sequential/synchronous-write**. These `Mem`s will likely be synthesized to register banks, since most SRAMs in modern technologies (FPGA, ASIC) tend to no longer support combinational (asynchronous) reads.\n",
    "\n",
    "Chisel also has a construct called `SyncReadMem` for **sequential/synchronous-read, sequential/synchronous-write** memories. These `SyncReadMem`s will likely be synthesized to technology SRAMs (as opposed to register banks).\n",
    "\n",
    "#### Creating Memories\n",
    "\n",
    "Memories are declared with two parameters - the number of entries (addresses) and the datatype of each entry.\n",
    "\n",
    "```scala\n",
    "val mem = SyncReadMem(\n",
    "  1024, /* This memory will have 1024 entries (10-bit address). */\n",
    "  UInt(32.W) /* Each entry is of width 32. (data width = 32) */\n",
    ")\n",
    "```\n",
    "\n",
    "Ports into Mems are created by applying a `UInt` index.  A 1024-entry register file with one write port and one sequential/synchronous read port might be expressed as follows:\n",
    "\n",
    "```scala\n",
    "val width:Int = 32\n",
    "val addr = Wire(UInt(width.W))\n",
    "val dataIn = Wire(UInt(width.W))\n",
    "val dataOut = Wire(UInt(width.W))\n",
    "val enable = Wire(Bool())\n",
    "\n",
    "// assign data...\n",
    "\n",
    "// Create a synchronous-read, synchronous-write memory (like in FPGAs).\n",
    "val mem = SyncReadMem(1024, UInt(width.W))\n",
    "// Create one write port and one read port.\n",
    "mem.write(addr, dataIn)\n",
    "dataOut := mem.read(addr, enable)\n",
    "```\n",
    "\n",
    "A combinational/asynchronous read memory (likely synthesized to a register bank) looks like the following snippet. Note how similar it is to the synchronous case.\n",
    "\n",
    "```scala\n",
    "// Create a (likely) register-bank backed combinational-read memory.\n",
    "val mem = Mem(1024, UInt(32.W))\n",
    "// Create one write port and one read port.\n",
    "mem.write(addr, dataIn)\n",
    "dataOut := mem.read(addr, enable)\n",
    "```\n",
    "\n",
    "For the rest of this section on memories, we will concern ourselves with sequential/synchronous memories.\n",
    "\n",
    "#### Single-Ported Memories\n",
    "\n",
    "Chisel can also infer other features such as single ports and masks directly with the Mem/SyncReadMem construct.\n",
    "\n",
    "Single-ported SRAMs can be inferred when the read and write conditions are mutually exclusive in the same `when` chain:\n",
    "\n",
    "``` scala\n",
    "val mem = SyncReadMem(2048, UInt(32.W))\n",
    "when (write) { mem.write(addr, dataIn) }\n",
    ".otherwise { dataOut := mem.read(addr, read) }\n",
    "```\n",
    "\n",
    "If the same `Mem` address is both written and sequentially read on the same clock edge, or if a sequential read enable is cleared, then the read data is undefined.\n",
    "\n",
    "#### Masks\n",
    "\n",
    "Chisel memories also support write masks for subword writes. Chisel will infer masks if the data type of the memory is a vector. To infer a mask, specify the `mask` argument of the `write` function which creates write ports. A given masked length is written if the corresponding mask bit is set. For example, in the example below, if the 0th bit of mask is true, it will write the lower 8 bits of the corresponding address.\n",
    "\n",
    "```scala\n",
    "val dataOut = Wire(Vec(4, UInt(8.W)))\n",
    "val dataIn = Wire(Vec(4, UInt(8.W)))\n",
    "val mask = Wire(Vec(4, Bool()))\n",
    "val enable = Wire(Bool())\n",
    "val readAddr = Wire(UInt(10.W))\n",
    "val writeAddr = Wire(UInt(10.W))\n",
    "\n",
    "// ... assign values ...\n",
    "\n",
    "// Create a 32-bit wide memory that is byte-masked.\n",
    "val mem = SyncReadMem(1024, Vec(4, UInt(8.W)))\n",
    "// Create one masked write port and one read port.\n",
    "mem.write(writeAddr, dataIn, mask)\n",
    "dataOut := mem.read(readAddr, enable)\n",
    "```\n",
    "\n",
    "#### Exercises\n",
    "\n",
    "TODO: write exercises\n",
    "\n",
    "e.g. create a masked single port memory. Test that we can write to only one byte using masks\n",
    "\n",
    "e.g. create a 4-ported memory with 2 read ports and 2 write ports. Test reading and writing.\n",
    "\n",
    "e.g. implement a shift register using mem?"
   ]
  },
  {
   "cell_type": "markdown",
   "metadata": {},
   "source": [
    "### BlackBoxes\n",
    "\n",
    "Chisel can interface with the Verilog world through `BlackBox`es. A **`BlackBox`** is a Chisel-declaration of an external Verilog module. The `BlackBox` interface extends Chisel to interoperate with non-native primitives or existing Verilog IP. For example:\n",
    "\n",
    "```scala\n",
    "// A latch. Chisel doesn't have a native latch primitive, but a BlackBox allows us to\n",
    "// use them in Chisel designs.\n",
    "class Latch extends BlackBox {\n",
    "  val io = IO(new Bundle {\n",
    "    val d = Input(Bool())\n",
    "    val q = Output(Bool())\n",
    "    val en = Input(Bool()) // transparent high\n",
    "  })\n",
    "}\n",
    "\n",
    "// A register with an asynchronous reset. Though Chisel doesn't natively support this,\n",
    "// BlackBoxes allow us to use this Chisel designs.\n",
    "class NegEdgeFlipFlop extends BlackBox {\n",
    "  val io = IO(new Bundle {\n",
    "    val d = Input(Bool())\n",
    "    val q = Output(Bool())\n",
    "\n",
    "    val clock = Input(Clock())\n",
    "    val reset = Input(Bool())\n",
    "  })\n",
    "}\n",
    "\n",
    "// A register with an asynchronous reset. Same deal with BlackBox.\n",
    "class AsyncResetReg extends BlackBox {\n",
    "  val io = IO(new Bundle {\n",
    "    val d = Input(Bool())\n",
    "    val q = Output(Bool())\n",
    "    val en = Input(Bool())\n",
    "\n",
    "    val clock = Input(Clock())\n",
    "    val reset = Input(Bool())\n",
    "  })\n",
    "}\n",
    "\n",
    "// BlackBoxes don't have to involve clocks or state elements.\n",
    "// They could even refer to hard macros or even more efficient (circuit-level)\n",
    "// implementations.\n",
    "// See later for how to implement proper abstraction for them.\n",
    "class EladAlonHighSpeedAdder extends BlackBox {\n",
    "  val io = IO(new Bundle {\n",
    "    val a = Input(UInt(1024.W))\n",
    "    val b = Input(UInt(1024.W))\n",
    "    val out = Output(UInt(1024.W))\n",
    "  })\n",
    "}\n",
    "```\n",
    "\n",
    "TODO: provide Verilog implementations\n",
    "\n",
    "TODO: create Chisel designs as exercises (implement logic to instantiate blackboxes)\n",
    "\n",
    "TODO: run blackboxes in verilator tester"
   ]
  },
  {
   "cell_type": "markdown",
   "metadata": {},
   "source": [
    "### Bundles\n",
    "\n",
    "Let's revisit the simple adder example (listed conveniently below for you):"
   ]
  },
  {
   "cell_type": "code",
   "execution_count": null,
   "metadata": {
    "collapsed": true
   },
   "outputs": [],
   "source": [
    "class RevisitingAdders extends Module {\n",
    "  val io = IO(new Bundle {\n",
    "    val a = Input(UInt(32.W))\n",
    "    val b = Input(UInt(32.W))\n",
    "    val out = Output(UInt(32.W))\n",
    "  })\n",
    "  io.out := io.a + io.b\n",
    "}"
   ]
  },
  {
   "cell_type": "markdown",
   "metadata": {},
   "source": [
    "Notice that the input and output ports of the module are wrapped in `IO` and `new Bundle`.\n",
    "\n",
    "```scala\n",
    "val io = IO(new Bundle {\n",
    "  val a = Input(UInt(32.W))\n",
    "  val b = Input(UInt(32.W))\n",
    "  val out = Output(UInt(32.W))\n",
    "})\n",
    "```\n",
    "\n",
    "Don't worry too much about the `IO()` portion - that simply tells Chisel that the following `Bundle` (which we will talk about) is the list of I/O ports for the module, just like how `Input()` tells Chisel that a given port is an Input.\n",
    "\n",
    "The `new Bundle` portion is interesting though, since the IO of a module is a `Bundle`. Chisel's `Bundle` construct allows us to easily group together related pieces of data to form data structures, like `struct` in C or SystemVerilog.\n",
    "\n",
    "Chisel Bundles can actually be created as full classes in their own right (as opposed to the anonymous class we saw earlier with `new Bundle`).\n",
    "\n",
    "```scala\n",
    "class Coordinate extends Bundle {\n",
    "  val x = SInt(32.W)\n",
    "  val y = SInt(32.W)\n",
    "}\n",
    "\n",
    "class FloatingPoint extends Bundle {\n",
    "  val sign = UInt(1.W)\n",
    "  val exponent = UInt(8.W)\n",
    "  val mantissa = UInt(23.W)\n",
    "}\n",
    "\n",
    "class CacheLine extends Bundle {\n",
    "  val valid = Bool()\n",
    "  val tag = UInt(27.W)\n",
    "  val data = Vec(1 << 4, UInt(8.W))\n",
    "}\n",
    "\n",
    "class Complex extends Bundle {\n",
    "  // Look, we can even use Bundles in other Bundles.\n",
    "  // [cue inception music]\n",
    "  val real = new FloatingPoint()\n",
    "  val imag = new FloatingPoint()\n",
    "}\n",
    "```\n",
    "\n",
    "We can use them in all the usual ways.\n",
    "\n",
    "```scala\n",
    "val a = Wire(new Coordinate)\n",
    "a.x := 0.S\n",
    "a.y := 0.S\n",
    "val b = Wire(new Coordinate)\n",
    "b.x := 5.S\n",
    "b.y := 5.S\n",
    "val out = Wire(new Coordinate)\n",
    "// Logic to add a and b, and store the output in out.\n",
    "// YOUR CODE HERE\n",
    "\n",
    "val float1 = Wire(new FloatingPoint)\n",
    "val float2 = Wire(new FloatingPoint)\n",
    "val out = FloatingPointAdder(float1, float2) // magic\n",
    "\n",
    "val myCache = Reg(Vec(32, new CacheLine)) // For educational reasons only\n",
    "when (writeCache) {\n",
    "  myCache(index).valid := true.B\n",
    "  myCache.tag := tag\n",
    "  myCache.data := data\n",
    "}\n",
    "```\n",
    "\n",
    "Chisel's `Bundle` construct also support elements with directionality. For example:"
   ]
  },
  {
   "cell_type": "code",
   "execution_count": null,
   "metadata": {
    "collapsed": true
   },
   "outputs": [],
   "source": [
    "// For actual code, you should use https://chisel.eecs.berkeley.edu/api/index.html#chisel3.util.ReadyValidIO\n",
    "// This is for educational purposes only.\n",
    "// Written from the producer's perspective (data is an output).\n",
    "class ReadyValidUInt32 extends Bundle {\n",
    "  val ready = Input(Bool())\n",
    "  val valid = Output(Bool())\n",
    "  val data = Output(UInt(32.W))\n",
    "}\n",
    "\n",
    "class ReadyValidUInt32Pipe extends Bundle {\n",
    "  val in = (new ReadyValidUInt32).flip\n",
    "  val out = new ReadyValidUInt32\n",
    "}"
   ]
  },
  {
   "cell_type": "markdown",
   "metadata": {},
   "source": [
    "We can use these like other bundles, except that we don't have to wrap them in `Input()` or `Output()`."
   ]
  },
  {
   "cell_type": "code",
   "execution_count": null,
   "metadata": {
    "collapsed": true
   },
   "outputs": [],
   "source": [
    "// An adder that is slow. It should take the given number of cycles to compute\n",
    "// and not be ready to accept any further input.\n",
    "class SlowAdder extends Module {\n",
    "  val io = IO(new Bundle {\n",
    "    // Number of cycles to delay.\n",
    "    val delay = Input(UInt(8.W))\n",
    "    val in = (new ReadyValidUInt32).flip\n",
    "    val out = new ReadyValidUInt32\n",
    "  })\n",
    "\n",
    "  // YOUR CODE HERE\n",
    "}\n",
    "\n",
    "// A fast adder. It is always ready to add.\n",
    "class FastAdder extends Module {\n",
    "  val io = IO(new ReadyValidUInt32Pipe) // We can even use a predefined bundle as the IO!\n",
    "\n",
    "  // YOUR CODE HERE\n",
    "}"
   ]
  },
  {
   "cell_type": "code",
   "execution_count": null,
   "metadata": {
    "collapsed": true
   },
   "outputs": [],
   "source": [
    "// TODO: write tests"
   ]
  },
  {
   "cell_type": "markdown",
   "metadata": {},
   "source": [
    "## Scala vs. Chisel"
   ]
  },
  {
   "cell_type": "markdown",
   "metadata": {},
   "source": [
    "When writing Chisel code, sometimes it can be confusing as to what belongs to Scala and what belongs to Chisel, and what generates hardware and what does not.\n",
    "\n",
    "At the simplest level, Scala is a general-purpose programming language, and Chisel is a software library/DSL written in Scala. However, as hardware engineers, it can sometimes be confusing to recognize the difference between the two. Here is an overview of the Chisel process:\n",
    "\n",
    "1. Write Chisel (write a series of instructions on how to construct hardware).\n",
    "2. Execute Chisel code (executes the series of instructions and generate a concrete piece of hardware).\n",
    "3. 'Run' elaborated hardware (runs a simulation/synthesis of the concrete hardware).\n",
    "\n",
    "In order to better understand the difference and clarify the confusion, we have to talk about the difference between **compile-time/elaboration-time** and **run-time/hardware**.\n",
    "\n",
    "* **Compile-time/elaboration-time** things \"live\" in stage 2 above. They are variables/constants/parameters that are used in the 'receipe' for constructing the hardware, but don't actually exist in the final hardware in any way.\n",
    "* **Run-time/hardware** things live in stage 3 above. They actually exist in some form in the physical hardware.\n",
    "\n",
    "Here is a quick table summarizing the similarly-named constructs in Scala/Chisel:\n",
    "\n",
    "| Scala (Compile-time) | Chisel (Hardware/Run-time) |\n",
    "|----------------------|----------------------------|\n",
    "| Int/BigInt           | UInt, SInt                 |\n",
    "| Boolean              | Bool                       |\n",
    "| Seq/Array/Vector     | Vec                        |"
   ]
  },
  {
   "cell_type": "markdown",
   "metadata": {},
   "source": [
    "## Chisel Motivation as Verilog++\n",
    "\n",
    "*Adapted from the [Chisel DAC 2012 paper](http://chisel.eecs.berkeley.edu/chisel-dac2012.pdf)*\n",
    "\n",
    "Many of the problems associated with Verilog/VHDL arise from the fact that they were originally developed as hardware simulation languages, and later re-purposed for hardware synthesis. Chisel was designed to make writing hardware better by providing a new foundation that eliminates many of these legacy issues.\n",
    "\n",
    "* Synthesizable designs must be inferred from a subset of the language, complicating  tool  development  and  designer  education.\n",
    " - It is very easy to write non-synthesizable designs in Verilog inadvertently. For example: accidentally inferring latches by forgetting to specify a case. In constrast, a Chisel `Reg()` is always a register and cannot accidentally become a latch.\n",
    " - This makes writing hardware more tedious that it needs to be - e.g. the lack of a register primitive and having to write the full `always @ (posedge clock) begin ... end`. In constrast, a Chisel register is a simple `Reg()`, and updating it is a matter of `reg := ...`.\n",
    "* These languages also lack powerful abstraction and type facilities of modern software languages, making re-use hard.\n",
    " - For example, the lack of object-oriented programming to share and re-use code.\n",
    " - Or a strict type system to catch errors early.\n",
    " - Or implict wire declarations which can allow typos to sneak through.\n",
    " - Inability to have proper libraries of re-usable components.\n",
    " - Inability to define powerful, extensive interfaces for re-use.\n",
    " - In constrast, Chisel's Scala foundation is a modern object-oriented programming language with the right features to make abstraction and re-use easy.\n",
    "* It is hard to write powerfully parametrized circuits in only Verilog, necessitating all sorts of Perl/Python scripts that generate Verilog through snippets.\n",
    " - Chisel's Scala foundation makes it easy to write flexible and powerful generators, like the [Rocket Chip Generator](https://github.com/freechipsproject/rocket-chip), or [BOOM](https://github.com/ucb-bar/riscv-boom) (Berkeley's Out-of-Order processor generator). These generators are powerful in that they can generate an immensive variety of processors, in constrast to the typical fixed, one-configuration instances of Verilog-based hardware.\n",
    " - Often Verilog IP is hard to re-use because subsequent designs modify the original RTL in some subtle way that makes it slightly different. A generator can solve that by making those kinds of small changes parameters, allowing the 'library' code to be shared.\n",
    " - If you're interested, there will be an advanced Chisel tutorial that will go over using Chisel for generators.\n",
    "\n",
    "On a side note: why is Chisel considered a domain-specific language (DSL)?\n",
    "* A DSL could be considered as just an API with fancy symbols for names.\n",
    "* There isn't anything in particular that prevents Chisel from being a pure API, though having operators (a key aspect of DSLs) makes expressing hardware more concise (e.g. x := y instead of x.connect(y)).\n"
   ]
  },
  {
   "cell_type": "markdown",
   "metadata": {},
   "source": [
    "## Debugging Tips\n",
    "\n",
    "Here are some tips to help you if you get stuck with something in Chisel.\n",
    "\n",
    "### Wiki (Official User's Manual)\n",
    "\n",
    "As of August 2017, the [Chisel3 Wiki](https://github.com/freechipsproject/chisel3/wiki) contains the official Chisel User's Manual. Feel free to consult it as an introduction to certain aspects of how to use Chisel or as a reference guide/cookbook.\n",
    "\n",
    "### API\n",
    "\n",
    "The [Chisel API documentation](http://chisel.eecs.berkeley.edu/api/) contains documentation on all the DSL keywords, APIs, functions, and classes of Chisel. It is a great reference to consult if you're not sure what a certain Chisel keyword is or how a certain function works. \n",
    "\n",
    "### Cheatsheets\n",
    "\n",
    "The following cheatsheets may be useful for quickly referencing something or for remembering a particular idiom of piece of syntax.\n",
    "\n",
    "* [Chisel3 Cheatsheet](http://chisel.eecs.berkeley.edu/doc/chisel-cheatsheet3.pdf) - overview of all the major functions and operators of Chisel. Best used in conjunction with the API reference above to see how each function/operator works.\n",
    "* [ChiselSheet](https://github.com/freechipsproject/chisel3/wiki/ChiselSheet) - Scala vs Chisel vs Verilog and common idioms."
   ]
  },
  {
   "cell_type": "markdown",
   "metadata": {},
   "source": [
    "### Looking at generated Verilog/FIRRTL\n",
    "\n",
    "If you are having trouble understanding the generated hardware and are comfortable with reading structural Verilog and/or FIRRTL (Chisel's IR which is comparable to a synthesis-only subset of Verilog), then you can try looking at the generated Verilog to see the result of executing the Chisel.\n",
    "\n",
    "Here is an example below:\n",
    "\n",
    "TODO: explain what's going on below (string interpreter)"
   ]
  },
  {
   "cell_type": "code",
   "execution_count": null,
   "metadata": {
    "collapsed": true
   },
   "outputs": [],
   "source": [
    "// A sample counter module for demonstration purposes.\n",
    "class MyCounter extends Module {\n",
    "  val io = IO(new Bundle {\n",
    "        val in = Input(UInt(10.W))\n",
    "    val out = Output(UInt(2.W))\n",
    "  })\n",
    "  val myReg = RegInit(UInt(2.W), 1.U)\n",
    "  myReg := myReg + 1.U\n",
    "  io.out := myReg\n",
    "\n",
    "  // printing results\n",
    "  printf(\"out=%d\\n\", io.out)\n",
    "  printf(p\"${io}\\n\")\n",
    "}"
   ]
  },
  {
   "cell_type": "markdown",
   "metadata": {},
   "source": [
    "We can view the resulting generated Verilog as shown below."
   ]
  },
  {
   "cell_type": "code",
   "execution_count": null,
   "metadata": {
    "collapsed": true
   },
   "outputs": [],
   "source": [
    "// Viewing the Verilog for debugging\n",
    "println(getVerilog(dut = () => new MyCounter))"
   ]
  },
  {
   "cell_type": "markdown",
   "metadata": {},
   "source": [
    "TODO: maybe give quick overview of FIRRTL and using it as a debugging technique"
   ]
  },
  {
   "cell_type": "code",
   "execution_count": null,
   "metadata": {
    "collapsed": true
   },
   "outputs": [],
   "source": [
    "// Viewing the firrtl for debugging\n",
    "println(chisel3.Driver.emit(() => new MyCounter))"
   ]
  },
  {
   "cell_type": "markdown",
   "metadata": {},
   "source": [
    "### Error messages\n",
    "\n",
    "Be careful of mixing up Scala-land (compile/elaboration-time) and Chisel-land (hardware/run-time) constructs inappropriately. Here are some common examples.\n",
    "\n",
    "Run the following examples to experience the kinds of error messages that happen when you mix Scala-land and Chisel-land inappropriately. Then, try your hand at fixing the examples below so that they work correctly!"
   ]
  },
  {
   "cell_type": "code",
   "execution_count": null,
   "metadata": {
    "collapsed": true
   },
   "outputs": [],
   "source": [
    "// Using the = operator for hardware instead of the connection operator :=.\n",
    "class BadModule extends Module {\n",
    "  val io = IO(new Bundle {\n",
    "    val out = Output(UInt(2.W))\n",
    "  })\n",
    "  val myReg = RegInit(UInt(2.W), 1.U)\n",
    "  myReg = myReg + 1.U\n",
    "  io.out = myReg\n",
    "}"
   ]
  },
  {
   "cell_type": "code",
   "execution_count": null,
   "metadata": {
    "collapsed": true
   },
   "outputs": [],
   "source": [
    "// Using Scala-land constants instead of Chisel-land constants.\n",
    "class BadCounter extends Module {\n",
    "  val io = IO(new Bundle {\n",
    "    val out = Output(UInt(8.W))\n",
    "  })\n",
    "  val myReg = RegInit(UInt(8.W), 0)\n",
    "  when (myReg > 42) {\n",
    "    myReg := 0\n",
    "  } .otherwise {\n",
    "    myReg := myReg + 1\n",
    "  }\n",
    "  io.out := myReg\n",
    "}"
   ]
  },
  {
   "cell_type": "code",
   "execution_count": null,
   "metadata": {
    "collapsed": true
   },
   "outputs": [],
   "source": [
    "// Forgetting to wrap types in some sort of hardware: either a port like Input()\n",
    "// or a hardware node like Wire()/Reg() or wrapping a module declaration in Module().\n",
    "class BadAdder extends Module {\n",
    "  val io = IO(new Bundle {\n",
    "    val a = Input(UInt(8.W))\n",
    "    val b = Input(UInt(8.W))\n",
    "    val out = UInt(8.W)\n",
    "  })\n",
    "  io.out := io.a + io.b\n",
    "}\n",
    "\n",
    "class BadderAdder extends Module {\n",
    "  val io = IO(new Bundle {\n",
    "    val a = Input(UInt(8.W))\n",
    "    val b = Input(UInt(8.W))\n",
    "    val c = Input(UInt(8.W))\n",
    "    val out = Output(UInt(8.W))\n",
    "  })\n",
    "  val adder1 = Module(new BadAdder)\n",
    "  val adder2 = new BadAdder\n",
    "  adder1.io.a := io.a\n",
    "  adder1.io.b := io.b\n",
    "  adder2.io.a := adder1.io.out\n",
    "  adder2.io.b := io.c\n",
    "  io.out := adder2.io.out\n",
    "}\n",
    "\n",
    "// See if we can get some Verilog.\n",
    "println(getVerilog(dut = () => new BadderAdder))"
   ]
  },
  {
   "cell_type": "code",
   "execution_count": null,
   "metadata": {
    "collapsed": true
   },
   "outputs": [],
   "source": [
    "class BadCounterTwo extends Module {\n",
    "  val io = IO(new Bundle {\n",
    "    val out = Output(UInt(8.W))\n",
    "  })\n",
    "  val myReg = RegInit(UInt(8.W), 0.U)\n",
    "  val regNext = UInt(8.W)\n",
    "  when (myReg > 42.U) {\n",
    "    regNext := 0.U\n",
    "  } .otherwise {\n",
    "    regNext := myReg + 2.U\n",
    "  }\n",
    "  myReg := regNext\n",
    "  io.out := myReg\n",
    "}\n",
    "\n",
    "// See if we can get some Verilog.\n",
    "println(getVerilog(dut = () => new BadCounterTwo))"
   ]
  },
  {
   "cell_type": "code",
   "execution_count": null,
   "metadata": {
    "collapsed": true
   },
   "outputs": [],
   "source": []
  }
 ],
 "metadata": {
  "kernelspec": {
   "display_name": "Scala",
   "language": "scala",
   "name": "scala"
  },
  "language_info": {
   "codemirror_mode": "text/x-scala",
   "file_extension": ".scala",
   "mimetype": "text/x-scala",
   "name": "scala211",
   "nbconvert_exporter": "script",
   "pygments_lexer": "scala",
   "version": "2.11.11"
  }
 },
 "nbformat": 4,
 "nbformat_minor": 2
}
