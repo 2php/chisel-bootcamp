{
 "cells": [
  {
   "cell_type": "markdown",
   "metadata": {},
   "source": [
    "![Chisel](https://chisel.eecs.berkeley.edu/assets/img/chisel_64.png)"
   ]
  },
  {
   "cell_type": "markdown",
   "metadata": {},
   "source": [
    "# Module ?: IPXact Example\n",
    "#### Written by Paul Rigge ([rigge@berkeley.edu](mailto:rigge@berkeley.edu))\n",
    "\n",
    "Some explanation should go here"
   ]
  },
  {
   "cell_type": "code",
   "execution_count": null,
   "metadata": {},
   "outputs": [],
   "source": [
    "//unmanaged dep for ipxact\n",
    "interp.load.cp(ammonite.ops.Path(java.nio.file.FileSystems.getDefault().getPath(System.getProperty(\"user.dir\") + \"/../rocket-dsp-utils-assembly-1.0.jar\")))\n"
   ]
  },
  {
   "cell_type": "code",
   "execution_count": null,
   "metadata": {},
   "outputs": [],
   "source": [
    "import chisel3._\n",
    "import chisel3.util._\n",
    "\n",
    "class FIRIO(val w: Int) extends Bundle {\n",
    "    val in  = Flipped(Decoupled(UInt(w.W)))\n",
    "    val out = Decoupled(UInt(w.W))\n",
    "}\n",
    "\n",
    "class FIR(val w: Int, queueDepth: Int = 4) extends Module {\n",
    "    val io = IO(new FIRIO(w))\n",
    "    \n",
    "    io.out <> Queue(io.in, queueDepth)\n",
    "}\n",
    "println(chisel3.Driver.emit(() => new FIR(64)))"
   ]
  },
  {
   "cell_type": "markdown",
   "metadata": {},
   "source": [
    "## DspBlock\n"
   ]
  },
  {
   "cell_type": "code",
   "execution_count": null,
   "metadata": {},
   "outputs": [],
   "source": [
    "import dspblocks._\n",
    "import freechips.rocketchip.amba.axi4._\n",
    "import freechips.rocketchip.amba.axi4stream._\n",
    "import freechips.rocketchip.config._\n",
    "import freechips.rocketchip.diplomacy._\n",
    "\n",
    "case object FIRQueueDepth extends CSRField {\n",
    "    val name = \"firQueueDepth\"\n",
    "}\n",
    "\n",
    "case class FIRTap(idx: Int) extends CSRField {\n",
    "    val name = s\"firTap$idx\"\n",
    "}\n",
    "\n",
    "class FIRBlock(queueDepth: Int, nTaps: Int)(implicit p: Parameters) extends\n",
    "AXI4DspBlock with AXI4HasCSR with HasIPXactParameters {\n",
    "    outer =>\n",
    "    addStatus(FIRQueueDepth)\n",
    "    \n",
    "    for (i <- 0 until nTaps) {\n",
    "        addControl(FIRTap(i))\n",
    "    }\n",
    "    makeCSRs()\n",
    "    \n",
    "    val streamNode = AXI4StreamIdentityNode()\n",
    "    \n",
    "    override def ipxactParameters = Map(\n",
    "        \"queueDepth\" -> queueDepth.toString,\n",
    "        \"nTaps\"      -> nTaps.toString\n",
    "    )\n",
    "\n",
    "    def beatBytes: Int = 8\n",
    "    def csrAddress = freechips.rocketchip.diplomacy.AddressSet(0x0, 0xffffL)\n",
    "    def csrBase: Int = 0\n",
    "    def csrSize: Int = 4096\n",
    "    \n",
    "    lazy val module = new LazyModuleImp(this) {\n",
    "        val (in, _)  = streamNode.in(0)\n",
    "        val (out, _) = streamNode.out(0)\n",
    "        val mem = outer.mem.map { m => m.in(0) }\n",
    "        \n",
    "        val width = in.params.n * 8\n",
    "        status(FIRQueueDepth) := queueDepth.U\n",
    "        \n",
    "        val fir = Module(new FIR(width, queueDepth))\n",
    "        \n",
    "        fir.io.in.valid  := in.valid\n",
    "        fir.io.in.bits   := in.bits.data\n",
    "        in.ready         := fir.io.in.ready\n",
    "        \n",
    "\n",
    "        out.valid        := fir.io.out.valid\n",
    "        out.bits.data    := fir.io.out.bits\n",
    "        fir.io.out.ready := out.ready\n",
    "    }\n",
    "}"
   ]
  },
  {
   "cell_type": "code",
   "execution_count": null,
   "metadata": {},
   "outputs": [],
   "source": [
    "object FIRGenerator extends ipxact.IPXactGeneratorApp with App {\n",
    "  override val verilogFilename: String = \"BlindModule.v\"\n",
    "  override val ipxactDir: String = \"./\"\n",
    "  implicit val p: Parameters = Parameters.root((new freechips.rocketchip.coreplex.BaseCoreplexConfig).toInstance)\n",
    "\n",
    "    val blindNodes = DspBlockBlindNodes.apply(\n",
    "      AXI4StreamBundleParameters(\n",
    "        n = 8,\n",
    "        i = 1,\n",
    "        d = 1,\n",
    "        u = 1,\n",
    "        hasData = true,\n",
    "        hasStrb = true,\n",
    "        hasKeep = true\n",
    "      ),\n",
    "      () => AXI4MasterNode(Seq(AXI4MasterPortParameters(Seq(AXI4MasterParameters(\"fir\"))))))\n",
    "    \n",
    "    val dut = () => {\n",
    "        val lazyMod = LazyModule(DspBlock.blindWrapper(() => new FIRBlock(4, 8), blindNodes))\n",
    "        val m = lazyMod.module\n",
    "        IPXactComponents._ipxactComponents += DspIPXact.makeDspBlockComponent(lazyMod.internal)\n",
    "        m\n",
    "    }\n",
    "    \n",
    "    chisel3.Driver.dumpFirrtl(chisel3.Driver.elaborate(dut), None)\n",
    "    generateIPXact(IPXactComponents.ipxactComponents())\n",
    "}\n",
    "FIRGenerator.main(Array[String]())"
   ]
  },
  {
   "cell_type": "markdown",
   "metadata": {},
   "source": [
    "## IPXact output\n",
    "Look in the file browsers for a file called `craft_BlindModule_edu.berkeley.cs_1.0.xml`."
   ]
  },
  {
   "cell_type": "code",
   "execution_count": null,
   "metadata": {
    "collapsed": true
   },
   "outputs": [],
   "source": []
  }
 ],
 "metadata": {
  "kernelspec": {
   "display_name": "Scala",
   "language": "scala",
   "name": "scala"
  },
  "language_info": {
   "codemirror_mode": "text/x-scala",
   "file_extension": ".scala",
   "mimetype": "text/x-scala",
   "name": "scala211",
   "nbconvert_exporter": "script",
   "pygments_lexer": "scala",
   "version": "2.11.11"
  }
 },
 "nbformat": 4,
 "nbformat_minor": 2
}
