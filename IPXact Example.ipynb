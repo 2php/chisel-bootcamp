{
 "cells": [
  {
   "cell_type": "markdown",
   "metadata": {},
   "source": [
    "<a name=\"top\"></a><img src=\"images/chisel_1024.png\" alt=\"Chisel logo\" style=\"width:480px;\" />"
   ]
  },
  {
   "cell_type": "markdown",
   "metadata": {},
   "source": [
    "# IPXact Example\n",
    "\n",
    "## Motivation\n",
    "Some explanation should go here\n",
    "\n",
    "## Setup"
   ]
  },
  {
   "cell_type": "code",
   "execution_count": null,
   "metadata": {
    "collapsed": true
   },
   "outputs": [],
   "source": [
    "//unmanaged dep for ipxact\n",
    "interp.load.cp(ammonite.ops.Path(java.nio.file.FileSystems.getDefault().getPath(System.getProperty(\"user.dir\") + \"/../rocket-dsp-utils-assembly-1.0.jar\")))"
   ]
  },
  {
   "cell_type": "code",
   "execution_count": null,
   "metadata": {
    "collapsed": true
   },
   "outputs": [],
   "source": [
    "import chisel3._\n",
    "import chisel3.util._"
   ]
  },
  {
   "cell_type": "markdown",
   "metadata": {},
   "source": [
    "---\n",
    "# IPXact Background\n",
    "\n",
    "A paragraph or two describing ipxact should go here"
   ]
  },
  {
   "cell_type": "markdown",
   "metadata": {},
   "source": [
    "---\n",
    "# FIR Filter (from 3.2)\n",
    "\n",
    "For this module, we'll be using a slightly modified example from [Module 3.2: Generators: Collection](3.2_collections.ipynb).\n",
    "If you haven't started Module 3.2, don't worry.\n",
    "You'll learn about the details of how `MyManyDynamicElementVecFir` works, but the basic idea is that it is a FIR filter generator.\n",
    "\n",
    "The generator has one parameter: length.\n",
    "That parameter dictates how many taps the filter has.\n",
    "\n",
    "The generator has 3 inputs:\n",
    "* in, the input to the filter\n",
    "* valid, a boolean that says when the input is valid\n",
    "* consts, a vector for all the taps\n",
    "\n",
    "and 1 output:\n",
    "* out, the filtered input\n",
    "\n",
    "<img src=\"images/fir.jpg\" style=\"width:450px;\"/>"
   ]
  },
  {
   "cell_type": "code",
   "execution_count": null,
   "metadata": {},
   "outputs": [],
   "source": [
    "import chisel3._\n",
    "import chisel3.util._\n",
    "\n",
    "class MyManyDynamicElementVecFir(length: Int) extends Module {\n",
    "  val io = IO(new Bundle {\n",
    "    val in = Input(UInt(8.W))\n",
    "    val valid = Input(Bool())\n",
    "    val out = Output(UInt(8.W))\n",
    "    val consts = Input(Vec(length, UInt(8.W)))\n",
    "  })\n",
    "  \n",
    "  val taps = Seq(io.in) ++ Seq.fill(io.consts.length - 1)(RegInit(0.U(8.W)))\n",
    "  taps.zip(taps.tail).foreach { case (a, b) => when (io.valid) { b := a } }\n",
    "\n",
    "  io.out := taps.zip(io.consts).map { case (a, b) => a * b }.reduce(_ + _)\n",
    "}"
   ]
  },
  {
   "cell_type": "markdown",
   "metadata": {},
   "source": [
    "---\n",
    "# DspBlock\n",
    "\n",
    "Integrating DSP components into a larger system can be challenging and error prone.\n",
    "The [rocket-dsp-utils](https://github.com/ucb-art/rocket-dsp-utils) repository consists of useful generators that should help with such tasks.\n",
    "\n",
    "One of the core abstractions is the notion of a DSPBlock.\n",
    "A DSPBlock has:\n",
    "* AXI-4 Stream input and output\n",
    "* AXI-4 memory mapped status and control\n",
    "\n",
    "\n",
    "<img src=\"images/fir_filter.png\" style=\"width:800px;\"/>"
   ]
  },
  {
   "cell_type": "code",
   "execution_count": null,
   "metadata": {},
   "outputs": [],
   "source": [
    "import dspblocks._\n",
    "import freechips.rocketchip.amba.axi4._\n",
    "import freechips.rocketchip.amba.axi4stream._\n",
    "import freechips.rocketchip.config._\n",
    "import freechips.rocketchip.diplomacy._\n",
    "\n",
    "case object NumFilters extends CSRField {\n",
    "    val name = \"firQueueDepth\"\n",
    "}\n",
    "\n",
    "case class FIRTap(filterIdx: Int, tapIdx: Int) extends CSRField {\n",
    "    val name = s\"firTap${filterIdx}_$tapIdx\"\n",
    "}\n",
    "\n",
    "class FIRBlock(nFilters: Int, nTaps: Int)(implicit p: Parameters) extends\n",
    "AXI4DspBlock with AXI4HasCSR with HasIPXactParameters {\n",
    "    outer =>\n",
    "    addStatus(NumFilters)\n",
    "    \n",
    "    for (i <- 0 until nFilters) {\n",
    "        for (j <- 0 until nTaps) {\n",
    "            addControl(FIRTap(i, j))\n",
    "        }\n",
    "    }\n",
    "    makeCSRs()\n",
    "    \n",
    "    val streamNode = AXI4StreamIdentityNode()\n",
    "    \n",
    "    override def ipxactParameters = Map(\n",
    "        \"nFilters\"   -> nFilters.toString,\n",
    "        \"nTaps\"      -> nTaps.toString\n",
    "    )\n",
    "\n",
    "    def beatBytes: Int = 8\n",
    "    def csrAddress = freechips.rocketchip.diplomacy.AddressSet(0x0, 0xffffL)\n",
    "    def csrBase: Int = 0\n",
    "    def csrSize: Int = 4096\n",
    "    \n",
    "    lazy val module = new LazyModuleImp(this) {\n",
    "        val (in, _)  = streamNode.in(0)\n",
    "        val (out, _) = streamNode.out(0)\n",
    "        val mem = outer.mem.map { m => m.in(0) }\n",
    "        \n",
    "        require(in.params.n >= nFilters,\n",
    "                s\"\"\"AXI-4 Stream port must be big enough for all \n",
    "                   |the filters (need $nFilters,, only have ${in.params.n})\"\"\".stripMargin)\n",
    "\n",
    "        status(NumFilters) := nFilters.U\n",
    "        \n",
    "        \n",
    "        val outs = (0 until nFilters).map(i => {\n",
    "            val fir = Module(new MyManyDynamicElementVecFir(nTaps))\n",
    "            \n",
    "            fir.io.in := in.bits.data((i+1)*8, i*8)\n",
    "            fir.io.valid := in.valid && out.ready\n",
    "            \n",
    "            for (j <- 0 until nTaps) {\n",
    "                fir.io.consts(j) := control(FIRTap(i, j))\n",
    "            }\n",
    "            \n",
    "            fir.io.out\n",
    "        })\n",
    "        \n",
    "        \n",
    "        val output = if (outs.length == 1) {\n",
    "            outs(0)\n",
    "        } else {\n",
    "            outs.reduce((x: UInt, y: UInt) => Cat(y, x))\n",
    "        }\n",
    "            \n",
    "        out.bits.data := output\n",
    "        in.ready  := out.ready\n",
    "        out.valid := in.valid\n",
    "    }\n",
    "}"
   ]
  },
  {
   "cell_type": "markdown",
   "metadata": {},
   "source": [
    "---\n",
    "# Invoking the Generator\n",
    "\n",
    "The following code invokes the generator.\n",
    "It will produce a file called `BlindModule.fir` which contains the firrtl generated by our code.\n",
    "`BlindModule` is a wrapper for our `DspBlock`- it is necessary because of how [diplomacy](https://carrv.github.io/papers/cook-diplomacy-carrv2017.pdf) in rocket works.\n",
    "You'll notice that `BlindModule` instantiates an `FIRBlock`.\n",
    "\n",
    "The line\n",
    "```scala\n",
    "AXI4StreamBundleParameters(n = 8)\n",
    "```\n",
    "sets the AXI-4 streams' data widths to 8 bytes."
   ]
  },
  {
   "cell_type": "code",
   "execution_count": null,
   "metadata": {},
   "outputs": [],
   "source": [
    "object FIRGenerator extends ipxact.IPXactGeneratorApp with App {\n",
    "  override val verilogFilename: String = \"BlindModule.v\"\n",
    "  override val ipxactDir: String = \"./\"\n",
    "  implicit val p: Parameters = Parameters.root((new freechips.rocketchip.coreplex.BaseCoreplexConfig).toInstance)\n",
    "\n",
    "    val blindNodes = DspBlockBlindNodes.apply(\n",
    "      AXI4StreamBundleParameters(n = 8),\n",
    "      () => AXI4MasterNode(Seq(AXI4MasterPortParameters(Seq(AXI4MasterParameters(\"fir\"))))))\n",
    "    \n",
    "    val dut = () => {\n",
    "        val lazyMod = LazyModule(DspBlock.blindWrapper(() => new FIRBlock(4, 8), blindNodes))\n",
    "        val m = lazyMod.module\n",
    "        IPXactComponents._ipxactComponents += DspIPXact.makeDspBlockComponent(lazyMod.internal)\n",
    "        m\n",
    "    }\n",
    "    \n",
    "    chisel3.Driver.dumpFirrtl(chisel3.Driver.elaborate(dut), None)\n",
    "    generateIPXact(IPXactComponents.ipxactComponents())\n",
    "}\n",
    "FIRGenerator.main(Array[String]())"
   ]
  },
  {
   "cell_type": "markdown",
   "metadata": {},
   "source": [
    "---\n",
    "# IPXact\n",
    "Look in the file browser for a file called `craft_BlindModule_edu.berkeley.cs_1.0.xml`.\n",
    "This is the ipxact file.\n",
    "It contains information about:\n",
    "* Port mappings\n",
    "* Interfaces\n",
    "* Memory maps\n",
    "* Generator parameters\n",
    "\n",
    "You'll notice that the parameters from the scala code\n",
    "```scala\n",
    "override def ipxactParameters = Map(\n",
    "    \"nFilters\"   -> nFilters.toString,\n",
    "    \"nTaps\"      -> nTaps.toString\n",
    ")\n",
    "```\n",
    "appears in the IPXact output.\n",
    "This gives verification generators the information they need to generate appropriate test vectors for the given instance."
   ]
  },
  {
   "cell_type": "code",
   "execution_count": null,
   "metadata": {
    "collapsed": true
   },
   "outputs": [],
   "source": []
  }
 ],
 "metadata": {
  "kernelspec": {
   "display_name": "Scala",
   "language": "scala",
   "name": "scala"
  },
  "language_info": {
   "codemirror_mode": "text/x-scala",
   "file_extension": ".scala",
   "mimetype": "text/x-scala",
   "name": "scala211",
   "nbconvert_exporter": "script",
   "pygments_lexer": "scala",
   "version": "2.11.11"
  }
 },
 "nbformat": 4,
 "nbformat_minor": 2
}
