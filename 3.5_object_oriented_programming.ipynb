{
 "cells": [
  {
   "cell_type": "markdown",
   "metadata": {},
   "source": [
    "![Chisel](https://chisel.eecs.berkeley.edu/assets/img/chisel_64.png)"
   ]
  },
  {
   "cell_type": "markdown",
   "metadata": {},
   "source": [
    "# Module 3.5: Object Oriented Programming\n",
    "#### Written by Stevo Bailey ([stevo@berkeley.edu](mailto:stevo@berkeley.edu))"
   ]
  },
  {
   "cell_type": "markdown",
   "metadata": {},
   "source": [
    "## Table of Contents\n",
    "\n",
    "**[Object Oriented Programming Introduction](#intro)**\n",
    "\n",
    "**[Chisel Supers](#super)**\n",
    "1. [Module](#module)\n",
    "1. [Bundle](#bundle)"
   ]
  },
  {
   "cell_type": "markdown",
   "metadata": {},
   "source": [
    "# Object Oriented Programming Introduction<a name=\"intro\"></a>\n",
    "Scala and Chisel are object-oriented programming languages, meaning code may be compartmentalized into objects. Scala, which is built on Java, inherits many of Java's object-oriented features. However, as we'll see below, there are some differences. Chisel's hardware modules are similar to Verilog's modules, in that they can be instantiated and wired up as single or multiple instances.\n",
    "\n",
    "# Chisel Supers<a name=\"super\"></a>\n",
    "You've seen `Module`s and `Bundle`s before, but it's important to realize that Chisel `Module`s are the superclass of all hardware blocks you will design, `Bundles` are the superclass of IO, and `Data` is the supertype of all Chisel types. Next we'll explore using these supers to create hierarchical hardware blocks and explore object reuse. You'll learn more about types and `Data` in the next Module.\n",
    "\n",
    "## Module<a name=\"module\"></a>\n",
    "Whenever you want to create a hardware object in Chisel, it needs to have `Module` as a superclass. It's recommended that if you want to extend an existing `Module` that you create an abstract super version. Below is an example of creating a `Module` and connecting multiple instantiations of them together hierarchically."
   ]
  },
  {
   "cell_type": "code",
   "execution_count": null,
   "metadata": {
    "collapsed": false
   },
   "outputs": [],
   "source": [
    "// Run this boilerplate for the necessary imports\n",
    "import $ivy.`edu.berkeley.cs::chisel3:3.0.0`\n",
    "import $ivy.`edu.berkeley.cs::chisel-iotesters:1.1.0`\n",
    "import $ivy.`edu.berkeley.cs::firrtl:1.0.0`\n",
    "import chisel3._\n",
    "import chisel3.util._\n",
    "import chisel3.iotesters._\n",
    "// withClock\n",
    "import chisel3.experimental._\n",
    "\n",
    "\n",
    "// A wrapper function that provides a easy way to get the generated Verilog code for a Chisel module.\n",
    "// Don't worry about the implementation of this.\n",
    "def getVerilog[T <: Module](gen: => T): String = {\n",
    "  chisel3.Driver.execute(Array[String](), {() => gen}) match {\n",
    "    case ChiselExecutionSuccess(_, _, Some(firrtl.FirrtlExecutionSuccess(_, verilog))) => verilog\n",
    "  }\n",
    "}"
   ]
  },
  {
   "cell_type": "markdown",
   "metadata": {},
   "source": [
    "We'll create a hardware Gray encoder/decoder. The encode or decode operation choice is hardware programmable."
   ]
  },
  {
   "cell_type": "code",
   "execution_count": null,
   "metadata": {
    "collapsed": false
   },
   "outputs": [],
   "source": [
    "import scala.math.pow\n",
    "\n",
    "// create a module\n",
    "class GrayCoder(bitwidth: Int) extends Module {\n",
    "  val io = IO(new Bundle{\n",
    "    val in = Input(UInt(bitwidth.W))\n",
    "    val out = Output(UInt(bitwidth.W))\n",
    "    val encode = Input(Bool()) // decode on false\n",
    "  })\n",
    "  \n",
    "  when (io.encode) { //encode\n",
    "    io.out := io.in ^ (io.in >> 1.U)\n",
    "  } .otherwise { // decode, much more complicated\n",
    "    io.out := Seq.fill(log2Ceil(bitwidth))(Wire(UInt(bitwidth.W))).zipWithIndex.fold((io.in, 0)){\n",
    "      case ((w1: UInt, i1: Int), (w2: UInt, i2: Int)) => {\n",
    "        w2 := w1 ^ (w1 >> pow(2, log2Ceil(bitwidth)-i2-1).toInt.U)\n",
    "        (w2, i1)\n",
    "      }\n",
    "    }._1\n",
    "  }\n",
    "}"
   ]
  },
  {
   "cell_type": "markdown",
   "metadata": {},
   "source": [
    "Give it a whirl!"
   ]
  },
  {
   "cell_type": "code",
   "execution_count": null,
   "metadata": {
    "collapsed": false
   },
   "outputs": [],
   "source": [
    "// test our gray coder\n",
    "val bitwidth = 4\n",
    "Driver(() => new GrayCoder(bitwidth)) {\n",
    "  c => new PeekPokeTester(c) {\n",
    "  \n",
    "    def toBinary(i: Int, digits: Int = 8) =\n",
    "      String.format(\"%\" + digits + \"s\", i.toBinaryString).replace(' ', '0')\n",
    "\n",
    "    println(\"Encoding:\")\n",
    "    for (i <- 0 until pow(2, bitwidth).toInt) {\n",
    "      poke(c.io.in, i)\n",
    "      poke(c.io.encode, true)\n",
    "      step(1)\n",
    "      println(s\"In = ${toBinary(i, bitwidth)}, Out = ${toBinary(peek(c.io.out).toInt, bitwidth)}\")\n",
    "    }\n",
    "    \n",
    "    println(\"Decoding:\")\n",
    "    for (i <- 0 until pow(2, bitwidth).toInt) {\n",
    "      poke(c.io.in, i)\n",
    "      poke(c.io.encode, false)\n",
    "      step(1)\n",
    "      println(s\"In = ${toBinary(i, bitwidth)}, Out = ${toBinary(peek(c.io.out).toInt, bitwidth)}\")\n",
    "    }\n",
    "  }\n",
    "}"
   ]
  },
  {
   "cell_type": "markdown",
   "metadata": {},
   "source": [
    "Gray codes are often used in asynchronous interfaces. Usually Gray counters are used rather than fully-featured encoders/decoders, but we'll the above module to simplify things. Below is an example AsyncFIFO, built using the above Gray coder. The control logic and tester is left as an exercise for later on. For now, look at how the Gray coder is instantiated multiple times and connected."
   ]
  },
  {
   "cell_type": "code",
   "execution_count": null,
   "metadata": {
    "collapsed": false
   },
   "outputs": [],
   "source": [
    "class AsyncFIFO(depth: Int = 16) extends Module {\n",
    "  val io = IO(new Bundle{\n",
    "    // write inputs\n",
    "    val write_clock = Input(Clock())\n",
    "    val write_enable = Input(Bool())\n",
    "    val write_data = Input(UInt(32.W))\n",
    "    \n",
    "    // read inputs/outputs\n",
    "    val read_clock = Input(Clock())\n",
    "    val read_enable = Input(Bool())\n",
    "    val read_data = Output(UInt(32.W))\n",
    "    \n",
    "    // FIFO status\n",
    "    val full = Output(Bool())\n",
    "    val empty = Output(Bool())\n",
    "  })\n",
    "  \n",
    "  // add extra bit to counter to check for fully/empty status\n",
    "  assert(isPow2(depth), \"AsyncFIFO needs a power-of-two depth!\")\n",
    "  val write_counter = withClock(io.write_clock) { Counter(io.write_enable && !io.full, depth*2)._1 }\n",
    "  val read_counter = withClock(io.read_clock) { Counter(io.read_enable && !io.empty, depth*2)._1 }\n",
    "  \n",
    "  // encode\n",
    "  val encoder = new GrayCoder(write_counter.getWidth)\n",
    "  encoder.io.in := write_counter\n",
    "  encoder.io.encode := true.B\n",
    "  \n",
    "  // synchronize\n",
    "  val sync = withClock(io.read_clock) { ShiftRegister(encoder.io.out, 2) }\n",
    "  \n",
    "  // decode\n",
    "  val decoder = new GrayCoder(read_counter.getWidth)\n",
    "  decoder.io.in := sync\n",
    "  decoder.io.encode := false.B\n",
    "  \n",
    "  // status logic goes here\n",
    "  \n",
    "}"
   ]
  },
  {
   "cell_type": "code",
   "execution_count": null,
   "metadata": {
    "collapsed": true
   },
   "outputs": [],
   "source": []
  }
 ],
 "metadata": {
  "kernelspec": {
   "display_name": "Scala",
   "language": "scala",
   "name": "scala"
  },
  "language_info": {
   "codemirror_mode": "text/x-scala",
   "file_extension": ".scala",
   "mimetype": "text/x-scala",
   "name": "scala211",
   "nbconvert_exporter": "script",
   "pygments_lexer": "scala",
   "version": "2.11.11"
  }
 },
 "nbformat": 4,
 "nbformat_minor": 0
}
