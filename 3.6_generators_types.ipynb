{
 "cells": [
  {
   "cell_type": "markdown",
   "metadata": {},
   "source": [
    "![Chisel](https://chisel.eecs.berkeley.edu/assets/img/chisel_64.png)"
   ]
  },
  {
   "cell_type": "markdown",
   "metadata": {},
   "source": [
    "# Module 3.6: Generators: Types\n",
    "#### Written by Stevo Bailey ([stevo@berkeley.edu](mailto:stevo@berkeley.edu)) Adam Izraelivitz ([azidar@berkeley.edu](mailto:stevo@berkeley.edu)) Chick Markley ([chick@berkeley.edu](mailto:chick@berkeley.edu))"
   ]
  },
  {
   "cell_type": "markdown",
   "metadata": {},
   "source": [
    "## Table of Contents\n",
    "Scala is a strongly typed language.\n",
    "Type system, type parameterization, clonetype? (seen before in 3.1, but re-explain here)\n",
    "\n",
    "- [Scala vs. Chisel types](#scala-vs-chisel-types)\n",
    "- [Type Coercion](#coercion)\n",
    "- [asInstanceOf](#asInstanceOf)\n",
    "- [Type Matching](#type-matching)\n",
    "- [Type Safe Connections?](#type-safe-connections)\n",
    "- [Type Generics](#type-generics)\n",
    "- [Example: Type-generic ShiftRegister](#type-generic-shift-register)\n",
    "\n",
    "- [Creating a custom type](#creating-a-custom-type)\n",
    "  - DSPcomplex\n",
    "  - Sign-magnitude (+1 from Paul)\n",
    "  - One’s complement?\n"
   ]
  },
  {
   "cell_type": "markdown",
   "metadata": {},
   "source": [
    "## Setup"
   ]
  },
  {
   "cell_type": "code",
   "execution_count": null,
   "metadata": {
    "collapsed": true
   },
   "outputs": [],
   "source": [
    "import $ivy.`edu.berkeley.cs::chisel3:3.0-SNAPSHOT_2017-07-19` \n",
    "import $ivy.`edu.berkeley.cs::chisel-iotesters:1.1-SNAPSHOT_2017-07-19`\n",
    "import chisel3._\n",
    "import chisel3.iotesters.{ChiselFlatSpec, Driver, PeekPokeTester, TesterOptionsManager}\n",
    "import chisel3.util._\n",
    "\n",
    "// Convenience function to invoke Chisel and grab emitted Verilog.\n",
    "def getVerilog(args: Array[String] = Array(), dut: () => chisel3.core.UserModule): String = {\n",
    "  import firrtl._\n",
    "  return chisel3.Driver.execute(args, dut) match {\n",
    "    case s:ChiselExecutionSuccess => s.firrtlResultOption match {\n",
    "      case Some(f:FirrtlExecutionSuccess) => f.emitted\n",
    "    }\n",
    "  }\n",
    "}\n"
   ]
  },
  {
   "cell_type": "markdown",
   "metadata": {},
   "source": [
    "# Types in Scala<a name=\"types-in-scala\"></a>\n",
    "Scala functions were introduced in Module 1. Functions take any number of inputs and produce one output. Inputs are often called arguments to a function. To produce no output, return the `Unit` type. Below are some examples of functions."
   ]
  },
  {
   "cell_type": "markdown",
   "metadata": {},
   "source": [
    "## Scala vs. Chisel Types<a name=\"scala-vs-chisel-types\"></a>"
   ]
  },
  {
   "cell_type": "markdown",
   "metadata": {},
   "source": [
    "## Coercion name<a name=\"type-coercion\"></a>\n",
    "### asInstanceOf\n",
    "### getTypeOf"
   ]
  },
  {
   "cell_type": "markdown",
   "metadata": {},
   "source": [
    "## Type Matching<a name=\"type-matching\"></a>\n",
    "### match operator\n",
    "### partial functions\n",
    "### unapply"
   ]
  },
  {
   "cell_type": "markdown",
   "metadata": {},
   "source": [
    "## Type Safe Connections<a name=\"type-safe-connections\"></a>"
   ]
  },
  {
   "cell_type": "markdown",
   "metadata": {},
   "source": [
    "## Type Generics<a name=\"type-generics\"></a>"
   ]
  },
  {
   "cell_type": "markdown",
   "metadata": {},
   "source": [
    "## Example: Type Generic ShiftRegister<a name=\"type-generic-shift-register\"></a>\n",
    "\n",
    ">Avoid using inheritance with type generics, this is very tricky to do properly, and can get frustrating quickly"
   ]
  },
  {
   "cell_type": "markdown",
   "metadata": {},
   "source": [
    "In Scala, objects and functions aren't the only things we can treat as parameters. We can also treat types as parameters.\n",
    "We usually need to provide a type constraint.\n",
    "In this case, we want to be able to put objects in a bundle, connect (:=) them, and create registers with them (RegNext).\n",
    "These operations cannot be done on arbitrary objects; for example wire := 3 is illegal because 3 is a Scala Int, not a Chisel UInt.\n",
    "If we use a type constraint to say that type T is a subclass of Data, then we can use := on any objects of type T because := is defined for all Data.\n",
    "Here is an implementations of a simple shift register that take types as a parameter.\n",
    "*gen* is an argument of type T that tells what width to use, for example new ShiftRegister(UInt(4.W)) is a shift register for 4-bit UInts.\n",
    "*gen* also allows the Scala compiler to infer the type T- you can write new ShiftRegister[UInt](UInt(4.W)) if you want to to be more specific, but the Scala compiler is smart enough to figure it out if you leave out the [UInt]."
   ]
  },
  {
   "cell_type": "code",
   "execution_count": null,
   "metadata": {},
   "outputs": [],
   "source": [
    "class ShiftRegisterIO[T <: Data](gen: T, n: Int) extends Bundle {\n",
    "    require (n >= 0, \"Shift register must have non-negative shift\")\n",
    "    \n",
    "    val in = Input(gen.cloneType)\n",
    "    val out = Output(Vec(n + 1, gen.cloneType)) // + 1 because in is included in out\n",
    "}\n",
    "\n",
    "class ShiftRegister[T <: Data](gen: T, n: Int) extends Module {\n",
    "    val io = IO(new ShiftRegisterIO(gen, n))\n",
    "    \n",
    "    io.out.foldLeft(io.in) { case (in, out) =>\n",
    "        out := in\n",
    "        RegNext(in)\n",
    "    }\n",
    "}\n",
    "\n",
    "class ShiftRegisterTester[T <: Bits](c: ShiftRegister[T]) extends PeekPokeTester(c) {\n",
    "    println(s\"Testing ShiftRegister of type ${c.io.in} and depth ${c.io.out.length}\")\n",
    "    for (i <- 0 until 10) {\n",
    "        poke(c.io.in, i)\n",
    "        println(s\"$i: ${peek(c.io.out)}\")\n",
    "        step(1)\n",
    "    }\n",
    "}\n",
    "\n",
    "Driver(() => new ShiftRegister(UInt(4.W), 5)) { c => new ShiftRegisterTester(c) }\n",
    "Driver(() => new ShiftRegister(SInt(6.W), 3)) { c => new ShiftRegisterTester(c) }"
   ]
  },
  {
   "cell_type": "markdown",
   "metadata": {},
   "source": [
    "## Creating a Custom Type<a name=\"creating-a-custom-type\"></a>"
   ]
  },
  {
   "cell_type": "markdown",
   "metadata": {},
   "source": [
    "### DspComplex\n",
    "### Sign-magnitude Numbers"
   ]
  },
  {
   "cell_type": "code",
   "execution_count": null,
   "metadata": {
    "collapsed": true
   },
   "outputs": [],
   "source": []
  }
 ],
 "metadata": {
  "kernelspec": {
   "display_name": "Scala",
   "language": "scala",
   "name": "scala"
  },
  "language_info": {
   "codemirror_mode": "text/x-scala",
   "file_extension": ".scala",
   "mimetype": "text/x-scala",
   "name": "scala211",
   "nbconvert_exporter": "script",
   "pygments_lexer": "scala",
   "version": "2.11.11"
  }
 },
 "nbformat": 4,
 "nbformat_minor": 1
}
