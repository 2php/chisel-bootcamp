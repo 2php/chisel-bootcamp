{
 "cells": [
  {
   "cell_type": "markdown",
   "metadata": {},
   "source": [
    "![Chisel](https://chisel.eecs.berkeley.edu/assets/img/chisel_64.png)"
   ]
  },
  {
   "cell_type": "markdown",
   "metadata": {},
   "source": [
    "# Module 3.6: Generators: Types\n",
    "#### Written by Paul Rigge ([rigge@berkeley.edu](mailto:rigge@berkeley.edu)) Adam Izraelivitz ([azidar@berkeley.edu](mailto:azidar@berkeley.edu)) Chick Markley ([chick@berkeley.edu](mailto:chick@berkeley.edu))"
   ]
  },
  {
   "cell_type": "markdown",
   "metadata": {},
   "source": [
    "## Table of Contents\n",
    "\n",
    "- [Types in Scala](#types-in-scala)\n",
    "- [Scala vs. Chisel types](#scala-vs-chisel-types)\n",
    "- [Type Coercion](#coercion)\n",
    "- [asInstanceOf](#asInstanceOf)\n",
    "- [Type Matching](#type-matching)\n",
    "- [Type Safe Connections?](#type-safe-connections)\n",
    "- [Type Generics](#type-generics)\n",
    "- [Example: Type-generic ShiftRegister](#type-generic-shift-register)\n",
    "\n",
    "- [Creating a custom type](#creating-a-custom-type)\n",
    "  - DSPcomplex\n",
    "  - Sign-magnitude (+1 from Paul)\n",
    "  - One’s complement?\n"
   ]
  },
  {
   "cell_type": "markdown",
   "metadata": {},
   "source": [
    "## Setup"
   ]
  },
  {
   "cell_type": "code",
   "execution_count": null,
   "metadata": {},
   "outputs": [],
   "source": [
    "val path = System.getProperty(\"user.dir\") + \"/load-ivy.sc\"\n",
    "interp.load.module(ammonite.ops.Path(java.nio.file.FileSystems.getDefault().getPath(path)))"
   ]
  },
  {
   "cell_type": "code",
   "execution_count": null,
   "metadata": {},
   "outputs": [],
   "source": [
    "import chisel3._\n",
    "import chisel3.iotesters.{ChiselFlatSpec, Driver, PeekPokeTester, TesterOptionsManager}\n",
    "import chisel3.util._"
   ]
  },
  {
   "cell_type": "markdown",
   "metadata": {},
   "source": [
    "# Types in Scala<a name=\"types-in-scala\"></a>\n",
    "Scala is a strongly-typed programming language.\n",
    "This is a two-edged sword; on one hand, many programs that would compile and execute in Python (a dynamically-typed language) would fail at compile time in Scala.\n",
    "On the other hand, programs that compile in Scala will contain many fewer runtime errors than a similar Python program.\n",
    "\n",
    "In this section, our goal is to familiarize you with types as a first class citizen in Scala.\n",
    "While initially you may feel you have limited productivity, you will soon learn to understand compile-time error messages and how to architect your programs with the type system in mind to catch more errors for you. \n",
    "\n",
    "## Static Types<a name=\"static\"></a>\n",
    "All objects in Scala have a type, which is usually the object's class.\n",
    "Let's see some:"
   ]
  },
  {
   "cell_type": "code",
   "execution_count": null,
   "metadata": {
    "collapsed": true
   },
   "outputs": [],
   "source": [
    "println(10.getClass)\n",
    "println(10.0.getClass)\n",
    "println(\"ten\".getClass)"
   ]
  },
  {
   "cell_type": "markdown",
   "metadata": {},
   "source": [
    "When you declare your own class, it has an associated type."
   ]
  },
  {
   "cell_type": "code",
   "execution_count": null,
   "metadata": {},
   "outputs": [],
   "source": [
    "class MyClass {\n",
    "    def myMethod = ???\n",
    "}\n",
    "println(new MyClass().getClass)"
   ]
  },
  {
   "cell_type": "markdown",
   "metadata": {},
   "source": [
    "While not required, it is HIGHLY recommended that you **define input and output types for all function declarations**.\n",
    "This will let the Scala compiler catch improper use of a function."
   ]
  },
  {
   "cell_type": "code",
   "execution_count": null,
   "metadata": {
    "collapsed": true
   },
   "outputs": [],
   "source": [
    "def double(s: String): String = s + s\n",
    "// Uncomment the code below to test it\n",
    "// double(\"hi\")      // Proper use of double\n",
    "// double(10)        // Bad input argument!\n",
    "// double(\"hi\") / 10 // Inproper use of double's output!"
   ]
  },
  {
   "cell_type": "markdown",
   "metadata": {},
   "source": [
    "Functions that don't return anything return type `Unit`."
   ]
  },
  {
   "cell_type": "code",
   "execution_count": null,
   "metadata": {
    "collapsed": true
   },
   "outputs": [],
   "source": [
    "var counter = 0\n",
    "def increment(): Unit = {\n",
    "    counter += 1\n",
    "}\n",
    "increment()"
   ]
  },
  {
   "cell_type": "markdown",
   "metadata": {},
   "source": [
    "## Scala vs. Chisel Types<a name=\"scala-vs-chisel-types\"></a>\n",
    "\n",
    "## *TODO: ISN'T THIS IN 2.2?*"
   ]
  },
  {
   "cell_type": "markdown",
   "metadata": {},
   "source": [
    "## Type Coercion<a name=\"type-coercion\"></a>\n",
    "\n",
    "# *TODO: SHOULD WE EVEN HAVE THESE TWO?*\n",
    "\n",
    "### getTypeOf?\n",
    "### asInstanceOf"
   ]
  },
  {
   "cell_type": "code",
   "execution_count": null,
   "metadata": {
    "collapsed": true
   },
   "outputs": [],
   "source": []
  },
  {
   "cell_type": "markdown",
   "metadata": {},
   "source": [
    "\n",
    "### Type Casting in Chisel\n",
    "\n",
    "The code below will give an error if you try to run it without removing the comment.\n",
    "What's the problem?\n",
    "It is trying to assign a `UInt` to an `SInt`, which is illegal.\n",
    "\n",
    "Chisel has a set of type casting functions.\n",
    "The most general is `asTypeOf()`, which is shown below.\n",
    "Some chisel objects also define `asUInt()` and `asSInt()` as well as some others.\n",
    "\n",
    "If you remove the `//` from the code block below, the example should work for you.\n"
   ]
  },
  {
   "cell_type": "code",
   "execution_count": null,
   "metadata": {},
   "outputs": [],
   "source": [
    "class TypeConvertDemo extends Module {\n",
    "    val io = IO(new Bundle {\n",
    "        val in  = Input(UInt(4.W))\n",
    "        val out = Output(SInt(4.W))\n",
    "    })\n",
    "    io.out := io.in//.asTypeOf(io.out)\n",
    "}\n",
    "\n",
    "Driver(() => new TypeConvertDemo) { c =>\n",
    "  new PeekPokeTester(c) {\n",
    "      poke(c.io.in, 3)\n",
    "      expect(c.io.out, 3)\n",
    "      poke(c.io.in, 15)\n",
    "      expect(c.io.out, -1)\n",
    "  }}"
   ]
  },
  {
   "cell_type": "markdown",
   "metadata": {},
   "source": [
    "## Type Matching<a name=\"type-matching\"></a>\n",
    "### Matching\n",
    "Recall that in 3.1 the match operator was introduced.\n",
    "Type matching is especially useful when trying to write type-generic generators.\n",
    "The following example shows a simple example of a \"generator\" that can add two literals of type `UInt` or `SInt`.\n",
    "Later sections will talk more about writing type-generic generators."
   ]
  },
  {
   "cell_type": "code",
   "execution_count": null,
   "metadata": {
    "collapsed": true
   },
   "outputs": [],
   "source": [
    "class ConstantSum(in1: Data, in2: Data) extends Module {\n",
    "    val io = IO(new Bundle {\n",
    "        val out = Output(in1.cloneType)\n",
    "    })\n",
    "    (in1, in2) match {\n",
    "        case (x: UInt, y: UInt) => io.out := x + y\n",
    "        case (x: SInt, y: SInt) => io.out := x + y\n",
    "        case _ => throw new Exception(\"I give up!\")\n",
    "    }\n",
    "}\n",
    "println(getVerilog(dut = () => new ConstantSum(3.U, 4.U)))\n",
    "println(getVerilog(dut = () => new ConstantSum(-3.S, 4.S)))\n",
    "println(getVerilog(dut = () => new ConstantSum(3.U, 4.S)))\n"
   ]
  },
  {
   "cell_type": "markdown",
   "metadata": {},
   "source": [
    "It is good to remember that Chisel types generally should not be value matched.\n",
    "Scala's match executes during circuit elaboration, but what you probably want is an post-elaboration comparison.\n",
    "The following code compiles but doesn't do what you think.\n",
    "The following gives a syntax error:"
   ]
  },
  {
   "cell_type": "code",
   "execution_count": null,
   "metadata": {},
   "outputs": [],
   "source": [
    "class InputIsZero extends Module {\n",
    "    val io = IO(new Bundle {\n",
    "        val in  = Input(UInt(16.W))\n",
    "        val out = Output(Bool())\n",
    "    })\n",
    "    io.out := (io.in match {\n",
    "        // note that case 0.U is an error\n",
    "        case (0.U) => true.B\n",
    "        case _   => false.B\n",
    "    })\n",
    "}\n",
    "println(getVerilog(dut = () => new InputIsZero))"
   ]
  },
  {
   "cell_type": "markdown",
   "metadata": {},
   "source": [
    "### Case Classes\n",
    "Case classes are a special type of Scala class that provides some cool additional features. They are very common in Scala programming, so this section outlines some of their useful features:\n",
    "- Allows **external access** to the **class parameters**\n",
    "- **Eliminates** the need to use **`new`** when instantiating the class\n",
    "- Automatically creates an **unapply method** that supplies access to all of the class Parameters.\n",
    "- Cannot be subclassed from\n",
    "\n",
    "In the following example, we declare three different classes, `Nail`, `Screw`, and `Staple`."
   ]
  },
  {
   "cell_type": "code",
   "execution_count": null,
   "metadata": {},
   "outputs": [],
   "source": [
    "class Nail(length: Int) // Regular class\n",
    "val nail = new Nail(10) // Requires the `new` keyword\n",
    "// println(nail.length) // Illegal! Class constructor parameters are not by default externally visible\n",
    "\n",
    "class Screw(val threadSpace: Int) // By using the `val` keyword, threadSpace is now externally visible\n",
    "val screw = new Screw(2)          // Requires the `new` keyword\n",
    "println(screw.threadSpace)\n",
    "\n",
    "case class Staple(isClosed: Boolean) // Case class constructor parameters are, by default, externally visible\n",
    "val staple = Staple(false)           // No `new` keyword required\n",
    "println(staple.isClosed)"
   ]
  },
  {
   "cell_type": "markdown",
   "metadata": {},
   "source": [
    "`Nail` is a regular class, and its parameters are not externally visible because we did not use the `val` keyword in the argument list. It also requires the `new` keyword when declaring an instance of `Nail`.\n",
    "\n",
    "`Screw` is declared similarly to `Nail`, but includes `val` in the argument list. This allows its parameter, `threadSpace`, to be visible externally.\n",
    "\n",
    "By using a case class, `Staple` gets the benefit of all its parameters being externally visible (without needing the `val` keyword).\n",
    "\n",
    "In addition, `Staple` does not require using `new` when declaring a case class. This is because the Scala compiler automatically creates a companion object for every case class in your code, which contains an apply method for the case class.\n",
    "\n",
    "Case classes are nice containers for generators with lots of parameters.\n",
    "The constructor gives you a good place to define derived parameters and validate input."
   ]
  },
  {
   "cell_type": "code",
   "execution_count": null,
   "metadata": {},
   "outputs": [],
   "source": [
    "case class SomeGeneratorParameters(\n",
    "    someWidth: Int,\n",
    "    someOtherWidth: Int = 10,\n",
    "    pipelineMe: Boolean = false\n",
    ") {\n",
    "    require(someWidth >= 0)\n",
    "    require(someOtherWidth >= 0)\n",
    "    val totalWidth = someWidth + someOtherWidth\n",
    "}"
   ]
  },
  {
   "cell_type": "markdown",
   "metadata": {},
   "source": [
    "### Unapply\n",
    "As it turns out, the companion object that is created for every case class also contains an **unapply** method, in addition to an **apply** method.\n",
    "What is an **unapply** method?\n",
    "\n",
    "Scala unapply methods are another form of syntactic sugar that give match statements the ability to both match on types and **extract values** from those types during the matching.\n",
    "\n",
    "Let's look at the following example.\n",
    "For some reason, let's say that if the generator is being pipelined, the delay is `3*totalWidth`, otherwise the delay is `2*someOtherWidth`.\n",
    "Because case classes have **unapply** defined, we can match values inside the case class, like so:"
   ]
  },
  {
   "cell_type": "code",
   "execution_count": null,
   "metadata": {},
   "outputs": [],
   "source": [
    "def delay(p: SomeGeneratorParameters): Int = p match {\n",
    "    case sg @ SomeGeneratorParameters(_, _, true) => sg.totalWidth * 3\n",
    "    case SomeGeneratorParameters(_, sw, false) => sw * 2\n",
    "}\n",
    "\n",
    "println(delay(SomeGeneratorParameters(10, 10)))\n",
    "println(delay(SomeGeneratorParameters(10, 10, true)))"
   ]
  },
  {
   "cell_type": "markdown",
   "metadata": {},
   "source": [
    "If you look at the `delay` function, you should note that addition to matching on the type of each character, we are also:\n",
    "- Directly reference internal values of the parameters\n",
    "- Sometimes, are matching directly on the internal values of the parameters\n",
    "\n",
    "These are possible due to the compiler implementing an `unapply` method. Note that unapplying the case is just syntactic sugar; e.g. the following two cases examples are equivalent:\n",
    "```scala\n",
    "case p: SomeGeneratorParameters => p.sw * 2\n",
    "case SomeGeneratorParameters(_, sw, _) => sw * 2\n",
    "```\n",
    "\n",
    "In addition, there are more syntaxes and styles of matching. The following two cases are also equivalent, but the second allows you to match on internal values while still reference the parent value:\n",
    "```scala\n",
    "case SomeGeneratorParameters(_, sw, true) => sw\n",
    "case sg@SomeGeneratorParameters(_, sw, true) => sw\n",
    "```\n",
    "\n",
    "Finally, you can directly embed condition checking into match statements, as demonstrated by the third of these equivalent examples:\n",
    "```scala\n",
    "case SomeGeneratorParameters(_, sw, false) => sw * 2\n",
    "case s@SomeGeneratorParameters(_, sw, false) => s.sw * 2\n",
    "case s: SomeGeneratorParameters if s.pipelineMe => s.sw * 2\n",
    "```\n",
    "\n",
    "All these syntaxes are enabled by a Scala unapply method contained in a class's companion object. If you want to unapply a class but do not want to make it a case class, you can manually implement the unapply method. The following example demonstrates how one can manually implement a class's apply and unapply methods:"
   ]
  },
  {
   "cell_type": "code",
   "execution_count": null,
   "metadata": {},
   "outputs": [],
   "source": [
    "class Boat(val name: String, val length: Int)\n",
    "object Boat {\n",
    "    def unapply(b: Boat): Option[(String, Int)] = Some((b.name, b.length))\n",
    "    def apply(name: String, length: Int): Boat = new Boat(name, length)\n",
    "}\n",
    "\n",
    "def getSmallBoats(seq: Seq[Boat]): Seq[Boat] = seq.filter { b =>\n",
    "    b match {\n",
    "        case Boat(_, length) if length < 60 => true\n",
    "        case Boat(_, _) => false\n",
    "    }\n",
    "}\n",
    "\n",
    "val boats = Seq(Boat(\"Santa Maria\", 62), Boat(\"Pinta\", 56), Boat(\"Nina\", 50))\n",
    "println(getSmallBoats(boats).map(_.name).mkString(\" and \") + \" are small boats!\")"
   ]
  },
  {
   "cell_type": "markdown",
   "metadata": {},
   "source": [
    "### Partial Functions\n",
    "This is a brief overview, [this guide](https://twitter.github.io/scala_school/pattern-matching-and-functional-composition.html#PartialFunction) has a more detailed overview.\n",
    "\n",
    "Partial functions are functions that are only defined on a subset of their inputs.\n",
    "Like an option, a partial function may not have a value for a particular input.\n",
    "This can be tested with `isDefinedAt(...)`.\n",
    "\n",
    "Partial functions can be chained together with `orElse`."
   ]
  },
  {
   "cell_type": "code",
   "execution_count": null,
   "metadata": {},
   "outputs": [],
   "source": [
    "val partialFunc1: PartialFunction[Int, String] = {\n",
    "  case i if (i + 1)%3 == 0 => \"Something\"\n",
    "}\n",
    "partialFunc1.isDefinedAt(2) // should be true\n",
    "partialFunc1.isDefinedAt(1) // should be false\n",
    "\n",
    "val partialFunc2: PartialFunction[Int, String] = {\n",
    "  case i if (i + 2)%3 == 0 => \"Something else\"\n",
    "}\n",
    "partialFunc2.isDefinedAt(1) // should be true\n",
    "partialFunc2.isDefinedAt(0) // should be false\n",
    "\n",
    "val partialFunc3 = partialFunc1 orElse partialFunc2\n",
    "partialFunc3.isDefinedAt(2) // should be true\n",
    "partialFunc3.isDefinedAt(1) // should be false\n",
    "\n",
    "partialFunc3(2)\n",
    "partialFunc3(1)\n"
   ]
  },
  {
   "cell_type": "markdown",
   "metadata": {},
   "source": [
    "## Type Safe Connections<a name=\"type-safe-connections\"></a>\n",
    "# *TODO: What to say here?*"
   ]
  },
  {
   "cell_type": "markdown",
   "metadata": {},
   "source": [
    "## Type Generics<a name=\"type-generics\"></a>\n",
    "Scala's generic types (also known as polymorphism) is very complicated, especially when coupling it with inheritance.\n",
    "\n",
    "This section will just get your toes wet; to understand more, check out [this tutorial](https://twitter.github.io/scala_school/type-basics.html).\n",
    "\n",
    "Classes can be polymorphic in their types. One good example are sequences, which require knowing what the type of the elements it contains."
   ]
  },
  {
   "cell_type": "code",
   "execution_count": null,
   "metadata": {},
   "outputs": [],
   "source": [
    "val seq1 = Seq(\"1\", \"2\", \"3\") // Type is Seq[String]\n",
    "val seq2 = Seq(1, 2, 3)       // Type is Seq[Int]\n",
    "val seq3 = Seq(1, \"2\", true)  // Type is Seq[Any]"
   ]
  },
  {
   "cell_type": "markdown",
   "metadata": {},
   "source": [
    "Sometimes, the Scala compiler needs help determining a polymorphic type, which requires the user to explicitly put the type:"
   ]
  },
  {
   "cell_type": "code",
   "execution_count": null,
   "metadata": {
    "collapsed": true
   },
   "outputs": [],
   "source": [
    "//val default = Seq() // Error!\n",
    "val default = Seq[String]() // User must tell compiler that default is of type Seq[String]\n",
    "Seq(1, \"2\", true).foldLeft(default){ (strings, next) =>\n",
    "    next match {\n",
    "        case s: String => strings ++ Seq(s)\n",
    "        case _ => strings\n",
    "    }\n",
    "}"
   ]
  },
  {
   "cell_type": "markdown",
   "metadata": {},
   "source": [
    "Functions can also be polymorphic in their input or output types. The following example defines a function that times how long it takes to run a block of code. It is parameterized based on the return type of the block of code. *Note that the `=> T` syntax encodes an anonymous function that does not have an argument list, e.g. `{ ... }` versus `{ x => ... }`.*"
   ]
  },
  {
   "cell_type": "code",
   "execution_count": null,
   "metadata": {
    "collapsed": true
   },
   "outputs": [],
   "source": [
    "def time[T](block: => T): T = {\n",
    "    val t0 = System.nanoTime()\n",
    "    val result = block\n",
    "    val t1 = System.nanoTime()\n",
    "    val timeMillis = (t1 - t0) / 1000000.0\n",
    "    println(s\"Block took $timeMillis milliseconds!\")\n",
    "    result\n",
    "}\n",
    "\n",
    "// Adds 1 through a million\n",
    "val int = time { (1 to 1000000).reduce(_ + _) }\n",
    "println(s\"Add 1 through a million is $int\")\n",
    "\n",
    "// Finds the largest number under a million that, in hex, contains \"beef\"\n",
    "val string = time {\n",
    "    (1 to 1000000).map(_.toHexString).filter(_.contains(\"beef\")).last\n",
    "}\n",
    "println(s\"The largest number under a million that has beef: $string\")"
   ]
  },
  {
   "cell_type": "markdown",
   "metadata": {},
   "source": [
    "## Example: Type Generic ShiftRegister<a name=\"type-generic-shift-register\"></a>"
   ]
  },
  {
   "cell_type": "markdown",
   "metadata": {},
   "source": [
    "In Scala, objects and functions aren't the only things we can treat as parameters.\n",
    "We can also treat types as parameters.\n",
    "\n",
    "We usually need to provide a type constraint.\n",
    "In this case, we want to be able to put objects in a bundle, connect (:=) them, and create registers with them (RegNext).\n",
    "These operations cannot be done on arbitrary objects; for example wire := 3 is illegal because 3 is a Scala Int, not a Chisel UInt.\n",
    "If we use a type constraint to say that type T is a subclass of Data, then we can use := on any objects of type T because := is defined for all Data.\n",
    "\n",
    "Here is an implementations of a simple shift register that take types as a parameter.\n",
    "*gen* is an argument of type T that tells what width to use, for example new ShiftRegister(UInt(4.W)) is a shift register for 4-bit UInts.\n",
    "*gen* also allows the Scala compiler to infer the type T- you can write new ShiftRegister[UInt](UInt(4.W)) if you want to to be more specific, but the Scala compiler is smart enough to figure it out if you leave out the [UInt]."
   ]
  },
  {
   "cell_type": "code",
   "execution_count": null,
   "metadata": {},
   "outputs": [],
   "source": [
    "class ShiftRegisterIO[T <: Data](gen: T, n: Int) extends Bundle {\n",
    "    require (n >= 0, \"Shift register must have non-negative shift\")\n",
    "    \n",
    "    val in = Input(gen.cloneType)\n",
    "    val out = Output(Vec(n + 1, gen.cloneType)) // + 1 because in is included in out\n",
    "}\n",
    "\n",
    "class ShiftRegister[T <: Data](gen: T, n: Int) extends Module {\n",
    "    val io = IO(new ShiftRegisterIO(gen, n))\n",
    "    \n",
    "    io.out.foldLeft(io.in) { case (in, out) =>\n",
    "        out := in\n",
    "        RegNext(in)\n",
    "    }\n",
    "}\n",
    "\n",
    "class ShiftRegisterTester[T <: Bits](c: ShiftRegister[T]) extends PeekPokeTester(c) {\n",
    "    println(s\"Testing ShiftRegister of type ${c.io.in} and depth ${c.io.out.length}\")\n",
    "    for (i <- 0 until 10) {\n",
    "        poke(c.io.in, i)\n",
    "        println(s\"$i: ${peek(c.io.out)}\")\n",
    "        step(1)\n",
    "    }\n",
    "}\n",
    "\n",
    "Driver(() => new ShiftRegister(UInt(4.W), 5)) { c => new ShiftRegisterTester(c) }\n",
    "Driver(() => new ShiftRegister(SInt(6.W), 3)) { c => new ShiftRegisterTester(c) }"
   ]
  },
  {
   "cell_type": "markdown",
   "metadata": {},
   "source": [
    "We generally recommend avoiding to use inheritance with type generics.\n",
    "It can be very tricky to do properly and can get frustrating quickly."
   ]
  },
  {
   "cell_type": "markdown",
   "metadata": {},
   "source": [
    "## Type Generics with Typeclasses\n",
    "\n",
    "The example above was limited to simple operations that could be performed on any instance of `Data` such as `:=` or `RegNext()`.\n",
    "When generating DSP circuits, we would like to do mathematical operations like addition and multiplication.\n",
    "The `dsptools` library provides tools for writing type parameterized DSP generators.\n",
    "\n",
    "Here is an example of writing a multiply-accumulate module.\n",
    "It can be used to generate a multiply-accumulate (MAC) for `FixedPoint`, `SInt`, or even `DspComplex[T]` (the complex number type provided by `dsptools`).\n",
    "The syntax of the type bound is a little different because `dsptools` uses typeclasses.\n",
    "They are beyond the scope of this notebook.\n",
    "Read the `dsptools` readme and documentation for more information on using typeclasses.\n",
    "\n",
    "`T <: Data : Ring` means that `T` is a subtype of `Data` and is also a `Ring` .\n",
    "`Ring` is defined in `dsptools` as a number with `+` and `*` (among other operations).\n",
    "\n",
    "_An alternative to `Ring` would be `Real`, but that would not allow us to make a MAC for `DspComplex()` because complex numbers are not `Real`._\n",
    "\n"
   ]
  },
  {
   "cell_type": "code",
   "execution_count": null,
   "metadata": {},
   "outputs": [],
   "source": [
    "import chisel3.experimental._\n",
    "import dsptools.numbers._\n",
    "\n",
    "class Mac[T <: Data : Ring](genIn : T, genOut: T) extends Module {\n",
    "    val io = IO(new Bundle {\n",
    "        val a = Input(genIn.cloneType)\n",
    "        val b = Input(genIn.cloneType)\n",
    "        val c = Input(genIn.cloneType)\n",
    "        val out = Output(genOut.cloneType)\n",
    "    })\n",
    "    io.out := io.a * io.b + io.c\n",
    "}\n",
    "\n",
    "//println(chisel3.Driver.emit( () => new Mac(UInt(4.W), UInt(6.W)) ))\n",
    "//println(chisel3.Driver.emit( () => new Mac(FixedPoint(4.W, 3.BP), FixedPoint(6.W, 4.BP))))\n",
    "//println(chisel3.Driver.emit( () => new Mac(DspReal(), DspReal())))\n",
    "\n",
    "println(getVerilog(dut= () => new Mac(UInt(4.W), UInt(6.W)) ))\n",
    "println(getVerilog(dut= () => new Mac(SInt(4.W), SInt(6.W)) ))\n",
    "println(getVerilog(dut= () => new Mac(FixedPoint(4.W, 3.BP), FixedPoint(6.W, 4.BP))))\n"
   ]
  },
  {
   "cell_type": "markdown",
   "metadata": {},
   "source": [
    "## Creating a Custom Type<a name=\"creating-a-custom-type\"></a>"
   ]
  },
  {
   "cell_type": "markdown",
   "metadata": {},
   "source": [
    "### DspComplex\n",
    "`DspComplex` is a custom data type defined in **dsptools** [here](https://github.com/ucb-bar/dsptools/blob/v1.0.0/src/main/scala/dsptools/numbers/chisel_concrete/DspComplex.scala#L59).\n",
    "The key line to understand is this:\n",
    "```scala\n",
    "class DspComplex[T <: Data:Ring](val real: T, val imag: T) extends Bundle { ... }\n",
    "```\n",
    "\n",
    "`DspComplex` is a type-generic container.\n",
    "That means the real and imaginary parts of a complex number can be any type as long as they satisfy the type constraints, given by `T <: Data : Ring`.\n",
    "\n",
    "`T <: Data` means `T` is a subtype of `chisel3.Data`, the base type for Chisel objects.\n",
    "This means that `DspComplex` only works for objects that are Chisel types and not arbitrary Scala types.\n",
    "\n",
    "`T : Ring` means that a Ring typeclass implementation for `T` exists.\n",
    "`Ring` typeclasses define `+` and `*` operators as well as additive and multiplicative identities (see [this Wikipedia article](https://en.wikipedia.org/wiki/Ring_(mathematics)) for details about rings).\n",
    "**dsptools** defines typeclasses for commonly used Chisel types [here](https://github.com/ucb-bar/dsptools/tree/v1.0.0/src/main/scala/dsptools/numbers/chisel_types).\n",
    "\n",
    "**dsptools** also defines a `Ring` typeclass for `DspComplex`, so we can reuse our MAC generator with complex numbers:"
   ]
  },
  {
   "cell_type": "code",
   "execution_count": null,
   "metadata": {},
   "outputs": [],
   "source": [
    "println(getVerilog(dut= () => new Mac(DspComplex(SInt(4.W), SInt(4.W)), DspComplex(SInt(6.W), SInt(6.W))) ))"
   ]
  },
  {
   "cell_type": "markdown",
   "metadata": {},
   "source": [
    "### Sign-magnitude Numbers\n",
    "Suppose you wanted to use a sign-magnitude representation and want to reuse all of your DSP generators?\n",
    "Typeclasses enable this kind of ad-hoc polymorphism.\n",
    "The following example gives the beggining of an implementation of a SignMagnitude type as well as an implementation of a `Ring` typeclass that will allow the type to be used with the Mac generator.\n",
    "\n",
    "Fill in implementations for `+` and `*`.\n",
    "You should pattern them after the implementation for `unary_-()`.\n",
    "The next block contains a test that checks the correctness of a `Mac` that uses `SignMagnitude`."
   ]
  },
  {
   "cell_type": "code",
   "execution_count": null,
   "metadata": {},
   "outputs": [],
   "source": [
    "class SignMagnitude(val magnitudeWidth: Option[Int] = None) extends Bundle {\n",
    "    val sign = Bool()\n",
    "    val magnitude = magnitudeWidth match {\n",
    "        case Some(w) => UInt(w.W)\n",
    "        case None    => UInt()\n",
    "    }\n",
    "    def +(that: SignMagnitude): SignMagnitude = {\n",
    "        // TODO hide me\n",
    "      val result = Wire(new SignMagnitude())\n",
    "      val signsTheSame = this.sign === that.sign\n",
    "      when (signsTheSame) {\n",
    "        result.sign      := this.sign\n",
    "        result.magnitude := this.magnitude + that.magnitude\n",
    "      } .otherwise {\n",
    "        when (this.magnitude > that.magnitude) {\n",
    "          result.sign      := this.sign\n",
    "          result.magnitude := this.magnitude - that.magnitude\n",
    "        } .otherwise {\n",
    "          result.sign      := that.sign\n",
    "          result.magnitude := that.magnitude - this.magnitude\n",
    "        }   \n",
    "      }   \n",
    "      result\n",
    "    }\n",
    "    def -(that: SignMagnitude): SignMagnitude = {\n",
    "        this.+(-that)\n",
    "    }\n",
    "    def unary_-(): SignMagnitude = {\n",
    "        val result = Wire(new SignMagnitude())\n",
    "        result.sign := !this.sign\n",
    "        result.magnitude := this.magnitude\n",
    "        result\n",
    "    }\n",
    "    def *(that: SignMagnitude): SignMagnitude = {\n",
    "        // TODO hide me\n",
    "        val result = Wire(new SignMagnitude())\n",
    "        result.sign := this.sign ^ that.sign\n",
    "        result.magnitude := this.magnitude * that.magnitude\n",
    "        result\n",
    "    }\n",
    "    override def cloneType: this.type = new SignMagnitude(magnitudeWidth).asInstanceOf[this.type]\n",
    "}\n",
    "trait SignMagnitudeRing extends Ring[SignMagnitude] {\n",
    "    def plus(f: SignMagnitude, g: SignMagnitude): SignMagnitude = {\n",
    "        f + g\n",
    "    }\n",
    "    def times(f: SignMagnitude, g: SignMagnitude): SignMagnitude = {\n",
    "        f * g\n",
    "    }\n",
    "    def one: SignMagnitude = {\n",
    "        val one = Wire(new SignMagnitude(Some(1)))\n",
    "        one.sign := false.B\n",
    "        one.magnitude := 1.U\n",
    "        one\n",
    "    }\n",
    "    def zero: SignMagnitude = {\n",
    "        val zero = Wire(new SignMagnitude(Some(0)))\n",
    "        zero.sign := false.B\n",
    "        zero.magnitude := 0.U\n",
    "        zero\n",
    "    }\n",
    "    def negate(f: SignMagnitude): SignMagnitude = {\n",
    "        -f\n",
    "    }\n",
    "    \n",
    "    // Leave unimplemented for this example\n",
    "    def minusContext(f: SignMagnitude, g: SignMagnitude): SignMagnitude = ???\n",
    "    def negateContext(f: SignMagnitude): SignMagnitude = ???\n",
    "    def plusContext(f: SignMagnitude,g: SignMagnitude): SignMagnitude = ???\n",
    "    def timesContext(f: SignMagnitude,g: SignMagnitude): SignMagnitude = ???\n",
    "}\n",
    "implicit object SignMagnitudeRingImpl extends SignMagnitudeRing"
   ]
  },
  {
   "cell_type": "code",
   "execution_count": null,
   "metadata": {},
   "outputs": [],
   "source": [
    "class SignMagnitudeMACTester(c: Mac[SignMagnitude]) extends PeekPokeTester(c) {\n",
    "    // 3 * 3 + 2 = 11\n",
    "    poke(c.io.a.sign, 0)\n",
    "    poke(c.io.a.magnitude, 3)\n",
    "    poke(c.io.b.sign, 0)\n",
    "    poke(c.io.b.magnitude, 3)\n",
    "    poke(c.io.c.sign, 0)\n",
    "    poke(c.io.c.magnitude, 2)\n",
    "    expect(c.io.out.sign, 0)\n",
    "    expect(c.io.out.magnitude, 11)\n",
    "    // 3 * 3 - 2 = 7\n",
    "    poke(c.io.c.sign, 1)\n",
    "    expect(c.io.out.sign, 0)\n",
    "    expect(c.io.out.magnitude, 7)\n",
    "    // 3 * (-3) - 2 = -11\n",
    "    poke(c.io.b.sign, 1)\n",
    "    expect(c.io.out.sign, 1)\n",
    "    expect(c.io.out.magnitude, 11)\n",
    "}\n",
    "val works = iotesters.Driver(() => new Mac(new SignMagnitude(Some(4)), new SignMagnitude(Some(5)))) {\n",
    "  c => new SignMagnitudeMACTester(c)\n",
    "}\n",
    "assert(works) // Scala Code: if works == false, will throw an error\n",
    "println(\"SUCCESS!!\") // Scala Code: if we get here, our tests passed!"
   ]
  },
  {
   "cell_type": "markdown",
   "metadata": {},
   "source": [
    "Look at the verilog to see if the output looks reasonable:"
   ]
  },
  {
   "cell_type": "code",
   "execution_count": null,
   "metadata": {},
   "outputs": [],
   "source": [
    "println(getVerilog(dut= () => new Mac(new SignMagnitude(Some(4)), new SignMagnitude(Some(5)))))"
   ]
  },
  {
   "cell_type": "markdown",
   "metadata": {},
   "source": [
    "The `Mac` generator even works with DspComplex!"
   ]
  },
  {
   "cell_type": "code",
   "execution_count": null,
   "metadata": {},
   "outputs": [],
   "source": [
    "println(getVerilog(dut= () => new Mac(DspComplex(new SignMagnitude(Some(4)), new SignMagnitude(Some(4))), DspComplex(new SignMagnitude(Some(5)), new SignMagnitude(Some(5))))))"
   ]
  },
  {
   "cell_type": "code",
   "execution_count": null,
   "metadata": {
    "collapsed": true
   },
   "outputs": [],
   "source": []
  }
 ],
 "metadata": {
  "kernelspec": {
   "display_name": "Scala",
   "language": "scala",
   "name": "scala"
  },
  "language_info": {
   "codemirror_mode": "text/x-scala",
   "file_extension": ".scala",
   "mimetype": "text/x-scala",
   "name": "scala211",
   "nbconvert_exporter": "script",
   "pygments_lexer": "scala",
   "version": "2.11.11"
  }
 },
 "nbformat": 4,
 "nbformat_minor": 1
}
