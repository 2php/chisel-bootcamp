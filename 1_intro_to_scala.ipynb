{
 "cells": [
  {
   "cell_type": "markdown",
   "metadata": {},
   "source": [
    "<a name=\"top\"></a>![Chisel](https://chisel.eecs.berkeley.edu/assets/img/chisel_64.png)"
   ]
  },
  {
   "cell_type": "markdown",
   "metadata": {},
   "source": [
    "# Module 1: Introduction to Scala\n",
    "**Next: [Your First Chisel Module](2.1_first_module.ipynb)**\n",
    "\n",
    "## Motivation\n",
    "In this tutorial you will learn how to write basic Scala code and how to read more advanced Scala code.\n",
    "These tutorials use the *Jupyter* notebook environment so you can read the code, make changes, and then run it in place right in the tutorial.\n",
    "We encourage you to experiment within the tutorials to speed your way to Chisel."
   ]
  },
  {
   "cell_type": "markdown",
   "metadata": {},
   "source": [
    "---\n",
    "# Understanding Scala\n",
    "Scala is yet another programming language which does all the basic stuff. We chose it for several reasons:\n",
    "\n",
    "- It is a good language for hosting an embedded DSL.\n",
    "- It has a powerful and elegant library for manipulating various collections of data.\n",
    "- It has a rigorous type system that helps catch a large class of errors very early in the development cycle.\n",
    "- It has powerful way of expressing and passing functions.\n",
    "- Chipel, Chijel, and Chicel don't roll off the tongue as nicely as Chisel does.\n",
    "\n",
    "All of these points will really become apparent as we talk about Chisel later, but for now, we are going to focus on the basics of reading and writing basic Scala code."
   ]
  },
  {
   "cell_type": "markdown",
   "metadata": {},
   "source": [
    "---\n",
    "# Variables and Constants - var and val\n",
    "Statements that create variables and constants are preceded with the keywords *var* and *val* respectively.  It is\n",
    "common practice to use *val* whenever possible.  Why?  Mostly to reduce the chances of re-using variables in ways that are error prone or make your code difficult to read. The structure of Scala make this practice easier than you might expect.\n",
    "\n",
    "<span style=\"color:blue\">**Example:**</span><br>\n",
    "The following code block is executable right here within this notebook. To run it, focus on it by clicking it. A box and green bar on the left show you which cell is active. Once selected, the cell may be run using the *play* button above, next to the stop button. Or you may use keyboard shortcuts. Shift+enter runs the cell and moves your focus to the next cell. Ctrl+enter runs the cell but retains focus on that cell. Key examples begin with a blue and bold <span style=\"color:blue\">**Example**</span>, while exercises begin with a red <span style=\"color:red\">**Exercise**</span>. Module 1 is all short examples, so we've omitted the example declaration for the rest of this module."
   ]
  },
  {
   "cell_type": "code",
   "execution_count": null,
   "metadata": {
    "collapsed": false
   },
   "outputs": [],
   "source": [
    "var numberOfKittens = 6\n",
    "val kittensPerHouse = 101\n",
    "val alphabet = \"abcdefghijklmnopqrstuvwxyz\"\n",
    "var done = false"
   ]
  },
  {
   "cell_type": "markdown",
   "metadata": {},
   "source": [
    "One of the first things to notice is that unlike Java and C, generally, Scala does not require semicolons at the end\n",
    "of statements. Scala infers the semicolon when there is a line feed. For instance, it can usually tell if a single statement is spread across multiple lines when the last thing on the line is an operater requiring additional code. The only time you really need a semicolon is when you want to fit to statements onto one line, and you don't ever really need to do that.\n",
    "\n",
    "You use variables in the obvious ways. The two `var` variables may be reassigned to, while the two `val` variables are immutable once created."
   ]
  },
  {
   "cell_type": "code",
   "execution_count": null,
   "metadata": {
    "collapsed": false
   },
   "outputs": [],
   "source": [
    "numberOfKittens += 1\n",
    "\n",
    "// kittensPerHouse = kittensPerHouse * 2 // This would be an error; this is a constant\n",
    "\n",
    "println(alphabet)\n",
    "done = true"
   ]
  },
  {
   "cell_type": "markdown",
   "metadata": {},
   "source": [
    "---\n",
    "# Conditionals\n",
    "\n",
    "Scala mostly implements \"`if`\" like other programming languages."
   ]
  },
  {
   "cell_type": "code",
   "execution_count": null,
   "metadata": {
    "collapsed": false
   },
   "outputs": [],
   "source": [
    "// a simple conditional, BTW this is a comment\n",
    "if(numberOfKittens > kittensPerHouse) { println(\"Too many kittens!!!\") }\n",
    "// The braces are not required for a one liner, so we could have written that\n",
    "if(numberOfKittens > kittensPerHouse) println(\"Too many kittens!!!\")\n",
    "\n",
    "// ifs have else clauses of course\n",
    "if(done) { println(\"we are done\")}\n",
    "else { numberOfKittens += 1 }\n",
    "\n",
    "// and else ifs\n",
    "if(done) {\n",
    "    println(\"we are done\")\n",
    "}\n",
    "else if(numberOfKittens < kittensPerHouse) {\n",
    "    numberOfKittens += 1\n",
    "}\n",
    "else {\n",
    "    done = true\n",
    "}"
   ]
  },
  {
   "cell_type": "markdown",
   "metadata": {},
   "source": [
    "But in Scala, \"`if`\" returns a value.  What is that value?  It's given by the last line of the block that was selected by the conditional statements in the if.  It's quite powerful, particularly when used to initialize variables in functions and classes. It looks like:"
   ]
  },
  {
   "cell_type": "code",
   "execution_count": null,
   "metadata": {
    "collapsed": false
   },
   "outputs": [],
   "source": [
    "val likelyCharactersSet = if(alphabet.length == 26) {\n",
    "    \"english\"\n",
    "} else {\n",
    "    \"not english\"\n",
    "}\n",
    "println(likelyCharactersSet)"
   ]
  },
  {
   "cell_type": "markdown",
   "metadata": {},
   "source": [
    "We created a constant *likelyCharactersSet* whose value is conditionally determined at runtime."
   ]
  },
  {
   "cell_type": "markdown",
   "metadata": {},
   "source": [
    "---\n",
    "# Functions\n",
    "\n",
    "Functions are defined with the keyword `def`.  Function parameters are specified in a comma separated list that specifies the name of the parameter, its type, and optionally a default value for it. Functions should typically also declare their return types.\n",
    "\n",
    "Scala function that do not have any parameters do not require empty parentheses. This often makes life easier for a developer in the situation where a member variable of a class becomes a function because there is some computation associated with referencing it. By convention, parameter-less functions that do not have side-effects (i.e. calling them does not change anything and they simply return a value) do not use parentheses and functions that do have side-effects (perhaps they change class variables or print stuff out) should require parentheses.\n",
    "\n",
    "## Simple declarations"
   ]
  },
  {
   "cell_type": "code",
   "execution_count": null,
   "metadata": {
    "collapsed": false
   },
   "outputs": [],
   "source": [
    "// simple scaling function with on parameter, e.g., times2(3) returns 6\n",
    "def times2(x: Int): Int = { 2 * x }\n",
    "\n",
    "// more complicated function with statements\n",
    "def distance(x: Int, y: Int, returnPositive: Boolean): Int = {\n",
    "    val xy = x * y\n",
    "    if(returnPositive) xy.abs else -(xy.abs)\n",
    "}"
   ]
  },
  {
   "cell_type": "markdown",
   "metadata": {},
   "source": [
    "## Overloading functions\n",
    "The same function name can be used in more than one way.  The parameters and their types determine a signature that allows the compiler to figure out which version of the function should be called. Overloaded functions should be avoided, though."
   ]
  },
  {
   "cell_type": "code",
   "execution_count": null,
   "metadata": {
    "collapsed": false
   },
   "outputs": [],
   "source": [
    "// overloaded function\n",
    "def times2(x: Int): Int = { 2 * x }\n",
    "def times2(x: String): Int = { 2 * x.toInt }\n",
    "\n",
    "times2(5)\n",
    "times2(\"7\")"
   ]
  },
  {
   "cell_type": "markdown",
   "metadata": {},
   "source": [
    "## Recursive and nested functions\n",
    "Curly braces define code scopes. Within a function's scope may exist more functions or recursive function calls. Functions defined in a certain scope are only accessible within that scope."
   ]
  },
  {
   "cell_type": "code",
   "execution_count": null,
   "metadata": {
    "collapsed": false
   },
   "outputs": [],
   "source": [
    "/** Prints a triangle made of \"X\"s\n",
    "  * This is another style of comment\n",
    "  */\n",
    "def asciiTriangle(rows: Int) {\n",
    "    def printRow(columns: Int) {\n",
    "        println(\"X\" * columns) // this is cute, multiplying \"X\" makes a string with many copies of \"X\"\n",
    "    }\n",
    "    if(rows > 0) {\n",
    "        printRow(rows)\n",
    "        asciiTriangle(rows - 1) // here is the recursive call\n",
    "    }\n",
    "}\n",
    "\n",
    "// printRow(1) // this would not work, since we're calling printRow outside its scope\n",
    "asciiTriangle(6)"
   ]
  },
  {
   "cell_type": "markdown",
   "metadata": {},
   "source": [
    "---\n",
    "# Lists\n",
    "Scala implements a variety of aggregate or sequence objects. Lists are a lot like arrays but support additional operations for appending and extracting. "
   ]
  },
  {
   "cell_type": "code",
   "execution_count": null,
   "metadata": {
    "collapsed": false
   },
   "outputs": [],
   "source": [
    "val x = 7\n",
    "val y = 14\n",
    "val list1 = List(1, 2, 3)\n",
    "val list2 = x :: y :: y :: Nil       // an alternate notation for assembling a list\n",
    "\n",
    "val list3 = list1 ++ list2           // appends the second list to the first list\n",
    "val m = list2.length\n",
    "val s = list2.size\n",
    "\n",
    "val headOfList = list1.head          // gets the first element of the list\n",
    "val restOfList = list1.tail          // get a new list with first element removed\n",
    "\n",
    "val third = list1(2)                 // gets the third element of a list"
   ]
  },
  {
   "cell_type": "markdown",
   "metadata": {},
   "source": [
    "---\n",
    "# `for` statement\n",
    "\n",
    "Scala has a `for` statement and it works like traditional for statements.  You\n",
    "can iterate over a range of values."
   ]
  },
  {
   "cell_type": "code",
   "execution_count": null,
   "metadata": {
    "collapsed": false
   },
   "outputs": [],
   "source": [
    "for(i <- 0 to 7) {\n",
    "  print(i + \" \")\n",
    "}\n",
    "println()"
   ]
  },
  {
   "cell_type": "markdown",
   "metadata": {},
   "source": [
    "Use `until` instead of `to` go up to, but not including, 7"
   ]
  },
  {
   "cell_type": "code",
   "execution_count": null,
   "metadata": {
    "collapsed": false
   },
   "outputs": [],
   "source": [
    "for(i <- 0 until 7) {\n",
    "  print(i + \" \")\n",
    "}\n",
    "println()"
   ]
  },
  {
   "cell_type": "markdown",
   "metadata": {},
   "source": [
    "Add a `by` to increment by some fixed amount, the following prints out the even integers between 0 and 10"
   ]
  },
  {
   "cell_type": "code",
   "execution_count": null,
   "metadata": {
    "collapsed": false
   },
   "outputs": [],
   "source": [
    "for(i <- 0 to 10 by 2) { print(i + \" \") }\n",
    "println()"
   ]
  },
  {
   "cell_type": "markdown",
   "metadata": {},
   "source": [
    "If you have an collection of some kind and want to visit all the elements, you can use `for`\n",
    "as an *iterator* as in Java and Python.  Here we make a list of 4 random integers then sum it."
   ]
  },
  {
   "cell_type": "code",
   "execution_count": null,
   "metadata": {
    "collapsed": false
   },
   "outputs": [],
   "source": [
    "val randomList = List(util.Random.nextInt(), util.Random.nextInt(), util.Random.nextInt(), util.Random.nextInt())\n",
    "var listSum = 0\n",
    "for(value <- randomList) {\n",
    "  listSum += value\n",
    "}\n",
    "println(\"sum is \" + listSum)"
   ]
  },
  {
   "cell_type": "markdown",
   "metadata": {},
   "source": [
    "Scala's `for` has a lot more tricks it can do. It will work intuitively for\n",
    "a wide range of traditional iteration needs, but it may or not be the easiest way.  Operations like summing the elements of an array are often more easily done using a rich family of functions called *comprehensions* that are available across many different collections of elements.  Later modules will provde more on `for` and its allies."
   ]
  },
  {
   "cell_type": "markdown",
   "metadata": {},
   "source": [
    "---\n",
    "# Reading Scala\n",
    "Being able to read Scala code and understand common naming conventions, design patterns, and best practices is an important step in being an effective Chisel designer.\n",
    "The potential for code reuse is one of the advantages of Chisel, but reuse is difficult if you can't read other people's code.\n",
    "Effictively parsing other people's code also makes it easier to seek out help, especially from resources like StackOverflow.\n",
    "\n",
    "The following sections show common code patterns you will see."
   ]
  },
  {
   "cell_type": "markdown",
   "metadata": {},
   "source": [
    "---\n",
    "# Packages and Imports \n",
    "\n",
    "```scala\n",
    "package mytools\n",
    "class Tool1 { ... }\n",
    "```\n",
    "This name can be used when referencing code defined in this file.  \n",
    "```scala\n",
    "import mytools.Tool1\n",
    "```\n",
    "Note: The package name  **should** match the directory hierarchy. This is not mandatory, but failing to abide by this guideline can produce some unusual and difficult to diagnose problems. Package names by convention are lower case and do not contain separators like underscore.  This sometimes makes good descriptive names difficult.  One approach is to add a layer of hierarchy, e.g. `package good.tools`.  Do your best.  Chisel itself plays some games with the package names that do not conform to these rules.\n",
    "\n",
    "As shown above, `import` statements inform the compiler that you are using some additional libraries.  Some common imports you will use when programming in Chisel are\n",
    "```scala\n",
    "import chisel3._\n",
    "import chisel3.iotesters.{ChiselFlatSpec, Driver, PeekPokeTester}\n",
    "```\n",
    "The first imports all the classes and methods in the chisel3 package; the underscore here works as a wildcard.  The second imports specific classes from the chisel3.iotesters package."
   ]
  },
  {
   "cell_type": "markdown",
   "metadata": {},
   "source": [
    "---\n",
    "# Scala is an Object Oriented Language\n",
    "Scala is object oriented, and it's important to understand a bit about this to take maxiumum advantage of both Scala and Chisel.  There is no doubt more than one way to describe all this.\n",
    "1. Variables are objects.\n",
    "1. Constants in the sense of *Scala's* `val` declarative are also objects\n",
    "1. Even literal values are objects.\n",
    "1. Even functions themselves are objects. More on this later.\n",
    "1. Objects are instances of classes.\n",
    "  1. In fact, in just about every way that matters in Scala, the *object* in *Objected Oriented* will be called an instance.\n",
    "1. In defining classes, the programmer specifies\n",
    "  1. the data associated with the class.\n",
    "  1. the operations, called methods or functions, that that instances of the class can perform.\n",
    "1. Classes can extend other classes.\n",
    "  1. The class being extended is the superclass, the extendee is the subclass.\n",
    "  1. In this case, the subclass inherits the data and methods from the superclass.\n",
    "  1. There are many useful but controlled ways in which a class may extend or override the inherited properties.\n",
    "1. Classes may inherit from traits. Think of traits as lightweight classes that allow specific, limited ways of inheriting from more than one superclass.  \n",
    "1. Objects are special kind of Scala class.\n",
    "  1. They are not objects as above. Remember, we're calling those instances.\n",
    "\n",
    "We are about to look at how to create a class in scala."
   ]
  },
  {
   "cell_type": "markdown",
   "metadata": {},
   "source": [
    "---\n",
    "# A Class Example\n",
    "An example of creating a Scala class might be"
   ]
  },
  {
   "cell_type": "code",
   "execution_count": null,
   "metadata": {
    "collapsed": false
   },
   "outputs": [],
   "source": [
    "// WrapCounter counts up to a max value based on a bit size\n",
    "class WrapCounter(counterBits: Int) {\n",
    "\n",
    "  val max: Long = (1 << counterBits) - 1\n",
    "  var counter = 0L\n",
    "  var hasWrapped = false\n",
    "    \n",
    "  def inc(): Long = {\n",
    "    counter = counter + 1\n",
    "    if(counter > max) {\n",
    "        counter = 0\n",
    "        hasWrapped = true\n",
    "    }\n",
    "    counter\n",
    "  }\n",
    "  println(s\"counter created with max value $max\")\n",
    "}\n"
   ]
  },
  {
   "cell_type": "markdown",
   "metadata": {},
   "source": [
    "What is here:\n",
    "* ```class WrapCounter```: This is the definition of **WrapCounter**.\n",
    "* ```(counterBits: Int)```: Creating a WrapCounter requires an integer argument, nicely named to suggest it is the bit width of the counter.\n",
    "* braces ({}) delimit a block of code. Most classes use a code block to define variables, constants, and methods (functions).\n",
    "* `val max: Long =` the class contains a member variable **max**, declared as type `Long` and initialized as the class is created.\n",
    "* `(1 << counterBits) - 1` computes the maximum value that can be contained in **counterBits** bits.  Since **max** was created with `val` it cannot be changed.\n",
    "* a variable **counter** is created and initialized to **0L**, the **L** says that 0 is a long value and from this **counter** is inferred to be Long.\n",
    "* **max** and **counter** are commonly called _member variables_ of the class\n",
    "* a class method **inc** is defined which takes no arguments and returns a **Long** value\n",
    "* the body of the method **inc** is a code block that has:\n",
    "  * `counter = counter + 1` increments **counter**\n",
    "  * `if(counter > max) counter = 0` tests if it is greater than the **max** value and sets it back to zero if it is\n",
    "  * `counter` the last line of the code block is important\n",
    "    * any value expressed at the last line of a code block is considered to be the return value of that code block, that return value can be used or ignore by the calling statement\n",
    "    * this applies quite generally; for example, since an if statement or and if then else statement defines its true and false clauses with code blocks, the if itself can return a value\n",
    "    * for example `val result = if( 10 * 10 > 90) { \"greater\" } else { \"lesser\" }` would created a variable with the value \"greater\"\n",
    "  * so in this case the function **inc** returns the value of **counter**\n",
    "* `println(s\"counter created with max value $max\")` this prints a string to the standard out.  Because the **println** is directly in the defining code block, it is part of the classes initialization code and is run, i.e. prints out the string, every time an instance of this class is created.\n",
    "* The string printed in this case is an _interpolated_ string\n",
    "  * the leading **s** in front of the first double quote identifies this as an interpolated string\n",
    "  * an interpolated string is processed at run time  \n",
    "  * the **\\$max** is replaced with the value of max\n",
    "  * if the **\\$** is followed by a code block, arbitrary scala can be in that code block\n",
    "    * for example, **`println(s\"doubled max is ${max + max}\")`**\n",
    "    * the return value of this code block will be inserted  in place of \\${...}\n",
    "    * if the return value is not a string, it will be converted to one; virtually every class or type in scala has an implicit conversion to a string defined)\n",
    "  * it should be noted that classes that print something every time an instance is created is darned annoying and should avoided\n"
   ]
  },
  {
   "cell_type": "markdown",
   "metadata": {},
   "source": [
    "---\n",
    "# Creating an instance of a class\n",
    "Let's use our example above to create a class.  Scala instances are created via the built-in magic keyword `new`."
   ]
  },
  {
   "cell_type": "code",
   "execution_count": null,
   "metadata": {
    "collapsed": false
   },
   "outputs": [],
   "source": [
    "val x = new WrapCounter(4)"
   ]
  },
  {
   "cell_type": "markdown",
   "metadata": {},
   "source": [
    "You may see instances being created without the keyword `new`, for example `val y = WrapCounter(6)`.\n",
    "This occurs often enough to merit special attention. It is described later.\n",
    "\n",
    "Example usage of the instance that has just been created is given next."
   ]
  },
  {
   "cell_type": "code",
   "execution_count": null,
   "metadata": {
    "collapsed": false
   },
   "outputs": [],
   "source": [
    "x.inc() // increments the counter\n",
    "x inc() // Scala allows the dots to be omitted; this can be be useful for making embedded DSL's look more natural\n",
    "\n",
    "// member variables of the instance x are visible to outside, unless they are declared private\n",
    "if(x.counter == x.max) {              \n",
    "    println(\"counter is about to wrap\")\n",
    "}"
   ]
  },
  {
   "cell_type": "markdown",
   "metadata": {},
   "source": [
    "---\n",
    "# Code Blocks\n",
    "Code blocks are delimited by braces.  A block can contain zero or more lines of Scala code. The last line of Scala code becomes the return value (which may be ignored) of the code block.  A code block with no lines would return and special null-like object called `Unit`. Code blocks are used throughout Scala: they are the bodies of class definitions, they form function and method definitions, they are the clauses of `if` statements, and they are the bodies of `for` and many other Scala operators.\n",
    "\n",
    "## Parameterized Code Blocks\n",
    "Code blocks can take parameters.  In the case of class and method definitions, these parameters look like most conventional programming languages.  In the example below, `c` and `s` are parameters of the code block."
   ]
  },
  {
   "cell_type": "code",
   "execution_count": null,
   "metadata": {
    "collapsed": false
   },
   "outputs": [],
   "source": [
    "def add1(c: Int): Int = {\n",
    "  c + 1\n",
    "}\n",
    "class RepeatString(s: String) {\n",
    "  val repeatedString = s + s\n",
    "}"
   ]
  },
  {
   "cell_type": "markdown",
   "metadata": {},
   "source": [
    "**IMPORTANT**: There is another way in which code blocks may be parameterized. Here is an example."
   ]
  },
  {
   "cell_type": "code",
   "execution_count": null,
   "metadata": {
    "collapsed": false
   },
   "outputs": [],
   "source": [
    "val intList = List(1, 2, 3)\n",
    "val stringList = intList.map { i =>\n",
    "  i.toString\n",
    "}"
   ]
  },
  {
   "cell_type": "markdown",
   "metadata": {},
   "source": [
    "The code block is passed to a method `map` of the class List.  The `map` method requires that its code block have a single parameter.  The code block is called for each member of the list, and the code block returns that parameter converted to a String. Scala is almost excessively accepting of variations of this syntax. You might see this written in many different ways. This type of code block is called an anonymous function, and more details on anonymous functions are provided in a later module."
   ]
  },
  {
   "cell_type": "markdown",
   "metadata": {},
   "source": [
    "The goal here is to help you recognize the different notational types when you encounter them.  As you use Scala, these will seem more comfortable and familiar.  Authors tend to gravitate to particular styles, and there are also individual syntactical situations in which one notation will seem more natural. One-liners tend to use the more concise forms. Complex blocks usually have a more narrative appearance."
   ]
  },
  {
   "cell_type": "markdown",
   "metadata": {},
   "source": [
    "---\n",
    "# Named Parameters and Parameter Defaults\n",
    "Consider the following method definition.\n",
    "```scala\n",
    "def myMethod(count: Int, wrap: Boolean, wrapValue: Int = 24): Unit = { ... }\n",
    "```\n",
    "When calling the method, you will often see the parameter names along with the passed-in values.\n",
    "```scala\n",
    "myMethod(count = 10, wrap = false, wrapValue = 23)\n",
    "```\n",
    "Using named parameters, you can even call the function with a different ordering.\n",
    "```scala\n",
    "myMethod(wrapValue = 23, wrap = false, count = 10)\n",
    "```\n",
    "For frequently called methods, the parameter ordering may be obvious. But for less common methods and, in particular, boolean arguments, including the names with calls can make your code a lot more readable.  Using named parameters can allow you to re-arrange arguments, and in combination with parameters that have a default value, can make it so the caller only has to pass (by name) the specific arguments that do not use the default value.  Parameters to class definitions also used this named-argument scheme (they are actually just the parameters to the constructor method for the class).\n",
    "\n",
    "Notice also that the parameter `wrapValue` has a default value 24.  Parameters with default values may ommitted when calling the function. \n",
    "```scala\n",
    "myMethod(wrap = false, count = 10)\n",
    "```\n",
    "will work as if 24 had been passed in."
   ]
  },
  {
   "cell_type": "markdown",
   "metadata": {},
   "source": [
    "---\n",
    "# You're done!\n",
    "\n",
    "[Return to the top.](#top)"
   ]
  }
 ],
 "metadata": {
  "kernelspec": {
   "display_name": "Scala",
   "language": "scala",
   "name": "scala"
  },
  "language_info": {
   "codemirror_mode": "text/x-scala",
   "file_extension": ".scala",
   "mimetype": "text/x-scala",
   "name": "scala211",
   "nbconvert_exporter": "script",
   "pygments_lexer": "scala",
   "version": "2.11.11"
  }
 },
 "nbformat": 4,
 "nbformat_minor": 1
}
