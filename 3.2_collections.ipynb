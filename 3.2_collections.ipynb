{
 "cells": [
  {
   "cell_type": "markdown",
   "metadata": {},
   "source": [
    "![Chisel](https://chisel.eecs.berkeley.edu/assets/img/chisel_64.png)"
   ]
  },
  {
   "cell_type": "markdown",
   "metadata": {},
   "source": [
    "# Module 3.2: Generators: Collections"
   ]
  },
  {
   "cell_type": "markdown",
   "metadata": {},
   "source": [
    "#### Written by Chick Markley, Stevo Bailey, Edward Wang, and Richard Lin\n",
    "[chick@berkeley.edu](mailto:chick@berkeley.edu),\n",
    "[stevo@berkeley.edu](mailto:stevo@berkeley.edu),\n",
    "[edwardw@berkeley.edu](mailto:edwardw@berkeley.edu), [richard.lin@berkeley.edu](mailto:edwardw@berkeley.edu)"
   ]
  },
  {
   "cell_type": "markdown",
   "metadata": {},
   "source": [
    "## Table of Contents\n",
    "\n",
    "1. [Generators and Collections](#generators-and-collections)\n",
    "1. [when/elsewhen/other](#fir-golden-model)\n",
    "1. [Wire vs val and var](#wire)\n",
    "1. [Exercise](#exercise)\n",
    "1. [Optional Exercise ](#optional-exercise)\n"
   ]
  },
  {
   "cell_type": "markdown",
   "metadata": {},
   "source": [
    "## Set Up"
   ]
  },
  {
   "cell_type": "code",
   "execution_count": null,
   "metadata": {
    "collapsed": true
   },
   "outputs": [],
   "source": [
    "// Run this boilerplate for the necessary imports\n",
    "\n",
    "import $ivy.`edu.berkeley.cs::chisel3:3.0-SNAPSHOT_2017-07-19`\n",
    "import $ivy.`edu.berkeley.cs::chisel-iotesters:1.1-SNAPSHOT_2017-07-19`\n",
    "import $ivy.`edu.berkeley.cs::firrtl:1.0-SNAPSHOT_2017-07-19`\n",
    "import $ivy.`org.scalanlp::breeze:0.13.2`\n",
    "import chisel3._\n",
    "import chisel3.util._\n",
    "import chisel3.iotesters.{ChiselFlatSpec, Driver, PeekPokeTester}\n",
    "import scala.collection.mutable\n",
    "def getVerilog[T <: Module](gen: => T): String = {\n",
    "  chisel3.Driver.execute(Array[String](), {() => gen}) match {\n",
    "    case ChiselExecutionSuccess(_, _, Some(firrtl.FirrtlExecutionSuccess(_, verilog))) => verilog\n",
    "  }\n",
    "}"
   ]
  },
  {
   "cell_type": "markdown",
   "metadata": {},
   "source": [
    "## Generators and Collections<a name=\"generators-and-collections\"></a> \n",
    "In this section we will focus on the concept of *generators* and the use of scala collections as a tool to implement them. Instead of looking at\n",
    "Chisel code as an *instance* of circuit, i.e. a description of a particulara circuit, \n",
    "we will instead consider it to be a generator of a circuit.\n",
    "\n",
    "We will start by considering the FIR filter from previous exercises.  "
   ]
  },
  {
   "cell_type": "code",
   "execution_count": null,
   "metadata": {},
   "outputs": [],
   "source": [
    "class My4ElementFir(b0: Int, b1: Int, b2: Int, b3: Int) extends Module {\n",
    "  val io = IO(new Bundle {\n",
    "    val in = Input(UInt(8.W))\n",
    "    val out = Output(UInt(8.W))\n",
    "  })\n",
    "\n",
    "  val x_n1 = RegNext(io.in, 0.U)\n",
    "  val x_n2 = RegNext(x_n1, 0.U)\n",
    "  val x_n3 = RegNext(x_n2, 0.U)\n",
    "  io.out := io.in * b0.U(8.W) + x_n1 * b1.U(8.W) +\n",
    "    x_n2 * b2.U(8.W) + x_n3 * b3.U(8.W)\n",
    "}\n"
   ]
  },
  {
   "cell_type": "markdown",
   "metadata": {},
   "source": [
    "This circuit is a simple case of a generator because it can generate versions of this 4-tap filter with\n",
    "different coefficients.  But what if we want the circuit to have more taps.  We are going to do this in several steps.\n",
    "\n",
    "- Build a software *Golden Model* of a tap configurable FIR.\n",
    "- Redesign our test to use this model, and confirm that it works.\n",
    "- Refactor our My4ElementFir to allow an configurable number of taps.\n",
    "- Test the new circuit using our new test harness\n",
    "\n"
   ]
  },
  {
   "cell_type": "markdown",
   "metadata": {},
   "source": [
    "## An FIR Golden Model<a name=\"fir-golden-model\"></a> \n",
    "Below is a Scala software implementation of a FIR circuit.  "
   ]
  },
  {
   "cell_type": "code",
   "execution_count": null,
   "metadata": {},
   "outputs": [],
   "source": [
    "/**\n",
    "  * A naive implementation of an FIR filter with an arbitrary number of taps.\n",
    "  */\n",
    "class ScalaFirFilter(taps: Seq[Int]) {\n",
    "  var pseudoRegisters = List.fill(taps.length)(0)\n",
    "\n",
    "  def poke(value: Int): Int = {\n",
    "    pseudoRegisters = value :: pseudoRegisters.take(taps.length - 1)\n",
    "    var accumulator = 0\n",
    "    for(i <- taps.indices) {\n",
    "      accumulator += taps(i) * pseudoRegisters(i)\n",
    "    }\n",
    "    accumulator\n",
    "  }\n",
    "}"
   ]
  },
  {
   "cell_type": "markdown",
   "metadata": {},
   "source": [
    "### Seq\n",
    "Note that **taps** has become a **Seq[Int]** which means that the user of the class can pass a *Seq* or sequence of arbitrary length when constructing the class.\n",
    "### Registers\n",
    "With ```  var pseudoRegisters = List.fill(taps.length)(0)``` we create a **List** that will hold the values from previous cycles.  **List** was chosen because it syntax of adding an element to the head and remove the last element is very simple. Just about any member of the scala collections family could be used.  We are also initializing this list to contain all zeros.\n",
    "### Poke\n",
    "Our class adds a poke function/method that emulates putting a new input into the filter and cycling the clock.\n",
    "### Updating the registers\n",
    "The line ```pseudoRegisters = value :: pseudoRegisters.take(taps.length - 1)``` first uses the *take* method of list to keep the all but the last element of the list, then uses the *::* list concatentation operator to add *value* to the head of the reduced version of the list.\n",
    "### Computing the output\n",
    "A simple for loop with an accumulator that sums the multiplication of each element of the list times the corresponding tap coefficient. The line with just *accumulator* returns that value as the function result."
   ]
  },
  {
   "cell_type": "markdown",
   "metadata": {},
   "source": [
    "## Adapting our previous test for testing our golden model\n",
    "We will now use our previous work to confirm that our golden model works.  A bit of \n",
    "editing magic takes our previous tests harness and morphs it into"
   ]
  },
  {
   "cell_type": "code",
   "execution_count": null,
   "metadata": {},
   "outputs": [],
   "source": [
    "val filter = new ScalaFirFilter(Seq(1, 1, 1, 1))\n",
    "\n",
    "var out = 0\n",
    "\n",
    "out = filter.poke(1)\n",
    "println(s\"out = $out\")\n",
    "assert(out == 1)  // 1, 0, 0, 0\n",
    "\n",
    "out = filter.poke(4)\n",
    "assert(out == 5)  // 4, 1, 0, 0\n",
    "println(s\"out = $out\")\n",
    "\n",
    "out = filter.poke(3)\n",
    "assert(out == 8)  // 3, 4, 1, 0\n",
    "println(s\"out = $out\")\n",
    "\n",
    "out = filter.poke(2)\n",
    "assert(out == 10)  // 2, 3, 4, 1\n",
    "println(s\"out = $out\")\n",
    "\n",
    "out = filter.poke(7)\n",
    "assert(out == 16)  // 7, 2, 3, 4\n",
    "println(s\"out = $out\")\n",
    "\n",
    "out = filter.poke(0)\n",
    "assert(out == 12)  // 0, 7, 2, 3\n",
    "println(s\"out = $out\")"
   ]
  },
  {
   "cell_type": "markdown",
   "metadata": {},
   "source": [
    "Executing the previous block demonstrates that our software model returns the same results as My4ElementFir did.\n",
    "\n",
    "## Rebuilding our test to use our golden model.\n",
    "Now that we are reasonably confident with our golden model we re-write our test that compares \n",
    "the circuit outputs with the output of the golden model, instead of using laboriously hand-crafted\n",
    "examples. What follows is a quick first pass to do it."
   ]
  },
  {
   "cell_type": "code",
   "execution_count": null,
   "metadata": {},
   "outputs": [],
   "source": [
    "val goldenModel = new ScalaFirFilter(Seq(1, 1, 1, 1))\n",
    "\n",
    "Driver(() => new My4ElementFir(1, 1, 1, 1)) {\n",
    "    c => new PeekPokeTester(c) {\n",
    "        for(i <- 0 until 100) {\n",
    "            val input = scala.util.Random.nextInt(8)\n",
    "          \n",
    "            val goldenModelResult = goldenModel.poke(input)\n",
    "\n",
    "            poke(c.io.in, input)\n",
    "          \n",
    "            expect(c.io.out, goldenModelResult, s\"i $i, input $input, gm $goldenModelResult, ${peek(c.io.out)}\")\n",
    "\n",
    "            step(1)\n",
    "        }\n",
    "    }\n",
    "}"
   ]
  },
  {
   "cell_type": "markdown",
   "metadata": {},
   "source": [
    "Now our test runs 100 cycles, and checks that at each step the two different methods, hardware and software, are in sync.\n",
    "\n",
    "### Things to watch out for\n",
    "> Actually things that I screwed up while writing this.\n",
    "\n",
    "1. Getting the step in the right place. Software and hardware execute differently, it's easy to get this wrong\n",
    "1. This test is weak because it is very sensitive to how the IOs and registers are sized. Implementing a software golden model that observes wrapping behavior at arbitrary data bit widths can be complicated.  Here I just make sure that I only pass in values that fit."
   ]
  },
  {
   "cell_type": "markdown",
   "metadata": {},
   "source": [
    "### Parameterizing the number of taps\n",
    "Below we have created a new Filter class, *MyManyElementsFilter* that takes a Seq of constants to use for taps.  This list can be any number of elements.  For good measure a bitWidth has been added that allows us to control the sizes of numbers that can be handled by our circuit. In response the variable length we have had to refactor the creation of registers and how they are connected. The methodology used below uses a simple subset of the available library of collection functions. Later sections show how to more succinctly express the behavior in a way that also makes it clearer what is happening."
   ]
  },
  {
   "cell_type": "code",
   "execution_count": null,
   "metadata": {},
   "outputs": [],
   "source": [
    "class MyManyElementFir(consts: Seq[Int], bitWidth: Int) extends Module {\n",
    "  val io = IO(new Bundle {\n",
    "    val in = Input(UInt(bitWidth.W))\n",
    "    val out = Output(UInt(bitWidth.W))\n",
    "  })\n",
    "\n",
    "  // Reference solution\n",
    "  val regs = mutable.ArrayBuffer[UInt]()\n",
    "  for(i <- 0 until consts.length) {\n",
    "      if(i == 0) regs += io.in\n",
    "      else       regs += RegNext(regs(i - 1), 0.U)\n",
    "  }\n",
    "  \n",
    "  val muls = mutable.ArrayBuffer[UInt]()\n",
    "  for(i <- 0 until consts.length) {\n",
    "      muls += regs(i) * consts(i).U\n",
    "  }\n",
    "\n",
    "  val scan = mutable.ArrayBuffer[UInt]()\n",
    "  for(i <- 0 until consts.length) {\n",
    "      if(i == 0) scan += muls(i)\n",
    "      else scan += muls(i) + scan(i - 1)\n",
    "  }\n",
    "\n",
    "  io.out := scan(consts.length - 1)\n",
    "}"
   ]
  },
  {
   "cell_type": "markdown",
   "metadata": {},
   "source": [
    "### Does it work the same as *My4ElementFir*\n",
    "A good first test of our new version is to see if it can pass the test we just applied to the\n",
    "*My4ElementFir*.  We create an instance of *MyManyElementFir* and run even more data through it."
   ]
  },
  {
   "cell_type": "code",
   "execution_count": null,
   "metadata": {},
   "outputs": [],
   "source": [
    "val goldenModel = new ScalaFirFilter(Seq(1, 1, 1, 1))\n",
    "\n",
    "Driver(() => new MyManyElementFir(Seq(1, 1, 1, 1), 8)) {\n",
    "    c => new PeekPokeTester(c) {\n",
    "        for(i <- 0 until 100) {\n",
    "            val input = scala.util.Random.nextInt(8)\n",
    "          \n",
    "            val goldenModelResult = goldenModel.poke(input)\n",
    "\n",
    "            poke(c.io.in, input)\n",
    "          \n",
    "            expect(c.io.out, goldenModelResult, s\"i $i, input $input, gm $goldenModelResult, ${peek(c.io.out)}\")\n",
    "\n",
    "            step(1)\n",
    "        }\n",
    "    }\n",
    "}"
   ]
  },
  {
   "cell_type": "code",
   "execution_count": null,
   "metadata": {},
   "outputs": [],
   "source": [
    "/** a convenience method to get a random integer\n",
    "  */\n",
    "def r(): Int = {\n",
    "    scala.util.Random.nextInt(1024)\n",
    "}\n",
    "\n",
    "/**\n",
    "  * run a test comparing software and hardware filters\n",
    "  * run for at least twice as many samples as taps\n",
    "  */\n",
    "def runOneTest(taps: Seq[Int]) {\n",
    "    val goldenModel = new ScalaFirFilter(taps)\n",
    "\n",
    "    Driver(() => new MyManyElementFir(taps, 32)) {\n",
    "        c => new PeekPokeTester(c) {\n",
    "            for(i <- 0 until 2 * taps.length) {\n",
    "                val input = r()\n",
    "\n",
    "                val goldenModelResult = goldenModel.poke(input)\n",
    "\n",
    "                poke(c.io.in, input)\n",
    "\n",
    "                expect(c.io.out, goldenModelResult, s\"i $i, input $input, gm $goldenModelResult, ${peek(c.io.out)}\")\n",
    "\n",
    "                step(1)\n",
    "            }\n",
    "        }\n",
    "    }\n",
    "}\n",
    "\n",
    "for(tapSize <- 2 until 100 by 10) {\n",
    "    val taps = Seq.fill(tapSize)(r())  // create a sequence of random coefficients\n",
    "    \n",
    "    runOneTest(taps)\n",
    "}"
   ]
  },
  {
   "cell_type": "markdown",
   "metadata": {},
   "source": [
    "### Just for fun let's make a bigger one\n"
   ]
  },
  {
   "cell_type": "code",
   "execution_count": null,
   "metadata": {},
   "outputs": [],
   "source": [
    "runOneTest(Seq.fill(1000)(r()))"
   ]
  },
  {
   "cell_type": "code",
   "execution_count": null,
   "metadata": {
    "collapsed": true
   },
   "outputs": [],
   "source": [
    "val taps = Seq.fill(i)(r())\n",
    "\n",
    "val goldenModel = new ScalaFirFilter(taps)\n",
    "\n",
    "Driver(() => new MyManyElementFir(taps, 32)) {\n",
    "    c => new PeekPokeTester(c) {\n",
    "        for(i <- 0 until 100) {\n",
    "            val input = r()\n",
    "\n",
    "            val goldenModelResult = goldenModel.poke(input)\n",
    "\n",
    "            poke(c.io.in, input)\n",
    "\n",
    "            expect(c.io.out, goldenModelResult, s\"i $i, input $input, gm $goldenModelResult, ${peek(c.io.out)}\")\n",
    "\n",
    "            step(1)\n",
    "        }\n",
    "    }\n",
    "}"
   ]
  },
  {
   "cell_type": "code",
   "execution_count": null,
   "metadata": {},
   "outputs": [],
   "source": [
    "class MyManyDynamicElementFir(length: Int) extends Module {\n",
    "  val io = IO(new Bundle {\n",
    "    val in = Input(UInt(8.W))\n",
    "    val out = Output(UInt(8.W))\n",
    "    val consts = Input(Vec(length, UInt(8.W)))\n",
    "  })\n",
    "\n",
    "  // Reference solution\n",
    "  val regs = mutable.ArrayBuffer[UInt]()\n",
    "  for(i <- 0 until length) {\n",
    "      if(i == 0) regs += io.in\n",
    "      else       regs += RegNext(regs(i - 1), 0.U)\n",
    "  }\n",
    "  \n",
    "  val muls = mutable.ArrayBuffer[UInt]()\n",
    "  for(i <- 0 until length) {\n",
    "      muls += regs(i) * io.consts(i)\n",
    "  }\n",
    "\n",
    "  val scan = mutable.ArrayBuffer[UInt]()\n",
    "  for(i <- 0 until length) {\n",
    "      if(i == 0) scan += muls(i)\n",
    "      else scan += muls(i) + scan(i - 1)\n",
    "  }\n",
    "\n",
    "  io.out := scan(length - 1)\n",
    "}"
   ]
  },
  {
   "cell_type": "code",
   "execution_count": null,
   "metadata": {},
   "outputs": [],
   "source": [
    "class MyManyDynamicElementVecFir(length: Int) extends Module {\n",
    "  val io = IO(new Bundle {\n",
    "    val in = Input(UInt(8.W))\n",
    "    val out = Output(UInt(8.W))\n",
    "    val consts = Input(Vec(length, UInt(8.W)))\n",
    "  })\n",
    "\n",
    "  // Reference solution\n",
    "  val regs = RegInit(Vec.fill(length - 1)(0.U(8.W)))\n",
    "  for(i <- 0 until length - 1) {\n",
    "      if(i == 0) regs(i) := io.in\n",
    "      else       regs(i) := regs(i - 1)\n",
    "  }\n",
    "  \n",
    "  val muls = Wire(Vec(length, UInt(8.W)))\n",
    "  for(i <- 0 until length) {\n",
    "      if(i == 0) muls(i) := io.in * io.consts(i)\n",
    "      else       muls(i) := regs(i - 1) * io.consts(i)\n",
    "  }\n",
    "\n",
    "  val scan = Wire(Vec(length, UInt(8.W)))\n",
    "  for(i <- 0 until length) {\n",
    "      if(i == 0) scan(i) := muls(i)\n",
    "      else scan(i) := muls(i) + scan(i - 1)\n",
    "  }\n",
    "\n",
    "  io.out := scan(length - 1)\n",
    "}"
   ]
  },
  {
   "cell_type": "code",
   "execution_count": null,
   "metadata": {},
   "outputs": [],
   "source": [
    "val goldenModel = new ScalaFirFilter(Seq(1, 1, 1, 1))\n",
    "\n",
    "Driver(() => new MyManyDynamicElementVecFir(4)) {\n",
    "    c => new PeekPokeTester(c) {\n",
    "        poke(c.io.consts(0), 1)\n",
    "        poke(c.io.consts(1), 1)\n",
    "        poke(c.io.consts(2), 1)\n",
    "        poke(c.io.consts(3), 1)\n",
    "        for(i <- 0 until 100) {\n",
    "            val input = scala.util.Random.nextInt(8)\n",
    "          \n",
    "            val goldenModelResult = goldenModel.poke(input)\n",
    "\n",
    "            poke(c.io.in, input)\n",
    "          \n",
    "            expect(c.io.out, goldenModelResult, s\"i $i, input $input, gm $goldenModelResult, ${peek(c.io.out)}\")\n",
    "\n",
    "            step(1)\n",
    "        }\n",
    "    }\n",
    "}"
   ]
  },
  {
   "cell_type": "code",
   "execution_count": null,
   "metadata": {
    "collapsed": true
   },
   "outputs": [],
   "source": []
  }
 ],
 "metadata": {
  "kernelspec": {
   "display_name": "Scala",
   "language": "scala",
   "name": "scala"
  },
  "language_info": {
   "codemirror_mode": "text/x-scala",
   "file_extension": ".scala",
   "mimetype": "text/x-scala",
   "name": "scala211",
   "nbconvert_exporter": "script",
   "pygments_lexer": "scala",
   "version": "2.11.11"
  }
 },
 "nbformat": 4,
 "nbformat_minor": 2
}
