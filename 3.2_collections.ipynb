{
 "cells": [
  {
   "cell_type": "markdown",
   "metadata": {},
   "source": [
    "![Chisel](https://chisel.eecs.berkeley.edu/assets/img/chisel_64.png)"
   ]
  },
  {
   "cell_type": "markdown",
   "metadata": {},
   "source": [
    "# Module 3.2: Generators: Collections"
   ]
  },
  {
   "cell_type": "markdown",
   "metadata": {},
   "source": [
    "#### Written by Chick Markley, Stevo Bailey, Edward Wang, and Richard Lin\n",
    "[chick@berkeley.edu](mailto:chick@berkeley.edu),\n",
    "[stevo@berkeley.edu](mailto:stevo@berkeley.edu),\n",
    "[edwardw@berkeley.edu](mailto:edwardw@berkeley.edu), [richard.lin@berkeley.edu](mailto:edwardw@berkeley.edu)"
   ]
  },
  {
   "cell_type": "markdown",
   "metadata": {},
   "source": [
    "## Table of Contents\n",
    "\n",
    "1. [Generators and Collections](#generators-and-collections)\n",
    "1. [when/elsewhen/other](#fir-golden-model)\n",
    "1. [Wire vs val and var](#wire)\n",
    "1. [Exercise](#exercise)\n",
    "1. [Optional Exercise ](#optional-exercise)\n"
   ]
  },
  {
   "cell_type": "markdown",
   "metadata": {},
   "source": [
    "## Set Up"
   ]
  },
  {
   "cell_type": "code",
   "execution_count": 8,
   "metadata": {
    "collapsed": true
   },
   "outputs": [
    {
     "name": "stdout",
     "output_type": "stream",
     "text": [
      "Downloading https://repo1.maven.org/maven2/org/scalanlp/breeze_2.11/0.13.2/breeze_2.11-0.13.2.pom.sha1\n",
      "Downloading https://repo1.maven.org/maven2/org/scalanlp/breeze_2.11/0.13.2/breeze_2.11-0.13.2.pom\n",
      "Downloaded https://repo1.maven.org/maven2/org/scalanlp/breeze_2.11/0.13.2/breeze_2.11-0.13.2.pom\n",
      "Downloaded https://repo1.maven.org/maven2/org/scalanlp/breeze_2.11/0.13.2/breeze_2.11-0.13.2.pom.sha1\n",
      "Downloading https://repo1.maven.org/maven2/org/scalanlp/breeze_2.11/0.13.2/\n",
      "Downloaded https://repo1.maven.org/maven2/org/scalanlp/breeze_2.11/0.13.2/\n",
      "Downloading https://repo1.maven.org/maven2/org/spire-math/spire_2.11/0.13.0/spire_2.11-0.13.0.pom\n",
      "Downloading https://repo1.maven.org/maven2/org/scalanlp/breeze-macros_2.11/0.13.2/breeze-macros_2.11-0.13.2.pom.sha1\n",
      "Downloading https://repo1.maven.org/maven2/org/scalanlp/breeze-macros_2.11/0.13.2/breeze-macros_2.11-0.13.2.pom\n",
      "Downloading https://repo1.maven.org/maven2/net/sf/opencsv/opencsv/2.3/opencsv-2.3.pom.sha1\n",
      "Downloading https://repo1.maven.org/maven2/net/sf/opencsv/opencsv/2.3/opencsv-2.3.pom\n",
      "Downloading https://repo1.maven.org/maven2/org/spire-math/spire_2.11/0.13.0/spire_2.11-0.13.0.pom.sha1\n",
      "Downloaded https://repo1.maven.org/maven2/org/spire-math/spire_2.11/0.13.0/spire_2.11-0.13.0.pom\n",
      "Downloaded https://repo1.maven.org/maven2/org/scalanlp/breeze-macros_2.11/0.13.2/breeze-macros_2.11-0.13.2.pom\n",
      "Downloading https://repo1.maven.org/maven2/org/apache/commons/commons-math3/3.2/commons-math3-3.2.pom\n",
      "Downloading https://repo1.maven.org/maven2/org/apache/commons/commons-math3/3.2/commons-math3-3.2.pom.sha1\n",
      "Downloaded https://repo1.maven.org/maven2/org/scalanlp/breeze-macros_2.11/0.13.2/breeze-macros_2.11-0.13.2.pom.sha1\n",
      "Downloaded https://repo1.maven.org/maven2/net/sf/opencsv/opencsv/2.3/opencsv-2.3.pom.sha1\n",
      "Downloading https://repo1.maven.org/maven2/com/github/rwl/jtransforms/2.4.0/jtransforms-2.4.0.pom\n",
      "Downloading https://repo1.maven.org/maven2/com/github/rwl/jtransforms/2.4.0/jtransforms-2.4.0.pom.sha1\n",
      "Downloaded https://repo1.maven.org/maven2/org/apache/commons/commons-math3/3.2/commons-math3-3.2.pom\n",
      "Downloaded https://repo1.maven.org/maven2/org/apache/commons/commons-math3/3.2/commons-math3-3.2.pom.sha1\n",
      "Downloading https://repo1.maven.org/maven2/com/github/fommil/netlib/core/1.1.2/core-1.1.2.pom\n",
      "Downloading https://repo1.maven.org/maven2/com/github/fommil/netlib/core/1.1.2/core-1.1.2.pom.sha1\n",
      "Downloaded https://repo1.maven.org/maven2/com/github/rwl/jtransforms/2.4.0/jtransforms-2.4.0.pom\n",
      "Downloading https://repo1.maven.org/maven2/net/sourceforge/f2j/arpack_combined_all/0.1/arpack_combined_all-0.1.pom\n",
      "Downloaded https://repo1.maven.org/maven2/net/sf/opencsv/opencsv/2.3/opencsv-2.3.pom\n",
      "Downloaded https://repo1.maven.org/maven2/net/sourceforge/f2j/arpack_combined_all/0.1/arpack_combined_all-0.1.pom\n",
      "Downloading https://repo1.maven.org/maven2/net/sourceforge/f2j/arpack_combined_all/0.1/arpack_combined_all-0.1.pom.sha1\n",
      "Downloaded https://repo1.maven.org/maven2/org/spire-math/spire_2.11/0.13.0/spire_2.11-0.13.0.pom.sha1\n",
      "Downloaded https://repo1.maven.org/maven2/com/github/fommil/netlib/core/1.1.2/core-1.1.2.pom\n",
      "Downloaded https://repo1.maven.org/maven2/com/github/fommil/netlib/core/1.1.2/core-1.1.2.pom.sha1\n",
      "Downloaded https://repo1.maven.org/maven2/com/github/rwl/jtransforms/2.4.0/jtransforms-2.4.0.pom.sha1\n",
      "Downloading https://repo1.maven.org/maven2/org/scalanlp/breeze-macros_2.11/0.13.2/\n",
      "Downloading https://repo1.maven.org/maven2/org/apache/commons/commons-math3/3.2/\n",
      "Downloading https://repo1.maven.org/maven2/net/sf/opencsv/opencsv/2.3/\n",
      "Downloading https://repo1.maven.org/maven2/com/github/rwl/jtransforms/2.4.0/\n",
      "Downloading https://repo1.maven.org/maven2/org/spire-math/spire_2.11/0.13.0/\n",
      "Downloaded https://repo1.maven.org/maven2/net/sourceforge/f2j/arpack_combined_all/0.1/arpack_combined_all-0.1.pom.sha1\n",
      "Downloaded https://repo1.maven.org/maven2/org/spire-math/spire_2.11/0.13.0/\n",
      "Downloaded https://repo1.maven.org/maven2/com/github/rwl/jtransforms/2.4.0/\n",
      "Downloaded https://repo1.maven.org/maven2/org/scalanlp/breeze-macros_2.11/0.13.2/\n",
      "Downloaded https://repo1.maven.org/maven2/net/sf/opencsv/opencsv/2.3/\n",
      "Downloaded https://repo1.maven.org/maven2/org/apache/commons/commons-math3/3.2/\n",
      "Downloading https://repo1.maven.org/maven2/com/github/fommil/netlib/core/1.1.2/\n",
      "Downloading https://repo1.maven.org/maven2/net/sourceforge/f2j/arpack_combined_all/0.1/\n",
      "Downloaded https://repo1.maven.org/maven2/com/github/fommil/netlib/core/1.1.2/\n",
      "Downloaded https://repo1.maven.org/maven2/net/sourceforge/f2j/arpack_combined_all/0.1/\n",
      "Downloading https://repo1.maven.org/maven2/com/github/fommil/netlib/parent/1.1/parent-1.1.pom\n",
      "Downloading https://repo1.maven.org/maven2/org/apache/commons/commons-parent/28/commons-parent-28.pom.sha1\n",
      "Downloading https://repo1.maven.org/maven2/org/apache/commons/commons-parent/28/commons-parent-28.pom\n",
      "Downloading https://repo1.maven.org/maven2/com/github/fommil/netlib/parent/1.1/parent-1.1.pom.sha1\n",
      "Downloaded https://repo1.maven.org/maven2/org/apache/commons/commons-parent/28/commons-parent-28.pom\n",
      "Downloaded https://repo1.maven.org/maven2/com/github/fommil/netlib/parent/1.1/parent-1.1.pom\n",
      "Downloaded https://repo1.maven.org/maven2/org/apache/commons/commons-parent/28/commons-parent-28.pom.sha1\n",
      "Downloading https://repo1.maven.org/maven2/org/apache/commons/commons-parent/28/\n",
      "Downloaded https://repo1.maven.org/maven2/com/github/fommil/netlib/parent/1.1/parent-1.1.pom.sha1\n",
      "Downloading https://repo1.maven.org/maven2/com/github/fommil/netlib/parent/1.1/\n",
      "Downloaded https://repo1.maven.org/maven2/org/apache/commons/commons-parent/28/\n",
      "Downloaded https://repo1.maven.org/maven2/com/github/fommil/netlib/parent/1.1/\n",
      "Downloading https://repo1.maven.org/maven2/junit/junit/4.8.2/junit-4.8.2.pom\n",
      "Downloading https://repo1.maven.org/maven2/org/spire-math/spire-macros_2.11/0.13.0/spire-macros_2.11-0.13.0.pom.sha1\n",
      "Downloading https://repo1.maven.org/maven2/org/spire-math/spire-macros_2.11/0.13.0/spire-macros_2.11-0.13.0.pom\n",
      "Downloading https://repo1.maven.org/maven2/junit/junit/4.8.2/junit-4.8.2.pom.sha1\n",
      "Downloaded https://repo1.maven.org/maven2/org/spire-math/spire-macros_2.11/0.13.0/spire-macros_2.11-0.13.0.pom.sha1\n",
      "Downloaded https://repo1.maven.org/maven2/junit/junit/4.8.2/junit-4.8.2.pom\n",
      "Downloaded https://repo1.maven.org/maven2/junit/junit/4.8.2/junit-4.8.2.pom.sha1\n",
      "Downloading https://repo1.maven.org/maven2/junit/junit/4.8.2/\n",
      "Downloaded https://repo1.maven.org/maven2/org/spire-math/spire-macros_2.11/0.13.0/spire-macros_2.11-0.13.0.pom\n",
      "Downloading https://repo1.maven.org/maven2/org/spire-math/spire-macros_2.11/0.13.0/\n",
      "Downloaded https://repo1.maven.org/maven2/junit/junit/4.8.2/\n",
      "Downloaded https://repo1.maven.org/maven2/org/spire-math/spire-macros_2.11/0.13.0/\n",
      "Downloading https://repo1.maven.org/maven2/net/sf/opencsv/opencsv/2.3/opencsv-2.3.jar\n",
      "Downloading https://repo1.maven.org/maven2/net/sf/opencsv/opencsv/2.3/opencsv-2.3.jar.sha1\n",
      "Downloading https://repo1.maven.org/maven2/org/apache/commons/commons-math3/3.2/commons-math3-3.2.jar\n",
      "Downloaded https://repo1.maven.org/maven2/net/sf/opencsv/opencsv/2.3/opencsv-2.3.jar.sha1\n",
      "Downloading https://repo1.maven.org/maven2/org/apache/commons/commons-math3/3.2/commons-math3-3.2.jar.sha1\n",
      "Downloading https://repo1.maven.org/maven2/org/scalanlp/breeze_2.11/0.13.2/breeze_2.11-0.13.2.jar\n",
      "Downloaded https://repo1.maven.org/maven2/net/sf/opencsv/opencsv/2.3/opencsv-2.3.jar\n",
      "Downloading https://repo1.maven.org/maven2/org/scalanlp/breeze_2.11/0.13.2/breeze_2.11-0.13.2.jar.sha1\n",
      "Downloading https://repo1.maven.org/maven2/junit/junit/4.8.2/junit-4.8.2.jar\n",
      "Downloaded https://repo1.maven.org/maven2/org/apache/commons/commons-math3/3.2/commons-math3-3.2.jar.sha1\n",
      "Downloading https://repo1.maven.org/maven2/junit/junit/4.8.2/junit-4.8.2.jar.sha1\n",
      "Downloading https://repo1.maven.org/maven2/com/github/rwl/jtransforms/2.4.0/jtransforms-2.4.0.jar\n",
      "Downloaded https://repo1.maven.org/maven2/junit/junit/4.8.2/junit-4.8.2.jar.sha1\n",
      "Downloaded https://repo1.maven.org/maven2/org/scalanlp/breeze_2.11/0.13.2/breeze_2.11-0.13.2.jar.sha1\n",
      "Downloading https://repo1.maven.org/maven2/com/github/rwl/jtransforms/2.4.0/jtransforms-2.4.0.jar.sha1\n",
      "Downloading https://repo1.maven.org/maven2/org/scalanlp/breeze-macros_2.11/0.13.2/breeze-macros_2.11-0.13.2.jar\n",
      "Downloaded https://repo1.maven.org/maven2/com/github/rwl/jtransforms/2.4.0/jtransforms-2.4.0.jar.sha1\n",
      "Downloading https://repo1.maven.org/maven2/org/scalanlp/breeze-macros_2.11/0.13.2/breeze-macros_2.11-0.13.2.jar.sha1\n",
      "Downloaded https://repo1.maven.org/maven2/junit/junit/4.8.2/junit-4.8.2.jar\n"
     ]
    },
    {
     "name": "stdout",
     "output_type": "stream",
     "text": [
      "Downloaded https://repo1.maven.org/maven2/org/scalanlp/breeze-macros_2.11/0.13.2/breeze-macros_2.11-0.13.2.jar.sha1\n",
      "Downloading https://repo1.maven.org/maven2/com/github/fommil/netlib/core/1.1.2/core-1.1.2.jar\n",
      "Downloading https://repo1.maven.org/maven2/com/github/fommil/netlib/core/1.1.2/core-1.1.2.jar.sha1\n",
      "Downloaded https://repo1.maven.org/maven2/com/github/fommil/netlib/core/1.1.2/core-1.1.2.jar.sha1\n",
      "Downloading https://repo1.maven.org/maven2/net/sourceforge/f2j/arpack_combined_all/0.1/arpack_combined_all-0.1.jar\n",
      "Downloaded https://repo1.maven.org/maven2/com/github/fommil/netlib/core/1.1.2/core-1.1.2.jar\n",
      "Downloading https://repo1.maven.org/maven2/net/sourceforge/f2j/arpack_combined_all/0.1/arpack_combined_all-0.1.jar.sha1\n",
      "Downloaded https://repo1.maven.org/maven2/net/sourceforge/f2j/arpack_combined_all/0.1/arpack_combined_all-0.1.jar.sha1\n",
      "Downloading https://repo1.maven.org/maven2/org/spire-math/spire-macros_2.11/0.13.0/spire-macros_2.11-0.13.0.jar\n",
      "Downloaded https://repo1.maven.org/maven2/org/scalanlp/breeze-macros_2.11/0.13.2/breeze-macros_2.11-0.13.2.jar\n",
      "Downloading https://repo1.maven.org/maven2/org/spire-math/spire-macros_2.11/0.13.0/spire-macros_2.11-0.13.0.jar.sha1\n",
      "Downloaded https://repo1.maven.org/maven2/org/spire-math/spire-macros_2.11/0.13.0/spire-macros_2.11-0.13.0.jar.sha1\n",
      "Downloading https://repo1.maven.org/maven2/org/spire-math/spire_2.11/0.13.0/spire_2.11-0.13.0.jar\n",
      "Downloaded https://repo1.maven.org/maven2/org/spire-math/spire-macros_2.11/0.13.0/spire-macros_2.11-0.13.0.jar\n",
      "Downloading https://repo1.maven.org/maven2/org/spire-math/spire_2.11/0.13.0/spire_2.11-0.13.0.jar.sha1\n",
      "Downloaded https://repo1.maven.org/maven2/org/spire-math/spire_2.11/0.13.0/spire_2.11-0.13.0.jar.sha1\n",
      "Downloaded https://repo1.maven.org/maven2/com/github/rwl/jtransforms/2.4.0/jtransforms-2.4.0.jar\n",
      "Downloaded https://repo1.maven.org/maven2/org/apache/commons/commons-math3/3.2/commons-math3-3.2.jar\n",
      "Downloaded https://repo1.maven.org/maven2/net/sourceforge/f2j/arpack_combined_all/0.1/arpack_combined_all-0.1.jar\n",
      "https://repo1.maven.org/maven2/org/spire-math/spire_2.11/0.13.… (54.39 %, 55050…\n",
      "https://repo1.maven.org/maven2/org/scalanlp/breeze_2.11/0.13.2… (40.11 %, 60620…\n",
      "\n",
      "https://repo1.maven.org/maven2/org/spire-math/spire_2.11/0.13.… (66.85 %, 67665…\n",
      "https://repo1.maven.org/maven2/org/scalanlp/breeze_2.11/0.13.2… (48.89 %, 73891…\n",
      "\n",
      "https://repo1.maven.org/maven2/org/spire-math/spire_2.11/0.13.… (82.39 %, 83394…\n",
      "https://repo1.maven.org/maven2/org/scalanlp/breeze_2.11/0.13.2… (58.54 %, 88473…\n",
      "\n",
      "Downloaded https://repo1.maven.org/maven2/org/spire-math/spire_2.11/0.13.0/spire_2.11-0.13.0.jar\n",
      "https://repo1.maven.org/maven2/org/scalanlp/breeze_2.11/0.13.2… (73.17 %, 11059…\n",
      "\n",
      "https://repo1.maven.org/maven2/org/scalanlp/breeze_2.11/0.13.2… (91.53 %, 13832…\n",
      "\n",
      "Downloaded https://repo1.maven.org/maven2/org/scalanlp/breeze_2.11/0.13.2/breeze_2.11-0.13.2.jar\n"
     ]
    },
    {
     "data": {
      "text/plain": [
       "\u001b[32mimport \u001b[39m\u001b[36m$ivy.$                                                 \n",
       "\u001b[39m\n",
       "\u001b[32mimport \u001b[39m\u001b[36m$ivy.$                                                          \n",
       "\u001b[39m\n",
       "\u001b[32mimport \u001b[39m\u001b[36m$ivy.$                                                \n",
       "\u001b[39m\n",
       "\u001b[32mimport \u001b[39m\u001b[36m$ivy.$                            \n",
       "\u001b[39m\n",
       "\u001b[32mimport \u001b[39m\u001b[36mchisel3._\n",
       "\u001b[39m\n",
       "\u001b[32mimport \u001b[39m\u001b[36mchisel3.util._\n",
       "\u001b[39m\n",
       "\u001b[32mimport \u001b[39m\u001b[36mchisel3.iotesters.{ChiselFlatSpec, Driver, PeekPokeTester}\n",
       "\u001b[39m\n",
       "\u001b[32mimport \u001b[39m\u001b[36mscala.collection.mutable\n",
       "\u001b[39m\n",
       "defined \u001b[32mfunction\u001b[39m \u001b[36mgetVerilog\u001b[39m"
      ]
     },
     "execution_count": 8,
     "metadata": {},
     "output_type": "execute_result"
    }
   ],
   "source": [
    "// Run this boilerplate for the necessary imports\n",
    "\n",
    "import $ivy.`edu.berkeley.cs::chisel3:3.0-SNAPSHOT_2017-07-19`\n",
    "import $ivy.`edu.berkeley.cs::chisel-iotesters:1.1-SNAPSHOT_2017-07-19`\n",
    "import $ivy.`edu.berkeley.cs::firrtl:1.0-SNAPSHOT_2017-07-19`\n",
    "import $ivy.`org.scalanlp::breeze:0.13.2`\n",
    "import chisel3._\n",
    "import chisel3.util._\n",
    "import chisel3.iotesters.{ChiselFlatSpec, Driver, PeekPokeTester}\n",
    "import scala.collection.mutable\n",
    "def getVerilog[T <: Module](gen: => T): String = {\n",
    "  chisel3.Driver.execute(Array[String](), {() => gen}) match {\n",
    "    case ChiselExecutionSuccess(_, _, Some(firrtl.FirrtlExecutionSuccess(_, verilog))) => verilog\n",
    "  }\n",
    "}"
   ]
  },
  {
   "cell_type": "markdown",
   "metadata": {},
   "source": [
    "## Generators and Collections<a name=\"generators-and-collections\"></a> \n",
    "In this section we will focus on the concept of *generators* and the use of scala collections as a tool to implement them. Instead of looking at\n",
    "Chisel code as an *instance* of circuit, i.e. a description of a particulara circuit, \n",
    "we will instead consider it to be a generator of a circuit.\n",
    "\n",
    "We will start by considering the FIR filter from previous exercises.  "
   ]
  },
  {
   "cell_type": "code",
   "execution_count": 17,
   "metadata": {},
   "outputs": [
    {
     "data": {
      "text/plain": [
       "defined \u001b[32mclass\u001b[39m \u001b[36mMy4ElementFir\u001b[39m"
      ]
     },
     "execution_count": 17,
     "metadata": {},
     "output_type": "execute_result"
    }
   ],
   "source": [
    "class My4ElementFir(b0: Int, b1: Int, b2: Int, b3: Int) extends Module {\n",
    "  val io = IO(new Bundle {\n",
    "    val in = Input(UInt(8.W))\n",
    "    val out = Output(UInt(8.W))\n",
    "  })\n",
    "\n",
    "  val x_n1 = RegNext(io.in, 0.U)\n",
    "  val x_n2 = RegNext(x_n1, 0.U)\n",
    "  val x_n3 = RegNext(x_n2, 0.U)\n",
    "  io.out := io.in * b0.U(8.W) + x_n1 * b1.U(8.W) +\n",
    "    x_n2 * b2.U(8.W) + x_n3 * b3.U(8.W)\n",
    "}\n"
   ]
  },
  {
   "cell_type": "markdown",
   "metadata": {},
   "source": [
    "This circuit is a simple case of a generator because it can generate versions of this 4-tap filter with\n",
    "different coefficients.  But what if we want the circuit to have more taps.  We are going to do this in several steps.\n",
    "\n",
    "- Build a software *Golden Model* of a tap configurable FIR.\n",
    "- Redesign our test to use this model, and confirm that it works.\n",
    "- Refactor our My4ElementFir to allow an configurable number of taps.\n",
    "- Test the new circuit using our new test harness\n",
    "\n"
   ]
  },
  {
   "cell_type": "markdown",
   "metadata": {},
   "source": [
    "## An FIR Golden Model<a name=\"fir-golden-model\"></a> \n",
    "Below is a Scala software implementation of a FIR circuit.  "
   ]
  },
  {
   "cell_type": "code",
   "execution_count": 24,
   "metadata": {},
   "outputs": [
    {
     "data": {
      "text/plain": [
       "defined \u001b[32mclass\u001b[39m \u001b[36mScalaFirFilter\u001b[39m"
      ]
     },
     "execution_count": 24,
     "metadata": {},
     "output_type": "execute_result"
    }
   ],
   "source": [
    "/**\n",
    "  * A naive implementation of an FIR filter with an arbitrary number of taps.\n",
    "  */\n",
    "class ScalaFirFilter(taps: Seq[Int]) {\n",
    "  var pseudoRegisters = List.fill(taps.length)(0)\n",
    "\n",
    "  def poke(value: Int): Int = {\n",
    "    pseudoRegisters = value :: pseudoRegisters.take(taps.length - 1)\n",
    "    var accumulator = 0\n",
    "    for(i <- taps.indices) {\n",
    "      accumulator += taps(i) * pseudoRegisters(i)\n",
    "    }\n",
    "    accumulator\n",
    "  }\n",
    "}"
   ]
  },
  {
   "cell_type": "markdown",
   "metadata": {},
   "source": [
    "### Seq\n",
    "Note that **taps** has become a **Seq[Int]** which means that the user of the class can pass a *Seq* or sequence of arbitrary length when constructing the class.\n",
    "### Registers\n",
    "With ```  var pseudoRegisters = List.fill(taps.length)(0)``` we create a **List** that will hold the values from previous cycles.  **List** was chosen because it syntax of adding an element to the head and remove the last element is very simple. Just about any member of the scala collections family could be used.  We are also initializing this list to contain all zeros.\n",
    "### Poke\n",
    "Our class adds a poke function/method that emulates putting a new input into the filter and cycling the clock.\n",
    "### Updating the registers\n",
    "The line ```pseudoRegisters = value :: pseudoRegisters.take(taps.length - 1)``` first uses the *take* method of list to keep the all but the last element of the list, then uses the *::* list concatentation operator to add *value* to the head of the reduced version of the list.\n",
    "### Computing the output\n",
    "A simple for loop with an accumulator that sums the multiplication of each element of the list times the corresponding tap coefficient. The line with just *accumulator* returns that value as the function result."
   ]
  },
  {
   "cell_type": "markdown",
   "metadata": {},
   "source": [
    "## Adapting our previous test for testing our golden model\n",
    "We will now use our previous work to confirm that our golden model works.  A bit of \n",
    "editing magic takes our previous tests harness and morphs it into"
   ]
  },
  {
   "cell_type": "code",
   "execution_count": 29,
   "metadata": {},
   "outputs": [
    {
     "name": "stdout",
     "output_type": "stream",
     "text": [
      "out = 1\n",
      "out = 5\n",
      "out = 8\n",
      "out = 10\n",
      "out = 16\n",
      "out = 12\n"
     ]
    },
    {
     "data": {
      "text/plain": [
       "\u001b[36mfilter\u001b[39m: \u001b[32mScalaFirFilter\u001b[39m = $sess.cmd23Wrapper$Helper$ScalaFirFilter@10dabe17\n",
       "\u001b[36mout\u001b[39m: \u001b[32mInt\u001b[39m = \u001b[32m12\u001b[39m"
      ]
     },
     "execution_count": 29,
     "metadata": {},
     "output_type": "execute_result"
    }
   ],
   "source": [
    "val filter = new ScalaFirFilter(Seq(1, 1, 1, 1))\n",
    "\n",
    "var out = 0\n",
    "\n",
    "out = filter.poke(1)\n",
    "println(s\"out = $out\")\n",
    "assert(out == 1)  // 1, 0, 0, 0\n",
    "\n",
    "out = filter.poke(4)\n",
    "assert(out == 5)  // 4, 1, 0, 0\n",
    "println(s\"out = $out\")\n",
    "\n",
    "out = filter.poke(3)\n",
    "assert(out == 8)  // 3, 4, 1, 0\n",
    "println(s\"out = $out\")\n",
    "\n",
    "out = filter.poke(2)\n",
    "assert(out == 10)  // 2, 3, 4, 1\n",
    "println(s\"out = $out\")\n",
    "\n",
    "out = filter.poke(7)\n",
    "assert(out == 16)  // 7, 2, 3, 4\n",
    "println(s\"out = $out\")\n",
    "\n",
    "out = filter.poke(0)\n",
    "assert(out == 12)  // 0, 7, 2, 3\n",
    "println(s\"out = $out\")"
   ]
  },
  {
   "cell_type": "markdown",
   "metadata": {},
   "source": [
    "Executing the previous block demonstrates that our software model returns the same results as My4ElementFir did.\n",
    "\n",
    "## Rebuilding our test to use our golden model."
   ]
  },
  {
   "cell_type": "code",
   "execution_count": 32,
   "metadata": {},
   "outputs": [
    {
     "name": "stdout",
     "output_type": "stream",
     "text": [
      "[\u001b[35minfo\u001b[0m] [0.000] Elaborating design...\n",
      "[\u001b[35minfo\u001b[0m] [0.003] Done elaborating.\n",
      "Total FIRRTL Compile Time: 10.8 ms\n",
      "Total FIRRTL Compile Time: 6.5 ms\n",
      "End of dependency graph\n",
      "Circuit state created\n",
      "[\u001b[35minfo\u001b[0m] [0.000] SEED 1512002068221\n",
      "test cmd16WrapperHelperMy4ElementFir Success: 100 tests passed in 105 cycles taking 0.021784 seconds\n",
      "[\u001b[35minfo\u001b[0m] [0.021] RAN 100 CYCLES PASSED\n"
     ]
    },
    {
     "data": {
      "text/plain": [
       "\u001b[36mgoldenModel\u001b[39m: \u001b[32mScalaFirFilter\u001b[39m = $sess.cmd23Wrapper$Helper$ScalaFirFilter@4bf38b73\n",
       "\u001b[36mres31_1\u001b[39m: \u001b[32mBoolean\u001b[39m = \u001b[32mtrue\u001b[39m"
      ]
     },
     "execution_count": 32,
     "metadata": {},
     "output_type": "execute_result"
    }
   ],
   "source": [
    "val goldenModel = new ScalaFirFilter(Seq(1, 1, 1, 1))\n",
    "\n",
    "Driver(() => new My4ElementFir(1, 1, 1, 1)) {\n",
    "    c => new PeekPokeTester(c) {\n",
    "        for(i <- 0 until 100) {\n",
    "            val input = scala.util.Random.nextInt(8)\n",
    "          \n",
    "            val goldenModelResult = goldenModel.poke(input)\n",
    "\n",
    "            poke(c.io.in, input)\n",
    "          \n",
    "            expect(c.io.out, goldenModelResult, s\"i $i, input $input, gm $goldenModelResult, ${peek(c.io.out)}\")\n",
    "\n",
    "            step(1)\n",
    "        }\n",
    "    }\n",
    "}"
   ]
  },
  {
   "cell_type": "code",
   "execution_count": 31,
   "metadata": {},
   "outputs": [
    {
     "data": {
      "text/plain": [
       "defined \u001b[32mclass\u001b[39m \u001b[36mMyManyElementFir\u001b[39m"
      ]
     },
     "execution_count": 31,
     "metadata": {},
     "output_type": "execute_result"
    }
   ],
   "source": [
    "class MyManyElementFir(consts: Seq[Int]) extends Module {\n",
    "  val io = IO(new Bundle {\n",
    "    val in = Input(UInt(8.W))\n",
    "    val out = Output(UInt(8.W))\n",
    "  })\n",
    "\n",
    "  // Reference solution\n",
    "  val regs = mutable.ArrayBuffer[UInt]()\n",
    "  for(i <- 0 until consts.length) {\n",
    "      if(i == 0) regs += io.in\n",
    "      else       regs += RegNext(regs(i - 1), 0.U)\n",
    "  }\n",
    "  \n",
    "  val muls = mutable.ArrayBuffer[UInt]()\n",
    "  for(i <- 0 until consts.length) {\n",
    "      muls += regs(i) * consts(i).U(8.W)\n",
    "  }\n",
    "\n",
    "  val scan = mutable.ArrayBuffer[UInt]()\n",
    "  for(i <- 0 until consts.length) {\n",
    "      if(i == 0) scan += muls(i)\n",
    "      else scan += muls(i) + scan(i - 1)\n",
    "  }\n",
    "\n",
    "  io.out := scan(consts.length - 1)\n",
    "}"
   ]
  },
  {
   "cell_type": "code",
   "execution_count": null,
   "metadata": {
    "collapsed": true
   },
   "outputs": [],
   "source": []
  },
  {
   "cell_type": "code",
   "execution_count": 3,
   "metadata": {},
   "outputs": [
    {
     "name": "stdout",
     "output_type": "stream",
     "text": [
      "[\u001b[35minfo\u001b[0m] [0.002] Elaborating design...\n",
      "[\u001b[35minfo\u001b[0m] [0.061] Done elaborating.\n",
      "Total FIRRTL Compile Time: 233.1 ms\n",
      "Total FIRRTL Compile Time: 17.2 ms\n",
      "End of dependency graph\n",
      "Circuit state created\n",
      "[\u001b[35minfo\u001b[0m] [0.002] SEED 1511979425739\n",
      "test cmd1WrapperHelperMyManyElementFir Success: 6 tests passed in 10 cycles taking 0.027723 seconds\n",
      "[\u001b[35minfo\u001b[0m] [0.015] RAN 5 CYCLES PASSED\n",
      "[\u001b[35minfo\u001b[0m] [0.000] Elaborating design...\n",
      "[\u001b[35minfo\u001b[0m] [0.002] Done elaborating.\n",
      ";buildInfoPackage: chisel3, version: 3.0-SNAPSHOT_2017-07-19, scalaVersion: 2.11.11, sbtVersion: 0.13.15, builtAtString: 2017-07-19 18:56:34.453, builtAtMillis: 1500490594453\n",
      "circuit cmd1WrapperHelperMyManyElementFir : \n",
      "  module cmd1WrapperHelperMyManyElementFir : \n",
      "    input clock : Clock\n",
      "    input reset : UInt<1>\n",
      "    output io : {flip in : UInt<8>, out : UInt<8>}\n",
      "    \n",
      "    clock is invalid\n",
      "    reset is invalid\n",
      "    io is invalid\n",
      "    reg regs_1 : UInt, clock with : (reset => (reset, UInt<1>(\"h00\"))) @[cmd1.sc 11:33]\n",
      "    regs_1 <= io.in @[cmd1.sc 11:33]\n",
      "    reg regs_2 : UInt, clock with : (reset => (reset, UInt<1>(\"h00\"))) @[cmd1.sc 11:33]\n",
      "    regs_2 <= regs_1 @[cmd1.sc 11:33]\n",
      "    reg regs_3 : UInt, clock with : (reset => (reset, UInt<1>(\"h00\"))) @[cmd1.sc 11:33]\n",
      "    regs_3 <= regs_2 @[cmd1.sc 11:33]\n",
      "    node muls_0 = mul(io.in, UInt<8>(\"h01\")) @[cmd1.sc 16:23]\n",
      "    node muls_1 = mul(regs_1, UInt<8>(\"h01\")) @[cmd1.sc 16:23]\n",
      "    node muls_2 = mul(regs_2, UInt<8>(\"h01\")) @[cmd1.sc 16:23]\n",
      "    node muls_3 = mul(regs_3, UInt<8>(\"h01\")) @[cmd1.sc 16:23]\n",
      "    node _T_14 = add(muls_1, muls_0) @[cmd1.sc 22:28]\n",
      "    node scan_1 = tail(_T_14, 1) @[cmd1.sc 22:28]\n",
      "    node _T_15 = add(muls_2, scan_1) @[cmd1.sc 22:28]\n",
      "    node scan_2 = tail(_T_15, 1) @[cmd1.sc 22:28]\n",
      "    node _T_16 = add(muls_3, scan_2) @[cmd1.sc 22:28]\n",
      "    node scan_3 = tail(_T_16, 1) @[cmd1.sc 22:28]\n",
      "    io.out <= scan_3 @[cmd1.sc 25:10]\n",
      "    \n",
      "\n"
     ]
    },
    {
     "data": {
      "text/plain": [
       "\u001b[36mres2_0\u001b[39m: \u001b[32mBoolean\u001b[39m = \u001b[32mtrue\u001b[39m"
      ]
     },
     "execution_count": 3,
     "metadata": {},
     "output_type": "execute_result"
    }
   ],
   "source": [
    "// Simple 4-point moving average\n",
    "Driver(() => new MyManyElementFir(Seq(1, 1, 1, 1))) {\n",
    "  c => new PeekPokeTester(c) {\n",
    "    poke(c.io.in, 1)\n",
    "    expect(c.io.out, 1)  // 1, 0, 0, 0\n",
    "    step(1)\n",
    "    poke(c.io.in, 4)\n",
    "    expect(c.io.out, 5)  // 4, 1, 0, 0\n",
    "    step(1)\n",
    "    poke(c.io.in, 3)\n",
    "    expect(c.io.out, 8)  // 3, 4, 1, 0\n",
    "    step(1)\n",
    "    poke(c.io.in, 2)\n",
    "    expect(c.io.out, 10)  // 2, 3, 4, 1\n",
    "    step(1)\n",
    "    poke(c.io.in, 7)\n",
    "    expect(c.io.out, 16)  // 7, 2, 3, 4\n",
    "    step(1)\n",
    "    poke(c.io.in, 0)\n",
    "    expect(c.io.out, 12)  // 0, 7, 2, 3\n",
    "  }\n",
    "}\n",
    "println(chisel3.Driver.emit(() => new MyManyElementFir(Seq(1, 1, 1, 1))))"
   ]
  },
  {
   "cell_type": "code",
   "execution_count": 4,
   "metadata": {},
   "outputs": [
    {
     "data": {
      "text/plain": [
       "defined \u001b[32mclass\u001b[39m \u001b[36mMyManyDynamicElementFir\u001b[39m"
      ]
     },
     "execution_count": 4,
     "metadata": {},
     "output_type": "execute_result"
    }
   ],
   "source": [
    "class MyManyDynamicElementFir(length: Int) extends Module {\n",
    "  val io = IO(new Bundle {\n",
    "    val in = Input(UInt(8.W))\n",
    "    val out = Output(UInt(8.W))\n",
    "    val consts = Input(Vec(length, UInt(8.W)))\n",
    "  })\n",
    "\n",
    "  // Reference solution\n",
    "  val regs = mutable.ArrayBuffer[UInt]()\n",
    "  for(i <- 0 until length) {\n",
    "      if(i == 0) regs += io.in\n",
    "      else       regs += RegNext(regs(i - 1), 0.U)\n",
    "  }\n",
    "  \n",
    "  val muls = mutable.ArrayBuffer[UInt]()\n",
    "  for(i <- 0 until length) {\n",
    "      muls += regs(i) * io.consts(i)\n",
    "  }\n",
    "\n",
    "  val scan = mutable.ArrayBuffer[UInt]()\n",
    "  for(i <- 0 until length) {\n",
    "      if(i == 0) scan += muls(i)\n",
    "      else scan += muls(i) + scan(i - 1)\n",
    "  }\n",
    "\n",
    "  io.out := scan(length - 1)\n",
    "}"
   ]
  },
  {
   "cell_type": "code",
   "execution_count": 5,
   "metadata": {},
   "outputs": [
    {
     "name": "stdout",
     "output_type": "stream",
     "text": [
      "[\u001b[35minfo\u001b[0m] [0.000] Elaborating design...\n",
      "[\u001b[35minfo\u001b[0m] [0.011] Done elaborating.\n",
      "Total FIRRTL Compile Time: 34.2 ms\n",
      "Total FIRRTL Compile Time: 18.7 ms\n",
      "End of dependency graph\n",
      "Circuit state created\n",
      "[\u001b[35minfo\u001b[0m] [0.000] SEED 1511979428198\n",
      "test cmd3WrapperHelperMyManyDynamicElementFir Success: 6 tests passed in 10 cycles taking 0.013470 seconds\n",
      "[\u001b[35minfo\u001b[0m] [0.008] RAN 5 CYCLES PASSED\n"
     ]
    },
    {
     "data": {
      "text/plain": [
       "\u001b[36mres4\u001b[39m: \u001b[32mBoolean\u001b[39m = \u001b[32mtrue\u001b[39m"
      ]
     },
     "execution_count": 5,
     "metadata": {},
     "output_type": "execute_result"
    }
   ],
   "source": [
    "// Simple 4-point moving average\n",
    "Driver(() => new MyManyDynamicElementFir(4)) {\n",
    "  c => new PeekPokeTester(c) {\n",
    "    /* Set constant values */\n",
    "    poke(c.io.consts(0), 1)\n",
    "    poke(c.io.consts(1), 1)\n",
    "    poke(c.io.consts(2), 1)\n",
    "    poke(c.io.consts(3), 1)\n",
    "    \n",
    "    /* Set input value and check output value */\n",
    "    poke(c.io.in, 1)\n",
    "    expect(c.io.out, 1)  // 1, 0, 0, 0\n",
    "    step(1)\n",
    "    poke(c.io.in, 4)\n",
    "    expect(c.io.out, 5)  // 4, 1, 0, 0\n",
    "    step(1)\n",
    "    poke(c.io.in, 3)\n",
    "    expect(c.io.out, 8)  // 3, 4, 1, 0\n",
    "    step(1)\n",
    "    poke(c.io.in, 2)\n",
    "    expect(c.io.out, 10)  // 2, 3, 4, 1\n",
    "    step(1)\n",
    "    poke(c.io.in, 7)\n",
    "    expect(c.io.out, 16)  // 7, 2, 3, 4\n",
    "    step(1)\n",
    "    poke(c.io.in, 0)\n",
    "    expect(c.io.out, 12)  // 0, 7, 2, 3\n",
    "  }\n",
    "}"
   ]
  },
  {
   "cell_type": "code",
   "execution_count": 6,
   "metadata": {},
   "outputs": [
    {
     "data": {
      "text/plain": [
       "defined \u001b[32mclass\u001b[39m \u001b[36mMyManyDynamicElementVecFir\u001b[39m"
      ]
     },
     "execution_count": 6,
     "metadata": {},
     "output_type": "execute_result"
    }
   ],
   "source": [
    "class MyManyDynamicElementVecFir(length: Int) extends Module {\n",
    "  val io = IO(new Bundle {\n",
    "    val in = Input(UInt(8.W))\n",
    "    val out = Output(UInt(8.W))\n",
    "    val consts = Input(Vec(length, UInt(8.W)))\n",
    "  })\n",
    "\n",
    "  // Reference solution\n",
    "  val regs = RegInit(Vec(length - 1, UInt(8.W)), Vec.fill(length - 1)(0.U))\n",
    "  for(i <- 0 until length - 1) {\n",
    "      if(i == 0) regs(i) := io.in\n",
    "      else       regs(i) := regs(i - 1)\n",
    "  }\n",
    "  \n",
    "  val muls = Wire(Vec(length, UInt(8.W)))\n",
    "  for(i <- 0 until length) {\n",
    "      if(i == 0) muls(i) := io.in * io.consts(i)\n",
    "      else       muls(i) := regs(i - 1) * io.consts(i)\n",
    "  }\n",
    "\n",
    "  val scan = Wire(Vec(length, UInt(8.W)))\n",
    "  for(i <- 0 until length) {\n",
    "      if(i == 0) scan(i) := muls(i)\n",
    "      else scan(i) := muls(i) + scan(i - 1)\n",
    "  }\n",
    "\n",
    "  io.out := scan(length - 1)\n",
    "}"
   ]
  },
  {
   "cell_type": "code",
   "execution_count": 7,
   "metadata": {},
   "outputs": [
    {
     "name": "stdout",
     "output_type": "stream",
     "text": [
      "[\u001b[35minfo\u001b[0m] [0.000] Elaborating design...\n",
      "[\u001b[35minfo\u001b[0m] [0.010] Done elaborating.\n",
      "Total FIRRTL Compile Time: 30.0 ms\n",
      "Total FIRRTL Compile Time: 22.9 ms\n",
      "End of dependency graph\n",
      "Circuit state created\n",
      "[\u001b[35minfo\u001b[0m] [0.000] SEED 1511979429218\n",
      "test cmd5WrapperHelperMyManyDynamicElementVecFir Success: 6 tests passed in 10 cycles taking 0.013107 seconds\n",
      "[\u001b[35minfo\u001b[0m] [0.009] RAN 5 CYCLES PASSED\n",
      "[\u001b[35minfo\u001b[0m] [0.000] Elaborating design...\n",
      "[\u001b[35minfo\u001b[0m] [0.002] Done elaborating.\n",
      ";buildInfoPackage: chisel3, version: 3.0-SNAPSHOT_2017-07-19, scalaVersion: 2.11.11, sbtVersion: 0.13.15, builtAtString: 2017-07-19 18:56:34.453, builtAtMillis: 1500490594453\n",
      "circuit cmd5WrapperHelperMyManyDynamicElementVecFir : \n",
      "  module cmd5WrapperHelperMyManyDynamicElementVecFir : \n",
      "    input clock : Clock\n",
      "    input reset : UInt<1>\n",
      "    output io : {flip in : UInt<8>, out : UInt<8>, flip consts : UInt<8>[4]}\n",
      "    \n",
      "    clock is invalid\n",
      "    reset is invalid\n",
      "    io is invalid\n",
      "    wire _T_21 : UInt<1>[3] @[cmd5.sc 9:70]\n",
      "    _T_21 is invalid @[cmd5.sc 9:70]\n",
      "    _T_21[0] <= UInt<1>(\"h00\") @[cmd5.sc 9:70]\n",
      "    _T_21[1] <= UInt<1>(\"h00\") @[cmd5.sc 9:70]\n",
      "    _T_21[2] <= UInt<1>(\"h00\") @[cmd5.sc 9:70]\n",
      "    reg regs : UInt<8>[3], clock with : (reset => (reset, _T_21)) @[cmd5.sc 9:21]\n",
      "    regs[0] <= io.in @[cmd5.sc 11:26]\n",
      "    regs[1] <= regs[0] @[cmd5.sc 12:26]\n",
      "    regs[2] <= regs[1] @[cmd5.sc 12:26]\n",
      "    wire muls : UInt<8>[4] @[cmd5.sc 15:18]\n",
      "    muls is invalid @[cmd5.sc 15:18]\n",
      "    node _T_41 = mul(io.in, io.consts[0]) @[cmd5.sc 17:35]\n",
      "    muls[0] <= _T_41 @[cmd5.sc 17:26]\n",
      "    node _T_42 = mul(regs[0], io.consts[1]) @[cmd5.sc 18:41]\n",
      "    muls[1] <= _T_42 @[cmd5.sc 18:26]\n",
      "    node _T_43 = mul(regs[1], io.consts[2]) @[cmd5.sc 18:41]\n",
      "    muls[2] <= _T_43 @[cmd5.sc 18:26]\n",
      "    node _T_44 = mul(regs[2], io.consts[3]) @[cmd5.sc 18:41]\n",
      "    muls[3] <= _T_44 @[cmd5.sc 18:26]\n",
      "    wire scan : UInt<8>[4] @[cmd5.sc 21:18]\n",
      "    scan is invalid @[cmd5.sc 21:18]\n",
      "    scan[0] <= muls[0] @[cmd5.sc 23:26]\n",
      "    node _T_54 = add(muls[1], scan[0]) @[cmd5.sc 24:31]\n",
      "    node _T_55 = tail(_T_54, 1) @[cmd5.sc 24:31]\n",
      "    scan[1] <= _T_55 @[cmd5.sc 24:20]\n",
      "    node _T_56 = add(muls[2], scan[1]) @[cmd5.sc 24:31]\n",
      "    node _T_57 = tail(_T_56, 1) @[cmd5.sc 24:31]\n",
      "    scan[2] <= _T_57 @[cmd5.sc 24:20]\n",
      "    node _T_58 = add(muls[3], scan[2]) @[cmd5.sc 24:31]\n",
      "    node _T_59 = tail(_T_58, 1) @[cmd5.sc 24:31]\n",
      "    scan[3] <= _T_59 @[cmd5.sc 24:20]\n",
      "    io.out <= scan[3] @[cmd5.sc 27:10]\n",
      "    \n",
      "\n"
     ]
    },
    {
     "data": {
      "text/plain": [
       "\u001b[36mres6_0\u001b[39m: \u001b[32mBoolean\u001b[39m = \u001b[32mtrue\u001b[39m"
      ]
     },
     "execution_count": 7,
     "metadata": {},
     "output_type": "execute_result"
    }
   ],
   "source": [
    "// Simple 4-point moving average\n",
    "Driver(() => new MyManyDynamicElementVecFir(4)) {\n",
    "  c => new PeekPokeTester(c) {\n",
    "    /* Set constant values */\n",
    "    poke(c.io.consts(0), 1)\n",
    "    poke(c.io.consts(1), 1)\n",
    "    poke(c.io.consts(2), 1)\n",
    "    poke(c.io.consts(3), 1)\n",
    "    \n",
    "    /* Set input value and check output value */\n",
    "    poke(c.io.in, 1)\n",
    "    expect(c.io.out, 1)  // 1, 0, 0, 0\n",
    "    step(1)\n",
    "    poke(c.io.in, 4)\n",
    "    expect(c.io.out, 5)  // 4, 1, 0, 0\n",
    "    step(1)\n",
    "    poke(c.io.in, 3)\n",
    "    expect(c.io.out, 8)  // 3, 4, 1, 0\n",
    "    step(1)\n",
    "    poke(c.io.in, 2)\n",
    "    expect(c.io.out, 10)  // 2, 3, 4, 1\n",
    "    step(1)\n",
    "    poke(c.io.in, 7)\n",
    "    expect(c.io.out, 16)  // 7, 2, 3, 4\n",
    "    step(1)\n",
    "    poke(c.io.in, 0)\n",
    "    expect(c.io.out, 12)  // 0, 7, 2, 3\n",
    "  }\n",
    "}\n",
    "println(chisel3.Driver.emit(() => new MyManyDynamicElementVecFir(4)))"
   ]
  },
  {
   "cell_type": "code",
   "execution_count": null,
   "metadata": {
    "collapsed": true
   },
   "outputs": [],
   "source": []
  }
 ],
 "metadata": {
  "kernelspec": {
   "display_name": "Scala",
   "language": "scala",
   "name": "scala"
  },
  "language_info": {
   "codemirror_mode": "text/x-scala",
   "file_extension": ".scala",
   "mimetype": "text/x-scala",
   "name": "scala211",
   "nbconvert_exporter": "script",
   "pygments_lexer": "scala",
   "version": "2.11.11"
  }
 },
 "nbformat": 4,
 "nbformat_minor": 2
}
