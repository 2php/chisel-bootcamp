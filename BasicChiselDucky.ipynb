{
 "cells": [
  {
   "cell_type": "markdown",
   "metadata": {},
   "source": [
    "Boilerplate"
   ]
  },
  {
   "cell_type": "code",
   "execution_count": 11,
   "metadata": {
    "collapsed": false
   },
   "outputs": [
    {
     "data": {
      "text/plain": [
       "\u001b[32mimport \u001b[39m\u001b[36m$ivy.$                                                  \n",
       "\u001b[39m\n",
       "\u001b[32mimport \u001b[39m\u001b[36m$ivy.$                                                          \n",
       "\u001b[39m\n",
       "\u001b[32mimport \u001b[39m\u001b[36mchisel3._\n",
       "\u001b[39m\n",
       "\u001b[32mimport \u001b[39m\u001b[36mchisel3.util._\n",
       "\u001b[39m\n",
       "\u001b[32mimport \u001b[39m\u001b[36mchisel3.iotesters.{ChiselFlatSpec, Driver, PeekPokeTester}\u001b[39m"
      ]
     },
     "execution_count": 11,
     "metadata": {},
     "output_type": "execute_result"
    }
   ],
   "source": [
    "import $ivy.`edu.berkeley.cs::chisel3:3.0-SNAPSHOT_2017-07-19` \n",
    "import $ivy.`edu.berkeley.cs::chisel-iotesters:1.1-SNAPSHOT_2017-07-19`\n",
    "import chisel3._\n",
    "import chisel3.util._\n",
    "import chisel3.iotesters.{ChiselFlatSpec, Driver, PeekPokeTester}"
   ]
  },
  {
   "cell_type": "markdown",
   "metadata": {},
   "source": [
    "# Sequential Logic\n",
    "\n",
    "_In the previous section, we built the combinational part of the LFSR - that is, given the simultaneous output of all the shift register bits, generate the bit to feed back in. In this section, we will build the sequential part, the shift registers themselves._\n",
    "\n",
    "The basic stateful element in Chisel is the shift register, or `Reg`, which stores its current value through a clock cycle, and can optionally be updated with a new value which becomes visible at the next clock edge.\n",
    "\n",
    "A shift register can be constructed given a data type. For instance, a 4-bit wide shift register without initialization:\n",
    "```scala\n",
    "val myReg = Reg(UInt(4.W))\n",
    "```\n",
    "\n",
    "or with initialization (to 2 decimal):\n",
    "```scala\n",
    "val myReg = RegInit(UInt(4.W), 2.U)\n",
    "```\n",
    "\n",
    "Its value can be updated with the `:=` operator. For example, this increments the register's value:\n",
    "```scala\n",
    "myReg := myReg + 1.U\n",
    "```\n",
    "\n",
    "Note that when read, it gives its current (stored) value, but the assignment doesn't take effect until the next clock edge.\n",
    "\n",
    "Below is an example module which demonstrates a single-bit-wide shift register. Note how it initializes at zero, and afterwards the output is a single-cycle delayed version of the input."
   ]
  },
  {
   "cell_type": "code",
   "execution_count": 10,
   "metadata": {
    "collapsed": false
   },
   "outputs": [
    {
     "name": "stdout",
     "output_type": "stream",
     "text": [
      "[\u001b[35minfo\u001b[0m] [0.000] Elaborating design...\n",
      "[\u001b[35minfo\u001b[0m] [0.003] Done elaborating.\n",
      "Total FIRRTL Compile Time: 15.0 ms\n",
      "Total FIRRTL Compile Time: 8.7 ms\n",
      "End of dependency graph\n",
      "Circuit state created\n",
      "[\u001b[35minfo\u001b[0m] [0.000] SEED 1501544648128\n",
      "in=0, out=0\n",
      "in=1, out=1\n",
      "in=1, out=1\n",
      "in=0, out=0\n",
      "test cmd9WrapperHelperMyRegister Success: 0 tests passed in 9 cycles taking 0.003435 seconds\n",
      "[\u001b[35minfo\u001b[0m] [0.002] RAN 4 CYCLES PASSED\n"
     ]
    },
    {
     "data": {
      "text/plain": [
       "defined \u001b[32mclass\u001b[39m \u001b[36mMyRegister\u001b[39m\n",
       "defined \u001b[32mclass\u001b[39m \u001b[36mMyRegisterTester\u001b[39m\n",
       "\u001b[36mres9_2\u001b[39m: \u001b[32mBoolean\u001b[39m = \u001b[32mtrue\u001b[39m"
      ]
     },
     "execution_count": 10,
     "metadata": {},
     "output_type": "execute_result"
    }
   ],
   "source": [
    "// Module containing the register\n",
    "class MyRegister extends Module {\n",
    "  val io = IO(new Bundle {\n",
    "    val in = Input(Bool())\n",
    "    val out = Output(Bool())\n",
    "  })\n",
    "  val reg = RegInit(Bool(), false.B)\n",
    "  reg := io.in\n",
    "  io.out := reg\n",
    "  printf(\"in=%d, out=%d\\n\", io.in, io.out)\n",
    "}\n",
    "\n",
    "// Testvector\n",
    "class MyRegisterTester(c: MyRegister) extends PeekPokeTester(c) {\n",
    "  poke(c.io.in, 0)\n",
    "  step(1)\n",
    "  poke(c.io.in, 1)\n",
    "  step(1)\n",
    "  poke(c.io.in, 1)\n",
    "  step(1)\n",
    "  poke(c.io.in, 0)\n",
    "  step(1)\n",
    "}\n",
    "\n",
    "// Driver run invocation\n",
    "Driver(() => new MyRegister, \"firrtl\") {\n",
    "  c => new MyRegisterTester(c)\n",
    "}"
   ]
  },
  {
   "cell_type": "markdown",
   "metadata": {},
   "source": [
    "Given that, now build a module that implements a shift register for your LFSR. Specifically:\n",
    "- Each element is a single bit wide (of `Bool` type).\n",
    "- Has 4 stages.\n",
    "- Takes a single input bit, which is the next value into the shift register.\n",
    "- Outputs the parallel output of the shift register, with the MSbit being the last element of the shift register and the LSbit being the first element of the shift register. `Cat` may come in handy.\n",
    "- The output initializes at `b0001`.\n",
    "- Shifts each clock cycle (no enable signal).\n",
    "\n",
    "A basic Module skeleton, testvector, and Driver invocation is provided below. The first register has been provided for you."
   ]
  },
  {
   "cell_type": "code",
   "execution_count": 13,
   "metadata": {
    "collapsed": false
   },
   "outputs": [
    {
     "data": {
      "text/plain": [
       "defined \u001b[32mclass\u001b[39m \u001b[36mMyShiftRegister\u001b[39m"
      ]
     },
     "execution_count": 13,
     "metadata": {},
     "output_type": "execute_result"
    }
   ],
   "source": [
    "class MyShiftRegister extends Module {\n",
    "  val io = IO(new Bundle {\n",
    "    val in = Input(Bool())\n",
    "    val out = Output(UInt(4.W))\n",
    "  })\n",
    "  val s1 = RegInit(Bool(), true.B)\n",
    "    \n",
    "  // YOUR CODE HERE\n",
    "  // don't forget to update the first register!\n",
    "    \n",
    "  s1 := io.in\n",
    "  val s2 = RegInit(Bool(), false.B)\n",
    "  s2 := s1\n",
    "  val s3 = RegInit(Bool(), false.B)\n",
    "  s3 := s2\n",
    "  val s4 = RegInit(Bool(), false.B)\n",
    "  s4 := s3\n",
    "    \n",
    "  io.out := Cat(s4, s3, s2, s1)\n",
    "}"
   ]
  },
  {
   "cell_type": "code",
   "execution_count": 18,
   "metadata": {
    "collapsed": false
   },
   "outputs": [
    {
     "name": "stdout",
     "output_type": "stream",
     "text": [
      "[\u001b[35minfo\u001b[0m] [0.000] Elaborating design...\n",
      "[\u001b[35minfo\u001b[0m] [0.003] Done elaborating.\n",
      "Total FIRRTL Compile Time: 14.2 ms\n",
      "Total FIRRTL Compile Time: 9.8 ms\n",
      "End of dependency graph\n",
      "Circuit state created\n",
      "[\u001b[35minfo\u001b[0m] [0.000] SEED 1501545250574\n",
      "test cmd12WrapperHelperMyShiftRegister Success: 5 tests passed in 9 cycles taking 0.004067 seconds\n",
      "[\u001b[35minfo\u001b[0m] [0.003] RAN 4 CYCLES PASSED\n"
     ]
    },
    {
     "data": {
      "text/plain": [
       "defined \u001b[32mclass\u001b[39m \u001b[36mMyShiftRegisterTester\u001b[39m\n",
       "\u001b[36mres17_1\u001b[39m: \u001b[32mBoolean\u001b[39m = \u001b[32mtrue\u001b[39m"
      ]
     },
     "execution_count": 18,
     "metadata": {},
     "output_type": "execute_result"
    }
   ],
   "source": [
    "class MyShiftRegisterTester(c: MyShiftRegister) extends PeekPokeTester(c) {\n",
    "  expect(c.io.out, 1)  // b0001\n",
    "  poke(c.io.in, 0)\n",
    "  step(1)\n",
    "  expect(c.io.out, 2)  // b0010\n",
    "  poke(c.io.in, 1)\n",
    "  step(1)\n",
    "  expect(c.io.out, 5)  // b0101\n",
    "  poke(c.io.in, 1)\n",
    "  step(1)\n",
    "  expect(c.io.out, 11)  // b1011\n",
    "  poke(c.io.in, 0)\n",
    "  step(1)\n",
    "  expect(c.io.out, 6)  // b0110\n",
    "}\n",
    "\n",
    "Driver(() => new MyShiftRegister, \"firrtl\") {\n",
    "  c => new MyShiftRegisterTester(c)\n",
    "}"
   ]
  },
  {
   "cell_type": "code",
   "execution_count": null,
   "metadata": {
    "collapsed": true
   },
   "outputs": [],
   "source": []
  }
 ],
 "metadata": {
  "kernelspec": {
   "display_name": "Scala",
   "language": "scala",
   "name": "scala"
  },
  "language_info": {
   "codemirror_mode": "text/x-scala",
   "file_extension": ".scala",
   "mimetype": "text/x-scala",
   "name": "scala211",
   "nbconvert_exporter": "script",
   "pygments_lexer": "scala",
   "version": "2.11.11"
  }
 },
 "nbformat": 4,
 "nbformat_minor": 0
}
