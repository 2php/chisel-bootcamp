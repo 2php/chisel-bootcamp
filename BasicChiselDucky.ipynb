{
 "cells": [
  {
   "cell_type": "markdown",
   "metadata": {},
   "source": [
    "Boilerplate"
   ]
  },
  {
   "cell_type": "code",
   "execution_count": 29,
   "metadata": {
    "collapsed": false
   },
   "outputs": [
    {
     "data": {
      "text/plain": [
       "\u001b[32mimport \u001b[39m\u001b[36m$ivy.$                                                  \n",
       "\u001b[39m\n",
       "\u001b[32mimport \u001b[39m\u001b[36m$ivy.$                                                          \n",
       "\u001b[39m\n",
       "\u001b[32mimport \u001b[39m\u001b[36mchisel3._\n",
       "\u001b[39m\n",
       "\u001b[32mimport \u001b[39m\u001b[36mchisel3.util._\n",
       "\u001b[39m\n",
       "\u001b[32mimport \u001b[39m\u001b[36mchisel3.iotesters.{ChiselFlatSpec, Driver, PeekPokeTester}\n",
       "\n",
       "\u001b[39m\n",
       "defined \u001b[32mclass\u001b[39m \u001b[36mOperatorsExercise\u001b[39m"
      ]
     },
     "execution_count": 29,
     "metadata": {},
     "output_type": "execute_result"
    }
   ],
   "source": [
    "import $ivy.`edu.berkeley.cs::chisel3:3.0-SNAPSHOT_2017-07-19` \n",
    "import $ivy.`edu.berkeley.cs::chisel-iotesters:1.1-SNAPSHOT_2017-07-19`\n",
    "import chisel3._\n",
    "import chisel3.util._\n",
    "import chisel3.iotesters.{ChiselFlatSpec, Driver, PeekPokeTester}\n",
    "\n",
    "class OperatorsExercise extends Module {\n",
    "  val io = IO(new Bundle {\n",
    "    val seed = Input(UInt(4.W))\n",
    "    val result = Output(Bool())\n",
    "  })\n",
    "\n",
    "  // YOUR CODE GOES HERE\n",
    "  // Remember: seed and result are inside io, so access them with io.seed and io.result\n",
    "  // Also, there's no need to typecast between 1-bit UInts and Bools \n",
    "  io.result := io.seed(3) ^ io.seed(2)\n",
    "}"
   ]
  },
  {
   "cell_type": "markdown",
   "metadata": {},
   "source": [
    "# Sequential Logic\n",
    "\n",
    "_In the previous section, we built the combinational part of the LFSR - that is, given the simultaneous output of all the shift register bits, generate the bit to feed back in. In this section, we will build the sequential part, the shift registers themselves._\n",
    "\n",
    "The basic stateful element in Chisel is the register, or `Reg`. It keeps its current value through a clock cycle, and can optionally be updated with a new value that becomes visible at the next clock edge.\n",
    "\n",
    "A register can be constructed given a data type. For instance, a 2-bit wide register without initialization:\n",
    "```scala\n",
    "val myReg = Reg(UInt(2.W))\n",
    "```\n",
    "\n",
    "or with initialization (to 1 decimal):\n",
    "```scala\n",
    "val myReg = RegInit(UInt(2.W), 1.U)\n",
    "```\n",
    "\n",
    "Its value can be updated with the `:=` operator. For example, this increments the register's value:\n",
    "```scala\n",
    "myReg := myReg + 1.U\n",
    "```\n",
    "\n",
    "Note that when read, it gives its current (stored) value, but the assignment doesn't take effect until the next clock edge.\n",
    "\n",
    "Below is an example which uses a register to implement a 2-bit wide counter, initializing at 1 and overflowing from 3 to zero. Run the block and take a look at the output trace."
   ]
  },
  {
   "cell_type": "code",
   "execution_count": 22,
   "metadata": {
    "collapsed": false
   },
   "outputs": [
    {
     "name": "stdout",
     "output_type": "stream",
     "text": [
      "[\u001b[35minfo\u001b[0m] [0.000] Elaborating design...\n",
      "[\u001b[35minfo\u001b[0m] [0.003] Done elaborating.\n",
      "Total FIRRTL Compile Time: 8.1 ms\n",
      "Total FIRRTL Compile Time: 10.7 ms\n",
      "End of dependency graph\n",
      "Circuit state created\n",
      "[\u001b[35minfo\u001b[0m] [0.000] SEED 1501614765147\n",
      "out=2\n",
      "out=3\n",
      "out=0\n",
      "out=1\n",
      "out=2\n",
      "test cmd21WrapperHelperMyCounter Success: 5 tests passed in 10 cycles taking 0.003846 seconds\n",
      "[\u001b[35minfo\u001b[0m] [0.003] RAN 5 CYCLES PASSED\n"
     ]
    },
    {
     "data": {
      "text/plain": [
       "defined \u001b[32mclass\u001b[39m \u001b[36mMyCounter\u001b[39m\n",
       "defined \u001b[32mclass\u001b[39m \u001b[36mMyCounterTester\u001b[39m\n",
       "\u001b[36mres21_2\u001b[39m: \u001b[32mBoolean\u001b[39m = \u001b[32mtrue\u001b[39m"
      ]
     },
     "execution_count": 22,
     "metadata": {},
     "output_type": "execute_result"
    }
   ],
   "source": [
    "// Module containing the register\n",
    "class MyCounter extends Module {\n",
    "  val io = IO(new Bundle {\n",
    "    val out = Output(UInt(2.W))\n",
    "  })\n",
    "  val myReg = RegInit(UInt(2.W), 1.U)\n",
    "  myReg := myReg + 1.U\n",
    "  io.out := myReg\n",
    "    \n",
    "  printf(\"out=%d\\n\", io.out)\n",
    "}\n",
    "\n",
    "// Testvector\n",
    "class MyCounterTester(c: MyCounter) extends PeekPokeTester(c) {\n",
    "  expect(c.io.out, 1)\n",
    "  step(1)\n",
    "  expect(c.io.out, 2)\n",
    "  step(1)\n",
    "  expect(c.io.out, 3)\n",
    "  step(1)\n",
    "  expect(c.io.out, 0)\n",
    "  step(1)\n",
    "  expect(c.io.out, 1)\n",
    "  step(1)\n",
    "}\n",
    "\n",
    "// Driver run invocation\n",
    "Driver(() => new MyCounter, \"firrtl\") {\n",
    "  c => new MyCounterTester(c)\n",
    "}"
   ]
  },
  {
   "cell_type": "markdown",
   "metadata": {},
   "source": [
    "## Now you try\n",
    "Given that, now build a module that implements a shift register for your LFSR. Specifically:\n",
    "- Each element is a single bit wide.\n",
    "- Has 4 stages.\n",
    "- Takes a single input bit, which is the next value into the shift register.\n",
    "- Outputs the parallel output of the shift register, with the most significant bit being the last element of the shift register and the least significant bit being the first element of the shift register. `Cat` may come in handy.\n",
    "- The output initializes at `b0001`.\n",
    "- Shifts each clock cycle (no enable signal).\n",
    "\n",
    "A basic Module skeleton, testvector, and Driver invocation is provided below. The first register has been provided for you."
   ]
  },
  {
   "cell_type": "code",
   "execution_count": 47,
   "metadata": {
    "collapsed": false
   },
   "outputs": [
    {
     "data": {
      "text/plain": [
       "defined \u001b[32mclass\u001b[39m \u001b[36mMyShiftRegister\u001b[39m"
      ]
     },
     "execution_count": 47,
     "metadata": {},
     "output_type": "execute_result"
    }
   ],
   "source": [
    "class MyShiftRegister extends Module {\n",
    "  val io = IO(new Bundle {\n",
    "    val in = Input(Bool())\n",
    "    val out = Output(UInt(4.W))\n",
    "  })\n",
    "  val s1 = RegInit(Bool(), true.B)\n",
    "    \n",
    "  // YOUR CODE HERE\n",
    "  // don't forget to update the first register!\n",
    "    \n",
    "  s1 := io.in\n",
    "  val s2 = RegInit(Bool(), false.B)\n",
    "  s2 := s1\n",
    "  val s3 = RegInit(Bool(), false.B)\n",
    "  s3 := s2\n",
    "  val s4 = RegInit(Bool(), false.B)\n",
    "  s4 := s3\n",
    "    \n",
    "  io.out := Cat(s4, s3, s2, s1)\n",
    "  printf(\"%x\\n\", io.out)\n",
    "}"
   ]
  },
  {
   "cell_type": "code",
   "execution_count": 48,
   "metadata": {
    "collapsed": false
   },
   "outputs": [
    {
     "name": "stdout",
     "output_type": "stream",
     "text": [
      "[\u001b[35minfo\u001b[0m] [0.000] Elaborating design...\n",
      "[\u001b[35minfo\u001b[0m] [0.002] Done elaborating.\n",
      "Total FIRRTL Compile Time: 6.7 ms\n",
      "Total FIRRTL Compile Time: 6.8 ms\n",
      "End of dependency graph\n",
      "Circuit state created\n",
      "[\u001b[35minfo\u001b[0m] [0.000] SEED 1501698597918\n",
      "2\n",
      "5\n",
      "b\n",
      "6\n",
      "test cmd46WrapperHelperMyShiftRegister Success: 5 tests passed in 9 cycles taking 0.005147 seconds\n",
      "[\u001b[35minfo\u001b[0m] [0.005] RAN 4 CYCLES PASSED\n"
     ]
    },
    {
     "data": {
      "text/plain": [
       "defined \u001b[32mclass\u001b[39m \u001b[36mMyShiftRegisterTester\u001b[39m\n",
       "\u001b[36mres47_1\u001b[39m: \u001b[32mBoolean\u001b[39m = \u001b[32mtrue\u001b[39m"
      ]
     },
     "execution_count": 48,
     "metadata": {},
     "output_type": "execute_result"
    }
   ],
   "source": [
    "class MyShiftRegisterTester(c: MyShiftRegister) extends PeekPokeTester(c) {\n",
    "  expect(c.io.out, 1)  // b0001\n",
    "  poke(c.io.in, 0)\n",
    "  step(1)\n",
    "  expect(c.io.out, 2)  // b0010\n",
    "  poke(c.io.in, 1)\n",
    "  step(1)\n",
    "  expect(c.io.out, 5)  // b0101\n",
    "  poke(c.io.in, 1)\n",
    "  step(1)\n",
    "  expect(c.io.out, 11)  // b1011\n",
    "  poke(c.io.in, 0)\n",
    "  step(1)\n",
    "  expect(c.io.out, 6)  // b0110\n",
    "}\n",
    "\n",
    "Driver(() => new MyShiftRegister, \"firrtl\") {\n",
    "  c => new MyShiftRegisterTester(c)\n",
    "}"
   ]
  },
  {
   "cell_type": "markdown",
   "metadata": {},
   "source": [
    "Chisel also offers several more variants of the register constructor, for example with a `next` field or with an `enable` signal, but these are outside the scope of this introductory tutorial.\n",
    "\n",
    "# Conditional Logic and Wires\n",
    "_We've now seen the basics of building combinational and sequential logic circuits, but those are very low-level primitives. Chisel provides a higher level of abstraction for some operations._\n",
    "\n",
    "## Conditional Register Updates\n",
    "Chisel operators can be gated by putting them inside a `when` conditional block. In our counter example above, if we also added a `count` input signal, we could gate the incrementing of the counter as follows:\n",
    "```scala\n",
    "when (io.count) {\n",
    "  myReg := myReg + 1.U\n",
    "}\n",
    "```\n",
    "\n",
    "## Wires\n",
    "Conditional blocks can also be used to generate combinational logic. While we've seen the update operator `:=` used combinationally on Module boundary `IO`s, it can be also applied to Module-internal `Wire`s. Here's an example of the counter above, styled slightly differently to make the combinational logic explicit and using `Wire`s.\n",
    "```scala\n",
    "val myReg = RegInit(UInt(2.W), 1.U)\n",
    "val nextReg = Wire(UInt(2.W))  // constructed similarly to Regs\n",
    "nextReg := myReg + 1.U\n",
    "myReg := nextReg\n",
    "```\n",
    "\n",
    "## Conditional Combinational Updates\n",
    "Let's say now that we want a counter that counts 0, 1, 2, then resets. In this case, since we need to reset on 2, we can no longer depend on the implicit integer overflow and need to make the logic explicit:\n",
    "```scala\n",
    "val nextReg = Wire(UInt(2.W))\n",
    "when (myReg === 2.U) {\n",
    "  nextReg := 0.U\n",
    "} .otherwise {\n",
    "  nextReg := myReg + 1.U\n",
    "}\n",
    "```\n",
    "\n",
    "As you can see from the example above, `when`-`otherwise` blocks behave like `if`-`else` blocks in Scala, but generate conditional hardware. `when` blocks also have an `.elsewhen (condition)`, much like `else if (condition)`.\n",
    "\n",
    "_Note that there is a `.` before the `elsewhen`, this due to limitations of Scala syntax._\n",
    "\n",
    "When there are multiple update operators that can apply at the same time, the last one takes priority. So the above example can be equivalently rewritten by unconditionally updating `nextReg` with the counter increment, then overriding it in the overflow case:\n",
    "\n",
    "```scala\n",
    "val nextReg = Wire(UInt(2.W))\n",
    "nextReg := myReg + 1.U\n",
    "when (myReg === 2.U) {\n",
    "  nextReg := 0.U\n",
    "}\n",
    "```\n",
    "\n",
    "There is also `WireInit`, a shorthand which declares and initializes a `Wire`:\n",
    "\n",
    "```scala\n",
    "val nextReg = WireInit(UInt(2.W), myReg + 1.U)\n",
    "when (myReg === 2.U) {\n",
    "  nextReg := 0.U\n",
    "}\n",
    "```\n",
    "\n",
    "Whether to use the first, second, or third forms is mainly a matter of style and readability. They are all functionally equivalent.\n",
    "\n",
    "## A Gated, 3-tick Counter\n",
    "Putting it all together, here's the full example:"
   ]
  },
  {
   "cell_type": "code",
   "execution_count": 24,
   "metadata": {
    "collapsed": false
   },
   "outputs": [
    {
     "name": "stdout",
     "output_type": "stream",
     "text": [
      "[\u001b[35minfo\u001b[0m] [0.000] Elaborating design...\n",
      "[\u001b[35minfo\u001b[0m] [0.004] Done elaborating.\n",
      "Total FIRRTL Compile Time: 20.9 ms\n",
      "Total FIRRTL Compile Time: 10.1 ms\n",
      "End of dependency graph\n",
      "Circuit state created\n",
      "[\u001b[35minfo\u001b[0m] [0.000] SEED 1501637761162\n",
      "out=2\n",
      "out=0\n",
      "out=1\n",
      "out=1\n",
      "out=1\n",
      "out=2\n",
      "out=0\n",
      "test cmd23WrapperHelperMyNewCounter Success: 7 tests passed in 12 cycles taking 0.005007 seconds\n",
      "[\u001b[35minfo\u001b[0m] [0.004] RAN 7 CYCLES PASSED\n"
     ]
    },
    {
     "data": {
      "text/plain": [
       "defined \u001b[32mclass\u001b[39m \u001b[36mMyNewCounter\u001b[39m\n",
       "defined \u001b[32mclass\u001b[39m \u001b[36mMyNewCounterTester\u001b[39m\n",
       "\u001b[36mres23_2\u001b[39m: \u001b[32mBoolean\u001b[39m = \u001b[32mtrue\u001b[39m"
      ]
     },
     "execution_count": 24,
     "metadata": {},
     "output_type": "execute_result"
    }
   ],
   "source": [
    "// Module containing the register\n",
    "class MyNewCounter extends Module {\n",
    "  val io = IO(new Bundle {\n",
    "    val count = Input(Bool())\n",
    "    val out = Output(UInt(2.W))\n",
    "  })\n",
    "  val myReg = RegInit(UInt(2.W), 1.U)\n",
    "\n",
    "  val nextReg = Wire(UInt(2.W))\n",
    "  when (myReg === 2.U) {\n",
    "    nextReg := 0.U\n",
    "  } .otherwise {\n",
    "    nextReg := myReg + 1.U\n",
    "  }\n",
    "  \n",
    "  when (io.count) {\n",
    "    myReg := nextReg\n",
    "  }\n",
    "\n",
    "  io.out := myReg\n",
    "    \n",
    "  printf(\"out=%d\\n\", io.out)\n",
    "}\n",
    "\n",
    "// Testvector\n",
    "class MyNewCounterTester(c: MyNewCounter) extends PeekPokeTester(c) {\n",
    "  poke(c.io.count, 1)\n",
    "  expect(c.io.out, 1)\n",
    "  step(1)\n",
    "  expect(c.io.out, 2)\n",
    "  step(1)\n",
    "  expect(c.io.out, 0)\n",
    "  step(1)\n",
    "  expect(c.io.out, 1)\n",
    "  poke(c.io.count, 0)  // test pause\n",
    "  step(1)\n",
    "  expect(c.io.out, 1)\n",
    "  step(1)\n",
    "  expect(c.io.out, 1)\n",
    "  poke(c.io.count, 1)  // unpause\n",
    "  step(1)\n",
    "  expect(c.io.out, 2)\n",
    "  step(1)\n",
    "}\n",
    "\n",
    "// Driver run invocation\n",
    "Driver(() => new MyNewCounter, \"firrtl\") {\n",
    "  c => new MyNewCounterTester(c)\n",
    "}"
   ]
  },
  {
   "cell_type": "markdown",
   "metadata": {},
   "source": [
    "## Now you try\n",
    "\n",
    "Take your shift register design from above, but modify it so that it only shifts when the update signal is asserted.\n",
    "\n",
    "As with before, a basic testbench and module skeleton is provided for you."
   ]
  },
  {
   "cell_type": "code",
   "execution_count": 25,
   "metadata": {
    "collapsed": false
   },
   "outputs": [
    {
     "data": {
      "text/plain": [
       "defined \u001b[32mclass\u001b[39m \u001b[36mMyGatedShiftRegister\u001b[39m"
      ]
     },
     "execution_count": 25,
     "metadata": {},
     "output_type": "execute_result"
    }
   ],
   "source": [
    "class MyGatedShiftRegister extends Module {\n",
    "  val io = IO(new Bundle {\n",
    "    val in = Input(Bool())\n",
    "    val update = Input(Bool())\n",
    "    val out = Output(UInt(4.W))\n",
    "  })\n",
    "  val s1 = RegInit(Bool(), true.B)\n",
    "    \n",
    "  // YOUR CODE HERE\n",
    "  // don't forget to update the first register!\n",
    "    \n",
    "  val s2 = RegInit(Bool(), false.B)\n",
    "  val s3 = RegInit(Bool(), false.B)\n",
    "  val s4 = RegInit(Bool(), false.B)\n",
    "  \n",
    "  when (io.update) {\n",
    "    s1 := io.in\n",
    "    s2 := s1\n",
    "    s3 := s2\n",
    "    s4 := s3\n",
    "  }\n",
    "    \n",
    "  io.out := Cat(s4, s3, s2, s1)\n",
    "}"
   ]
  },
  {
   "cell_type": "code",
   "execution_count": 26,
   "metadata": {
    "collapsed": false
   },
   "outputs": [
    {
     "name": "stdout",
     "output_type": "stream",
     "text": [
      "[\u001b[35minfo\u001b[0m] [0.000] Elaborating design...\n",
      "[\u001b[35minfo\u001b[0m] [0.004] Done elaborating.\n",
      "Total FIRRTL Compile Time: 15.7 ms\n",
      "Total FIRRTL Compile Time: 14.8 ms\n",
      "End of dependency graph\n",
      "Circuit state created\n",
      "[\u001b[35minfo\u001b[0m] [0.000] SEED 1501638222188\n",
      "test cmd24WrapperHelperMyGatedShiftRegister Success: 7 tests passed in 12 cycles taking 0.007392 seconds\n",
      "[\u001b[35minfo\u001b[0m] [0.006] RAN 7 CYCLES PASSED\n"
     ]
    },
    {
     "data": {
      "text/plain": [
       "defined \u001b[32mclass\u001b[39m \u001b[36mMyGatedShiftRegisterTester\u001b[39m\n",
       "\u001b[36mres25_1\u001b[39m: \u001b[32mBoolean\u001b[39m = \u001b[32mtrue\u001b[39m"
      ]
     },
     "execution_count": 26,
     "metadata": {},
     "output_type": "execute_result"
    }
   ],
   "source": [
    "class MyGatedShiftRegisterTester(c: MyGatedShiftRegister) extends PeekPokeTester(c) {\n",
    "  poke(c.io.update, 1)\n",
    "  expect(c.io.out, 1)  // b0001\n",
    "  poke(c.io.in, 0)\n",
    "  step(1)\n",
    "  expect(c.io.out, 2)  // b0010\n",
    "  poke(c.io.in, 1)\n",
    "  step(1)\n",
    "  expect(c.io.out, 5)  // b0101\n",
    "  poke(c.io.update, 0)  // pause\n",
    "  step(1)\n",
    "  expect(c.io.out, 5)\n",
    "  step(1)\n",
    "  expect(c.io.out, 5)\n",
    "  step(1)\n",
    "  poke(c.io.update, 1)  // unpause\n",
    "  poke(c.io.in, 1)\n",
    "  step(1)\n",
    "  expect(c.io.out, 11)  // b1011\n",
    "  poke(c.io.in, 0)\n",
    "  step(1)\n",
    "  expect(c.io.out, 6)  // b0110\n",
    "}\n",
    "\n",
    "Driver(() => new MyGatedShiftRegister, \"firrtl\") {\n",
    "  c => new MyGatedShiftRegisterTester(c)\n",
    "}"
   ]
  },
  {
   "cell_type": "markdown",
   "metadata": {},
   "source": [
    "# Modules\n",
    "_Without re-use, any non-trivial RTL design wouldn't get very far. This goes into the basics of re-use with Chisel._\n",
    "\n",
    "In all the example code, you've probably noticed that all your classes extend the `Module` class. Chisel `Module`s are very much like Verilog `module`s, they are instantiable blocks of logic that contain well-defined IO ports.\n",
    "\n",
    "As all `Module`s are classes, they can be instantiated using the `new` object syntax. However, they also must be wrapped in a `Module(...)` call. For example, to instantiate the 4-state counter example way above:\n",
    "```scala\n",
    "val myModule = Module(new MyCounter())\n",
    "```\n",
    "\n",
    "You can then reference its IO objects in its parent class. For example, if you wanted to know when `myModule`'s count was 3, you could:\n",
    "```scala\n",
    "val isCount3 = myModule.io.out === 3.U\n",
    "```\n",
    "\n",
    "## A 4-cycle tick\n",
    "This example below uses the `MyCounter` class from above to build a block that generates a one high cycle for every 4 clock cycles by comparing its output."
   ]
  },
  {
   "cell_type": "code",
   "execution_count": 28,
   "metadata": {
    "collapsed": false
   },
   "outputs": [
    {
     "name": "stdout",
     "output_type": "stream",
     "text": [
      "[\u001b[35minfo\u001b[0m] [0.000] Elaborating design...\n",
      "[\u001b[35minfo\u001b[0m] [0.003] Done elaborating.\n",
      "Total FIRRTL Compile Time: 14.0 ms\n",
      "Total FIRRTL Compile Time: 9.8 ms\n",
      "End of dependency graph\n",
      "Circuit state created\n",
      "[\u001b[35minfo\u001b[0m] [0.000] SEED 1501639504204\n",
      "out=2\n",
      "out=3\n",
      "out=0\n",
      "out=1\n",
      "out=2\n",
      "out=3\n",
      "out=0\n",
      "test cmd27WrapperHelperMyTicker Success: 7 tests passed in 12 cycles taking 0.004465 seconds\n",
      "[\u001b[35minfo\u001b[0m] [0.003] RAN 7 CYCLES PASSED\n"
     ]
    },
    {
     "data": {
      "text/plain": [
       "defined \u001b[32mclass\u001b[39m \u001b[36mMyTicker\u001b[39m\n",
       "defined \u001b[32mclass\u001b[39m \u001b[36mMyTickerTester\u001b[39m\n",
       "\u001b[36mres27_2\u001b[39m: \u001b[32mBoolean\u001b[39m = \u001b[32mtrue\u001b[39m"
      ]
     },
     "execution_count": 28,
     "metadata": {},
     "output_type": "execute_result"
    }
   ],
   "source": [
    "// Module containing the register\n",
    "class MyTicker extends Module {\n",
    "  val io = IO(new Bundle {\n",
    "    val out = Output(Bool())\n",
    "  })\n",
    "  \n",
    "  val myModule = Module(new MyCounter())\n",
    "  io.out := myModule.io.out === 3.U\n",
    "}\n",
    "\n",
    "// Testvector\n",
    "class MyTickerTester(c: MyTicker) extends PeekPokeTester(c) {\n",
    "  expect(c.io.out, 0)  // counter at 1\n",
    "  step(1)\n",
    "  expect(c.io.out, 0)  // counter at 2\n",
    "  step(1)\n",
    "  expect(c.io.out, 1)  // counter at 3\n",
    "  step(1)\n",
    "  expect(c.io.out, 0)  // counter at 0\n",
    "  step(1)\n",
    "  expect(c.io.out, 0)  // counter at 1\n",
    "  step(1)\n",
    "  expect(c.io.out, 0)  // counter at 2\n",
    "  step(1)\n",
    "  expect(c.io.out, 1)  // counter at 3\n",
    "  step(1)\n",
    "}\n",
    "\n",
    "// Driver run invocation\n",
    "Driver(() => new MyTicker, \"firrtl\") {\n",
    "  c => new MyTickerTester(c)\n",
    "}"
   ]
  },
  {
   "cell_type": "markdown",
   "metadata": {},
   "source": [
    "Modules are just one form of composition and re-use in Chisel, you'll learn more soon.\n",
    "\n",
    "## Now You Try: The Full LFSR\n",
    "\n",
    "Now, build a full LFSR by taking your `MyGatedShiftRegister` and `OperatorsExercise` modules and instantiating them in a parent module. As usual, the module skeleton and a testbench is provided for you."
   ]
  },
  {
   "cell_type": "code",
   "execution_count": 51,
   "metadata": {
    "collapsed": false
   },
   "outputs": [
    {
     "data": {
      "text/plain": [
       "defined \u001b[32mclass\u001b[39m \u001b[36mMyLfsr\u001b[39m"
      ]
     },
     "execution_count": 51,
     "metadata": {},
     "output_type": "execute_result"
    }
   ],
   "source": [
    "class MyLfsr extends Module {\n",
    "  val io = IO(new Bundle {\n",
    "    val update = Input(Bool())\n",
    "    val out = Output(UInt(4.W))\n",
    "  })\n",
    "  \n",
    "  val myShifter = Module(new MyGatedShiftRegister())\n",
    "  myShifter.io.update := io.update\n",
    "  \n",
    "  // YOUR CODE HERE\n",
    "  // Don't forget to make the other needed connections to myShifter!\n",
    "  \n",
    "  val myOperations = Module(new OperatorsExercise())\n",
    "\n",
    "  myOperations.io.seed := myShifter.io.out\n",
    "  myShifter.io.in := myOperations.io.result\n",
    "  io.out := myShifter.io.out\n",
    "  \n",
    "  printf(\"%x\\n\", io.out)\n",
    "}\n"
   ]
  },
  {
   "cell_type": "code",
   "execution_count": 52,
   "metadata": {
    "collapsed": false
   },
   "outputs": [
    {
     "name": "stdout",
     "output_type": "stream",
     "text": [
      "[\u001b[35minfo\u001b[0m] [0.000] Elaborating design...\n",
      "[\u001b[35minfo\u001b[0m] [0.004] Done elaborating.\n",
      "Total FIRRTL Compile Time: 18.4 ms\n",
      "Total FIRRTL Compile Time: 12.9 ms\n",
      "End of dependency graph\n",
      "Circuit state created\n",
      "[\u001b[35minfo\u001b[0m] [0.000] SEED 1501698829312\n",
      "2\n",
      "4\n",
      "9\n",
      "3\n",
      "6\n",
      "d\n",
      "a\n",
      "5\n",
      "b\n",
      "b\n",
      "b\n",
      "7\n",
      "f\n",
      "e\n",
      "c\n",
      "8\n",
      "1\n",
      "2\n",
      "4\n",
      "9\n",
      "3\n",
      "test cmd50WrapperHelperMyLfsr Success: 21 tests passed in 26 cycles taking 0.010868 seconds\n",
      "[\u001b[35minfo\u001b[0m] [0.009] RAN 21 CYCLES PASSED\n"
     ]
    },
    {
     "data": {
      "text/plain": [
       "defined \u001b[32mclass\u001b[39m \u001b[36mMyLfsrTester\u001b[39m\n",
       "\u001b[36mres51_1\u001b[39m: \u001b[32mBoolean\u001b[39m = \u001b[32mtrue\u001b[39m"
      ]
     },
     "execution_count": 52,
     "metadata": {},
     "output_type": "execute_result"
    }
   ],
   "source": [
    "// Testvector\n",
    "class MyLfsrTester(c: MyLfsr) extends PeekPokeTester(c) {\n",
    "  poke(c.io.update, 1)\n",
    "  expect(c.io.out, 1)\n",
    "  step(1)\n",
    "  expect(c.io.out, 2)\n",
    "  step(1)\n",
    "  expect(c.io.out, 4)\n",
    "  step(1)\n",
    "  expect(c.io.out, 9)\n",
    "  step(1)\n",
    "  expect(c.io.out, 3)\n",
    "  step(1)\n",
    "  expect(c.io.out, 6)\n",
    "  step(1)\n",
    "  expect(c.io.out, 13)\n",
    "  step(1)\n",
    "  expect(c.io.out, 10)\n",
    "  step(1)\n",
    "  expect(c.io.out, 5)\n",
    "  step(1)\n",
    "  expect(c.io.out, 11)\n",
    "  poke(c.io.update, 0)  // pause\n",
    "  step(1)\n",
    "  expect(c.io.out, 11)\n",
    "  step(1)\n",
    "  expect(c.io.out, 11)\n",
    "  poke(c.io.update, 1)  // unpause\n",
    "  step(1)\n",
    "  expect(c.io.out, 7)\n",
    "  step(1)\n",
    "  expect(c.io.out, 15)\n",
    "  step(1)\n",
    "  expect(c.io.out, 14)\n",
    "  step(1)\n",
    "  expect(c.io.out, 12)\n",
    "  step(1)\n",
    "  expect(c.io.out, 8)\n",
    "  step(1)\n",
    "  expect(c.io.out, 1)  // LFSR restarts\n",
    "  step(1)\n",
    "  expect(c.io.out, 2)\n",
    "  step(1)\n",
    "  expect(c.io.out, 4)\n",
    "  step(1)\n",
    "  expect(c.io.out, 9)\n",
    "  step(1)\n",
    "}\n",
    "\n",
    "// Driver run invocation\n",
    "Driver(() => new MyLfsr, \"firrtl\") {\n",
    "  c => new MyLfsrTester(c)\n",
    "}"
   ]
  },
  {
   "cell_type": "code",
   "execution_count": null,
   "metadata": {
    "collapsed": true
   },
   "outputs": [],
   "source": []
  }
 ],
 "metadata": {
  "kernelspec": {
   "display_name": "Scala",
   "language": "scala",
   "name": "scala"
  },
  "language_info": {
   "codemirror_mode": "text/x-scala",
   "file_extension": ".scala",
   "mimetype": "text/x-scala",
   "name": "scala211",
   "nbconvert_exporter": "script",
   "pygments_lexer": "scala",
   "version": "2.11.11"
  }
 },
 "nbformat": 4,
 "nbformat_minor": 0
}
