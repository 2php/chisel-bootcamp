{
 "cells": [
  {
   "cell_type": "code",
   "execution_count": 17,
   "metadata": {},
   "outputs": [
    {
     "data": {
      "text/plain": [
       "\u001b[32mimport \u001b[39m\u001b[36m$ivy.$                                                 \n",
       "\u001b[39m\n",
       "\u001b[32mimport \u001b[39m\u001b[36m$ivy.$                                                          \n",
       "\u001b[39m\n",
       "\u001b[32mimport \u001b[39m\u001b[36m$ivy.$                                                \n",
       "\u001b[39m\n",
       "\u001b[32mimport \u001b[39m\u001b[36mchisel3._\n",
       "\u001b[39m\n",
       "\u001b[32mimport \u001b[39m\u001b[36mchisel3.util._\n",
       "\u001b[39m\n",
       "\u001b[32mimport \u001b[39m\u001b[36mchisel3.iotesters.{ChiselFlatSpec, Driver, PeekPokeTester}\n",
       "\u001b[39m\n",
       "\u001b[32mimport \u001b[39m\u001b[36mscala.collection.mutable\n",
       "\u001b[39m\n",
       "defined \u001b[32mfunction\u001b[39m \u001b[36mgetVerilog\u001b[39m"
      ]
     },
     "execution_count": 17,
     "metadata": {},
     "output_type": "execute_result"
    }
   ],
   "source": [
    "// Run this boilerplate for the necessary imports\n",
    "\n",
    "import $ivy.`edu.berkeley.cs::chisel3:3.0-SNAPSHOT_2017-07-19`\n",
    "import $ivy.`edu.berkeley.cs::chisel-iotesters:1.1-SNAPSHOT_2017-07-19`\n",
    "import $ivy.`edu.berkeley.cs::firrtl:1.0-SNAPSHOT_2017-07-19`\n",
    "import chisel3._\n",
    "import chisel3.util._\n",
    "import chisel3.iotesters.{ChiselFlatSpec, Driver, PeekPokeTester}\n",
    "import scala.collection.mutable\n",
    "def getVerilog[T <: Module](gen: => T): String = {\n",
    "  chisel3.Driver.execute(Array[String](), {() => gen}) match {\n",
    "    case ChiselExecutionSuccess(_, _, Some(firrtl.FirrtlExecutionSuccess(_, verilog))) => verilog\n",
    "  }\n",
    "}"
   ]
  },
  {
   "cell_type": "code",
   "execution_count": 20,
   "metadata": {},
   "outputs": [
    {
     "data": {
      "text/plain": [
       "defined \u001b[32mclass\u001b[39m \u001b[36mMyManyElementFir\u001b[39m"
      ]
     },
     "execution_count": 20,
     "metadata": {},
     "output_type": "execute_result"
    }
   ],
   "source": [
    "class MyManyElementFir(consts: Seq[Int]) extends Module {\n",
    "  val io = IO(new Bundle {\n",
    "    val in = Input(UInt(8.W))\n",
    "    val out = Output(UInt(8.W))\n",
    "  })\n",
    "\n",
    "  // Reference solution\n",
    "  val regs = mutable.ArrayBuffer[UInt]()\n",
    "  for(i <- 0 until consts.length) {\n",
    "      if(i == 0) regs += io.in\n",
    "      else       regs += RegNext(regs(i - 1), 0.U)\n",
    "  }\n",
    "  \n",
    "  val muls = mutable.ArrayBuffer[UInt]()\n",
    "  for(i <- 0 until consts.length) {\n",
    "      muls += regs(i) * consts(i).U(8.W)\n",
    "  }\n",
    "\n",
    "  val scan = mutable.ArrayBuffer[UInt]()\n",
    "  for(i <- 0 until consts.length) {\n",
    "      if(i == 0) scan += muls(i)\n",
    "      else scan += muls(i) + scan(i - 1)\n",
    "  }\n",
    "\n",
    "  io.out := scan(consts.length - 1)\n",
    "}"
   ]
  },
  {
   "cell_type": "code",
   "execution_count": 36,
   "metadata": {},
   "outputs": [
    {
     "name": "stdout",
     "output_type": "stream",
     "text": [
      "[\u001b[35minfo\u001b[0m] [0.000] Elaborating design...\n",
      "[\u001b[35minfo\u001b[0m] [0.002] Done elaborating.\n",
      "Total FIRRTL Compile Time: 9.3 ms\n",
      "Total FIRRTL Compile Time: 8.0 ms\n",
      "End of dependency graph\n",
      "Circuit state created\n",
      "[\u001b[35minfo\u001b[0m] [0.000] SEED 1507918639968\n",
      "test cmd19WrapperHelperMyManyElementFir Success: 6 tests passed in 10 cycles taking 0.003722 seconds\n",
      "[\u001b[35minfo\u001b[0m] [0.002] RAN 5 CYCLES PASSED\n",
      "[\u001b[35minfo\u001b[0m] [0.000] Elaborating design...\n",
      "[\u001b[35minfo\u001b[0m] [0.002] Done elaborating.\n",
      ";buildInfoPackage: chisel3, version: 3.0-SNAPSHOT_2017-07-19, scalaVersion: 2.11.11, sbtVersion: 0.13.15, builtAtString: 2017-07-19 18:56:34.453, builtAtMillis: 1500490594453\n",
      "circuit cmd19WrapperHelperMyManyElementFir : \n",
      "  module cmd19WrapperHelperMyManyElementFir : \n",
      "    input clock : Clock\n",
      "    input reset : UInt<1>\n",
      "    output io : {flip in : UInt<8>, out : UInt<8>}\n",
      "    \n",
      "    clock is invalid\n",
      "    reset is invalid\n",
      "    io is invalid\n",
      "    reg regs_1 : UInt, clock with : (reset => (reset, UInt<1>(\"h00\"))) @[cmd19.sc 11:33]\n",
      "    regs_1 <= io.in @[cmd19.sc 11:33]\n",
      "    reg regs_2 : UInt, clock with : (reset => (reset, UInt<1>(\"h00\"))) @[cmd19.sc 11:33]\n",
      "    regs_2 <= regs_1 @[cmd19.sc 11:33]\n",
      "    reg regs_3 : UInt, clock with : (reset => (reset, UInt<1>(\"h00\"))) @[cmd19.sc 11:33]\n",
      "    regs_3 <= regs_2 @[cmd19.sc 11:33]\n",
      "    node muls_0 = mul(io.in, UInt<8>(\"h01\")) @[cmd19.sc 16:23]\n",
      "    node muls_1 = mul(regs_1, UInt<8>(\"h01\")) @[cmd19.sc 16:23]\n",
      "    node muls_2 = mul(regs_2, UInt<8>(\"h01\")) @[cmd19.sc 16:23]\n",
      "    node muls_3 = mul(regs_3, UInt<8>(\"h01\")) @[cmd19.sc 16:23]\n",
      "    node _T_14 = add(muls_1, muls_0) @[cmd19.sc 22:28]\n",
      "    node scan_1 = tail(_T_14, 1) @[cmd19.sc 22:28]\n",
      "    node _T_15 = add(muls_2, scan_1) @[cmd19.sc 22:28]\n",
      "    node scan_2 = tail(_T_15, 1) @[cmd19.sc 22:28]\n",
      "    node _T_16 = add(muls_3, scan_2) @[cmd19.sc 22:28]\n",
      "    node scan_3 = tail(_T_16, 1) @[cmd19.sc 22:28]\n",
      "    io.out <= scan_3 @[cmd19.sc 25:10]\n",
      "    \n",
      "\n"
     ]
    },
    {
     "data": {
      "text/plain": [
       "\u001b[36mres35_0\u001b[39m: \u001b[32mBoolean\u001b[39m = \u001b[32mtrue\u001b[39m"
      ]
     },
     "execution_count": 36,
     "metadata": {},
     "output_type": "execute_result"
    }
   ],
   "source": [
    "// Simple 4-point moving average\n",
    "Driver(() => new MyManyElementFir(Seq(1, 1, 1, 1))) {\n",
    "  c => new PeekPokeTester(c) {\n",
    "    poke(c.io.in, 1)\n",
    "    expect(c.io.out, 1)  // 1, 0, 0, 0\n",
    "    step(1)\n",
    "    poke(c.io.in, 4)\n",
    "    expect(c.io.out, 5)  // 4, 1, 0, 0\n",
    "    step(1)\n",
    "    poke(c.io.in, 3)\n",
    "    expect(c.io.out, 8)  // 3, 4, 1, 0\n",
    "    step(1)\n",
    "    poke(c.io.in, 2)\n",
    "    expect(c.io.out, 10)  // 2, 3, 4, 1\n",
    "    step(1)\n",
    "    poke(c.io.in, 7)\n",
    "    expect(c.io.out, 16)  // 7, 2, 3, 4\n",
    "    step(1)\n",
    "    poke(c.io.in, 0)\n",
    "    expect(c.io.out, 12)  // 0, 7, 2, 3\n",
    "  }\n",
    "}\n",
    "println(chisel3.Driver.emit(() => new MyManyElementFir(Seq(1, 1, 1, 1))))"
   ]
  },
  {
   "cell_type": "code",
   "execution_count": 23,
   "metadata": {},
   "outputs": [
    {
     "data": {
      "text/plain": [
       "defined \u001b[32mclass\u001b[39m \u001b[36mMyManyDynamicElementFir\u001b[39m"
      ]
     },
     "execution_count": 23,
     "metadata": {},
     "output_type": "execute_result"
    }
   ],
   "source": [
    "class MyManyDynamicElementFir(length: Int) extends Module {\n",
    "  val io = IO(new Bundle {\n",
    "    val in = Input(UInt(8.W))\n",
    "    val out = Output(UInt(8.W))\n",
    "    val consts = Input(Vec(length, UInt(8.W)))\n",
    "  })\n",
    "\n",
    "  // Reference solution\n",
    "  val regs = mutable.ArrayBuffer[UInt]()\n",
    "  for(i <- 0 until length) {\n",
    "      if(i == 0) regs += io.in\n",
    "      else       regs += RegNext(regs(i - 1), 0.U)\n",
    "  }\n",
    "  \n",
    "  val muls = mutable.ArrayBuffer[UInt]()\n",
    "  for(i <- 0 until length) {\n",
    "      muls += regs(i) * io.consts(i)\n",
    "  }\n",
    "\n",
    "  val scan = mutable.ArrayBuffer[UInt]()\n",
    "  for(i <- 0 until length) {\n",
    "      if(i == 0) scan += muls(i)\n",
    "      else scan += muls(i) + scan(i - 1)\n",
    "  }\n",
    "\n",
    "  io.out := scan(length - 1)\n",
    "}"
   ]
  },
  {
   "cell_type": "code",
   "execution_count": 25,
   "metadata": {},
   "outputs": [
    {
     "name": "stdout",
     "output_type": "stream",
     "text": [
      "[\u001b[35minfo\u001b[0m] [0.000] Elaborating design...\n",
      "[\u001b[35minfo\u001b[0m] [0.003] Done elaborating.\n",
      "Total FIRRTL Compile Time: 10.4 ms\n",
      "Total FIRRTL Compile Time: 8.7 ms\n",
      "End of dependency graph\n",
      "Circuit state created\n",
      "[\u001b[35minfo\u001b[0m] [0.000] SEED 1507917164324\n",
      "test cmd22WrapperHelperMyManyDynamicElementFir Success: 6 tests passed in 10 cycles taking 0.005294 seconds\n",
      "[\u001b[35minfo\u001b[0m] [0.004] RAN 5 CYCLES PASSED\n"
     ]
    },
    {
     "data": {
      "text/plain": [
       "\u001b[36mres24\u001b[39m: \u001b[32mBoolean\u001b[39m = \u001b[32mtrue\u001b[39m"
      ]
     },
     "execution_count": 25,
     "metadata": {},
     "output_type": "execute_result"
    }
   ],
   "source": [
    "// Simple 4-point moving average\n",
    "Driver(() => new MyManyDynamicElementFir(4)) {\n",
    "  c => new PeekPokeTester(c) {\n",
    "    /* Set constant values */\n",
    "    poke(c.io.consts(0), 1)\n",
    "    poke(c.io.consts(1), 1)\n",
    "    poke(c.io.consts(2), 1)\n",
    "    poke(c.io.consts(3), 1)\n",
    "    \n",
    "    /* Set input value and check output value */\n",
    "    poke(c.io.in, 1)\n",
    "    expect(c.io.out, 1)  // 1, 0, 0, 0\n",
    "    step(1)\n",
    "    poke(c.io.in, 4)\n",
    "    expect(c.io.out, 5)  // 4, 1, 0, 0\n",
    "    step(1)\n",
    "    poke(c.io.in, 3)\n",
    "    expect(c.io.out, 8)  // 3, 4, 1, 0\n",
    "    step(1)\n",
    "    poke(c.io.in, 2)\n",
    "    expect(c.io.out, 10)  // 2, 3, 4, 1\n",
    "    step(1)\n",
    "    poke(c.io.in, 7)\n",
    "    expect(c.io.out, 16)  // 7, 2, 3, 4\n",
    "    step(1)\n",
    "    poke(c.io.in, 0)\n",
    "    expect(c.io.out, 12)  // 0, 7, 2, 3\n",
    "  }\n",
    "}"
   ]
  },
  {
   "cell_type": "code",
   "execution_count": 32,
   "metadata": {},
   "outputs": [
    {
     "data": {
      "text/plain": [
       "defined \u001b[32mclass\u001b[39m \u001b[36mMyManyDynamicElementVecFir\u001b[39m"
      ]
     },
     "execution_count": 32,
     "metadata": {},
     "output_type": "execute_result"
    }
   ],
   "source": [
    "class MyManyDynamicElementVecFir(length: Int) extends Module {\n",
    "  val io = IO(new Bundle {\n",
    "    val in = Input(UInt(8.W))\n",
    "    val out = Output(UInt(8.W))\n",
    "    val consts = Input(Vec(length, UInt(8.W)))\n",
    "  })\n",
    "\n",
    "  // Reference solution\n",
    "  val regs = RegInit(Vec(length - 1, UInt(8.W)), Vec.fill(length - 1)(0.U))\n",
    "  for(i <- 0 until length - 1) {\n",
    "      if(i == 0) regs(i) := io.in\n",
    "      else       regs(i) := regs(i - 1)\n",
    "  }\n",
    "  \n",
    "  val muls = Wire(Vec(length, UInt(8.W)))\n",
    "  for(i <- 0 until length) {\n",
    "      if(i == 0) muls(i) := io.in * io.consts(i)\n",
    "      else       muls(i) := regs(i - 1) * io.consts(i)\n",
    "  }\n",
    "\n",
    "  val scan = Wire(Vec(length, UInt(8.W)))\n",
    "  for(i <- 0 until length) {\n",
    "      if(i == 0) scan(i) := muls(i)\n",
    "      else scan(i) := muls(i) + scan(i - 1)\n",
    "  }\n",
    "\n",
    "  io.out := scan(length - 1)\n",
    "}"
   ]
  },
  {
   "cell_type": "code",
   "execution_count": 35,
   "metadata": {},
   "outputs": [
    {
     "name": "stdout",
     "output_type": "stream",
     "text": [
      "[\u001b[35minfo\u001b[0m] [0.000] Elaborating design...\n",
      "[\u001b[35minfo\u001b[0m] [0.002] Done elaborating.\n",
      "Total FIRRTL Compile Time: 10.7 ms\n",
      "Total FIRRTL Compile Time: 8.3 ms\n",
      "End of dependency graph\n",
      "Circuit state created\n",
      "[\u001b[35minfo\u001b[0m] [0.000] SEED 1507918487575\n",
      "test cmd31WrapperHelperMyManyDynamicElementVecFir Success: 6 tests passed in 10 cycles taking 0.004068 seconds\n",
      "[\u001b[35minfo\u001b[0m] [0.003] RAN 5 CYCLES PASSED\n",
      "[\u001b[35minfo\u001b[0m] [0.000] Elaborating design...\n",
      "[\u001b[35minfo\u001b[0m] [0.002] Done elaborating.\n",
      ";buildInfoPackage: chisel3, version: 3.0-SNAPSHOT_2017-07-19, scalaVersion: 2.11.11, sbtVersion: 0.13.15, builtAtString: 2017-07-19 18:56:34.453, builtAtMillis: 1500490594453\n",
      "circuit cmd31WrapperHelperMyManyDynamicElementVecFir : \n",
      "  module cmd31WrapperHelperMyManyDynamicElementVecFir : \n",
      "    input clock : Clock\n",
      "    input reset : UInt<1>\n",
      "    output io : {flip in : UInt<8>, out : UInt<8>, flip consts : UInt<8>[4]}\n",
      "    \n",
      "    clock is invalid\n",
      "    reset is invalid\n",
      "    io is invalid\n",
      "    wire _T_21 : UInt<1>[3] @[cmd31.sc 9:70]\n",
      "    _T_21 is invalid @[cmd31.sc 9:70]\n",
      "    _T_21[0] <= UInt<1>(\"h00\") @[cmd31.sc 9:70]\n",
      "    _T_21[1] <= UInt<1>(\"h00\") @[cmd31.sc 9:70]\n",
      "    _T_21[2] <= UInt<1>(\"h00\") @[cmd31.sc 9:70]\n",
      "    reg regs : UInt<8>[3], clock with : (reset => (reset, _T_21)) @[cmd31.sc 9:21]\n",
      "    regs[0] <= io.in @[cmd31.sc 11:26]\n",
      "    regs[1] <= regs[0] @[cmd31.sc 12:26]\n",
      "    regs[2] <= regs[1] @[cmd31.sc 12:26]\n",
      "    wire muls : UInt<8>[4] @[cmd31.sc 15:18]\n",
      "    muls is invalid @[cmd31.sc 15:18]\n",
      "    node _T_41 = mul(io.in, io.consts[0]) @[cmd31.sc 17:35]\n",
      "    muls[0] <= _T_41 @[cmd31.sc 17:26]\n",
      "    node _T_42 = mul(regs[0], io.consts[1]) @[cmd31.sc 18:41]\n",
      "    muls[1] <= _T_42 @[cmd31.sc 18:26]\n",
      "    node _T_43 = mul(regs[1], io.consts[2]) @[cmd31.sc 18:41]\n",
      "    muls[2] <= _T_43 @[cmd31.sc 18:26]\n",
      "    node _T_44 = mul(regs[2], io.consts[3]) @[cmd31.sc 18:41]\n",
      "    muls[3] <= _T_44 @[cmd31.sc 18:26]\n",
      "    wire scan : UInt<8>[4] @[cmd31.sc 21:18]\n",
      "    scan is invalid @[cmd31.sc 21:18]\n",
      "    scan[0] <= muls[0] @[cmd31.sc 23:26]\n",
      "    node _T_54 = add(muls[1], scan[0]) @[cmd31.sc 24:31]\n",
      "    node _T_55 = tail(_T_54, 1) @[cmd31.sc 24:31]\n",
      "    scan[1] <= _T_55 @[cmd31.sc 24:20]\n",
      "    node _T_56 = add(muls[2], scan[1]) @[cmd31.sc 24:31]\n",
      "    node _T_57 = tail(_T_56, 1) @[cmd31.sc 24:31]\n",
      "    scan[2] <= _T_57 @[cmd31.sc 24:20]\n",
      "    node _T_58 = add(muls[3], scan[2]) @[cmd31.sc 24:31]\n",
      "    node _T_59 = tail(_T_58, 1) @[cmd31.sc 24:31]\n",
      "    scan[3] <= _T_59 @[cmd31.sc 24:20]\n",
      "    io.out <= scan[3] @[cmd31.sc 27:10]\n",
      "    \n",
      "\n"
     ]
    },
    {
     "data": {
      "text/plain": [
       "\u001b[36mres34_0\u001b[39m: \u001b[32mBoolean\u001b[39m = \u001b[32mtrue\u001b[39m"
      ]
     },
     "execution_count": 35,
     "metadata": {},
     "output_type": "execute_result"
    }
   ],
   "source": [
    "// Simple 4-point moving average\n",
    "Driver(() => new MyManyDynamicElementVecFir(4)) {\n",
    "  c => new PeekPokeTester(c) {\n",
    "    /* Set constant values */\n",
    "    poke(c.io.consts(0), 1)\n",
    "    poke(c.io.consts(1), 1)\n",
    "    poke(c.io.consts(2), 1)\n",
    "    poke(c.io.consts(3), 1)\n",
    "    \n",
    "    /* Set input value and check output value */\n",
    "    poke(c.io.in, 1)\n",
    "    expect(c.io.out, 1)  // 1, 0, 0, 0\n",
    "    step(1)\n",
    "    poke(c.io.in, 4)\n",
    "    expect(c.io.out, 5)  // 4, 1, 0, 0\n",
    "    step(1)\n",
    "    poke(c.io.in, 3)\n",
    "    expect(c.io.out, 8)  // 3, 4, 1, 0\n",
    "    step(1)\n",
    "    poke(c.io.in, 2)\n",
    "    expect(c.io.out, 10)  // 2, 3, 4, 1\n",
    "    step(1)\n",
    "    poke(c.io.in, 7)\n",
    "    expect(c.io.out, 16)  // 7, 2, 3, 4\n",
    "    step(1)\n",
    "    poke(c.io.in, 0)\n",
    "    expect(c.io.out, 12)  // 0, 7, 2, 3\n",
    "  }\n",
    "}\n",
    "println(chisel3.Driver.emit(() => new MyManyDynamicElementVecFir(4)))"
   ]
  },
  {
   "cell_type": "code",
   "execution_count": null,
   "metadata": {
    "collapsed": true
   },
   "outputs": [],
   "source": []
  }
 ],
 "metadata": {
  "kernelspec": {
   "display_name": "Scala",
   "language": "scala",
   "name": "scala"
  },
  "language_info": {
   "codemirror_mode": "text/x-scala",
   "file_extension": ".scala",
   "mimetype": "text/x-scala",
   "name": "scala211",
   "nbconvert_exporter": "script",
   "pygments_lexer": "scala",
   "version": "2.11.11"
  }
 },
 "nbformat": 4,
 "nbformat_minor": 2
}
