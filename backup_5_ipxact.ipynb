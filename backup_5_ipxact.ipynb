{
 "cells": [
  {
   "cell_type": "markdown",
   "metadata": {},
   "source": [
    "# Module 5: Introduction to IP-XACT\n",
    "\n",
    "[The goal of IP-XACT](http://www.accellera.org/activities/working-groups/ip-xact) is \n",
    "> to provide a well-defined XML Schema for meta-data that documents the characteristics of Intellectual Property (IP) required for the automation of the configuration and integration of IP blocks; and to define an Application Programming Interface (API) to make this meta-data directly accessible to automation tools.\n",
    "\n",
    "In our case, \"characteristics of IP\" mean interface type and mapping, memory-mapped register addressing, and generator parameter value enumeration. For example, for a custom, streaming FIR filter IP, the input and output interfaces are AXI4-Stream. The IP-XACT maps the AXI4-Stream standard field names to design ports of the IP. An AXI4 interface supports control and status register access, such as each tap in the filter, so the IP-XACT for this interface includes addresses for each memory-mapped register. Finally, if the IP comes from a generator, the IP-XACT will include generator parameters, such as the number of taps, data types, and pipeline depth. The image below gives an example of what a streaming DSP IP might look like, where the DSP block might be an FIR filter. Below it is some example XML code of a subset of the AXI4-Stream interface. It maps the standard's ports to the physical ports in the IP.\n",
    "\n",
    "![DSP Block](images/fir_filter.png)\n",
    "\n",
    "```xml\n",
    "<spirit:busInterface>\n",
    "  <spirit:name>data_in</spirit:name>\n",
    "  <spirit:busType spirit:name=\"AXI4Stream\" spirit:version=\"r0p0_1\"/>\n",
    "  <spirit:abstractionType spirit:name=\"AXI4Stream_rtl\" spirit:version=\"r0p0_1\"/>\n",
    "  <spirit:slave/>\n",
    "  <spirit:portMaps>\n",
    "    <spirit:portMap>\n",
    "      <spirit:logicalPort>\n",
    "        <spirit:name>ACLK</spirit:name>\n",
    "      </spirit:logicalPort>\n",
    "      <spirit:physicalPort>\n",
    "        <spirit:name>clock</spirit:name>\n",
    "      </spirit:physicalPort>\n",
    "    </spirit:portMap>\n",
    "    <spirit:portMap>\n",
    "      <spirit:logicalPort>\n",
    "        <spirit:name>ARESETn</spirit:name>\n",
    "      </spirit:logicalPort>\n",
    "      <spirit:physicalPort>\n",
    "        <spirit:name>reset</spirit:name>\n",
    "      </spirit:physicalPort>\n",
    "    </spirit:portMap>\n",
    "    <spirit:portMap>\n",
    "      <spirit:logicalPort>\n",
    "        <spirit:name>TDATA</spirit:name>\n",
    "      </spirit:logicalPort>\n",
    "      <spirit:physicalPort>\n",
    "        <spirit:name>io_in_bits</spirit:name>\n",
    "      </spirit:physicalPort>\n",
    "    </spirit:portMap>\n",
    "    <spirit:portMap>\n",
    "      <spirit:logicalPort>\n",
    "        <spirit:name>TLAST</spirit:name>\n",
    "      </spirit:logicalPort>\n",
    "      <spirit:physicalPort>\n",
    "        <spirit:name>io_in_sync</spirit:name>\n",
    "      </spirit:physicalPort>\n",
    "    </spirit:portMap>\n",
    "    <spirit:portMap>\n",
    "      <spirit:logicalPort>\n",
    "        <spirit:name>TVALID</spirit:name>\n",
    "      </spirit:logicalPort>\n",
    "      <spirit:physicalPort>\n",
    "        <spirit:name>io_in_valid</spirit:name>\n",
    "      </spirit:physicalPort>\n",
    "    </spirit:portMap>\n",
    "  </spirit:portMaps>\n",
    "</spirit:busInterface>\n",
    "```"
   ]
  },
  {
   "cell_type": "code",
   "execution_count": null,
   "metadata": {
    "collapsed": true
   },
   "outputs": [],
   "source": []
  }
 ],
 "metadata": {
  "kernelspec": {
   "display_name": "Scala",
   "language": "scala",
   "name": "scala"
  },
  "language_info": {
   "codemirror_mode": "text/x-scala",
   "file_extension": ".scala",
   "mimetype": "text/x-scala",
   "name": "scala211",
   "nbconvert_exporter": "script",
   "pygments_lexer": "scala",
   "version": "2.11.11"
  }
 },
 "nbformat": 4,
 "nbformat_minor": 2
}
