{
 "cells": [
  {
   "cell_type": "markdown",
   "metadata": {},
   "source": [
    "![Chisel](https://chisel.eecs.berkeley.edu/assets/img/chisel_64.png)"
   ]
  },
  {
   "cell_type": "markdown",
   "metadata": {},
   "source": [
    "# Module 3.4: Functional Programming\n",
    "#### Written by Stevo Bailey ([stevo@berkeley.edu](mailto:stevo@berkeley.edu))"
   ]
  },
  {
   "cell_type": "markdown",
   "metadata": {},
   "source": [
    "## Table of Contents\n",
    "Scala is a functional programming language. This means functions can be passed around as objects, avoiding mutable data in favor of computation. You can use functional programming techniques when constructing your hardware generators to improve the capabilities and flexibility. This module presents an introduction to functional programming use in Chisel.\n",
    "\n",
    "**[Functional Programming in Scala](#scala)**\n",
    "1. [Functions as Objects](#obj)\n",
    "1. [Anonymous Functions](#anon)\n",
    "1. [Functions Exercises](#scalaex)\n",
    "\n",
    "**[Functional Programming in Chisel](#chisel)**\n",
    "1. [Packages and Imports](#packages)\n"
   ]
  },
  {
   "cell_type": "markdown",
   "metadata": {},
   "source": [
    "# Functional Programming in Scala<a name=\"scala\"></a>\n",
    "Scala functions were introduced in Module 1. Functions take any number of inputs and produce one output. Inputs are often called arguments to a function. To produce no output, return the `Unit` type. Below are some examples of functions."
   ]
  },
  {
   "cell_type": "code",
   "execution_count": null,
   "metadata": {
    "collapsed": false
   },
   "outputs": [],
   "source": [
    "// no inputs or outputs\n",
    "def hello(): Unit = { print(\"Hello!\") }\n",
    "\n",
    "// math operation, one input and one output\n",
    "def times2(x: Int): Int = { 2 * x }\n",
    "\n",
    "// inputs can have default values, and the return type is optional\n",
    "def timesN(x: Int, n: Int = 2) = { n * x }\n",
    "\n",
    "// call the functions listed above\n",
    "hello()\n",
    "times2(4)\n",
    "timesN(4)         // no need to specify n to use the default value\n",
    "timesN(4, 3)      // argument order is the same as the order where the function was defined\n",
    "timesN(n=7, x=2)  // arguments may be reordered and assigned to explicitly"
   ]
  },
  {
   "cell_type": "markdown",
   "metadata": {},
   "source": [
    "## Functions as Objects <a name=\"obj\"></a>\n",
    "Functions may be treated like objects. That means we can assign a function to a `val` and pass it to classes, objects, or other functions as an argument."
   ]
  },
  {
   "cell_type": "code",
   "execution_count": null,
   "metadata": {
    "collapsed": false
   },
   "outputs": [],
   "source": [
    "// these are normal functions\n",
    "def plus1funct(x: Int): Int = { x + 1 }\n",
    "def times2funct(x: Int): Int = { x * 2 }\n",
    "\n",
    "// these are functions as vals\n",
    "// the first one explicitly specifies the return type\n",
    "val plus1val: Int => Int = x => { x + 1 }\n",
    "val times2val = (x: Int) => { x * 2 }\n",
    "\n",
    "// calling both looks the same\n",
    "plus1funct(4)\n",
    "plus1val(4)"
   ]
  },
  {
   "cell_type": "markdown",
   "metadata": {},
   "source": [
    "Why would you want to create a `val` instead of a `def`? With a `val`, you can now pass the function around to other functions, as shown below. You can even create your own functions that accept other functions as arguments."
   ]
  },
  {
   "cell_type": "code",
   "execution_count": null,
   "metadata": {
    "collapsed": false
   },
   "outputs": [],
   "source": [
    "// create our function\n",
    "val plus1 = (x: Int) => x + 1\n",
    "val times2 = (x: Int) => x * 2\n",
    "\n",
    "// pass it to map, a list function\n",
    "val myList = List(1, 2, 5, 9)\n",
    "val myListPlus = myList.map(plus1)\n",
    "val myListTimes = myList.map(times2)\n",
    "\n",
    "\n",
    "// create a custom function, which performs an operation on X N times using recursion\n",
    "def opN(x: Int, n: Int, op: Int => Int): Int = {\n",
    "  if (n <= 0) { x }\n",
    "  else { opN(op(x), n-1, op) }\n",
    "}\n",
    "\n",
    "opN(7, 3, plus1)\n",
    "opN(7, 3, times2)"
   ]
  },
  {
   "cell_type": "markdown",
   "metadata": {},
   "source": [
    "## Anonymous Functions <a name=\"anon\"></a>\n",
    "As the name implies, anonymous functions are nameless. There's no need to create a `val` for a function if we'll only use it once. The following example demonstrates this"
   ]
  },
  {
   "cell_type": "code",
   "execution_count": null,
   "metadata": {
    "collapsed": false
   },
   "outputs": [],
   "source": [
    "val myList = List(1, 2, 5, 9)\n",
    "\n",
    "// add one to every item in the list using anonymous functions\n",
    "// these all do the same thing\n",
    "myList.map( (x:Int) => x + 1 )\n",
    "myList.map(_ + 1)"
   ]
  },
  {
   "cell_type": "markdown",
   "metadata": {},
   "source": [
    "## Functions Exercises<a name=\"scalaex\"></a>\n",
    "TODO"
   ]
  },
  {
   "cell_type": "markdown",
   "metadata": {},
   "source": [
    "# Functional Programming in Chisel<a name=\"chisel\"></a>\n",
    "Let's look at some examples of how to use functional programming when creating hardware generators in Chisel."
   ]
  },
  {
   "cell_type": "code",
   "execution_count": 23,
   "metadata": {
    "collapsed": false
   },
   "outputs": [
    {
     "data": {
      "text/plain": [
       "\u001b[32mimport \u001b[39m\u001b[36m$ivy.$                                                 \n",
       "\u001b[39m\n",
       "\u001b[32mimport \u001b[39m\u001b[36m$ivy.$                                                          \n",
       "\u001b[39m\n",
       "\u001b[32mimport \u001b[39m\u001b[36m$ivy.$                                                \n",
       "\u001b[39m\n",
       "\u001b[32mimport \u001b[39m\u001b[36mchisel3._\n",
       "\u001b[39m\n",
       "\u001b[32mimport \u001b[39m\u001b[36mchisel3.util._\n",
       "\u001b[39m\n",
       "\u001b[32mimport \u001b[39m\u001b[36mchisel3.iotesters.{ChiselFlatSpec, Driver, PeekPokeTester}\u001b[39m"
      ]
     },
     "execution_count": 23,
     "metadata": {},
     "output_type": "execute_result"
    }
   ],
   "source": [
    "// Run this boilerplate for the necessary imports\n",
    "\n",
    "import $ivy.`edu.berkeley.cs::chisel3:3.0-SNAPSHOT_2017-07-19`\n",
    "import $ivy.`edu.berkeley.cs::chisel-iotesters:1.1-SNAPSHOT_2017-07-19`\n",
    "import $ivy.`edu.berkeley.cs::firrtl:1.0-SNAPSHOT_2017-07-19`\n",
    "import chisel3._\n",
    "import chisel3.util._\n",
    "import chisel3.iotesters.{ChiselFlatSpec, Driver, PeekPokeTester}"
   ]
  },
  {
   "cell_type": "markdown",
   "metadata": {},
   "source": [
    "First, we'll revisit the FIR filter from previous examples. Instead of passing in the coefficients as parameters to the class or making them programmable, we'll pass a function to the FIR that defines how the window coefficients are calculated. This function will take the window length and bitwidth to produce a scaled list of coefficients. Here are two example windows. To avoid fractions, we'll scale the coefficients to be between the max and min integer values. For more on these windows, check out the [this Wikipedia page](https://en.wikipedia.org/wiki/Window_function)."
   ]
  },
  {
   "cell_type": "code",
   "execution_count": 25,
   "metadata": {
    "collapsed": false
   },
   "outputs": [
    {
     "data": {
      "text/plain": [
       "\u001b[32mimport \u001b[39m\u001b[36mscala.math.{abs, round, cos, Pi}\n",
       "\n",
       "// simple triangular window\n",
       "\u001b[39m\n",
       "defined \u001b[32mfunction\u001b[39m \u001b[36mTriangularWindow\u001b[39m\n",
       "defined \u001b[32mfunction\u001b[39m \u001b[36mHammingWindow\u001b[39m\n",
       "\u001b[36mres24_3\u001b[39m: \u001b[32mSeq\u001b[39m[\u001b[32mInt\u001b[39m] = \u001b[33mVector\u001b[39m(\u001b[32m0\u001b[39m, \u001b[32m4\u001b[39m, \u001b[32m7\u001b[39m, \u001b[32m11\u001b[39m, \u001b[32m14\u001b[39m, \u001b[32m14\u001b[39m, \u001b[32m11\u001b[39m, \u001b[32m7\u001b[39m, \u001b[32m4\u001b[39m, \u001b[32m0\u001b[39m)\n",
       "\u001b[36mres24_4\u001b[39m: \u001b[32mSeq\u001b[39m[\u001b[32mInt\u001b[39m] = \u001b[33mVector\u001b[39m(\u001b[32m1\u001b[39m, \u001b[32m3\u001b[39m, \u001b[32m7\u001b[39m, \u001b[32m12\u001b[39m, \u001b[32m16\u001b[39m, \u001b[32m16\u001b[39m, \u001b[32m12\u001b[39m, \u001b[32m7\u001b[39m, \u001b[32m3\u001b[39m, \u001b[32m1\u001b[39m)"
      ]
     },
     "execution_count": 25,
     "metadata": {},
     "output_type": "execute_result"
    }
   ],
   "source": [
    "// get some math functions\n",
    "import scala.math.{abs, round, cos, Pi, pow}\n",
    "\n",
    "// simple triangular window\n",
    "def TriangularWindow(length: Int, bitwidth: Int): Seq[Int] = {\n",
    "  val raw_coeffs = (0 until length).map( (x:Int) => 1-abs((x.toDouble-(length-1)/2.0)/((length-1)/2.0)) )\n",
    "  val scaled_coeffs = raw_coeffs.map( (x: Double) => round(x * pow(2, bitwidth)).toInt)\n",
    "  scaled_coeffs\n",
    "}\n",
    "\n",
    "// Hamming window\n",
    "def HammingWindow(length: Int, bitwidth: Int): Seq[Int] = {\n",
    "  val raw_coeffs = (0 until length).map( (x: Int) => 0.54 - 0.46*cos(2*Pi*x/(length-1)))\n",
    "  val scaled_coeffs = raw_coeffs.map( (x: Double) => round(x * pow(2, bitwidth)).toInt)\n",
    "  scaled_coeffs\n",
    "}\n",
    "\n",
    "// check it out!\n",
    "TriangularWindow(length=10, bitwidth=16)\n",
    "HammingWindow(length=10, bitwidth=16)"
   ]
  },
  {
   "cell_type": "markdown",
   "metadata": {},
   "source": [
    "Now we'll create a FIR filter that accepts a window function as the argument. This allows us to define new windows later on and retain the same FIR generator. It also allows us to independently size the FIR, knowing the window will be recalculated for different lengths or bitwidths."
   ]
  },
  {
   "cell_type": "code",
   "execution_count": 32,
   "metadata": {
    "collapsed": false
   },
   "outputs": [
    {
     "data": {
      "text/plain": [
       "defined \u001b[32mclass\u001b[39m \u001b[36mMyFir\u001b[39m"
      ]
     },
     "execution_count": 32,
     "metadata": {},
     "output_type": "execute_result"
    }
   ],
   "source": [
    "// our FIR has parameterized window length, IO bitwidth, and windowing function\n",
    "class MyFir(length: Int, bitwidth: Int, window: (Int, Int) => Seq[Int]) extends Module {\n",
    "  val io = IO(new Bundle {\n",
    "    val in = Input(UInt(bitwidth.W))\n",
    "    val out = Output(UInt(bitwidth.W))\n",
    "  })\n",
    "\n",
    "  // calculate the coefficients using the provided window function, mapping to UInts\n",
    "  val coeffs = window(length, bitwidth).map(_.U)\n",
    "  \n",
    "  // create an array holding the output of the delays\n",
    "  val delays = Vec(length, UInt(bitwidth.W)).scanLeft(io.in)( (prev: UInt, next: UInt) => {\n",
    "    next := RegNext(prev)\n",
    "    next\n",
    "  })\n",
    "  \n",
    "  // multiply, putting result in \"mults\"\n",
    "  val mults = delays.zip(coeffs).map{ case(delay: UInt, coeff: UInt) => delay * coeff }\n",
    "  \n",
    "  // add up multiplier outputs\n",
    "  val result = mults.reduceLeft(_+_)\n",
    "  \n",
    "  // choose MSBs\n",
    "  io.out := result(result.getWidth-1, result.getWidth-bitwidth)\n",
    "}"
   ]
  },
  {
   "cell_type": "code",
   "execution_count": null,
   "metadata": {
    "collapsed": true
   },
   "outputs": [],
   "source": [
    "import scala.math.{pow, sin, Pi}\n",
    "\n",
    "\n",
    "// test parameters\n",
    "val length = 10\n",
    "val bitwidth = 16\n",
    "val window = TriangularWindow\n",
    "\n",
    "// test our FIR\n",
    "Driver(() => new MyFir(length, bitwidth, window)) {\n",
    "  c => new PeekPokeTester(c) {\n",
    "    \n",
    "    // test data\n",
    "    val n = 1000\n",
    "    val freq = 10\n",
    "    \n",
    "    // sample data\n",
    "    val max_value = pow(2, bitwidth)-1\n",
    "    val sine = (0 until n).map(i => max_value/2 + max_value/2*sin(2*Pi*freq*i))\n",
    "    \n",
    "    // \n",
    "  }\n",
    "}"
   ]
  }
 ],
 "metadata": {
  "kernelspec": {
   "display_name": "Scala",
   "language": "scala",
   "name": "scala"
  },
  "language_info": {
   "codemirror_mode": "text/x-scala",
   "file_extension": ".scala",
   "mimetype": "text/x-scala",
   "name": "scala211",
   "nbconvert_exporter": "script",
   "pygments_lexer": "scala",
   "version": "2.11.11"
  }
 },
 "nbformat": 4,
 "nbformat_minor": 0
}
